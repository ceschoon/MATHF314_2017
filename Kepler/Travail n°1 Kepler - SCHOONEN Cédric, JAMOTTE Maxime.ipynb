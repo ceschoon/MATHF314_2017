{
 "cells": [
  {
   "cell_type": "markdown",
   "metadata": {},
   "source": [
    "# Travail 1 - Kepler et Runge-Kutta 4 - Maxime Jamotte & Cédric Schoonen "
   ]
  },
  {
   "cell_type": "markdown",
   "metadata": {},
   "source": [
    " "
   ]
  },
  {
   "cell_type": "code",
   "execution_count": 1,
   "metadata": {
    "collapsed": true
   },
   "outputs": [],
   "source": [
    "# Morceau de code utile pour calculer les temps d'exécutions\n",
    "\n",
    "import time \n",
    "\n",
    "t0 = time.time()"
   ]
  },
  {
   "cell_type": "markdown",
   "metadata": {},
   "source": [
    "Note: ce notebook met environ 6 minutes à s'exécuter entièrement"
   ]
  },
  {
   "cell_type": "markdown",
   "metadata": {},
   "source": [
    "## Introduction"
   ]
  },
  {
   "cell_type": "markdown",
   "metadata": {},
   "source": [
    "Nous allons dans ce travail étudier la dynamique newtonienne du système Terre-Lune, en résolvant numériquement les équations de Newton. Nous prendrons pour conditions initiales dans le repère de la Terre que la Lune passe à son périgée ($362600000\\,{\\rm m}$) à une vitesse de $1083.434974\\,{\\rm m/s}$. Nous vérifierons que la trajectoire est une ellipse et présenterons les paramètres calculés pour cette ellipse. Ensuite, nous nous intéresserons à l'ordre de convergence de la méthode utilisée. Enfin, nous étudierons la trajectoire d'un astéroïde qui traverse le centre de l'ellipse avec une vitesse $(v_x,v_y)=(500\\,{\\rm m/s},500\\,{\\rm m/s})$ lorsque la Lune est à son apogée."
   ]
  },
  {
   "cell_type": "markdown",
   "metadata": {},
   "source": [
    "Toutes les grandeurs sont exprimées dans le système international d'unités (ceci est à considérer au cas où les unités ne seraient pas indiquées)."
   ]
  },
  {
   "cell_type": "markdown",
   "metadata": {},
   "source": [
    "## Table des matières"
   ]
  },
  {
   "cell_type": "markdown",
   "metadata": {},
   "source": [
    "- Système Terre-Lune\n",
    " - \"Fonction d'évolution\"\n",
    " - Paramètres et conditions initiales\n",
    " - Implémentation de Runge Kutta 4\n",
    " - Calcul de la trajectoire\n",
    " - Paramètres : grand et petit axes, excentricité et période\n",
    "- Système Terre-Lune théorique\n",
    "- Ordre de convergence\n",
    " - Calcul de l'ordre sur base des résultats numériques uniquement\n",
    "- Système Terre-Lune-astéroïde\n",
    " - Calcul des trajectoires\n",
    " - Description de l'impact entre l'astéroïde et la Terre\n",
    "- Animations\n",
    " - Animation des trajectoires pour le système Terre-Lune\n",
    " - Animation des trajectoires pour le système Terre-Lune-Astéroïde\n",
    "- Investigations supplémentaires\n",
    " - Etude du passage de l'astéroïde près de la Terre\n",
    " - Trajectoire pour un astéroïde plus rapide"
   ]
  },
  {
   "cell_type": "markdown",
   "metadata": {},
   "source": [
    "## Système Terre - Lune"
   ]
  },
  {
   "cell_type": "markdown",
   "metadata": {},
   "source": [
    "Nous nous occupons ici de calculer numériquement la trajectoire de la Lune dans le référentiel de la Terre. Nous utilisons pour cela la méthode de Runge-Kutta 4. "
   ]
  },
  {
   "cell_type": "markdown",
   "metadata": {},
   "source": [
    "Tout d'abord, importons quelques librairies utiles à notre travail."
   ]
  },
  {
   "cell_type": "code",
   "execution_count": 2,
   "metadata": {
    "collapsed": true
   },
   "outputs": [],
   "source": [
    "import numpy\n",
    "from math import log,sqrt\n",
    "from matplotlib import pyplot\n",
    "%matplotlib inline"
   ]
  },
  {
   "cell_type": "markdown",
   "metadata": {},
   "source": [
    "### \"Fonction d'évolution\""
   ]
  },
  {
   "cell_type": "markdown",
   "metadata": {},
   "source": [
    "Cherchons l'expression des forces dans le référentiel de la Terre. Nous savons qu'une force gravitationnelle (force attractive) existe entre la Terre et la lune. Selon la loi de Newton, celle-ci s'écrit \n",
    "\n",
    "$${\\bf F}_{L,T}=-{\\bf F}_{T,L}=-Gm_T m_L\\dfrac{{\\bf x_L}-{\\bf x_T}}{(x_L-x_T)^3}$$\n",
    "\n",
    "pour deux masses $m_L$ et $m_T$ s'attirant avec des forces mutuellement opposées séparées d'une distance $r$ qui est la norme du vecteur partant du centre de la Terre jusqu'au centre de la lune. Nos conditions initiales étant données dans le repère de la Terre, nous allons résoudre les équations de Newton dans le repère de la Terre également. Nous avons donc besoin de reformuler notre équation avec comme variable le vecteur ${\\bf r_{LT}} = {\\bf x_L}-{\\bf x_T}$. \n",
    "\n",
    "$$ {\\bf \\ddot{r}_{LT}} = {\\bf \\ddot{x}_L}-{\\bf \\ddot{x}_T} = \\frac{1}{m_L}{\\bf F}_{L,T} - \\frac{1}{m_T}{\\bf F}_{T,L} = -Gm_T \\dfrac{{\\bf x_L}-{\\bf x_T}}{(x_L-x_T)^3} - Gm_L\\dfrac{{\\bf x_L}-{\\bf x_T}}{(x_L-x_T)^3}$$\n",
    "\n",
    "Ce qui devient\n",
    "\n",
    "$$ {\\bf \\ddot{r}_{LT}} = -G(m_T+m_L)\\dfrac{{\\bf r_{LT}}}{r_{LT}^3} $$"
   ]
  },
  {
   "cell_type": "markdown",
   "metadata": {},
   "source": [
    "Pour résoudre numériquement l'équation de Newton, qui est du deuxième ordre, nous allons la transformer en un système de deux équations du premier ordre. Pour ce faire, nous introduisons le vectreur $u_{LT} $ définit comme \n",
    "\n",
    "$$ u_{LT}  = \\begin{pmatrix} x_{LT}\\ , y_{LT}\\ , v_{x\\,LT}\\ , v_{y\\,LT}\\end{pmatrix} $$"
   ]
  },
  {
   "cell_type": "markdown",
   "metadata": {},
   "source": [
    "Notre système d'équations différentielles devient\n",
    "\n",
    "$$ \\dot{u}_{LT} = f(u_{LT}) $$ \n",
    "\n",
    "Il s'écrit avec une certaine \"fonction d'évolution\" $f$, donnée par"
   ]
  },
  {
   "cell_type": "markdown",
   "metadata": {},
   "source": [
    "$$ f(u_{LT}) = \\begin{pmatrix} v_{x\\,LT}\\ , v_{y\\,LT}\\ , -\\dfrac{ m_T\\, G\\, x_{LT}}{ \\left[x_{LT}^2 + y_{LT}^2\\right]^{3/2}}\\ , -\\dfrac{ m_T\\, G\\, y_{LT}}{ \\left[x_{LT}^2 + y_{LT}^2\\right]^{3/2}}  \\end{pmatrix} $$"
   ]
  },
  {
   "cell_type": "markdown",
   "metadata": {},
   "source": [
    "Nous ne généraliserons pas la fonction $f$ à plus de deux corps, par soucis de lisibilité et car cela n'est pas nécessaire."
   ]
  },
  {
   "cell_type": "code",
   "execution_count": 3,
   "metadata": {
    "collapsed": true
   },
   "outputs": [],
   "source": [
    "def f(uLT): \n",
    "    return numpy.array([uLT[2],\\\n",
    "                        uLT[3],\\\n",
    "                        -G*(mT+mL)*uLT[0]/(uLT[0]**2+uLT[1]**2)**(3/2),\\\n",
    "                        -G*(mT+mL)*uLT[1]/(uLT[0]**2+uLT[1]**2)**(3/2)])     "
   ]
  },
  {
   "cell_type": "markdown",
   "metadata": {},
   "source": [
    "### Paramètres et conditions initiales"
   ]
  },
  {
   "cell_type": "markdown",
   "metadata": {},
   "source": [
    "Ensuite, entrons les données caractéristiques du système. $T$ est la durée durant laquelle nous voulons simuler les trajectoires de la lune et de la Terre et $N$ est le paramètre qui définit le nombre de lignes des matrices de données de chaque astre."
   ]
  },
  {
   "cell_type": "code",
   "execution_count": 4,
   "metadata": {
    "collapsed": true
   },
   "outputs": [],
   "source": [
    "T = 3600*24*30\n",
    "dt = 1\n",
    "N = 1+int(T/dt)\n",
    "\n",
    "mT = 5.972*10**24\n",
    "mL = 7.348*10**22\n",
    "G = 6.67408*10**-11"
   ]
  },
  {
   "cell_type": "markdown",
   "metadata": {},
   "source": [
    "Encodons à présent les conditions initiales. Nous nommons $dataLT$ la matrice de données de la lune dans le repère de la Terre. Elle comporte quatre colonnes. Chaque ligne se présentera comme $ u_{LT}  = \\begin{pmatrix} x_{LT}\\ , y_{LT}\\ , v_{x\\,LT}\\ , v_{y\\,LT}\\end{pmatrix} $."
   ]
  },
  {
   "cell_type": "code",
   "execution_count": 5,
   "metadata": {
    "collapsed": true
   },
   "outputs": [],
   "source": [
    "dataLT = numpy.empty((N,4)) \n",
    "\n",
    "uLT0 = [362600000,0,0,1083.434974]\n",
    "\n",
    "dataLT[0] = uLT0"
   ]
  },
  {
   "cell_type": "markdown",
   "metadata": {},
   "source": [
    "### Implémentation de Runge Kutta 4"
   ]
  },
  {
   "cell_type": "markdown",
   "metadata": {},
   "source": [
    "Nous avons ici la méthode Runge Kutta 4 appliquée à la trajectoire de la Lune."
   ]
  },
  {
   "cell_type": "code",
   "execution_count": 6,
   "metadata": {
    "collapsed": true
   },
   "outputs": [],
   "source": [
    "def rk4(f,uLT,dt): \n",
    "    \n",
    "    k1 = f(uLT)\n",
    "    k2 = f(uLT+dt/2*k1)\n",
    "    k3 = f(uLT+dt/2*k2)\n",
    "    k4 = f(uLT+dt*k3)\n",
    "    \n",
    "    return uLT+dt/6*(k1+2*k2+2*k3+k4)"
   ]
  },
  {
   "cell_type": "markdown",
   "metadata": {},
   "source": [
    "### Calcul de la trajectoire"
   ]
  },
  {
   "cell_type": "markdown",
   "metadata": {
    "collapsed": true
   },
   "source": [
    "Calculons maintenant la trajectoire. Notons que $dataLT[t]$ est le vecteur $u_{LT}$ input de $f$ au temps $t$."
   ]
  },
  {
   "cell_type": "code",
   "execution_count": 7,
   "metadata": {
    "collapsed": true
   },
   "outputs": [],
   "source": [
    "for t in range(1,N):\n",
    "    \n",
    "    dataLT[t] = rk4(f,dataLT[t-1],dt)"
   ]
  },
  {
   "cell_type": "markdown",
   "metadata": {},
   "source": [
    "Affichons la position de la Lune dans le repère de la Terre."
   ]
  },
  {
   "cell_type": "code",
   "execution_count": 8,
   "metadata": {},
   "outputs": [
    {
     "data": {
      "image/png": "[encoded data removed]",
      "text/plain": [
       "<matplotlib.figure.Figure at 0x7f2bf3209860>"
      ]
     },
     "metadata": {},
     "output_type": "display_data"
    }
   ],
   "source": [
    "pyplot.figure(figsize=(10,10))\n",
    "pyplot.grid(True)\n",
    "pyplot.xlabel('$x$')\n",
    "pyplot.ylabel('$y$')\n",
    "pyplot.plot(dataLT[:,0],dataLT[:,1], 'b-', label='Lune')\n",
    "pyplot.title('Position de la Lune dans le repère de la Terre')\n",
    "pyplot.legend();\n",
    "pyplot.show();"
   ]
  },
  {
   "cell_type": "markdown",
   "metadata": {},
   "source": [
    "### Paramètres : grand et petit axes, excentricité et période"
   ]
  },
  {
   "cell_type": "markdown",
   "metadata": {},
   "source": [
    "Calculons les paramètres de l'ellipse. Etant donné que la Lune commence sur l'axe $x$ avec une vitesse le long de $y$, les demi-grand axe $a$ et demi-petit axe $b$ sont alignés avec les axes $x$ et $y$ respectivement. Nous pouvons alors calculer les minima et maxima de la trajectoire le long des composantes."
   ]
  },
  {
   "cell_type": "code",
   "execution_count": 9,
   "metadata": {
    "collapsed": true
   },
   "outputs": [],
   "source": [
    "def computeParameters(posEllipse):\n",
    "    \n",
    "    a = 1/2*(numpy.max(posEllipse[:,0])-numpy.min(posEllipse[:,0]))\n",
    "    b = 1/2*(numpy.max(posEllipse[:,1])-numpy.min(posEllipse[:,1]))\n",
    "    e = numpy.sqrt(1-b**2/a**2)\n",
    "    \n",
    "    return numpy.array([a,b,e])"
   ]
  },
  {
   "cell_type": "code",
   "execution_count": 10,
   "metadata": {},
   "outputs": [
    {
     "name": "stdout",
     "output_type": "stream",
     "text": [
      "Le demi-grand axe de l'ellipse est a = 383663116.433 m\n",
      "Le demi-petit axe de l'ellipse est b = 383084497.255 m\n",
      "L'excentricité de l'ellipse est e = 0.0549000295618\n"
     ]
    }
   ],
   "source": [
    "parameters = computeParameters(dataLT)\n",
    "\n",
    "a = parameters[0]\n",
    "b = parameters[1]\n",
    "e = parameters[2]\n",
    "\n",
    "print(\"Le demi-grand axe de l'ellipse est a =\", a, \"m\")\n",
    "print(\"Le demi-petit axe de l'ellipse est b =\", b, \"m\")\n",
    "print(\"L'excentricité de l'ellipse est e =\", e)"
   ]
  },
  {
   "cell_type": "markdown",
   "metadata": {},
   "source": [
    "Nous calculons la période en cherchant le temps auquel la Lune repasse par sa position initiale (périgée). Nous ne cherchons pas dans les trois premiers quarts du vecteur des positions $x$ car cela est inutile."
   ]
  },
  {
   "cell_type": "code",
   "execution_count": 11,
   "metadata": {},
   "outputs": [
    {
     "name": "stdout",
     "output_type": "stream",
     "text": [
      "Période en secondes = 2350682\n",
      "Période en jours de 24h = 27.2069675926\n"
     ]
    }
   ],
   "source": [
    "# Cette méthode se basant sur une détection de maximum, elle ne fonctionne pas \n",
    "# si nous ne choisissons pas de faire débuter la trajectoire de la Lune en x = 362600000\n",
    "        \n",
    "indexPerigee2 = numpy.argmax(dataLT[int(3*N/4):,0])+int(3*N/4)\n",
    "period = indexPerigee2*dt\n",
    "        \n",
    "print(\"Période en secondes =\", period)\n",
    "print(\"Période en jours de 24h =\", period/24/3600)"
   ]
  },
  {
   "cell_type": "markdown",
   "metadata": {},
   "source": [
    "Nous remarquons que ces valeurs sont en accord avec ce que nous connaissons du comportement de la Lune."
   ]
  },
  {
   "cell_type": "markdown",
   "metadata": {},
   "source": [
    "Trouvons à présent l'apogée de l'orbite de la Lune autour de la Terre (cette donnée nous sera utile plus loin dans le travail). Nous remarquons que si la coordonnée $y$ n'est pas nulle, cela est dû à une erreur induite par la méthode numérique, les $dt$ n'étant pas infinitésimaux."
   ]
  },
  {
   "cell_type": "code",
   "execution_count": 12,
   "metadata": {},
   "outputs": [
    {
     "name": "stdout",
     "output_type": "stream",
     "text": [
      "[ -4.04726233e+08  -9.61143367e+01   2.43903597e-04  -9.70664834e+02]\n"
     ]
    }
   ],
   "source": [
    "indexApogee = numpy.argmax(abs(dataLT[int(N/4):int(3*N/4),0]))+int(N/4)\n",
    "\n",
    "uLT_apogee = dataLT[indexApogee]\n",
    "print(uLT_apogee)"
   ]
  },
  {
   "cell_type": "markdown",
   "metadata": {},
   "source": [
    "Pour des calculs réalisés plus loin, nous avons également besoin de repérer, dans le repère de la Terre, le centre de l'ellipse que parcours la Lune."
   ]
  },
  {
   "cell_type": "code",
   "execution_count": 13,
   "metadata": {
    "collapsed": true
   },
   "outputs": [],
   "source": [
    "Xcenter = 1/2*(numpy.max(dataLT[:,0])+numpy.min(dataLT[:,0]))\n",
    "Ycenter = 1/2*(numpy.max(dataLT[:,1])+numpy.min(dataLT[:,1]))"
   ]
  },
  {
   "cell_type": "markdown",
   "metadata": {},
   "source": [
    "## Système Terre-Lune théorique"
   ]
  },
  {
   "cell_type": "markdown",
   "metadata": {},
   "source": [
    "Passons maintenant à une étude théorique de la trajectoire de la Lune autour de la Terre. Nous allons obtenir par la théorie les grandeurs calculée précédemment."
   ]
  },
  {
   "cell_type": "markdown",
   "metadata": {},
   "source": [
    " Nous connaissons la relation permettant de trouver la position du centre de masse:\n",
    "$$ \\mathbf{R_{CM}} = \\dfrac{ m_T \\mathbf{x_T} + m_L \\mathbf{x_L}}{m_T + m_L}$$\n",
    "\n",
    "Notons que la force de gravité est une force centrale et donc les moments cinétiques sont constants.\n",
    "\n",
    "Ensuite, posons ${\\mathbf r} = {\\mathbf x_L}-{\\mathbf x_T}$, la position de la Lune dans le repère de la Terre. Nous obtenons ainsi\n",
    "$$ \\left\\{\n",
    "\\begin{array}{l}\n",
    " \\mathbf{x_L} = \\mathbf{R_{CM}} + \\dfrac{m_T}{m_T + m_L} \\mathbf{r}\\\\\n",
    "  \\mathbf{x_T} = \\mathbf{R_{CM}} - \\dfrac{m_L}{m_T + m_L} \\mathbf{r} \n",
    "\\end{array}\n",
    "\\right.$$\n",
    "\n",
    "Nous recalculons l'énergie totale du système ainsi que le moment cinétique total, pour $\\mu = \\dfrac{m_L m_T}{m_T+m_L}$:\n",
    "$$\\begin{array}{l}\n",
    "  &E_{tot} = \\dfrac{1}{2} m_L \\mathbf{\\dot{x}_L}^2 + \\dfrac{1}{2} m_T \\mathbf{\\dot{x}_T}^2 + U(\\|\\mathbf{x_L} - \\mathbf{x_T}\\|) = \\dfrac{1}{2} \\mu \\mathbf{\\dot{r}}^2 + \\dfrac{1}{2} (m_T + m_L) \\mathbf{\\dot{R}^2_{CM}} + U(r)\\\\\n",
    "  &\\mathbf{L}_{tot} = m_L \\mathbf{x_L} \\times \\mathbf{\\dot{x}_L} + m_T \\mathbf{x_T} \\times \\mathbf{\\dot{x}_T} = (m_T + m_L) \\mathbf{R_{CM}} \\times \\mathbf{\\dot{R}_{CM}} + \\mu \\mathbf{r} \\times \\mathbf{\\dot{r}}\n",
    "\\end{array}$$\n",
    "\n",
    "Après cette séparation du centre de masse, plaçons-nous dans le repère de la Terre. Nous retranscrivons l'énergie et le moment cinétique dans ce repère:\n",
    "$$ \\begin{array}{l}\n",
    "E = \\dfrac{1}{2} \\mu \\mathbf{\\dot{r}}^2 + U(r)\\\\\n",
    "\\mathbf{L} = \\mu \\mathbf{r} \\times \\mathbf{\\dot{r}}\n",
    "\\end{array}$$\n",
    "\n",
    "Nous passons en coordonnées polaires $(r, \\theta)$ de sorte que\n",
    "$$\\begin{equation}\n",
    "\\mathbf{\\dot{r}}^2 = \\dot{r}^2 + r^2 \\dot{\\theta}^2\n",
    "\\end{equation}$$\n",
    "\n",
    "En outre, pour $L = \\|\\mathbf{L}\\|$ et $S$ l'aire balayée par $\\mathbf{r}$ pendant un temps $t$,\n",
    "$$\\begin{equation}\n",
    "\\dfrac{dS}{dt} = \\dfrac{1}{2} \\|\\mathbf{r} \\times \\mathbf{\\dot{r}} \\| = \\dfrac{L}{2\\mu}\n",
    "\\end{equation}$$\n",
    "\n",
    "que nous réécrivons\n",
    "$$\\begin{equation}\n",
    "\\dfrac{dS}{dt} = \\dfrac{1}{2} r^2 \\dot{\\theta} = \\dfrac{L}{2\\mu}\n",
    "\\end{equation}$$\n",
    "\n",
    "Il s'en suit que \n",
    "$$E = \\dfrac{1}{2} \\mu (\\dot{r}^2 + r^2 \\dot{\\theta}^2) + U(r) = \\dfrac{1}{2} \\mu \\dot{r}^2 + \\dfrac{L^2}{2\\mu r^2} - \\dfrac{G m_T m_L}{r}$$\n",
    "\n",
    "Cette équation différentielle se résout facilement en posant $u = \\dfrac{1}{r}$ et en voyant que \n",
    "$$ \\dfrac{du}{d\\theta} = -\\dfrac{1}{r^2}\\dfrac{dr}{d\\theta} = -\\dfrac{1}{r^2}\\dfrac{\\dot{r}}{\\dot{\\theta}} = -\\dfrac{\\mu}{L}\\dot{r}$$\n",
    "\n",
    "Par cette substitution, il résulte l'équation suivante:\n",
    "$$ \\dfrac{1}{2} \\left(\\dfrac{du}{d\\theta}\\right)^2 + \\dfrac{1}{2} \\left(u-\\dfrac{\\mu G m_L m_T}{L^2}\\right)^2 = \\dfrac{\\mu E}{L^2} +\\dfrac{\\mu^2 (G m_T m_L)^2}{2 L^4}$$\n",
    "\n",
    "que nous dérivons par rapport à $\\theta$: \n",
    "$$\\dfrac{d^2u}{d\\theta^2} = \\dfrac{\\mu G m_L m_T}{L^2} - u$$\n",
    "\n",
    "et qui a comme solution:\n",
    "$$u(\\theta) = \\dfrac{\\mu G m_L m_T}{L^2} (1+\\epsilon \\cos(\\theta - \\theta_0))$$\n",
    "\n",
    "où $\\theta_0$ est l'angle initial (dans notre problème, $\\theta_0 = 0$) et où $\\epsilon$ est l'excentricité de l'orbite.\n",
    "$$\\epsilon = \\sqrt{1+\\dfrac{2EL^2}{\\mu (G m_T m_L)^2}}$$\n",
    "\n",
    "qui se retraduit en terme de $r$ par:\n",
    "$$r(\\theta) = \\dfrac{L^2}{\\mu G m_T m_L} \\dfrac{1}{1+\\epsilon \\cos(\\theta)} \\ \\ \\ \\ \\ \\ \\ \\ \\ \\ \\ \\ \\ (1)$$\n",
    "\n",
    "Si nous changeons à nouveau de coordonnées:\n",
    "$$ \\left\\{\n",
    "\\begin{array}{l}\n",
    " &\\bar{x} = r\\cos(\\theta) + \\dfrac{\\epsilon L^2}{\\mu G m_T m_L (1 - \\epsilon^2)}\\\\\n",
    " &\\bar{y} = r \\sin(\\theta) \n",
    "\\end{array}\n",
    "\\right.$$\n",
    "\n",
    "alors nous trouvons une nouvelle équation de l'ellipse (nous prouvons grâce au code que l'excentricité est comprise entre 0 et 1):\n",
    "$$ \\dfrac{\\bar{x}}{a^2} + \\dfrac{\\bar{y}}{b^2} = 1$$\n",
    "\n",
    "et les valeurs du demi-grand axe, $a$, et du demi-petit axe, $b$, par identification:\n",
    "$$\\begin{array}{l}\n",
    "  a = \\dfrac{L^2}{\\mu G m_T m_L(1-\\epsilon^2)}\\\\\n",
    "  b = a\\sqrt{1-\\epsilon^2}  \n",
    "\\end{array}$$\n",
    "\n",
    "Ceci nous permet de dire que:\n",
    "$$L = \\sqrt{\\mu G m_T m_L a (1-\\epsilon^2)}$$\n",
    "\n",
    "et par la loi des aires:\n",
    "$$\\dfrac{S}{T} = \\dfrac{L}{2\\mu}$$\n",
    "\n",
    "or si la Lune a parcouru l'orbite complètement, l'aire balayée par $\\mathbf{r}$ vaudra $S =\\pi ab = \\pi a^2 \\sqrt{1-\\epsilon^2}$, donc\n",
    "$$T = 2\\pi \\sqrt{\\dfrac{\\mu a^3}{G m_T m_L}} = \\dfrac{2\\pi a^{3/2}}{\\sqrt{G(m_T+m_L)}}$$"
   ]
  },
  {
   "cell_type": "markdown",
   "metadata": {},
   "source": [
    "Codons maintenant la fonction donnant la trajectoire théorique de la Lune, définie par l'équation (1). Nous nous servons du fait que  $L$  et  $E$  sont des constantes du mouvement."
   ]
  },
  {
   "cell_type": "code",
   "execution_count": 14,
   "metadata": {
    "collapsed": true
   },
   "outputs": [],
   "source": [
    "from math import cos, pi, sin\n",
    "\n",
    "mu = mT*mL/(mT+mL)\n",
    "rmin = uLT0[0]\n",
    "vRmin = uLT0[3]\n",
    "L = mu*rmin*vRmin\n",
    "E = 1/2*mu*vRmin**2 - G*mT*mL/rmin\n",
    "e_theo = sqrt(1+2*E*L**2/(mu*(G*mT*mL)**2))     # excentricité théorique\n",
    "\n",
    "def rLT(theta):\n",
    "    return L**2/(mu*G*mT*mL*(1+e_theo*cos(theta)))"
   ]
  },
  {
   "cell_type": "markdown",
   "metadata": {},
   "source": [
    "Servons-nous en pour calculer la trajectoire"
   ]
  },
  {
   "cell_type": "code",
   "execution_count": 15,
   "metadata": {
    "collapsed": true
   },
   "outputs": [],
   "source": [
    "dTheta = 0.01\n",
    "length = int(360/dTheta)\n",
    "xL = numpy.empty(length)\n",
    "yL = xL.copy()\n",
    "\n",
    "for i in range(0,length):\n",
    "    theta = i*pi/180*dTheta \n",
    "    xL[i] = rLT(theta)*cos(theta)\n",
    "    yL[i] = rLT(theta)*sin(theta)"
   ]
  },
  {
   "cell_type": "markdown",
   "metadata": {},
   "source": [
    "Et affichons-la"
   ]
  },
  {
   "cell_type": "code",
   "execution_count": 16,
   "metadata": {},
   "outputs": [
    {
     "data": {
      "image/png": "[encoded data removed]",
      "text/plain": [
       "<matplotlib.figure.Figure at 0x7f2bf02dfc18>"
      ]
     },
     "metadata": {},
     "output_type": "display_data"
    }
   ],
   "source": [
    "pyplot.figure(figsize=(10,10))\n",
    "pyplot.grid(True)\n",
    "pyplot.xlabel('$x$')\n",
    "pyplot.ylabel('$y$')\n",
    "pyplot.plot(xL,yL,'b-', label='Lune')\n",
    "pyplot.title('Position théorique de la Lune dans le repère de la Terre')\n",
    "pyplot.legend();\n",
    "pyplot.show()"
   ]
  },
  {
   "cell_type": "markdown",
   "metadata": {},
   "source": [
    "Calculons maintenant les paramètres de l'ellipse."
   ]
  },
  {
   "cell_type": "code",
   "execution_count": 17,
   "metadata": {},
   "outputs": [
    {
     "name": "stdout",
     "output_type": "stream",
     "text": [
      "Demi-grand axe théorique: a = 383663116.433033 m\n",
      "Demi-petit axe théorique: b = 383084497.25515586 m\n",
      "Excentricité théorique = 0.054900029559421325\n",
      "Période théorique en secondes = 2350681.8019619607\n",
      "Période théorique en jours de 24h = 27.206965300485656\n"
     ]
    }
   ],
   "source": [
    "a_theo = L**2/(mu*G*mT*mL*(1-e_theo**2))\n",
    "b_theo = a_theo*sqrt(1-e_theo**2)\n",
    "period_theo = 2*pi/sqrt(G*(mT+mL))*a_theo**(3/2)  \n",
    "\n",
    "print(\"Demi-grand axe théorique: a =\", a_theo, 'm')\n",
    "print(\"Demi-petit axe théorique: b =\", b_theo, 'm')\n",
    "print(\"Excentricité théorique =\", e_theo)\n",
    "print(\"Période théorique en secondes =\", period_theo)\n",
    "print(\"Période théorique en jours de 24h =\", period_theo/24/3600)"
   ]
  },
  {
   "cell_type": "markdown",
   "metadata": {},
   "source": [
    "Rappelons les valeurs numériques et affichons les différences. Nous remarquons la proximité des résultats."
   ]
  },
  {
   "cell_type": "code",
   "execution_count": 18,
   "metadata": {},
   "outputs": [
    {
     "name": "stdout",
     "output_type": "stream",
     "text": [
      "Demi-grand axe numérique: a = 383663116.433 m. Différence =  1.19209289551e-06 m\n",
      "Demi-petit axe numérique: b = 383084497.255 m. Différence =  -4.97698783875e-05 m\n",
      "Excentricité numérique = 0.0549000295618 . Différence =  2.4155955014e-12\n",
      "Période numérique en secondes = 2350682 . Différence =  0.198038039263\n",
      "Période numérique en jours de 24h = 27.2069675926 . Différence =  2.29210693592e-06\n"
     ]
    }
   ],
   "source": [
    "print(\"Demi-grand axe numérique: a =\", a, 'm. Différence = ', a-a_theo , 'm')\n",
    "print(\"Demi-petit axe numérique: b =\", b, 'm. Différence = ', b-b_theo , 'm')\n",
    "print(\"Excentricité numérique =\", e, '. Différence = ', e-e_theo)\n",
    "print(\"Période numérique en secondes =\", period, '. Différence = ', period-period_theo)\n",
    "print(\"Période numérique en jours de 24h =\", period/24/3600, '. Différence = ', (period-period_theo)/24/3600)"
   ]
  },
  {
   "cell_type": "markdown",
   "metadata": {
    "collapsed": true
   },
   "source": [
    "### Animation des trajectoires pour le système Terre-Lune"
   ]
  },
  {
   "cell_type": "markdown",
   "metadata": {},
   "source": [
    "Nous n'affichons qu'une frame toutes les 30000 boucles. Ceci est adaptable avec la variable $M$. La variable $dataLTM$ est construite à partir de la variable $dataLT$ en ne prenant qu'un élément sur $M$."
   ]
  },
  {
   "cell_type": "code",
   "execution_count": 20,
   "metadata": {
    "collapsed": true
   },
   "outputs": [],
   "source": [
    "from matplotlib import animation\n",
    "from IPython.display import HTML"
   ]
  },
  {
   "cell_type": "code",
   "execution_count": 21,
   "metadata": {
    "collapsed": true
   },
   "outputs": [],
   "source": [
    "M = 30000\n",
    "dataLTM = dataLT[::M,:]"
   ]
  },
  {
   "cell_type": "code",
   "execution_count": 22,
   "metadata": {},
   "outputs": [
    {
     "data": {
      "image/png": "[encoded data removed]",
      "text/plain": [
       "<matplotlib.figure.Figure at 0x7f2bf01f7a90>"
      ]
     },
     "metadata": {},
     "output_type": "display_data"
    }
   ],
   "source": [
    "fig = pyplot.figure(figsize=(10,10))\n",
    "ax = pyplot.axes(xlim=(-500000000,500000000), ylim=(-500000000,500000000))\n",
    "line = ax.plot([], [], color='b', ls='-', label='Lune', lw=2)[0]\n",
    "pointT=[[0,0]]\n",
    "point = ax.plot(*zip(*pointT), marker='o', color='k', markersize=3, label='Terre')\n",
    "pyplot.title('Animation du système Terre-Lune')\n",
    "pyplot.xlabel('$x$')\n",
    "pyplot.ylabel('$y$')\n",
    "pyplot.legend();"
   ]
  },
  {
   "cell_type": "code",
   "execution_count": 23,
   "metadata": {
    "collapsed": true
   },
   "outputs": [],
   "source": [
    "def trajectory(i):\n",
    "    \n",
    "    line.set_data(dataLTM[:i,0], dataLTM[:i,1])"
   ]
  },
  {
   "cell_type": "code",
   "execution_count": 24,
   "metadata": {
    "collapsed": true
   },
   "outputs": [],
   "source": [
    "anim = animation.FuncAnimation(fig, trajectory,\n",
    "                               frames=len(dataLTM)-1, interval=100)"
   ]
  },
  {
   "cell_type": "code",
   "execution_count": 25,
   "metadata": {},
   "outputs": [
    {
     "data": {
      "text/html": [
       "<video width=\"720\" height=\"720\" controls autoplay loop>\n",
       "  <source type=\"video/mp4\" src=\"data:video/mp4;base64,AAAAHGZ0eXBNNFYgAAACAGlzb21pc28yYXZjMQAAAAhmcmVlAABI3W1kYXQAAAKsBgX//6jcRem9\n",
       "5tlIt5Ys2CDZI+7veDI2NCAtIGNvcmUgMTM4IHIyMCA0MGU3MmRhIC0gSC4yNjQvTVBFRy00IEFW\n",
       "QyBjb2RlYyAtIENvcHlsZWZ0IDIwMDMtMjAxMyAtIGh0dHA6Ly93d3cudmlkZW9sYW4ub3JnL3gy\n",
       "NjQuaHRtbCAtIG9wdGlvbnM6IGNhYmFjPTEgcmVmPTMgZGVibG9jaz0xOjA6MCBhbmFseXNlPTB4\n",
       "MzoweDExMyBtZT1oZXggc3VibWU9NyBwc3k9MSBwc3lfcmQ9MS4wMDowLjAwIG1peGVkX3JlZj0x\n",
       "IG1lX3JhbmdlPTE2IGNocm9tYV9tZT0xIHRyZWxsaXM9MSA4eDhkY3Q9MSBjcW09MCBkZWFkem9u\n",
       "ZT0yMSwxMSBmYXN0X3Bza2lwPTEgY2hyb21hX3FwX29mZnNldD0tMiB0aHJlYWRzPTYgbG9va2Fo\n",
       "ZWFkX3RocmVhZHM9MSBzbGljZWRfdGhyZWFkcz0wIG5yPTAgZGVjaW1hdGU9MSBpbnRlcmxhY2Vk\n",
       "PTAgYmx1cmF5X2NvbXBhdD0wIGNvbnN0cmFpbmVkX2ludHJhPTAgYmZyYW1lcz0zIGJfcHlyYW1p\n",
       "ZD0yIGJfYWRhcHQ9MSBiX2JpYXM9MCBkaXJlY3Q9MSB3ZWlnaHRiPTEgb3Blbl9nb3A9MCB3ZWln\n",
       "aHRwPTIga2V5aW50PTI1MCBrZXlpbnRfbWluPTEwIHNjZW5lY3V0PTQwIGludHJhX3JlZnJlc2g9\n",
       "MCByY19sb29rYWhlYWQ9NDAgcmM9Y3JmIG1idHJlZT0xIGNyZj0yMy4wIHFjb21wPTAuNjAgcXBt\n",
       "aW49MCBxcG1heD02OSBxcHN0ZXA9NCBpcF9yYXRpbz0xLjQwIGFxPTE6MS4wMACAAAAOcWWIhAAR\n",
       "//73iB8yy2n5OtdyEeetLq0fUO5GcV6kvf4gAAADAAADAAADAzSyCkX1Rzvzg8AAAAMDPACDgVAB\n",
       "f48PJw+ACGwg/zTkScQZPkOayLRn4N+qHNpIELujkoBJ95/851g1N9FtotfEpkvbeHTL1igD/u3G\n",
       "3lOYM5bqev+tdbi8Wpe99pM5juC7g3ePuxMeWfPWxNa5bJVVNjR1uZmybrRebAoEhNnNBeUZUw7x\n",
       "QJEg3YKspPb+emZU2L4WSQQ6lNmTqgboj4XbBbkz850r8AC/bRn+KY5rT0DcEgvJncbQhX1VjQeT\n",
       "xZWarpvZytajli441Dik+aOTUwtLuyfweU8pmYwkSqUzXyDZVz4PnFXoV5a4C/QhGZCwEjTS0qvD\n",
       "jO6bL9QZ6JKkFPWUajaIt6DRRB4fK2eh3B0/JqnQi0Gj/J39K/cTKW6uLL+TFGmljb6/dkr6bV0w\n",
       "q3/KH2IvFWHpG1w8IoBIvn/1jz4FXx0LcJvnbRoZzROkyORwP4vQLDnk0iBBkOQslooAElowWZuz\n",
       "yScjZ5om8zJDqah6vAU80AlO37333P9G6Y276oqqeY5lhPV4NkJAa4RY2FoAa0A70K+YcuxlA2gD\n",
       "gumyjunMIc4xp3Wn77N/fql2jiGQI8EAunzTTAhgsz40oVgDGQZ+c9lg4z3+6EOpTAfafe4Qg//f\n",
       "TnX0NoNCK+8Qjb5tMzE6Mb4wmvRCNEOuwtWeiO76FuJaIi7csNKiYvZANLA0u8sKAyXiw2I2acFq\n",
       "WvzvcWqPrH/2PpTM3X+PJLSbHYGzTFqow1zMI06aZCc+O5YFZLsE8dbwbCir1oeyXush1fc2m7W+\n",
       "RztHONe/yzW29v3Pz8b+CGxEcs9zUppmS9AGdGy9N+SvkWxuvo+kIIe3DTRYitEtewub/KM6bhR0\n",
       "pht8GWzNDHZX+chgEeiL8Y4VBAXNjd8SQZKQMXi9kwjla1WIvg2ITT1G735ibYsB4BLF/S2uU3K8\n",
       "OgR2XY41UCM0Todx5GujgBC4m5QOQ5q8egRgsIfFdUm8nciwwOKA2ctQd8pWztwv3yiixHfQNOZO\n",
       "hGRs+pbelp8cLOHCd2oiXhHjB6+RREtk93k9uMEYxFHxDpmk2qBbwRXV7zf1pbQG9IeRfyUcKpe/\n",
       "ZrwehxlIV6wlXaI7nk8kaB1Bjm1BAjZAzpFCER4gi3OFMM6jmFhFKyhzN3e7LMnVJaKycPvm23xV\n",
       "vC1dLO/JpBlhJI+9lLFCAKZSmtCvo7+q9XK0d8jnn3ONA6x/Kk86vDDuvkJ2+wRodgUZjJ00upq3\n",
       "WfpCoxiPcduvi8BIW4+N3Y0x212/8oy4/Xj7SJ5lURjV1rRQ6dhxWQovPwd9ddJidoZuMTF9Qa2Z\n",
       "6TNy3HGsh+cG2OkefCumNgx1oYsRdLRCfKMNKgeGKDZtorYEAt+qqW3gGgdZmB2QFyGid3s7fS40\n",
       "tZ8Ns5aMwY8GyCGFL1i+jbbJUpc0CqKNAoBYf/rP8ca9v/VOvF0mpb14Di7L/Tx1Tc2KLiWq6s5b\n",
       "Ak4COmYD5kiD02AGkDfqIuLmti4hjOcTQS3MigasDQ66seLU2Qzo7roM6Wyfm2y42bRWwhmYYbjj\n",
       "XUmBbp7E3d/2kx4q/0Sqt6ze9chOERRhBeIxeJevFWyjsMhKXm1t04iYPnBOwOs93YkoZAf5XBWJ\n",
       "BqLwkhDdYEtcdAA4E4ZqlMWCYc3nrNb5RNX/X/sYRV8VWOrx2iJBkNNq4m58pgLFdYwBdgzVIp/p\n",
       "wwI77I50wkAwje8HoF9d/pN0j/clxhlUMovF2gookOaG9dSo07vBEPPTp5VVRpFr7/WSOQPmLb69\n",
       "zN3g3tQRVRRiLWZgyv9ITS7EtV5vW8rGu3q7SfAzV7jf2vm+puDUs+ot/cg9VP6ssi0X3Hos7IfY\n",
       "KDEAvP9f0w7HrSepAiNYfUxTVO5kAbEOn1AlSKF01pOsr1d/YFa2WVCl+Asg9+lLPvl4CapJQpCV\n",
       "WF7wW7m5M8HlIHEVhnEZzgXPxUUFGBN18Bi5zSIvkIQ8cPor/BVNpWIqMB/p//l8vQ6W9j74Ro6m\n",
       "uWnhV44yLJZSk89MCDsx2hwasbJSwjxEy7kxH5YAjfqP0Md+YuB9EWbUtrQEPXtETCx8HXu518AG\n",
       "eg+38kVnd0ylbP/jBZIraDKGywr/xmZeKh6v7pt7w1uW41pR9niJeGKCnvfyrFYXTYaIGxpFkSlZ\n",
       "OlPmdC7MEOb59c3CwyRCVv2OV+henSAC5qi2MGwUL0vcbKC4yySa3e3w84pVH2hYDpJPOrNi1q4B\n",
       "NM7ozWEmqKT/a17s6JkFBAxvrxlCiMrXS70YCDws9cJXiLS117nLklShns3BDjpgCfaNij7C/wz3\n",
       "Z8LJ+8ILDg4WaqoJHvvKMmG5qgv0ofVW48TFbAXy8yPdt+m/lWdDEsvXnNn1Fr2uUInrkPWOvBqD\n",
       "qWYDBkXk2u10HQgv2mN2wHRyLH2pT3wxlwgIFQdrgds+tTCGaANQ3RAAKqBtuWf/+USiLmhSKV+l\n",
       "Jm60xVAVC+Z+kwR483Jkq2JdukHmQdJC+gAfz9sXmVTG8+r2Deuv/b8wAtW9qDB51dQ4VCUX4UdN\n",
       "GGJiO+plwuoJ2Mzu0em2pk5pOkNXXU7UjC1DlA3Y3SUEWfguTNY+gWNTRf8PA2BlRudKtvTIdzbV\n",
       "ACIBWkgL5OpRWiIMKDdxHVWn3tkor+nEh7vy4YnHTB9vnuQSu7Z4LbHUhjONKxiNoBgMMpTGHDfA\n",
       "HhOjRS6d6/Ahg5kDMhX8W/VXASW80hJi+NxXn5nCoXnc/m1B2xG5p/FGHGd3B4aNZoO/op8Y9RJt\n",
       "c+YMnsYwsJJBRBTLKM/N+slj1vgJ7fByIXEKYQgMi7m2waw7samBnyjEbOdrVSLxvDZtOh7AfYWD\n",
       "fbQysbFi2kVdNo4kV0EETVVEUyqVg81AmdKTqXFS1R7roG1LLvqI/JFtrhzZ2UTptmAF4p4bcV8z\n",
       "w2sCsbkhAp/Ap+dZuLJ+ZoGnABhgc/QYL0FaC5aYYUlvGSOc837wvJ8bJA1gINFx4TBWRCV35lyU\n",
       "6HpWzileqrn2kEQwvkz+zCEkC8wTE8SGTkz3qxrWHkfes0eiXnkdsx4UGJmJKJcx0F2fTmdAtPPn\n",
       "Rk1OXRtKQNID/JgLNKZ7cVPywBpR7ICqAAL2AAADAAADABF/D4tuKOAN87TKgRK1ozpS2hdZ5Xfz\n",
       "2VxUcOeCL2ibywjkjfq0g1fqIsDHa/EkAl2CaK7+o6CeWDjNKX5RzoZfoXn0vDw4Z8JJ0Xn1dKXb\n",
       "+CmX8Bn/yYTfSOSoKtov8mbe9V0r9Uafsmt0cSNkS4GRXRqvAZoyhfQb/KiB9wiEgyVeeeV2gEAh\n",
       "esLAMtEYdLjiSZtTVoZSptb5ryg6x902IP/7WI1G19DbxCcpqGF24N1GiDrbCoHcI7fZQJb/womZ\n",
       "wDmHRzO8i6kJn2to9i9M+ztwgQAvU1vgr2wAAAMAAAMAAAMAAwMGYbbQZFeGafmlceJKUzknnMAD\n",
       "kaFOch6URkvrXisPP2KsQs+IBeDxGj5hEFnRujxblVh0L/SFHBUJj2aczBrEL4pD6V5vqfaJJpmN\n",
       "pblkTkcIAzkrwd7Q224LSx17iq57JfnVrWyHCYtzimrE8gLQlU7DnKQ9ksJp6pX5uW5xMsOz28Xu\n",
       "mAA3jwsoAAIzcwIP+ARNoA8BAFCMpfc1Peq4S/vuxvrg/Kv/Sh+KVZICKbbxMnMADLdFtDnRs09T\n",
       "OqxKfNUkQOrcpE9brLLQkeHRkDwgGxSJ5KQdxdmwQdbd6H4xDnIiaTy2JBkJbqN6BfcAnuQ67Qvb\n",
       "bNzKkKaihuNV3DsAAebUAFKDAtm4FZhZ6H34wLF2SPA+4/qGaBBHdYGjofe5PLHw81JqzS/Nu6cb\n",
       "8nEKacaL3iRG0CWXrg6WX0Qyk/rC60tc8pQluf5M983JB3e7DGtdRAoDeeQ34HcpbN/Nt2CS8ife\n",
       "iI9++kShZuRVcYGQXiOW/Vxz88l2REtTu9jy7hCvVbcDI9tfVteq0k2qXd7xsko7qN0nlDzMVUCu\n",
       "CJIkgBTwXx3XmdjNCVOyNrAgiaEkGBH8LIOaOoeeQopg4ujpAXyEpNh+SNKvPvFMxDM7IjnDYKwm\n",
       "CEyv7u/3R0ATjMY6DW+6QteVo5rRNvFWx1RYUI/SXMGY9jRrnUmlJ0xp/mtawL1Y1Be7xMlTztnh\n",
       "cfxH93ulPCKM/QdzVq1HiC6EsWMo31SSxN5RZDPx5TtEHSlxZVpWAAAK0+mmrDdzpaanBpE50owN\n",
       "da5EIAulZmrLvSocT1NhfotMcO6/FQLZxEXqUJMI2PyeS5PJ9NhGqADGmEGpTbw9cRz7j+vMmUoB\n",
       "g8JrfuLD//9YT2Jnn+bviF4RyJoCPBQbryvQBIy/UKBkxlHkZm8e7BrJBkVgQwzctkjjNYrD93X8\n",
       "tqUyOVAD9c6Xkkehv/JI2+VWURVsL1NtvQ0Y8D6taRo9TboA8P9XsTYiiMi0J1hvGvTI/s1lthJQ\n",
       "VuLU7qt2gzOTxRYol/Aqk2Q2/ZLwQammnUVVNX+bDtb3kWeBOjJ6q2zt2AXbUB+1AMMO1vbJXi3o\n",
       "Fv3a1PkRUiSbvsukE0eSHZ2cfLkFiwdzceNX7sk6ihhONJcpF9/7sJ0m/cHg7C4wPFSxHp3Zwgo7\n",
       "9L0k2UxrPW1sFCspP3+aP4yDLGMRr9Crf6ORC59+hKsm/+4HJCWF13RhBMjNupGytR3jMSlvk1Ij\n",
       "xNmAv8mXd8KZ5VU1HtIPxK/pManysrVulT4lxZyaNLVsZ1001iK/+dOpLPTdIEAAmWIyZrySkGyj\n",
       "2DKrs+cMOBKAUaYMx6a307YnH31HB+75JRmnPwP8sm4iwXXOmXeNbPYLzRG4X/Q5NB1hVnvnsQ8N\n",
       "3BJ3I2mRMw5r6buM74+MiNIsKGDDtr03ynSFIpTwTzbe5SAAAAMAAAMABJUAAAGwQZokbEEf/rUq\n",
       "gACcMh4AHMu6nvr9/BYxIdHCxPrJAO8oTi3LTY/Gf8JGXM4e/VArH9m7gPW4QA1X42tHOcKdGnWY\n",
       "GslRQAeZvV8BBELlPAXdwt3y7FP6Y+7oKiHiyRR7BS0mNwrZmK/O8NZrSRSL783yuV3r0tk9ThcN\n",
       "nLrDXd9LKFPzc9f9y24EE+DUrJrpHSL1nrHs6vK2wmAjU4cMDiTbsncSJdbVJX+VKhin2p5xM1ht\n",
       "j+kPUHyg8tnWqxYPLMuivMF63c4bzlRW8+nxBZxf8vnKJlC9dlgaUI/0tsRLkUWq3rw6s/cyTsco\n",
       "sJ5NH+ZE+1XgVAJcZjl2lxrz7QbaMdRCfOfO/0iuBUEAVTD7tQxUT6a+LwNRDsf15+WFBHve+B3o\n",
       "wftbF9CIohekl7di+5XZxBF/hxUpBsChEaI3oAfX9w2PUpYews6LG3gfba3DhvE1w3qZHGYu0vCW\n",
       "dMS39r6WST6gVt4QdPP21KQzym5gk80wHv9E4Nyto4lEbJWRGP6QbQ201/CT1fiK02ceSi83WwVW\n",
       "4RhICANbCMGfN7Vacmh6SexqE6nBLwXsAAAAM0GeQniHfwACYOT6sAAJLTGm3kVtAA6EASh5CgFL\n",
       "YEzPM0Cnnt6chqIR+Qxr/+IBYKwFJQAAAB8BnmF0Q38AAAMAAAMAbpCnJ2w5ORSB7Z+m4xQgAAfM\n",
       "AAAAOQGeY2pDfwAAAwAAAwFieglufphABDg7/eZcPClOJB5ye1Alx5TSAU7s76NwzPT+qVnMZQAA\n",
       "AwASsQAAAl1BmmhJqEFomUwII//+tSqAAAsnexpxAVr/EBvaztCkalRm9MWH/PVR9JcCnDCynwCv\n",
       "lqyza7RfvR4tEykdQAAYV1BjFduuf2roFRhFw2uwqJIbdwjb0MgMeyUCVnp9pOeFSSzH/TlNSEdP\n",
       "zZz5J+19G19INo0FdxOtS5z1mI4tkmrrh2+6NC3QRD1kUwLetub/L8sp1ad3oqTcX1wx3//zn8o4\n",
       "TxobXBM4+Tn4NWZ4GbKDKZgT9VfaLBaNPTgG9VsCG3488l31vexj6dYVff8F5H4eu7jPThRtO48f\n",
       "DGWdbOsI/FaZRlrAZfndng3eerYz9kw/VuSyLyt6CiSVmJgzjGYXMIWpr4fv4AE0cLvbGyqSaA2g\n",
       "Um7gZJZouhqDnBpD26pzlg3r5zEsr00pVMQFtGLdfq3G3mpXUrVAWvbteskHRlnNBdt9LLdqgcFk\n",
       "+uORVv6MpjJPcQblMnMQy2bhygGlC6Z0AB3C6gMdSNKTJr+bBK5DI0rPFbqNfm3ynhsnpSw0z25D\n",
       "E20yRLPrHnv1mYx2VoAw3PTkUsjxWGZLFLdQBA+DdcfgZt/FgRTgLziIhsnXjwyRAG0d7jpjsIAt\n",
       "smTA/oEf0IyEdfBK4dZmmSVlhIPQhcSB6coRjZlQ7HRLNtIakw4isMHFalO92eUyr/+ztJlDihAq\n",
       "6uty/Wd9GYGyhmEdl84/bcl1B2x2tgi3q/XNkpvuruF3MGCP1qhypF+V5DKy8+c/irVUiZFGOLAj\n",
       "63aGoGVchZwBqSF20tEcZ+F2s4zcusZj4/dwMG7RrU5F/Mn8l1OAAAAEHQAAACZBnoZFESw7/wAA\n",
       "AwAAZ8Ef9n9xYFydrzOwj281y+nDPwAAAwAS8QAAACUBnqV0Q38AAAMAAC1xK1W6wGb7voMpjraQ\n",
       "GCA8wdSNwAAAAwJ3AAAAKAGep2pDfwAAAwAAkteeJPqj8cAKybpYpxsCBIYMk9W9msIAAAMAGpAA\n",
       "AAJBQZqsSahBbJlMCCP//rUqgAAAC3FP7QAW9K8r9e6+spOE0UOtEYHmnamfrCkqaYMvxoj4uE40\n",
       "PoAMbZ1x4GYbqxoAIvr2lmm19Venj/UdJ8mbYDbvxlxvXEPEjytzs2a8z1pE8496KCYa2KNuVdOe\n",
       "BoeuBUQ25Ve9vvNWIMDClXWLHxUUiBN9/3QYRTifmrRfAkoGSsR7KDcf5MTugLAupwx8xwBqJ+2l\n",
       "fx5EGstrYzQOKMmbdzSc6R1HVIstXw2hxvyprxoew0QeiMCsd+4NgXCmvEEFuneaKfR/Wnhs2Jqt\n",
       "3599Y3a50b/Me8+dOKzDJSAO7GU9Wm0zVrI/Bhz+M2x5FK0g0tmb9es/1LseT8hnUrbhOhy45PyU\n",
       "oo+0XVqFSnP5KdKUInjrCq/279RMyyz84N2Jx92MlqO1kY1PJYCDSB3g9UypA1FSta7ece+FiqIX\n",
       "slxmnRIfitsLyQvFVZpMT6dxxKE/rolLQXg+1BFoFQ9zqAJfMD81Dx9CLDF7Wetatb7Ucluq/8BH\n",
       "lQDKsy47FIevVig2EQQmdxUuMfrDqyfn0UJpwI3sEKDZqfQ20XENOyRSdqKiNbIBXgxbjJfMiq1I\n",
       "eEUVuuj3fqDAQlqLV1FTg0dfLf5liEZ5XFfUOw7od/Cjt6h5j3Qjcty/gzX1sLw2vwBR3xYiwtKr\n",
       "+Dm+3bx7VrGy2wZr71gNJJnjLBMCA0c2AVgJmRaN4mFT6K1sHE0gtrXRL9rDX8TgZx6ajSkUCAT8\n",
       "DwD+gAAAAwA+YAAAADlBnspFFSw7/wAAAwAsqr/EUdWQTbQAsPw0rjHSE/4UoJd/0iOWV4+5nU4w\n",
       "VogRg8m6FIAAAAMAGzEAAAA5AZ7pdEN/AAADAAYhCZsRC0QeAD4pZrDKPd/F+mx5PPu2tr0xZo7Z\n",
       "R23wwE6V6o6GP1dlwAAAAwHLAAAANQGe62pDfwAAAwA+JQ7MAkvKIAJoozdp7Yz0+uvBjLDt9uSp\n",
       "YWM2Yv1HtuAqBr8wAAADAMCAAAACL0Ga8EmoQWyZTAgj//61KoAAAH13B/EB9LAAf0jWLio3GbEJ\n",
       "loKfa+0VbCTpw/ifraZ7dX4GUYyoKkocGfjUVpxAnocu0y/qgDPhfDEMsp/3nsVRI7AFIX5abbtQ\n",
       "BiaaPt+J8HrWC1Q7+gMQM/s7KI/VKRng5Psi3+GhhUO+FQgjpvH7420E5Rvk/0An/seb6AzurwJs\n",
       "hEtOB4/TCUliuR2HQP7ZbVMtvP6gFPK7zrZNQRyHYKLrdrpZoGMyZsEoMl81x3fo5v5JxPxBd7r/\n",
       "pdThfIFh4aPunwbw8ealMM9E72GHykguSzTPUwsja6neDks8+IFingnZC6jZsUNCvkjBf1cRuz3b\n",
       "Dwpxi21X6UiN6pF1B8RxW7gSjhUxRzm7KN5od/zA/DuctTi5pTqLwaEYfwJS51lM3S47gE3cdVQw\n",
       "Z078yT62TFCg2uL03tqoJFa5JDGB/PkVnMcFNL1jzzoWbhLl5xiqOHglYPWfh/QEYcCUXRK5s7yI\n",
       "8JJT3RlC8wZZDpL159cfmgr51VcfOABSurexvj+Wz7AwzhvPpJufKhk6FkdYARDDEYCs0sQJWq5Q\n",
       "aK4GsSIcuEtcQs9GzC5py4a+h2NKvk2f0oks6oy39reI3fdeIZQ0qJts2V9xYZzWCAj7bQMOpkfO\n",
       "jSCAfeeQmWCWB1TtQS1rHYD7FZdqhzrsYdD+fLHK2OIhja9SkGEY2atmwqsRsOxM68TFTulNdBDV\n",
       "DEFAAAADAAADAwMAAAA7QZ8ORRUsO/8AAAMB6P7ukDdnwZ1FIANqugF8CyCsIOlRD5xoAg4ovWDC\n",
       "5H9MrSNH7REUNwAAAwAAdMEAAAAyAZ8tdEN/AAADANMhM2EET7lswAmrs0rTdoV9NAVVQt6Aq99s\n",
       "O4NbIBpKGzAAAAMAq4EAAAAxAZ8vakN/AAADAsTz5IYVQROYwATt2oYNw7UJcJj1bsDY5ezTlY3T\n",
       "YBkYtMAAAAMBdwAAAZ9BmzRJqEFsmUwIIf/+qlUAAAMBGeWt/hKC6AFgtp09/GIBiEOEThGKQrd4\n",
       "jcsChTnS8X3piSqZHA3nZJUIcC+xXg23W98Ge7PxiYlL4DgooeROBRcOKIC69SMF7Qe0YJ/QXctd\n",
       "GL+NYwBwkXVYRv07IZn3wdtFmPaswkXuzQ9C9YBygj/nETFS7M7F7C2jzbeYF3xUi3fzlWHh4iee\n",
       "xpo/Ha9LERhcGOZQKjo/eV7L62Xeyd5ktKzhP5K0xof/4qJ/ctCZIvSRT2EuDCfV1iHsQjXfCKu5\n",
       "DAnUFF68A8W3DkhFjvlJxDGuXtO6GuiJN6by99bwyBxIHQRwrOttkwpvnaymb8ZWT+pyAuAHLd8l\n",
       "uGxH0oTRvSet8EUiTFtIFDusV3bxyRYvte9gjPh4WpRn/u78FqHbVmG9dlY6hthgzTHbxjGP7JbT\n",
       "tyKP2Mu2nHjHdidlPiX+G6nhjlCzL9eUIZnwlMQbAbSZ+JZgcwFprlSCrLMXEig/8FzMTKnGAeqK\n",
       "Swv8J1MyN+hY2OdTkm6QpKc7zkcAAAMAAAMAABxwAAAASkGfUkUVLDv/AAADAiEf11+Wybjz3yfg\n",
       "ARB8NQ20uL/GAD3NVvKzfw8aFUOQCso5Ffb3btqGV/owlkOvtvjljL4+LbaAAAADAAz5AAAARQGf\n",
       "cXRDfwAAAwLpEAyggS4APcijXIVyW11ev8/d7UuxS6Djt9urX/5WkdP64lGmH+HbTNIDJzCn21U4\n",
       "oAAAAwAAAwDwgAAAADoBn3NqQ38AAAMDEF0WZnwAfwcNbcUPPV5NGNjE7BTw0biw2O5Z/kOjH86l\n",
       "HPk8ib1UU4AAAAMAAAWUAAAAbkGbdUmoQWyZTAgj//61KoAAAJAWLgq5OfRGYWYAjuHpG05m5xz3\n",
       "Iaredll0hlITociUXzm2qgSBR/WLhZ0h9fnf0qeYSXFzjg/6XD4ToSHbpZu3sxazvc5y2Yhb8IP2\n",
       "tsBV0p2UZSoQAAADAMCBAAACA0GbmUnhClJlMCCP//61KoAAAKF/iBH3+1Sprt2V/YXUrwT9HVym\n",
       "/BngE7fEExGjlzo6DjZ43mBoVR7CzwqK+wC30elMCxgwQW/f6/t6JTqqNd5cx1QrE58+uf7O2Drq\n",
       "GC5gVCuXckGa0fJTbAZmUpCxmhV5djzlcvncya9/VjZf/ddEghg5Zgd6bQ2MZC3Svw0nY7kVEGIu\n",
       "DllPIRqfZOPtqnWCJ3t/kmkvZAB54UVoYemcW8lLnaEbR1Z1v+I77EVBlZjyDf85m2rkYnYp8hM4\n",
       "M4yBTu4fEfmOrbe4whW7YSjZTLTnECSRYs8uodBJPWEd2jICjDqrysPRm86zsX65PGcC6xUnHmeS\n",
       "XR9NAF/Y7PvW3U+eycjB9cynwvZybs+SFDUX5PgMaA/2he8VC8JrY5zp8HM1H9zyuzYLTirYrq81\n",
       "pTrR3MfdniVWRTFZsJ7muWogBR7vtRjkubo/7E+QQiwcoliJBkUx1cLM5lKruZneD8FziHvwGz67\n",
       "cZ/0ryM3TSdVMaLRpXJWY3gl50nZbvVU4VihB5D5HCDATVG0+rU5T5FpwKIoe1x218rZKJ7tXXuP\n",
       "h0uksOEp0HAI/ONJGHCRKRBdlXq/2MD+yYTzcMXAVFydgoVdO8nmXLQ/sGq/OoI/UlE6PYylgC1m\n",
       "GxPcSPZ7I806Czi/DLO04zJawGJAAAAAMEGft0U0TDv/AAADAlqjQgq5ON+Y3+aQDkpW2BrOklcY\n",
       "cGIC2wEqIf3h4AAAAwAMqQAAACgBn9Z0Q38AAAMDYITNLKD4ANXMzJ1V3qH+rVDL9wAtSf8AAAMA\n",
       "AAf5AAAAKgGf2GpDfwAAAwNgAYlszP/aAaWRk1Aef02L2VdIsapwCgfTkAAAAwAEvAAAAmtBm91J\n",
       "qEFomUwII//+tSqAAACYtirIYAoN6Ofnf/x9/En8E6obXM+MnCZguh9Y7KBPbeMMQ+ESw1WQlWAb\n",
       "3ZAnySrV+sqgaOSKFQ9xP6IzH/Q1yrHH4alO4QfWbizzeigjmiAACiNQB6m6KNCWuS5dBcL/JbkG\n",
       "Ecm0o5mT4OM75x0AbNHndw+iMRIJD+IGyjDTV74PM1YsQyft+8xlG963SEc8Ki3t07R/nXUuBxlx\n",
       "c4/nZqTqnvYVwz2LcD81Uhs0lzumHiroWLR5pyRU93dXBKxb0ngBh3QKdXa2KPoDk8fWp/k10CAc\n",
       "RfugHbAdP74OJcbuM6mxuiQGri4YJQArUSCLL0I/ret3GB/z9XK6L8Npyxy5sxKKykvYAj+mMPQp\n",
       "6CUD9pLxKH5XZ6plY/tE0Jh11ZB3sn7F+IF6S6/6vz4d6nd7ew8+3sk78/L0BWIMr7KEew03zjsk\n",
       "Qr61SlznYeAyRpznAXPycyhpVHUsDpKCfVezvIFmZzryBpmB/w/D50qTQTX1bl/Z3BUkiiLWrvkh\n",
       "0LK5fhRcdk4phUXzK1U4PoZbECQgaJSDeqT09P9wKR3k8fOZ6PwZhrFMHs2qRpqfw+frg550lSQ/\n",
       "1kGpn86clf9tya0/Dj07za9BAdvuZNLim/kUAQus7w/u0QmrKepnCPFF/JVcKWk3GxO55TKCh/2G\n",
       "uwZLiE1re4bUQx8MIyxIJFxC/5fdthwVumPY19BYEN1HFNTMthC9uyajlxg7rUD5QLT0GiNQLjr4\n",
       "0XS6hIfon4s3LsBJ72juIjskY9roHL9zR8ATmVDMKjFE8kK1ZwqAAAADAAIvAAAAPkGf+0URLDv/\n",
       "AAADAM9tLZfV8AXjnCDr5ibjm9QAOzQbK5ZXTiqrIYQkP35wr7IzXckPza4muZHwAAADAAhYAAAA\n",
       "MgGeGnRDfwAAAwElvCl3CACH61mw5SKnI1IZ3l0+dUF43e5jCg0x8C5ut9iAAAADACXhAAAANAGe\n",
       "HGpDfwAAAwD+FEEhVbywPQAIgS7rAQC0g3FjTm3s8t/6xs6p6KnMI6MgbcAAAAMAD/EAAAJHQZoB\n",
       "SahBbJlMCCP//rUqgAAABb+tL4M/bZCHhzUSM5oygfWyehYZPm0dhLh3ox6PVpb5fYe9YUkmjxBQ\n",
       "TXOFMU2XSf4hT0oC68AfI/bfnVUYM4i52tNCjugS2IA4OSMMho+2sNue11una5AllSr4GHfng/T1\n",
       "whTdKWnvhbTAUOWQ5rRqW5L3RO4ko9587iRaCYgz295QtUK1ioAgj5NUw5OQT8nhWFL/lA+BvS1M\n",
       "WCaWOVYNL36tZX7rLOcinbPksABcdknyn0/Q5uApoRLWgv8beffdNPwnRNpaAzuakE36mrxBc/UA\n",
       "kHWzlTUSc67guJpnU56v96wFqTe2r/qIFm+DA/ApFKCmIR6v1ygaXQj5XzaNy+KEvuJa3Urytdtr\n",
       "yza4MxlHawKyD/WciP4q4Bp/zlMN9HfOwPas+HwS7ZJWrlQCYEwe7QxBcrBnDH100jPXioiUsC/g\n",
       "Ak+kTv2uAP/+SFtQ017SPha59vPkIRMiTiOOjc+96dyRUmnV4a94ilb0Y1pDlsi+4LSrxwDFY870\n",
       "Hr2YKgTS5vBdQ/jKEt90NvbMsTWQuY84iHh/U8hSI4VvecGr8Xt14KaYCtDvs3+dDJUFlc3tq7+N\n",
       "fVbBsFYPEiMJe4q+/Vy2dPrwqHsT4ETtiLCoYMAmDySmSAx62hGv/2uRe8V1LSdFFvsB4I9U3GC1\n",
       "izzKKD2U5oreX/pP8nUP0sHkvidWPijYJ/2C2WY84HLj291HABcZAL8c1RMHUF2Ac1K43B73B+fY\n",
       "FDaS4AAAAwAMWAAAADhBnj9FFSw7/wAAAwC7uFtLZRC36Qr/UsA2tH96gBCWevCA438ZSYG0z6nZ\n",
       "9OrCTiQrgAAAAwBQQAAAAEUBnl50Q38AAAMA/enhHbZGYJeFf5NwAt0/+mJSFTp0VCANuleAPPIc\n",
       "tKkO3iYtYPoHV8hjoHKmjYnHYRDlqYAAAAMADKkAAAA3AZ5AakN/AAADAP4UQSFd90tlqIAIg1xk\n",
       "VTocCt3nrI9vtzOjNPzoHirBgVcqSlNTOAAAAwAFBAAAAddBmkVJqEFsmUwII//+tSqAAAADAJQ4\n",
       "6hgBw2TEFXqdKft0fwlFXQOp33PtqAhUBFmLGPqrb7kZJ9ZfMhTZbeXgDcKndkN9c+3G68g0ba/N\n",
       "2cZHL2mLsYkDuDcrzAUW8LSmxLeAWI6UwIZW4mwBOwLz7bxITRrtZebcCOxWiSwVG0cW0W0/Z/j/\n",
       "lus6rzxvvTwNhkiC7j78e63kETpWf7/JUfQjE/2eeyxkbs7LGp/943mm9ma4QOGaY7hl+s/MKNJq\n",
       "Ov2z+XGWQryxer5DJarrjyqAzjmCdT3M/SDhdDkwe8eiVaX73m/xfQv2wQJ8gjK66s9mnCkpAnZy\n",
       "ZeggbUX63PmGuZAcG1q86c3IIOT86TRONVwzv7oa3pC9caGlK29cW5BuQaGNpFF7btDbTNNWJB0x\n",
       "OB30cc5/WTk+AS4CTR2USqsDgM5NSPLLS7b8eEwmFnAAvBCXIrVxKCdzLb4M44IMKXqAJDLIR0re\n",
       "u0CC+wkElRvWHX97XIM7jkSa3KpzEoOnKjI/eTTFjIIvKw6y5yeagRDgFJ8qw1WqQMuBm5wj/m5L\n",
       "P5S6jRTY1gp+G/Oq5nfS46wl0fX7wzn33p0q1Ww54zKnV8o83vAYfgpSvcAAAAMAAdUAAAA/QZ5j\n",
       "RRUsO/8AAAMAu7hbS2UQt77qyg+4vtmJe9R7gBb10AliqQ4zdfzJiOVbwYxz4yHpvfTwESPQAAAD\n",
       "AAgYAAAAMwGegnRDfwAAAwD96eEdthwrADE7HCACckTOUVkyOABqevmk2/eIuHWuVaDgAAADAACX\n",
       "gQAAADgBnoRqQ38AAAMA/hRBIV3z5x05Ho84f5xsYG4ATTP6stoHHeBhq41RTqFuOdI5uWfMDAAA\n",
       "AwACbwAAAa5BmolJqEFsmUwII//+tSqAAAADAAB6t8FSFJQBN04n3WzczL3I95vbtTFoRWghjnL4\n",
       "wM4jKrLLTI7YaNbwTZHT3T5aLrtTF7KAUQR7Ad3NePs2pv98y2GmFnTjXTX2QfvWtLIgJt0QWppH\n",
       "y6PZYFkhua8H7CACd11NiWSctzqh8g663n0b1hJf/B6l1kE9BZGaNut1Z/hKeTNE9KMM3JtX0HsJ\n",
       "Zw0z9PN9D22QHu5p3pqDJkhm2u9KpmRrm+6VeE56Tio2nuY7NgyZAsiaZsZ8uWVf/gZysaGDF3O8\n",
       "W5qjwi8SAxU5U8CoyMntS5p8r6y/4PPGXjZ6m4i8cAzu1kI3TB6WC4+plHAA08cnCAv/m7Qufdjk\n",
       "cq70KZRZ1JdD8tCTzSKz8HVlxo1H/DtsKycKPAjdhBCZ1doFof6LzLFhimr+qkOyO/F3gLsgZHK2\n",
       "tQQ78nwuX2JE7W9YJEvCPMesSER9wGoLKm5BbD3Buk3ZytXYEBBfe+wHWRGzX6DbpVCcGle7pZlv\n",
       "W7dkj3TRin05Lsm+xtSppoB8iW4Zfi2BIq3gesSW3lMAAAMAABQRAAAAXUGep0UVLDv/AAADALu4\n",
       "W0tlELe98+cmf4t7pcoofcDITpTw4pJiKnjxMALY4qF+12bEjYLKsUPL5n9rhYXaR7nsGc9GiHyM\n",
       "sbbXVH6q2+nap1B0sHkqBgAAAwABAwAAADsBnsZ0Q38AAAMA/enhHbYbM+Bt9Mr5G5qbeONWABLK\n",
       "Ata5Bwob08bKdNi/PUSO4zPOTTTNYAAAAwAiYAAAAEEBnshqQ38AAAMA/hRBIV3z5wlwTDbkfgxs\n",
       "4DsQAXVckPOda2os1N6tgA9zIZEP4lsiOB5HIXrUZwphRAAAAwAN6AAAAdtBms1JqEFsmUwII//+\n",
       "tSqAAAADAAADAUJ+/T2fzH1ANhgpt+y1ifr62QpjpoUypoQs8zLDoDFJHM08ArWeMKBn6dbgOeqn\n",
       "sIDl/Mx8e0+q8vvT7Luejw8t3/IDc034Pxssi/1NUimNVDnOtDNJOUWHj8++qFT2fsk2jVK4qAMP\n",
       "aqeyE0QxenBomLnbn7SiZzPzmsYZGTcfZ+Ni6TYmHspUaCchGK2DIXXVDR3HXYU194Teb45Z5Shi\n",
       "LtcQDMDvw6WJy6kB+xdbhb2VQnxo1tCYnvkQQ/mDXg1SPxS7SaS6lyjYQS2ceGv7HtqBVNN/nAOM\n",
       "phBJhaEMZ0cyuthyzmlI/f6yUhd1F94LsG1FCl/m2VbsKvb1/EYdicnqb4MzALnuw4oC+Ymi/mRq\n",
       "yy1cbycDLDAAuvDhREdvvdQTktHa5xDkS7IyiGLTq6676fIgQhZZQpt8LRg/shzPeP1cd8gtEVw9\n",
       "SfEeHsFZHrkwoEOEXF65wnQtvrregTl/JJnPyA/+R3Ty7n8JTApVXlCxXA5YA593cRVfYSw7OzyE\n",
       "wCmJzVi9EMMxUMpOer86xDDtiYgu8f0opaZmJOrF8YqytBvREKncp4shWk0s7cAUQpgAvrUWmyXj\n",
       "3HYAAAW1AAAASUGe60UVLDv/AAADALu4W0tlELe98/f8yxbzshQ3t5WQrMOJLg/+f/60ACaLDyy3\n",
       "8Hd5CQfBnHzvtLQKxuNuIKLiM8P68AAAqoAAAAA5AZ8KdEN/AAADAP3p4R22GzPgbfTJoXgVZ4ni\n",
       "Nj4hPsMALIS2rMibuJoBwucJA81856RgWIAAAAQ8AAAAPQGfDGpDfwAAAwD+FEEhXfPnCXBMNsw7\n",
       "WN88vgoAbN+VJUZ/pGzpwSZsyZmiSr2xJwAU9Eglzk4jGAAAZUEAAAHqQZsRSahBbJlMCCP//rUq\n",
       "gAAAAwAAAwAeiHhEAB8LxcQhKRiWvm4+tDyg/gDEF/dQb1SMye9A/+w5cgoTn/72/479518mUqNp\n",
       "2fBlZikw42Zj9PeHHZpHorXcYUzNV8Xtm32eHwXYhk+nYkUGKB0qjL0vHCtQdjzYqEDw+5RE6mTY\n",
       "b4IpgczpgclzVPB8ftvrcSd8IhMEx+2YzXY0ewXVTZK9ppf2w5g8bWk/PEmCzyEg2/k9qIzPE8eV\n",
       "GfHzO05MD3gpqkLarXUDECuPJpL44+EepZxIFHKvzf9/101bHfJwWQ8+U07PzPO0jwIGQ0RTnoeW\n",
       "46tF7QqVXZZUZmdObT94GC96x/6fN34Pgl9RsBuSbvCJzGwSKWaZQ3JTx656f+KpMnhOmcCSIO7b\n",
       "HaAbzmqIJbcFhAsznywq3BkKqs+LC7u9f/fae5OCkQONoy0PHtN1vPtNIsflm5KdGDUIwteJzbI0\n",
       "npMSHxxt1lg6umhgvtDyy8//M0WsyZW6xLaObGSAKC13hIKicx79mCZRPKw+jUkmaStFbv3NFpog\n",
       "GI6qDh9XXkAJJq3sniowKZSeDzs6Ox3lmIeOZhk+HnEhFodUhcACxAZdylWRk0X/BCQHJqky6vI+\n",
       "wSPb7fnZfwHYZWfL3gPAoAAfMQAAAEdBny9FFSw7/wAAAwC7uFtLZRC3vfP3/MsW87IUN4VwbKCq\n",
       "gQlXuXABzZogDHgj/leGfffJlQsdD28///fDiCdBhJfwAABNwQAAADUBn050Q38AAAMA/enhHbYb\n",
       "M+Bt9MmeGoD533BwXh/8MD1OANRrOVnWGOEWcXLGpLqwAAAN6AAAADoBn1BqQ38AAAMA/hRBIV3z\n",
       "5wlwTDbMEkpqI+FAwv6IdYjg2uAEoEdMl14Xsrf+nQYl9ryzWvAAACbgAAACCUGbVUmoQWyZTAgj\n",
       "//61KoAAAAMAAAMAABeI4NiN6+ALtDffL/gWlUA38gT6BcLl1twmh8PwNxPK9t0j3bS5tuRejRY0\n",
       "mAEbqDB4sroF7GDVB/42svoC4ZT6my8NHcmyfLxMhDDa17/QlnzZNsdoaTP2slyJ5xWrYdVvRsPu\n",
       "nb6duncwuXffaB/QYtUZacugApEfhXYkc9srqcb0OCTvBCYrh7d2IZ77zk3TW7YlwBm1kkvYxvwS\n",
       "/EU2TjUVLRMTLW62p2m38jvG6V7eZnvS0H4ab36xH52eTfM7l8cuFWFn+Mnrvung9MwpwvOEp9tD\n",
       "Sr5LSE7h5NQdi/Dax+OHr5tKUexZ+HkWO5kVXXwJvKVrNsboz8v6qWqqlRu3oB1zN0R2eIn8yNg9\n",
       "DK/gt8S2Zoa8cvqQI8mLiGJF8PH6D5ASJqYhzvM2NQnX8UZxgHwQQCCRIcsaJa5hRMdqimIghSeO\n",
       "6QFNsDIbAZPsthdU43d8ORFNSWgQ4SklSJjGzWD6Ve89Ys4e1Ps3HCO5PmfWvnjzHdQu8baXjNU/\n",
       "QoCSvXBrIVFxRJM5KIeNZARrquK2eqQDp/YKC3bVhpwwM2ozjW5Vn1JMuzfSqLiwEX8h1y2TNsuQ\n",
       "wTkjNMQPMrI83BwsXLA4NC0yxD6zl91d9GE8oMnGLMLk1vg29YqqeHfeTeePVM63wnOUPz/BAAAA\n",
       "RkGfc0UVLDv/AAADALu4W0tlELe98/f8yxbzshQ3gadZmk0rmcYHWWXIF/8MD9/gCgQk1nh/BVXL\n",
       "w/ZJuf/85dYhf8AAf4AAAABEAZ+SdEN/AAADAP3p4R22GzPgbfTJnhqA48c5W2JNgyjuAEuUaTj4\n",
       "XWwN6iBEjsT43Kr4X2JNPqhABsUvPoXDjuAABgQAAAA8AZ+UakN/AAADAP4UQSFd8+cJcEw2zBJK\n",
       "ag3IFiX7pPcANelgbevPMIBFvtJhf2fNu13gYuk/kbvgACRhAAACEUGbmUmoQWyZTAgj//61KoAA\n",
       "AAMAAAMAABbenkgCLOi8GaHZWTe9GsXDpLtmvBDT6XcIT2HHtDJcb8bxEfzpNZWoMvwf00iU5rM+\n",
       "V88shyrSOWCoKGAqJ5/rkjMHgqlah+RkZIX70qtnUt5tMoho2Hcc8RyTit7Fk66isMshcgEDNq1J\n",
       "S9Hz+Iu2aIDXByabyvnyyNXic8D61ea3wFcM7D9xufAtXa6UF5bEW42Y8bBoXWGByz2u24gK8y7A\n",
       "UxLOsHghWOqFuvwOfh5cDQcMR4IFJfqk/lRThwHwunOxuZCL6IIpQTzFPNUvpmPdeFuM2JdPs+oj\n",
       "eWvgR02KyPPrt/OU6wdeaBRakD1clL/RJnyRZecHzzaN82huVHUOnpOiGCSdIqUUMT9FxbCLr14k\n",
       "TjGf1a/VPGnnXM4JobUhFLQhFF7xGKrgStsuS3OwutUiIBzheuhWcYgOUQZKwzRh8xrl0WHIcSON\n",
       "VeInFOyG66UsvTtYX2KNhtcy6n8/H40K/g+s+gUCjSvZewVmaEA1gphFA5OwBBqtr4d/EAQ9DtMV\n",
       "37ueT+3q7U5o6EupTouUbZiHCp7+a4nkBFTySIIB+mCFnvhsaq4WQk6LbCXOxBUB7Fr/YGDpr6w6\n",
       "VeATdSDcXX5q6q3F93VG0gvrnvTDc177u62HxikFFyCWGxm0Qk3xNvYy/MX+lneX7KWgS8JgN6AA\n",
       "AABQQZ+3RRUsO/8AAAMAu7hbS2UQt73z9/zLFvOyFDeBp1maMQLBhbXlfdT6em8ACHEpV1eE4iYT\n",
       "Smi7A2vps+xwd4B29f/lhnVslW7drUAALaEAAAA8AZ/WdEN/AAADAP3p4R22GzPgbfTJnhqA48c4\n",
       "CgMYvXABsXjGCxsD7HaeyZQD/pLyrUrnvpSSn5LwAANTAAAAPAGf2GpDfwAAAwD+FEEhXfPnCXBM\n",
       "NswSSmoNyBT0SLP8EvABscEdM8hHp5XQQzVQM1q4xxYuNr9AAAA2YAAAAWFBm91JqEFsmUwII//+\n",
       "tSqAAAADAAADAAADADPW3UMAOaRSmfICr7XYHxwvldX2NzJxx6KaZjOXoTKJtnMAtc/1S/5w9yTU\n",
       "JPIEVVM24RaWt0KjIw7HEmfAvOglt05xViC7ilyv/V2j5Vot76wSpheDge7ckehlAbMaxgdGibSu\n",
       "phES8KfWcPmc0y0tC0la9vBib7p9m2IzgNw1q1BYpEEtAe4cbRaGao2FVhK2D0iiz9Zrde3PQeGh\n",
       "XPKPSoqZ5PKRm/72svaEXPNNYeVDOuYPa3Skjx+TL9D8cWzJzfIosNlbqEz47tmc0D0tadWvNpCJ\n",
       "WwXjA5sd5altBm7azLiJHHFTJ3V+L+IiD50cCKMJZvNVFY3grxZmuPsu31/n1iMF4/u34tkBsQUO\n",
       "9jQKn74MwflMc2Jw5MZgb7iDU5/EpqJx7uEKdpRuAVO8xVBIuDOlDpAAS0yeavoAbxA147gDewAA\n",
       "AEdBn/tFFSw7/wAAAwC7uFtLZRC3vfP3/MsW87IUN4GnWZoxAsGFZBh+1QGRQTS/ABfXwknCJi1t\n",
       "yU9/mejs4SWTYzhNjAAEPAAAAD8Bnhp0Q38AAAMA/enhHbYbM+Bt9MmeGoDjxzgedxBGf1eLVEAE\n",
       "5ImcXaZj106PZ1wrVsQU19do3IJCKBAAGVEAAAA3AZ4cakN/AAADAP4UQSFd8+cJcEw2zBJKag3I\n",
       "FPRHveekDERABEHuwG0xk7asRABpLMe+AABAwQAAAbZBmgFJqEFsmUwII//+tSqAAAADAAADAAAD\n",
       "ACpkzMS7e17MgQTD+GvB0S+8+c5SvsCV00ghj+qDjDrb5rk3grYDQEkGGpGkiKYMoZaHzR9QQ5sh\n",
       "yZ3DRTZXUn7fabGGJCR2FKux0w8BMxfHd0pbGJAVxG7Uae0AJLOj+EbA4UivhT16PO13JjyvVcBe\n",
       "KIiOXPUvw9p2DZ2zmJbbJKeM72q4spmZ5Ug/e0iGruO5ehZ5hwHiYEKfXfpQX+Yn2uGmJpN+BUqg\n",
       "WLje6aQkxjmLQ25cmViMIqZ3KfBp61b1DE8awQox/DohoqZWyXxpeI2J32zmDdgJnwJYup3j+uFu\n",
       "XieaXFTYSAiuPdskBEILPaq21R5aqs1lz/CUnGbnAzOpcC/TuseWH72DUHMIPub/FgLUY8iFtkkd\n",
       "FFQuMYXO4A3v4apF7+83kElt++OBVnBobEQVdD9Ja8SdRDVsZY/Idh9KwaDAweD3Cw8d8D2YhAfN\n",
       "M5qlxfe1RJui0KOu92Z4ZA6W+N5WIMpHBCE9fy5ajWVGm8PzuqiqPQZYLpmdepQQ/9wrVenNVKB/\n",
       "9DikEy4hyjOO67U0BowAAABJQZ4/RRUsO/8AAAMAu7hbS2UQt73z9/zLFvOyFDeBp1maMQLBhWQW\n",
       "DcS35+VP91O90gAtbrhvSo38ExOu95ywoS6Gx6woXAAHLAAAAEABnl50Q38AAAMA/enhHbYbM+Bt\n",
       "9MmeGoDjxzgedwSxmj4fklJsa/zQAR4c/yQN/wXbt+L0h892gfOS+fTAAIeBAAAAPQGeQGpDfwAA\n",
       "AwD+FEEhXfPnCXBMNswSSmoNyBT0RuQuVtcAN0PmSMZIbhfHKdmuKDFncF9sbJRj8x2AAyoAAAJX\n",
       "QZpFSahBbJlMCCH//qpVAAADAAADAAADAALt4m8Ut5yVI7BUk066kdpsNxTZWDpaVsHE0mOuIiXx\n",
       "sO0xqdxu8ZluyMynNdiBhAEV8i4AjHeSQaHlirEV4DbEfHnwjy3cxyjE4LBe1evcXUCxA3RDTY8S\n",
       "IfcfTF/wkpa6WsNfBOZ+PgX26a7YSMhdIKZmasieYtPBs/fS9bwWp2GjYt1Cl34dJwFWcL8c37Rz\n",
       "hnNiZh+0Ls848uMK3Wab768My0rcrdrZujprCJYJx3EyQbAAaTQ/UEVYvQFh+5vVT8IVsyHO+OuD\n",
       "Gr0kHatsku5Ge+2ox7h+0TXQQdz1B22vfdrdhaRJxw19ta2lKJrL6Guu1Cz44hza9Vm6YUWym0yT\n",
       "LAG6SYUVmb/MAZ1EkTErIQJFcjufoiywo7FsNTqFksGYP/89xiDRm5OffSuZpyN8tyywTkyHOIoZ\n",
       "kFvvp5tJJ+goxotPAact3LFjxZZY932Xs7I1vEggCf/6Pz6JZ/nkGcKYodFXNQ6yIwzI/znk2PuZ\n",
       "6CB22oVi4+meRS1jAz72HyMxwQQF+PWf8KF9qKn3rFMTMnVFzAcnY6sU4yCet0szfQqibXvG9CCP\n",
       "ytu3pyd35gNN26EnT59bBhq4EV3BuAbTATeD/Zb+ZayrjPexWI5dfLSBDjvpsLlQma7CjWN8lS0d\n",
       "8VX1nmhkLGuQtbVhtsyL0QmCI0moHgCSXLwFVk0ColDo2ECNSYj6j4+Bec4FqZLmy5OD4Y6ap5Hy\n",
       "yTXf6nPyamCd08vVdukQx2eDQgi0s2V5U9rAE7EAAABLQZ5jRRUsO/8AAAMAu7hbS2UQt73z9/zL\n",
       "FvOyFDeBp1maMQLBhWZgAlJxv1PuFABLliUF3mByfy3lxLryGyGAP62Jq6OVxLmzAAScAAAARAGe\n",
       "gnRDfwAAAwD96eEdthsz4G30yZ4agOPHOB53KM/sAQpBpVyOf4hP5AAEkdADWdNNtqsQoyaZ8AeW\n",
       "GARhWCcAAMqBAAAASQGehGpDfwAAAwD+FEEhXfPnCXBMNswSSmoNyBT0t61D/dEzFdwBWq1mu9j0\n",
       "zclixQWfqgf4uVecMLab9uOPXS7vi6J2/XQAA6cAAAIwQZqJSahBbJlMCCH//qpVAAADAAADAAAD\n",
       "AQnlz+Cdywd5yVQBDH4zn+vT9F3L3JAFUZ2w/R+1K0rGNMJniVerj4F683+r6Ngl+QsaeXA2YWBN\n",
       "P1PZ//I1cBu9hC+OAdD2zPxLL4Z478OHF263JhDnOnNO/QcRReIuaw1ATdPoto/DDe0Pp3rrPldx\n",
       "y8MV0GJ3AKevPNEaP8rfL1/k64faxOj71/SeiS/Q20PGP/YJWf2OjRsaLlR8ajAq3pHC3mKwpg+y\n",
       "JBOKVU3eSkpaWmBDPWtnF1wSOTGnGgoKnW+dUGwLQdS3vVPuP+puCtaCCUPheiqlmX84j79tB9CW\n",
       "Bx+bzJ4TNmrHh6Kcobk2mPvmsrlwRIWs6l4R7CGpkpOjN1Ned0d4s1P17nkkbFSYbkDIfppw9Jcm\n",
       "PxCmshjTYB3n+kBYTQgZcGF7GtWtiGLmX3o/skZGSgpnFHn3L9LF1p/Y6HcB0hs2PpUQD6eiiFyF\n",
       "uuOtWF3L1k2Y/nUVICYG93l+5ptlFgNB2ET5C+KxLAZN0HTib3XDov20rupDiQG08AOIkTK3Uscf\n",
       "F4h60JxHcW1OFbSiS7rwlBlyVCMLlQJ3glbhBzkuDqMVdXp7R0Dopoh0zq94FxlQ9WdK6/psHYNi\n",
       "1nO2JN4EV2hfUblVN1XZfo+KsimdoZHISYrxUas4+dg9PxpEVNN7tYIE23UzGAYEyFVgIotMP5tJ\n",
       "toVNMTNFbGkmEvMBuVw8TiXDKy6AGLEAAABMQZ6nRRUsO/8AAAMAu7hbS2UQt73z9/zLFvOyFDeB\n",
       "p1maMhGPi2/AiYzgAfwg0rWf4Sa1yOq9/09lCwJiiJXVXCbjnBULA1vAnkAFTQAAAEcBnsZ0Q38A\n",
       "AAMA/enhHbYbM+Bt9MmeGoDjxzjKi+UPbm0QATkiagKXjvyOmdFMNgw/O1PHkWnaxFcF7K2hGPJz\n",
       "ed5ylMAC2gAAAD4BnshqQ38AAAMA/hRBIV3z5wlwTDbMEkpqDdGSLU5hEcUosAIxLw98W7wlcqvT\n",
       "dLIhStrY9OF+mJ2O8ABJwAAAAHxBmspJqEFsmUwIIf/+qlUAAAMAAAMAAAMBCJ9qMd4oATw3JIvb\n",
       "5UBsySpa1JTJvPrXF4isqR2HEEC/Nl7TwFqnyA/G4udJaYBHFRg/4KCfEgnzpD9Wmhpz80DDyJ3k\n",
       "UvaPlp129SX8s8H17OkqIrT3WKh/xZwMecSgAAWVAAAAjUGa60nhClJlMCCP//61KoAAAAMAAAMA\n",
       "BSiZmLMMZRhnbBNUBOb1zWlddOMpUjBK0d13CiUFyi0o3tT5ZrhUkhoW4li8jYHlt+xQ2yR7sX1n\n",
       "eSjzkGXNHBdSKZEJhllH5vtitlKCnMsFbjsp9dhfgWxsRTeUJ9ooh+oVT7kh6CdVvog60eODviMA\n",
       "AAMBnwAAAV1Bmw9J4Q6JlMCCH/6qVQAAAwAAAwAD5nzpQAUDB4qX5+YVdbtSN6gZP1S94hO5yMwa\n",
       "+nt9RkaPcYyW0Ax0UOFE56yoVvcyL9qA/Q88MoY/WrzrAPuuyo4qd1+kBSvXAmqXJ1UeMDgoiNBK\n",
       "btKasa7XETtH1V972id/0l/dr1t47ErB5b8w3Kj+M8odAueaBzcDWI22/S+RY0lIxC34XM/9A4RC\n",
       "cAP5dgNTvgkpG9VCSiBLkhWXREXhukPL5TTkFZd+ztyRw3MJSJmBPnyZ4aGVs7O+wzM1XoMYPOB/\n",
       "TGZLGYLj9zlAR9UCs9hlli4WtuZ9qYBtYrgdmG2/nogIterqu+19syP7fSvhA1x4R+RiisCCAtMM\n",
       "ku2wCQaEp+tRzgviqgAygJfVKn3yPpQnebucOHsYJFMiUAGoO5reiNWYkCncucyd0ClZlALgJitH\n",
       "bg9t0082OsRUuBYAABlQAAAAU0GfLUURPDv/AAADALuxaqYlCS/N8+kMyv7zrJQz2SSdMyrOLZFe\n",
       "ABxvfuJVmgt/OfjLgZ7JRlXno6i7Ae15WHgHBsMy25mEP1L8STL+pJCeQAaNAAAAPwGfTHRDfwAA\n",
       "AwD96eEdthsz4G30yaNuGv6NH0Cc9wCaVrNfsyuZh9h/72WsnApKqqRZBLoRa5htinGZNMADKwAA\n",
       "AEMBn05qQ38AAAMA/hRBIV3z5wlwTDbPyZC524XADdD5a8DQ2IRu/5fW4R7cwh3r0jYImyRFT13g\n",
       "niyko1gMFga6AAu5AAAAz0GbU0moQWiZTAh///6plgAAAwAABiqNgCAE0rTqKy+jv5PWkYHoARvh\n",
       "nxPJ+Rb12HxvjeEC/e2RlJEWmkY6aHZDtLa1bGogjFooTa9rqV4Kda1SGhp0Pcs0RczzW6qvr7Ry\n",
       "Pbhyi7ol1d8TPmtccS0fASwTk8unDPLvBMJ2+idmAQfCo6KXbv2yjrTI7y5ATuuPzoSRgucLoLC5\n",
       "jfDLiCP9ZJADNTP6bug+xVUtb9g8LYAJOKHRTHumcg0hmRKgviUwd277rXlVPyCYoAAC4gAAAEJB\n",
       "n3FFESw7/wAAAwC7uFtLZRC3vfP3/MsW87IUaD8LMNaZSlXU4IQAsz9R/Qc33RITuVOKrT6QTJKg\n",
       "NzjrJtIABvQAAAAuAZ+QdEN/AAADAP3p4R22GzPgbfTJ1aRC5rzACRCFVy+pBxz1agdvIB0ugAD0\n",
       "gQAAAD8Bn5JqQ38AAAMA/hRBIV3z5wlwTDkBoACtdrTGADaoFwJJDX/GqZWaKkhXUJqWtWE6rSyl\n",
       "+sNJISgGeBAAnYAAAACCQZuVSahBbJlMFEw3//6nhAAAAwAAe/F3tq6qQAbR0G/CX3H2iiaYXF6T\n",
       "6wgTu9/a91dW5Q5aL7dELaHDH+DTVMTCnstopAjLbSH3EnLA79/QarwXbMsFLrL3BgeNXRyua6ok\n",
       "Opr5U4VJm2XGRW0PqVjlFNwbbsycDSkBWl8uAAAh4AAAAEgBn7RqQ38AAAMBBci9XHWtJzfQA1P4\n",
       "Bx0DvbY1grCAD/24Oze2MhMXTQwPsOsWMMWmFlkYeX9rHPza0Mc2llL9Uhd5zvQAAmcAAAcubW9v\n",
       "dgAAAGxtdmhkAAAAAAAAAAAAAAAAAAAD6AAAIZgAAQAAAQAAAAAAAAAAAAAAAAEAAAAAAAAAAAAA\n",
       "AAAAAAABAAAAAAAAAAAAAAAAAABAAAAAAAAAAAAAAAAAAAAAAAAAAAAAAAAAAAAAAAAAAgAABlh0\n",
       "cmFrAAAAXHRraGQAAAADAAAAAAAAAAAAAAABAAAAAAAAIZgAAAAAAAAAAAAAAAAAAAAAAAEAAAAA\n",
       "AAAAAAAAAAAAAAABAAAAAAAAAAAAAAAAAABAAAAAAtAAAALQAAAAAAAkZWR0cwAAABxlbHN0AAAA\n",
       "AAAAAAEAACGYAAAIAAABAAAAAAXQbWRpYQAAACBtZGhkAAAAAAAAAAAAAAAAAAAoAAABWABVxAAA\n",
       "AAAALWhkbHIAAAAAAAAAAHZpZGUAAAAAAAAAAAAAAABWaWRlb0hhbmRsZXIAAAAFe21pbmYAAAAU\n",
       "dm1oZAAAAAEAAAAAAAAAAAAAACRkaW5mAAAAHGRyZWYAAAAAAAAAAQAAAAx1cmwgAAAAAQAABTtz\n",
       "dGJsAAAAs3N0c2QAAAAAAAAAAQAAAKNhdmMxAAAAAAAAAAEAAAAAAAAAAAAAAAAAAAAAAtAC0ABI\n",
       "AAAASAAAAAAAAAABAAAAAAAAAAAAAAAAAAAAAAAAAAAAAAAAAAAAAAAAAAAAGP//AAAAMWF2Y0MB\n",
       "ZAAf/+EAGGdkAB+s2UC0FuhAAAADAEAAAAUDxgxlgAEABmjr48siwAAAABx1dWlka2hA8l8kT8W6\n",
       "OaUbzwMj8wAAAAAAAAAYc3R0cwAAAAAAAAABAAAAVgAABAAAAAAUc3RzcwAAAAAAAAABAAAAAQAA\n",
       "ArhjdHRzAAAAAAAAAFUAAAABAAAIAAAAAAEAABQAAAAAAQAACAAAAAABAAAAAAAAAAEAAAQAAAAA\n",
       "AQAAFAAAAAABAAAIAAAAAAEAAAAAAAAAAQAABAAAAAABAAAUAAAAAAEAAAgAAAAAAQAAAAAAAAAB\n",
       "AAAEAAAAAAEAABQAAAAAAQAACAAAAAABAAAAAAAAAAEAAAQAAAAAAQAAFAAAAAABAAAIAAAAAAEA\n",
       "AAAAAAAAAQAABAAAAAABAAAIAAAAAAEAABQAAAAAAQAACAAAAAABAAAAAAAAAAEAAAQAAAAAAQAA\n",
       "FAAAAAABAAAIAAAAAAEAAAAAAAAAAQAABAAAAAABAAAUAAAAAAEAAAgAAAAAAQAAAAAAAAABAAAE\n",
       "AAAAAAEAABQAAAAAAQAACAAAAAABAAAAAAAAAAEAAAQAAAAAAQAAFAAAAAABAAAIAAAAAAEAAAAA\n",
       "AAAAAQAABAAAAAABAAAUAAAAAAEAAAgAAAAAAQAAAAAAAAABAAAEAAAAAAEAABQAAAAAAQAACAAA\n",
       "AAABAAAAAAAAAAEAAAQAAAAAAQAAFAAAAAABAAAIAAAAAAEAAAAAAAAAAQAABAAAAAABAAAUAAAA\n",
       "AAEAAAgAAAAAAQAAAAAAAAABAAAEAAAAAAEAABQAAAAAAQAACAAAAAABAAAAAAAAAAEAAAQAAAAA\n",
       "AQAAFAAAAAABAAAIAAAAAAEAAAAAAAAAAQAABAAAAAABAAAUAAAAAAEAAAgAAAAAAQAAAAAAAAAB\n",
       "AAAEAAAAAAEAABQAAAAAAQAACAAAAAABAAAAAAAAAAEAAAQAAAAAAgAACAAAAAABAAAUAAAAAAEA\n",
       "AAgAAAAAAQAAAAAAAAABAAAEAAAAAAEAABQAAAAAAQAACAAAAAABAAAAAAAAAAEAAAQAAAAAAQAA\n",
       "DAAAAAABAAAEAAAAABxzdHNjAAAAAAAAAAEAAAABAAAAVgAAAAEAAAFsc3RzegAAAAAAAAAAAAAA\n",
       "VgAAESUAAAG0AAAANwAAACMAAAA9AAACYQAAACoAAAApAAAALAAAAkUAAAA9AAAAPQAAADkAAAIz\n",
       "AAAAPwAAADYAAAA1AAABowAAAE4AAABJAAAAPgAAAHIAAAIHAAAANAAAACwAAAAuAAACbwAAAEIA\n",
       "AAA2AAAAOAAAAksAAAA8AAAASQAAADsAAAHbAAAAQwAAADcAAAA8AAABsgAAAGEAAAA/AAAARQAA\n",
       "Ad8AAABNAAAAPQAAAEEAAAHuAAAASwAAADkAAAA+AAACDQAAAEoAAABIAAAAQAAAAhUAAABUAAAA\n",
       "QAAAAEAAAAFlAAAASwAAAEMAAAA7AAABugAAAE0AAABEAAAAQQAAAlsAAABPAAAASAAAAE0AAAI0\n",
       "AAAAUAAAAEsAAABCAAAAgAAAAJEAAAFhAAAAVwAAAEMAAABHAAAA0wAAAEYAAAAyAAAAQwAAAIYA\n",
       "AABMAAAAFHN0Y28AAAAAAAAAAQAAACwAAABidWR0YQAAAFptZXRhAAAAAAAAACFoZGxyAAAAAAAA\n",
       "AABtZGlyYXBwbAAAAAAAAAAAAAAAAC1pbHN0AAAAJal0b28AAAAdZGF0YQAAAAEAAAAATGF2ZjU3\n",
       "LjU2LjEwMQ==\n",
       "\">\n",
       "  Your browser does not support the video tag.\n",
       "</video>"
      ],
      "text/plain": [
       "<IPython.core.display.HTML object>"
      ]
     },
     "execution_count": 25,
     "metadata": {},
     "output_type": "execute_result"
    }
   ],
   "source": [
    "HTML(anim.to_html5_video())"
   ]
  },
  {
   "cell_type": "markdown",
   "metadata": {},
   "source": [
    "## Ordre de convergence"
   ]
  },
  {
   "cell_type": "markdown",
   "metadata": {},
   "source": [
    "Nous nous occupons dans cette section de calculer l'ordre de convergence de la méthode utilisée. La méthode étant celle de Runge et Kutta d'ordre 4, nous cherchons à vérifier que l'ordre vaut bien $4$. Nous aurons pour cela besoin de comparer les erreurs associée au calcul numérique pour plusieurs pas de temps différents."
   ]
  },
  {
   "cell_type": "markdown",
   "metadata": {},
   "source": [
    "### Calcul de l'ordre sur base des résultats numériques uniquement"
   ]
  },
  {
   "cell_type": "markdown",
   "metadata": {},
   "source": [
    "Nous avons besoin d'implémenter une fonction qui quantifie l'erreur sur les résultats de la simulation. Idéalement, ce que nous ferons dans la section suivante, l'erreur se calcule par rapport à la trajectoire limite pour $dt \\rightarrow 0$ (i.e. la trajectoire théorique si la méthode converge). Cependant, dans le contexte d'un calcul numérique, la trajectoire théorique n'est généralement pas disponible (d'où l'intérêt de la méthode numérique). Nous comparons dans ce cas les trajectoires à la trajectoire obtenue pour le plus petit $dt$ utilisé, qui approximme alors la trajectoire théorique. Notre fonction de calcul d'erreur prend donc les résultats calculés pour un certain $dt$ ainsi que les données calculées avec le plus petit $dt$ disponible et renvoie la valeur absolue de la différence entre les positions finales calculées dans les deux cas, qui nous sert d'indicateur de l'erreur associée à première trajectoire. Nous avons précédemment comparé les demi-grands axes pour calculer l'ordre de convergence. Cependant, les demi-grands axes ne sont pas calculés à partir des valeur numériques correspondant au même instant pour chaque $dt$. Il ne s'agit donc pas d'une bonne base de comparaison."
   ]
  },
  {
   "cell_type": "code",
   "execution_count": 27,
   "metadata": {
    "collapsed": true
   },
   "outputs": [],
   "source": [
    "def get_diffgrid(data_current, data_fine):\n",
    "    \n",
    "    diffgrid = abs(data_current[-1,0]-data_fine[-1,0])\n",
    "    \n",
    "    return diffgrid  # l'erreur sur la trajectoire de data_current"
   ]
  },
  {
   "cell_type": "markdown",
   "metadata": {},
   "source": [
    "Calculons maintenant la trajectoire de la Lune pour plusieurs pas de temps différents, afin d'avoir plusieurs trajectoires dont nous pourrons comparer les erreurs. Nous prendrons des $dt$ dans une suite géométrique de raison $r$, le plus petit valant $h$."
   ]
  },
  {
   "cell_type": "code",
   "execution_count": 28,
   "metadata": {
    "collapsed": true
   },
   "outputs": [],
   "source": [
    "r = 2\n",
    "h = 500\n",
    "dt_values = numpy.array([h, r*h, r**2*h, r**3*h])\n",
    "\n",
    "# créons un vecteur stockant les matrices dataLT pour chaque dt\n",
    "dataLT_values = numpy.empty_like(dt_values, dtype=numpy.ndarray)  \n",
    "\n",
    "for i, dt in enumerate(dt_values):\n",
    "    \n",
    "    # initialisation\n",
    "    N2 = int(T/dt)+1\n",
    "    dataLT = numpy.empty((N2, 4))\n",
    "    dataLT[0] = uLT0\n",
    "    \n",
    "    #calcul de la trajectoire\n",
    "    for t in range(1,N2):\n",
    "        dataLT[t] = rk4(f, dataLT[t-1], dt)\n",
    "    \n",
    "    dataLT_values[i] = dataLT"
   ]
  },
  {
   "cell_type": "markdown",
   "metadata": {},
   "source": [
    "Calculons les erreurs par rapport à nos données les plus fines grâce à notre fonction get_diffgrid "
   ]
  },
  {
   "cell_type": "code",
   "execution_count": 29,
   "metadata": {
    "collapsed": true
   },
   "outputs": [],
   "source": [
    "diffgridLT = numpy.empty_like(dt_values, dtype=numpy.ndarray)\n",
    "\n",
    "for i in range(len(dt_values)):\n",
    "    \n",
    "    diffgridLT[i] = get_diffgrid(dataLT_values[i], dataLT_values[0])"
   ]
  },
  {
   "cell_type": "code",
   "execution_count": 30,
   "metadata": {},
   "outputs": [
    {
     "name": "stdout",
     "output_type": "stream",
     "text": [
      "[0.0 0.0019118189811706543 0.033196806907653809 0.55406266450881958]\n"
     ]
    }
   ],
   "source": [
    "print(diffgridLT)"
   ]
  },
  {
   "cell_type": "code",
   "execution_count": 31,
   "metadata": {
    "scrolled": true
   },
   "outputs": [
    {
     "data": {
      "image/png": "[encoded data removed]",
      "text/plain": [
       "<matplotlib.figure.Figure at 0x7f2bf021c048>"
      ]
     },
     "metadata": {},
     "output_type": "display_data"
    }
   ],
   "source": [
    "pyplot.figure(figsize=(6,6))\n",
    "pyplot.grid(True)\n",
    "pyplot.title(r'norme $L_1$ des différences des demi-grand axes')\n",
    "pyplot.xlabel(r'$dt$')\n",
    "pyplot.ylabel(r'erreurs')\n",
    "pyplot.xlim(1e-4,1)\n",
    "pyplot.ylim(1e-4,1)\n",
    "pyplot.axis('equal')\n",
    "pyplot.loglog(dt_values[1:], diffgridLT[1:], color='k', ls='--', lw=2, marker='o');"
   ]
  },
  {
   "cell_type": "markdown",
   "metadata": {},
   "source": [
    "Calculons enfin l'ordre de convergence à partir de ces erreurs. Soient $\\alpha$ l'ordre de convergence de la méthode et $dt_1$ et $dt_2 = r\\ dt_1$ deux pas de temps utilisés pour calculer la trajectoire. Si $e_1$ est l'erreur sur la trajectoire pour le pas $dt_1$ alors l'erreur pour le pas $dt_2$ est donnée par\n",
    "\n",
    "$$ e_2 = e_1\\ r^{\\alpha} $$\n",
    "\n",
    "Par conséquent, l'ordre $\\alpha$ est donné par \n",
    "\n",
    "$$ \\frac{\\ln e_2-\\ln e_1}{\\ln r} = \\frac{\\alpha \\ln r + \\ln e_1-\\ln e_1}{\\ln r} = \\alpha $$"
   ]
  },
  {
   "cell_type": "code",
   "execution_count": 32,
   "metadata": {},
   "outputs": [
    {
     "name": "stdout",
     "output_type": "stream",
     "text": [
      "[4.032452712632697 4.057369420135459]\n"
     ]
    }
   ],
   "source": [
    "alpha = numpy.empty_like(dt_values[:-2], dtype=numpy.ndarray)\n",
    "\n",
    "for i in range(1, len(dt_values)-1):\n",
    "    \n",
    "    alpha[i-1] = (log(get_diffgrid(dataLT_values[i+1], dataLT_values[i]))\\\n",
    "                  -log(get_diffgrid(dataLT_values[i], dataLT_values[i-1]))) / log(r)\n",
    "\n",
    "print(alpha)"
   ]
  },
  {
   "cell_type": "markdown",
   "metadata": {},
   "source": [
    "Remarque: Notre choix $h=500$ pour le pas de temps le plus fin n'est pas anodin. Nous devons prendre des valeurs de $dt$ assez grandes pour que le calcul de l'ordre donne une valeur fixe. Autrement, nous obtenons des valeurs qui semblent être aléatoires. Cela serait dû à des erreurs d'arrondi induites par la méthode numérique qui seraient non-négligeables devant les erreurs sur la trajectoire dues au choix de $dt$. Nous n'obtenons pas ce problème pour les méthodes d'Euler et de Runge-Kutta 2, probablement car ces méthodes convergent trop lentement pour que ce phénomène puisse être observé, il faudrait en effet des $dt$ plus petits pour que les erreurs d'arrondi soient de l'ordre des écarts entre les trajectoires des différents $dt$."
   ]
  },
  {
   "cell_type": "markdown",
   "metadata": {},
   "source": [
    "## Système Terre - Lune - astéroïde"
   ]
  },
  {
   "cell_type": "markdown",
   "metadata": {},
   "source": [
    "Nous ajoutons maintenant un astéroïde au centre de l'ellipse et analysons sa trajectoire."
   ]
  },
  {
   "cell_type": "markdown",
   "metadata": {},
   "source": [
    "### Calcul des trajectoires"
   ]
  },
  {
   "cell_type": "markdown",
   "metadata": {},
   "source": [
    "La nouvelle fonction \"d'évolution\" du système doit maintenant faire évoluer le vecteur $u_{AT} = (x_{AT},y_{AT},v_{x\\,AT},v_{y\\,AT})$ des coordonnées de l'astéroïde dans le repère de la Terre. Nous négligeons l'influence de l'astéroïde sur l'évolution du vecteur $u_{LT}$ de la Lune qui restera donc inchangée. "
   ]
  },
  {
   "cell_type": "markdown",
   "metadata": {},
   "source": [
    "Avec les notations introduites précédemment, nous pouvons écrire l'accélération de l'astéroïde dans le repère de la Terre comme \n",
    "\n",
    "$$ {\\bf \\ddot{r}_{AT}} = {\\bf \\ddot{r}_{A}} - {\\bf \\ddot{r}_{T}} = - G m_T\\dfrac{{\\bf r_{AT}}}{r_{AT}^3} - G m_L\\dfrac{{\\bf r_{AT} - r_{LT}}}{(r_{AT}-r_{LT})^3} - G m_A\\dfrac{{\\bf r_{AT}}}{r_{AT}^3} - G m_L\\dfrac{{\\bf r_{LT}}}{r_{LT}^3} $$ \n",
    "\n",
    "$$ {\\bf \\ddot{r}_{AT}} = - G (m_T+m_A)\\dfrac{{\\bf r_{AT}}}{r_{AT}^3} - G m_L\\dfrac{{\\bf r_{AT} - r_{LT}}}{(r_{AT}-r_{LT})^3} - G m_L\\dfrac{{\\bf r_{LT}}}{r_{LT}^3} $$ \n",
    "\n",
    "Nous négligeons dans nos calculs la masse $m_A$ de l'astéroïde pour obtenir\n",
    "\n",
    "$$ {\\bf \\ddot{r}_{AT}} \\approx - G m_T\\dfrac{{\\bf r_{AT}}}{r_{AT}^3} - G m_L\\dfrac{{\\bf r_{AT} - r_{LT}}}{(r_{AT}-r_{LT})^3} - G m_L\\dfrac{{\\bf r_{LT}}}{r_{LT}^3} $$ "
   ]
  },
  {
   "cell_type": "code",
   "execution_count": 33,
   "metadata": {
    "collapsed": true
   },
   "outputs": [],
   "source": [
    "def f_ast(uLT,uAT): \n",
    "    \n",
    "    out = numpy.empty((2,4))  \n",
    "    out[0] = numpy.array([uLT[2],\\\n",
    "                          uLT[3],\\\n",
    "                          -G*(mT+mL)*uLT[0]/(uLT[0]**2+uLT[1]**2)**(3/2),\\\n",
    "                          -G*(mT+mL)*uLT[1]/(uLT[0]**2+uLT[1]**2)**(3/2)])\n",
    "    out[1] = numpy.array([uAT[2],\\\n",
    "                          uAT[3],\\\n",
    "                          -G*mT*uAT[0]/(uAT[0]**2+uAT[1]**2)**(3/2) +\\\n",
    "                          -G*mL*uLT[0]/(uLT[0]**2+uLT[1]**2)**(3/2) +\\\n",
    "                          -G*mL*(uAT[0]-uLT[0])/((uAT[0]-uLT[0])**2+(uAT[1]-uLT[1])**2)**(3/2),\\\n",
    "                          -G*mT*uAT[1]/(uAT[0]**2+uAT[1]**2)**(3/2) + \\\n",
    "                          -G*mL*uLT[1]/(uLT[0]**2+uLT[1]**2)**(3/2) +\\\n",
    "                          -G*mL*(uAT[1]-uLT[1])/((uAT[0]-uLT[0])**2+(uAT[1]-uLT[1])**2)**(3/2)])\n",
    "    \n",
    "    return out"
   ]
  },
  {
   "cell_type": "markdown",
   "metadata": {},
   "source": [
    "Nous avons précédemment trouvé l'instant où la Lune est à l'apogée de sa trajectoire autour de la Terre. Nous pouvons donc entrer nos conditions initiales. Notons qu'il y a ambiguïté sur les conditions initiales données dans l'énoncé. Nous prenons la vitesse initiale de l'astéroïde comme étant $(v_x,v_y)=(500{\\rm m/s},500 {\\rm m/s})$ car nous avons fait démarrer la Lune dans les $x$ positifs (notre problème est équivalement à celui de l'énoncé à une symétrie d'axe $y$ près). Suivant que nous choisissons de faire démarrer la Lune dans les $x$ négatifs ou positifs, avec une vitesse négative ou positive selon $y$, ou encore de faire démarrer la Lune avec un angle quelconque par rapport à l'axe $x$, nous obtenons des résultats différents pour la trajectoire de l'astéroïde. "
   ]
  },
  {
   "cell_type": "code",
   "execution_count": 34,
   "metadata": {},
   "outputs": [
    {
     "name": "stdout",
     "output_type": "stream",
     "text": [
      "[-21063116.433034092, 1.4573335647583008e-05, 500, 500]\n"
     ]
    }
   ],
   "source": [
    "T = 3600*24*14\n",
    "dt = 1\n",
    "N = 1+int(T/dt)\n",
    "\n",
    "mT = 5.972*10**24\n",
    "mL = 7.348*10**22\n",
    "G = 6.67408*10**-11\n",
    "\n",
    "dataLT = numpy.empty((N,4)) \n",
    "dataAT = numpy.empty((N,4)) \n",
    "\n",
    "uAT0 = [Xcenter, Ycenter,500,500]\n",
    "\n",
    "dataLT[0] = uLT_apogee\n",
    "dataAT[0] = uAT0\n",
    "\n",
    "print(uAT0)"
   ]
  },
  {
   "cell_type": "markdown",
   "metadata": {},
   "source": [
    "Réécrivons la méthode de Runge-Kutta"
   ]
  },
  {
   "cell_type": "code",
   "execution_count": 35,
   "metadata": {
    "collapsed": true
   },
   "outputs": [],
   "source": [
    "def rk4_ast(f_ast,uLT,uAT,dt): \n",
    "    \n",
    "    k1 = f_ast(uLT,uAT)\n",
    "    k2 = f_ast(uLT+dt/2*k1[0,:],uAT+dt/2*k1[1,:])\n",
    "    k3 = f_ast(uLT+dt/2*k2[0,:],uAT+dt/2*k2[1,:])\n",
    "    k4 = f_ast(uLT+dt*k3[0,:],uAT+dt*k3[1,:])\n",
    "    \n",
    "    out = numpy.empty((2,4))\n",
    "    out[0] = uLT+dt/6*(k1[0,:]+2*k2[0,:]+2*k3[0,:]+k4[0,:])\n",
    "    out[1] = uAT+dt/6*(k1[1,:]+2*k2[1,:]+2*k3[1,:]+k4[1,:])\n",
    "    \n",
    "    return out"
   ]
  },
  {
   "cell_type": "markdown",
   "metadata": {},
   "source": [
    "Calculons la trajectoire"
   ]
  },
  {
   "cell_type": "code",
   "execution_count": 36,
   "metadata": {
    "collapsed": true
   },
   "outputs": [],
   "source": [
    "for t in range(1,N):\n",
    "    \n",
    "    temp = rk4_ast(f_ast,dataLT[t-1],dataAT[t-1],dt)\n",
    "    dataLT[t] = temp[0]\n",
    "    dataAT[t] = temp[1]"
   ]
  },
  {
   "cell_type": "markdown",
   "metadata": {},
   "source": [
    "Affichons la trajectoire"
   ]
  },
  {
   "cell_type": "code",
   "execution_count": 37,
   "metadata": {},
   "outputs": [
    {
     "data": {
      "image/png": "[encoded data removed]",
      "text/plain": [
       "<matplotlib.figure.Figure at 0x7f2bf00c41d0>"
      ]
     },
     "metadata": {},
     "output_type": "display_data"
    }
   ],
   "source": [
    "pyplot.figure(figsize=(10,10))\n",
    "pyplot.grid(True)\n",
    "pyplot.xlabel('$x$')\n",
    "pyplot.ylabel('$y$')\n",
    "pyplot.plot(dataLT[:,0],dataLT[:,1], 'b-', label='Lune')\n",
    "pyplot.plot(dataAT[:,0],dataAT[:,1], 'r-', label='Astéroïde')\n",
    "pyplot.title('Positions de la Lune et de l\\'astéroïde dans le repère de la Terre')\n",
    "pyplot.legend();\n",
    "pyplot.show();"
   ]
  },
  {
   "cell_type": "markdown",
   "metadata": {},
   "source": [
    "Nous remarquons que l'astéroïde passe très près de la Terre. Après quelques révolutions, l'astéroïde se fait éjecter du champ gravitationnel de la Terre. Cela est dû à sa faible vitesse initiale qui l'empêche de garder une bonne distance avec la Terre. En réalité, si nous prenons en compte le rayon de la Terre, nous verrions qu'il y a collision avec l'astéroïde. C'est ce que nous allons montrer dans la section suivante. Le passage près de la Terre est assez délicat pour le calcul numérique, nous en discutons dans une section dédiée à la fin de ce travail."
   ]
  },
  {
   "cell_type": "markdown",
   "metadata": {},
   "source": [
    "Nous pouvons afficher la position de l'astéroïde après 14 jours."
   ]
  },
  {
   "cell_type": "code",
   "execution_count": 38,
   "metadata": {},
   "outputs": [
    {
     "name": "stdout",
     "output_type": "stream",
     "text": [
      "Position après 14 jours sur l'axe x:  93512394529.9 m\n",
      "Position après 14 jours sur l'axe y:  -310117597066.0 m\n"
     ]
    }
   ],
   "source": [
    "print('Position après 14 jours sur l\\'axe x: ', dataAT[-1,0], 'm')\n",
    "print('Position après 14 jours sur l\\'axe y: ', dataAT[-1,1], 'm')"
   ]
  },
  {
   "cell_type": "markdown",
   "metadata": {},
   "source": [
    "Nous pouvons afficher la position de l'astéroïde après 1 heure."
   ]
  },
  {
   "cell_type": "code",
   "execution_count": 39,
   "metadata": {},
   "outputs": [
    {
     "name": "stdout",
     "output_type": "stream",
     "text": [
      "Position après 1 heure sur l'axe x:  -12235108.6937 m\n",
      "Position après 1 heure sur l'axe y:  1538177.97908 m\n"
     ]
    }
   ],
   "source": [
    "print('Position après 1 heure sur l\\'axe x: ', dataAT[3600,0], 'm')\n",
    "print('Position après 1 heure sur l\\'axe y: ', dataAT[3600,1], 'm')"
   ]
  },
  {
   "cell_type": "markdown",
   "metadata": {},
   "source": [
    "### Description de l'impact entre l'astéroïde et la Terre"
   ]
  },
  {
   "cell_type": "markdown",
   "metadata": {},
   "source": [
    "Nous commençons par encoder le rayon de la Terre"
   ]
  },
  {
   "cell_type": "code",
   "execution_count": 40,
   "metadata": {
    "collapsed": true
   },
   "outputs": [],
   "source": [
    "radiusT = 6370000"
   ]
  },
  {
   "cell_type": "markdown",
   "metadata": {},
   "source": [
    "Nous cherchons ensuite l'instant de collision"
   ]
  },
  {
   "cell_type": "code",
   "execution_count": 41,
   "metadata": {},
   "outputs": [
    {
     "name": "stdout",
     "output_type": "stream",
     "text": [
      "Temps écoulé avant l'impact = 4483 secondes\n"
     ]
    }
   ],
   "source": [
    "indexImpact = 0\n",
    "\n",
    "for t in range(1,N):\n",
    "    \n",
    "    if (dataAT[t,0]**2+dataAT[t,1]**2)<=radiusT**2:\n",
    "        \n",
    "        indexImpact = t\n",
    "        break\n",
    "        \n",
    "print('Temps écoulé avant l\\'impact =', indexImpact*dt, 'secondes')"
   ]
  },
  {
   "cell_type": "markdown",
   "metadata": {},
   "source": [
    "Nous trouvons le point d'impact"
   ]
  },
  {
   "cell_type": "code",
   "execution_count": 42,
   "metadata": {},
   "outputs": [
    {
     "name": "stdout",
     "output_type": "stream",
     "text": [
      "Point d'impact: x = -6186416.87076 m, y = 1489813.89135 m\n"
     ]
    }
   ],
   "source": [
    "print('Point d\\'impact: x =', dataAT[indexImpact,0], 'm, y =', dataAT[indexImpact,1], 'm')"
   ]
  },
  {
   "cell_type": "markdown",
   "metadata": {},
   "source": [
    "Nous trouvons la norme de la vitesse d'impact"
   ]
  },
  {
   "cell_type": "code",
   "execution_count": 43,
   "metadata": {},
   "outputs": [
    {
     "name": "stdout",
     "output_type": "stream",
     "text": [
      "Vitesse d'impact: v = 9376.987095828228 m/s\n"
     ]
    }
   ],
   "source": [
    "print('Vitesse d\\'impact: v =', sqrt(dataAT[indexImpact,2]**2+dataAT[indexImpact,3]**2), 'm/s')"
   ]
  },
  {
   "cell_type": "markdown",
   "metadata": {},
   "source": [
    "### Animation des trajectoires pour le système Terre-Lune-Astéroïde"
   ]
  },
  {
   "cell_type": "markdown",
   "metadata": {},
   "source": [
    "Nous animerons ici que la trajectoire de l'astéroïde, la trajectoire de la Lune restant la même par hypothèse. Nous animerons la trajectoire que sur une seule révolution."
   ]
  },
  {
   "cell_type": "code",
   "execution_count": 45,
   "metadata": {},
   "outputs": [
    {
     "data": {
      "image/png": "[encoded data removed]",
      "text/plain": [
       "<matplotlib.figure.Figure at 0x7f2bf002fda0>"
      ]
     },
     "metadata": {},
     "output_type": "display_data"
    }
   ],
   "source": [
    "fig = pyplot.figure(figsize=(10,10))\n",
    "ax = pyplot.axes(xlim=(-50000000,50000000), ylim=(-50000000,50000000))\n",
    "lineA = ax.plot([], [], color='r', ls='-', lw=2, label='Astéroïde')[0]\n",
    "pointT=[[0,0]]\n",
    "point = ax.plot(*zip(*pointT), marker='o', color='black', markersize=3, label='Terre')  # évidemment pas à l'échelle!\n",
    "pyplot.title('Animation de la trajectoire de l\\'astéroïde')\n",
    "pyplot.xlabel('$x$')\n",
    "pyplot.ylabel('$y$')\n",
    "pyplot.legend();"
   ]
  },
  {
   "cell_type": "code",
   "execution_count": 46,
   "metadata": {
    "collapsed": true
   },
   "outputs": [],
   "source": [
    "# ne met à jour \"lineA\" qu'une fois sur M\n",
    "M = 10\n",
    "T = 3600*4\n",
    "N = int(T/dt)\n",
    "\n",
    "dataATM = dataAT[0:N:M,:]"
   ]
  },
  {
   "cell_type": "code",
   "execution_count": 47,
   "metadata": {
    "collapsed": true
   },
   "outputs": [],
   "source": [
    "def trajectory_ast(i):\n",
    "    \n",
    "    lineA.set_data(dataATM[:i,0],dataATM[:i,1])"
   ]
  },
  {
   "cell_type": "code",
   "execution_count": 48,
   "metadata": {
    "collapsed": true
   },
   "outputs": [],
   "source": [
    "anim_ast = animation.FuncAnimation(fig, trajectory_ast,\n",
    "                               frames=len(dataATM)-1, interval=M)"
   ]
  },
  {
   "cell_type": "code",
   "execution_count": 49,
   "metadata": {},
   "outputs": [
    {
     "data": {
      "text/html": [
       "<video width=\"720\" height=\"720\" controls autoplay loop>\n",
       "  <source type=\"video/mp4\" src=\"data:video/mp4;base64,AAAAHGZ0eXBNNFYgAAACAGlzb21pc28yYXZjMQAAAAhmcmVlAAEcUm1kYXQAAAKsBgX//6jcRem9\n",
       "5tlIt5Ys2CDZI+7veDI2NCAtIGNvcmUgMTM4IHIyMCA0MGU3MmRhIC0gSC4yNjQvTVBFRy00IEFW\n",
       "QyBjb2RlYyAtIENvcHlsZWZ0IDIwMDMtMjAxMyAtIGh0dHA6Ly93d3cudmlkZW9sYW4ub3JnL3gy\n",
       "NjQuaHRtbCAtIG9wdGlvbnM6IGNhYmFjPTEgcmVmPTMgZGVibG9jaz0xOjA6MCBhbmFseXNlPTB4\n",
       "MzoweDExMyBtZT1oZXggc3VibWU9NyBwc3k9MSBwc3lfcmQ9MS4wMDowLjAwIG1peGVkX3JlZj0x\n",
       "IG1lX3JhbmdlPTE2IGNocm9tYV9tZT0xIHRyZWxsaXM9MSA4eDhkY3Q9MSBjcW09MCBkZWFkem9u\n",
       "ZT0yMSwxMSBmYXN0X3Bza2lwPTEgY2hyb21hX3FwX29mZnNldD0tMiB0aHJlYWRzPTYgbG9va2Fo\n",
       "ZWFkX3RocmVhZHM9MSBzbGljZWRfdGhyZWFkcz0wIG5yPTAgZGVjaW1hdGU9MSBpbnRlcmxhY2Vk\n",
       "PTAgYmx1cmF5X2NvbXBhdD0wIGNvbnN0cmFpbmVkX2ludHJhPTAgYmZyYW1lcz0zIGJfcHlyYW1p\n",
       "ZD0yIGJfYWRhcHQ9MSBiX2JpYXM9MCBkaXJlY3Q9MSB3ZWlnaHRiPTEgb3Blbl9nb3A9MCB3ZWln\n",
       "aHRwPTIga2V5aW50PTI1MCBrZXlpbnRfbWluPTI1IHNjZW5lY3V0PTQwIGludHJhX3JlZnJlc2g9\n",
       "MCByY19sb29rYWhlYWQ9NDAgcmM9Y3JmIG1idHJlZT0xIGNyZj0yMy4wIHFjb21wPTAuNjAgcXBt\n",
       "aW49MCBxcG1heD02OSBxcHN0ZXA9NCBpcF9yYXRpbz0xLjQwIGFxPTE6MS4wMACAAAAMfmWIhAAn\n",
       "//71sXwKasnzigzoMi7hlyTJrrYi4m0AwAAAAwAAAwAAAwHLsleSimFikdQAAAMALMAKWB4cjg9j\n",
       "M/4gIOOlfKwIk2UIUVIjJfdn14Ft/4CIipMXuI/bnFGCwIQsoSsQn4w2zELCQ+tGMcjGyReZ2cM+\n",
       "WzxrprJ9ht7rgWNi7XR5BIKFrJ5sDLWb5bAqB3x8ApnPGkB7eA4kXgLW8U48GNJjPe8ENZhA7MLF\n",
       "LHknq77Fb/zA6zfzbrZp08nyk+q3zYRlcH/WKbJcVnSaylZMkzOX/R95rn/k9TWLDhNP4QwJOerR\n",
       "4jikRSKfpVIByj1L4XuApGEpRvsfdP8mm9m5pi1/14FBzhZF696bXrTZxnv2kOli6NHg2O6dvNEV\n",
       "SpRK05abVxCYfg/s6sKbg/3aVYQXEfDNtLXWybTa5rIz3QH/3l0cQGsYELAHTrhosyCDqF7+RkrX\n",
       "T//UI6OlSsHqgEKbylSeG9VdPzs46A4QEfJIS4AYn59DnDoUgY4xP3q0T0nthAezUsuvFj2YCbNk\n",
       "I8v1Gny0848fLcysw0PXV6OXe8xG73yMOmy0FidZLdGc0HCt1KoaoKUdIX3HMEBkQk2QhrZPDJSm\n",
       "B4fPw6zn1xcgkKhwcjmv/SAQPUuApcZK+bR1DFi6ejn0P/Rq7KI3LlZlzy5c75dxENdHbcDYeO+n\n",
       "8U2UU2C2e6NUr2pHRqhXxc/P7QhmfZze+ETwRzoLUNk5JyClaUdPetEqLeigGk6jbN9ViTXo5Jyv\n",
       "nc8+53Z5wUb1fHCw3EYHdjoJ2cZaXIvMEY+cULjhaSWI/UwnUVpXPStKMqozIeMUbKkYPo/hqZMI\n",
       "gL5BSEFVVH0VOAXywshExs/pMqSeBbvjPwMDtVc+T2jBSwKUjHpL0xI/JgBzqUf7nX0hCJG0xkW0\n",
       "v3pb9dXUlw0iiIawlDuwIgiQSa0gy8n5Gwi1whQEFU3Irlye7/5zpOyIr26Qt4Yf714ykDs5BDP5\n",
       "4G2vpdqSPciYcHvbaEzKL+RvliLbc18fP5QMJVG+/xJIhhIpqrWRmfUQf/rGumfQ/Lph3qr1NvjR\n",
       "suuJmw5jPSauuWTOQzPM/3dYZ6yjMyP9+rmcTvTWiFYzsa9zB4ZcKViMwftaEKMY65ALK4ewU0rk\n",
       "cQYSsqSY9aekneZS3B41YC9YthFj5ZKcpGCbWsUbq2r/M/FO0ylzPcoK7iP3+Enmjlx6Jf/u5OtK\n",
       "/5BkvLrZz6C6cqitTOg2gVjM3RqPYqiEQIW0Eht6sCDQs6WbZ8px84i6q2IZ0MLUYcJAIWr/imFC\n",
       "qfw3xIatrxfFFu+l5qMirbzKIxwlWTSyS/1APzQqOmYpIzyfcgSfWhxAnJCe2HH6/2ds+vjFAxwr\n",
       "ZsKtWlGRKtLx23i0ZWpQtCB5Q0RAVzeUZteoGSqFHcQoHvoay+Pn8FlQuAUTfY612zdlPZJuMuzU\n",
       "lJJ81y8eMa6A9JCsHjEuc57oaUrxwffNoRnD/qwyu9eP4v0MVCPlD8udgeinjOieRhcFE2jI1frH\n",
       "JKt3xP30kbGRFUb1fM1+jgwsXiEt21h4W9smwucFfBaqerQKTrOhmpOBw1IYnnyVfENHZyMjgdzx\n",
       "U+/Rwq2V8neuFHcE9ZxvD0r14rEU9LDtOa+J6GYtX354nPTjZWkRc6wNna2OpKdOsFVADK27Pkvm\n",
       "TLWtwlV4iAAH2HtYHdScYwd9W2beECr0rOS5j/UJc/uQDwI42D4Pbj/NsEtOQTXjBkjkSjAho2XX\n",
       "al7wygPuswccoOfsW/+K8PpT4hva3hiM7YfVBtUxbVENg8d1zslU9j8FQSY30//Ycao7boM7PQpG\n",
       "IgfXlILrZ0M6UtI9fdXCEOEgyF1p88xvmAod5x50cGJiB45CEnvWQrTg7eUdRWhuLk1MdAVYunf2\n",
       "sKNu9MM4s0bO7JFFQDInnsZO3vBS3DaOh3a4sAGPP/cb1oBhcwmFX0dnvvmQdGx4Df8zQ26apgk/\n",
       "6lK5g0pqKLnENXTEnXzi4S2Fnpk+DnlIwfMNuPmcVo008SmZxh1fIRDt02itgiQDkbT7laKmQd2q\n",
       "Lqs+eQn4U/0uii9sKPYbWkXYfphfKbzX3fveSQ0+eAUcA00gLma9yXzu59Vi0vh+N8ZLfouEjkKP\n",
       "llzRzo/zsq85PSO+m+pbGNJgD9hsO8+8hxv/+wdy/7eWmoloTzlW7ChlefHyx/WmD6hQeJqCj8zW\n",
       "gA++OHGLJAecJklciLzs+RsqJqUovCFQ5SSDRhAtt75kUn1M3KIPUu7Gz8nCbrdYFdRq77wB6wFz\n",
       "OC+McAlJ8MO83UsyWSPUYDb+brQEFWVW+YGR4IZFtiV/IT3jCprGuciDfZ8B4yLkRlSgAYMTtFZ9\n",
       "uxALBfJplt3Np+Z7HlQ/xSSQPITCPgsUlTLq2h5+7fHuaymfNC1BJ0KBI+iviYeS8DL97Op6j0Kv\n",
       "DS2s/2abtQvwfbjOgGgvDcRYX6DfVrFwQPctfWQHm1tWW49VtP4RhZMtwpIXKNw3A/VAN9412Uf5\n",
       "X5VgneKThYt28wCpV91b7Qk2ZCVqOAVUFqYmYwMJRwjXwf+d70iwNOA/1y8od7ltz4/vEky/I8QO\n",
       "taJ0TLjY491l4eITunOzvB5Sv+mOgMKWgsuYR23dUjozcD3H5CwazynygqyALY2/ZLc6ES86bvWy\n",
       "k6x3jEI8kUzNFwL8QqHPQrZimCj6d8eYhkIncOAAAAwjviwTSBR52gjPbTlYkJ/Z8gjsZv5EaRAD\n",
       "BvNFoABTJWAv6MA9isCJ2QH1DkWQdOtW5hUXSAd9LTu3HSwlmoR4+1zF8z+KP9jb3KkZ+U/e1rla\n",
       "Ptv7x42Y1cNbG0UkXsAK/TSZEbo2RZwF4tYOzfZZ2F3gGn9FIxEEABQ6cwYAOhgABiQJgAAAAwAA\n",
       "AwAAPXl/uebOPuqIrl7bgShjQfBAZjTB/VnFgPkzTb7bUmVabuUXwLiymoZF2dINKP1q1vNy2MaK\n",
       "/wGghyMkfBiB4rEv0pf7j2sYiZxQxp1NEwRlPOq1pgfWI2fduPR+zt37/fns5n1kJNd/iqXNEb93\n",
       "/lLzuOgScUTyIuVtrdLbdl0uATbQOtMGdmRvD6c1+gxhMrXO+v8uzHhwktRtoEONeyqhF7xYBK1O\n",
       "IkABP6QFtIAulQIJb0AASbzWlg2IYKT0AZAn8M2AAc5Ti/GNaTFKoj5bRdxbfRXvKjTBa60lcTS8\n",
       "ZlVTt6J5VfWgQ8ewQJ8IH6/DiGNOa8RRtOmR4Db9Jnnw4MMB9JGKqqx5fMzWfzEtZRCkvc/gH3Yr\n",
       "33bzWq0wAHFuUTABa4QHPoBLogSnYIGfmvb8RAESmCLqOpRQDUTL5c2Oe2AQko5Z3C8ZX8TkBDX+\n",
       "eOHLERkZj/JysZfZ+Pcxmr7ktNfGFFCH4hoRA6ZI/kPmtTdJaksdG34WG4kEi6DHDsALEiq2+AAA\n",
       "AwACLZ0yIEzrj0yKjE27bszOcT3RlzaNPfy73KWarjjcbii9B6TE/tbvjJ7ePVVJ26nzs7rr6nT5\n",
       "8IzZ70Qr/ZrHfcssrmPKysQVArikouHtNNq+J2cb5flpdxjZn1khDSryLTZ07o2Rc13bi6Xj7BQz\n",
       "evwWRft+Yoxhe7DrNUWLYhDH84XQ6phRExjImd0ilcxnHuol8lmmQpG/IC3hq0fDFFUGN2rFImzx\n",
       "QJ3YwLkfoMcEhUKEWKvSmHNUitnVy0MLsN3dZk6F76FNAzY+nKh9rHIlX7GOU7d2ZbjW6dTLchdu\n",
       "Ifcf+a/gRGpFZRQalrUY+a/DiIgTkdktB1RH5p3tD9raknMKTk0rgciaD8La51KwISmAuxJdBvzh\n",
       "n+5/YmYPG9C2n7XbSZmZJ2E3pKmUhnbogeFT7y9Hi0dFThNhQoEP4D6UmK9V7iNbo10ezJQ/e+uZ\n",
       "LzDgsOkjTJZQ2esBfbtF2Nv9rUr0nRK1GUkUkL+3cFjlYoTFYEVGhyclOMb1EAx2+H6nginTD7PO\n",
       "xlQLGQoGhPTvL+5i0pXMwoIrJc9i8kVtZTcyQFWBjKEqqZPtaQV0tnVWkY65wMMSOboUF8/rWQWb\n",
       "tYhLmahrDvXimcGYfZLW88Q0yV1t2wNY9GTHjiHWRAte/KjwexffLPHVL9DpYjIndzd2C5aEkPlI\n",
       "FLIkpaenCZdCkMUkOGRl4MayFfFaCnoW//K+wABbyCA5DXNbNSiXdy/bkdztzC+6wmXcOWMJtF+y\n",
       "tjEnsL1d7J65U+oLse+88y6MEHSQUtaXEhl0Y6Vu3YKE6O0ZwKY57coqxP/Nw9kAEYeQAAADAAAZ\n",
       "UQAAAIhBmiRsQn/98QABr616AF/q04lrgfIYd6GUzVVx1g0+1CNkbvch+fCOKie6ghgL1y0131W9\n",
       "rOTFbNrii2BGddgbsBsAB/f650UF4V0jnzO5KF0fEIPmO9ME0QQBEztY1aliLVvv2YFir56sEwdw\n",
       "AyR79tgzT2wpgMYA+25RP/S3v8G4QTPqrASsAAAATkGeQniN/wAc+aehmp0Q5ey6ZAAAAwAAAwAA\n",
       "AwBO+TcO2CAywJ9CX++J3D9CHRkKgAy+Cd5CAPfZgnlkAISq+BC/cu5+o5N6O9HyQ/TGgQAAACcB\n",
       "nmF0Rf8AAlpI2TcLzFItE1JsLEAdcwMAAXIADNCoN6r8RR9gCggAAAAbAZ5jakX/AAADAAADAAAD\n",
       "AAAdBsPVzCoOCcpJAAAAN0GaaEmoQWiZTAhP//3xAAAcSBeoAJ+LCBrdU+AABhyycL47CtT+oAAD\n",
       "+8n0jReFlV3F1zYGO6EAAAA5QZ6GRREsbwADtdFvgWLECqBoAAADAAADAAAU5ijBNGWHHeveDx4W\n",
       "BdpqCwSefABox0gIBtz8tGLbAAAAGwGepXRF/wAAAwAAAwAAAwAAHPJuW+as8E5SQQAAABUBnqdq\n",
       "Rf8AAAMAAAMAAAMAAAMAAwIAAAAeQZqsSahBbJlMCE///fEAAAMAAAMAAAMAAAMAACLgAAAAN0Ge\n",
       "ykUVLG8AA7XRb4FixAqgaAAAAwAAAwAAFOYowTRlhx3r3g8eFgXanw18BYFSJwAFyQuS4ysAAAAW\n",
       "AZ7pdEX/AAADAAADAJ7v60AAAAMCDgAAABUBnutqRf8AAAMAAAMAAAMAAAMAAwIAAAAuQZrwSahB\n",
       "bJlMCE///fEAAAMAAAMAB2fBYQCknU72n5y3BWvtIYPWwAAAAwCLgQAAADdBnw5FFSxvAAO10W+B\n",
       "YsQKoGgAAAMAAAMAABTmKME0ZYcd694PHhYF2p8LUBYHwQ4AFyceOSh5AAAAFgGfLXRF/wAAAwAA\n",
       "AwCe7+tAAAADAg8AAAAVAZ8vakX/AAADAAADAAADAAADAAMCAAAAKUGbNEmoQWyZTAhP//3xAAAD\n",
       "AAADAAdnv24ChmOHAO/bCPXgAAADAHrAAAAANUGfUkUVLG8AA7XRb4FixAqgaAAAAwAAAwAAFOYo\n",
       "wTRlhx3r3g8eFgXaagsEnnwACnS1FVMXAAAAFQGfcXRF/wAAAwAAAwAAAwAAAwADAgAAABUBn3Nq\n",
       "Rf8AAAMAAAMAAAMAAAMAAwIAAAAsQZt4SahBbJlMCE///fEAAAMAAAMAB2fBYQCkmaFk0zcniyqA\n",
       "t8AAAAMARcEAAAA1QZ+WRRUsbwADtdFvgWLECqBoAAADAAADAAAU5ijBNGWHHeveDx4WBdpqCwSe\n",
       "fAAKdLUVUxYAAAAVAZ+1dEX/AAADAAADAAADAAADAAMDAAAAFQGft2pF/wAAAwAAAwAAAwAAAwAD\n",
       "AwAAACtBm7xJqEFsmUwIT//98QAAAwAAAwAHZ8FhAKSZGOns4xktmC2+AAADAAIuAAAANUGf2kUV\n",
       "LG8AA7XRb4FixAqgaAAAAwAAAwAAFOYowTRlhx3r3g8eFgXaagsEnnwACnS1FVMXAAAAFQGf+XRF\n",
       "/wAAAwAAAwAAAwAAAwADAgAAABUBn/tqRf8AAAMAAAMAAAMAAAMAAwMAAAArQZvgSahBbJlMCE//\n",
       "/fEAAAMAAAMAB2fBYQCkmeKQG5sE6X5J8AAAAwARcQAAADVBnh5FFSxvAAO10W+BYsQKoGgAAAMA\n",
       "AAMAABTmKME0ZYcd694PHhYF2moLBJ58AAp0tRVTFgAAABUBnj10Rf8AAAMAAAMAAAMAAAMAAwIA\n",
       "AAAVAZ4/akX/AAADAAADAAADAAADAAMDAAAAK0GaJEmoQWyZTAhP//3xAAADAAADAAdnv24Chmdx\n",
       "aRT2JNDxNEAAAAMAz4AAAAA2QZ5CRRUsbwADtdFvgWLECqBoAAADAAADAAAU5ijBNGWHHeveDx4W\n",
       "Bdqd8wWDAHeABclE1UMrAAAAFQGeYXRF/wAAAwAAAwAAAwAAAwADAgAAABUBnmNqRf8AAAMAAAMA\n",
       "AAMAAAMAAwMAAAAoQZpoSahBbJlMCE///fEAAAMAAAMAB2e/bgKGA8fFS2nfAQAAAwACiwAAADVB\n",
       "noZFFSxvAAO10W+BYsQKoGgAAAMAAAMAABTmKME0ZYcd694PHhYF2moLBJ58AAp0tRVTFwAAABUB\n",
       "nqV0Rf8AAAMAAAMAAAMAAAMAAwMAAAAVAZ6nakX/AAADAAADAAADAAADAAMCAAAALEGarEmoQWyZ\n",
       "TAhP//3xAAADAAADAAdnwWEAbd8u4yrajAFUizLYAAADABFwAAAANUGeykUVLG8AA7XRb4FixAqg\n",
       "aAAAAwAAAwAAFOYowTRlhx3r3g8eFgXaagsEnnwACnS1FVMXAAAAFQGe6XRF/wAAAwAAAwAAAwAA\n",
       "AwADAgAAABUBnutqRf8AAAMAAAMAAAMAAAMAAwIAAAAnQZrwSahBbJlMCE///fEAAAMAAAMAB2fC\n",
       "TgBauRF3RJ0CAAADAAUVAAAANUGfDkUVLG8AA7XRb4FixAqgaAAAAwAAAwAAFOYowTRlhx3r3g8e\n",
       "FgXaagsEnnwACnS1FVMXAAAAFQGfLXRF/wAAAwAAAwAAAwAAAwADAwAAABUBny9qRf8AAAMAAAMA\n",
       "AAMAAAMAAwIAAAAyQZs0SahBbJlMCE///fEAAAMAAAMAB2fBYQBrVEllKs+3FqnqMUHMpXR9UwAA\n",
       "AwAA44AAAAA4QZ9SRRUsbwADtdFvgWLECqBoAAADAAADAAAU5ijBNGWHHeveDx4WDqGUiGGg7D6+\n",
       "wADb8c4MVMEAAAAVAZ9xdEX/AAADAAADAAADAAADAAMCAAAAFwGfc2pF/wAAAwAAAwCdFUUnAAAD\n",
       "AAg4AAAAKkGbeEmoQWyZTAhP//3xAAADAAADAAdnv24BmQPzj/r4YcEAEAAAAwAooQAAADpBn5ZF\n",
       "FSxvAAO10W+BYsQKoGgAAAMAAAMAABTmKME0ZYcd694PHhYOozHwUYDOACF5oRgAHHGSw8rYAAAA\n",
       "FgGftXRF/wAAAwAAAwCe7+tAAAADAg8AAAAWAZ+3akX/AAADAAADAJ9nRgAAAwABxwAAACxBm7xJ\n",
       "qEFsmUwIT//98QAAAwAAAwAHZ8B4AGJEDYyg6DZWIYMevAAAAwAPWAAAADlBn9pFFSxvAAO10W+B\n",
       "YsQKoGgAAAMAAAMAABTmKME0ZYcd694PHhYOpEbgoo/QaPFNVABM8Wz8K2EAAAAWAZ/5dEX/AAAD\n",
       "AAADAfssGAAAAwACLgAAABYBn/tqRf8AAAMAAAMB/G7cAAADAAHBAAAAL0Gb4EmoQWyZTAhP//3x\n",
       "AAADAAADAAdnwWEAauRXxJwIaOLrt/HeaTfAAAADAEXBAAAAOUGeHkUVLG8AA7XRb4FixAqgaAAA\n",
       "AwAAAwAAFOYowTRlhx3r3g8eFg6kRuCiZ4DR4pqoAJni2fhWwAAAABUBnj10Rf8AAAMAAAMAAAMA\n",
       "AAMAAwIAAAAXAZ4/akX/AAADAAADAJ+dW4AAAAMAuIEAAAAuQZokSahBbJlMCE///fEAAAMAAAMA\n",
       "B2aF2gCtxFiUBl0TIK2w79HrwAAAAwD1gAAAADZBnkJFFSxvAAO10W+BYsQKoGgAAAMAAAMAABTm\n",
       "KME0ZYcd694PHhYF2p3zBYMAd4AFyUTVQysAAAAWAZ5hdEX/AAADAAADAJ84xOAAAAMBBwAAABUB\n",
       "nmNqRf8AAAMAAAMAnw9WgAAABB0AAAAxQZpoSahBbJlMCE///fEAAAMAAAMAB2fBvkAv4oWVi+UG\n",
       "G462WIe2CsCdPgAAAwACLwAAADdBnoZFFSxvAAO10W+BYsQKoGgAAAMAAAMAABTmKME0ZYcd694P\n",
       "HhYF2p7xcEj3BDgAXJx45KHhAAAAFQGepXRF/wAAAwAAAwAAAwAAAwADAwAAABYBnqdqRf8AAAMA\n",
       "AAMAn2dGAAADAAHHAAAALkGarEmoQWyZTAhP//3xAAADAAADAAdnwk4Agkh8nbOtOtrEUmdhNEAA\n",
       "AAMAz4AAAAA1QZ7KRRUsbwADtdFvgWLECqBoAAADAAADAAAU5ijBNGWHHeveDx4WBdpqCwSefAAK\n",
       "dLUVUxcAAAAXAZ7pdEX/AAADAAADAJ8xs7tAAAADAg4AAAAVAZ7rakX/AAADAAADAAADAAADAAMC\n",
       "AAAAKkGa8EmoQWyZTAhP//3xAAADAAADAAdnv24Cd+zTEF7NnZdrlYAAAAMBFwAAADVBnw5FFSxv\n",
       "AAO10W+BYsQKoGgAAAMAAAMAABTmKME0ZYcd694PHhYF2moLBJ58AAp0tRVTFwAAABUBny10Rf8A\n",
       "AAMAAAMAAAMAAAMAAwMAAAAVAZ8vakX/AAADAAADAAADAAADAAMCAAAAIEGbNEmoQWyZTAhP//3x\n",
       "AAADAAADAAc6ZoAgAAADAFNAAAAANUGfUkUVLG8AA7XRb4FixAqgaAAAAwAAAwAAFOYowTRlhx3r\n",
       "3g8eFgXaagsEnnwACnS1FVMXAAAAFQGfcXRF/wAAAwAAAwAAAwAAAwADAgAAABUBn3NqRf8AAAMA\n",
       "AAMAnw9WgAAABBwAAAAoQZt4SahBbJlMCE///fEAAAMAAAMABz0R3jYC2/NWL17JgAAAAwB0wQAA\n",
       "ADdBn5ZFFSxvAAO10W+BYsQKoGgAAAMAAAMAABTmKME0ZYcd694PHhYOSZUXoCP7ghwALk48clDw\n",
       "AAAAFQGftXRF/wAAAwAAAwAAAwAAAwADAwAAABUBn7dqRf8AAAMAAAMAAAMAAAMAAwMAAAAgQZu8\n",
       "SahBbJlMCE///fEAAAMAAAMABzqY2tgAAAMAEfAAAAA1QZ/aRRUsbwADtdFvgWLECqBoAAADAAAD\n",
       "AAAU5ijBNGWHHeveDx4WBdpqCwSefAAKdLUVUxcAAAAVAZ/5dEX/AAADAAADAAADAAADAAMCAAAA\n",
       "FQGf+2pF/wAAAwAAAwAAAwAAAwADAwAAACxBm+BJqEFsmUwIT//98QAAAwAAAwAHOpWnoBMpRP5e\n",
       "HTc/lu1JgAAAAwB0wQAAADVBnh5FFSxvAAO10W+BYsQKoGgAAAMAAAMAABTmKME0ZYcd694PHhYF\n",
       "2moLBJ58AAp0tRVTFgAAABUBnj10Rf8AAAMAAAMAAAMAAAMAAwIAAAAVAZ4/akX/AAADAAADAAAD\n",
       "AAADAAMDAAAAL0GaJEmoQWyZTAhP//3xAAADAAADAAc6laegEzZaby467JZW6X6Yff1MAAADAAOm\n",
       "AAAANUGeQkUVLG8AA7XRb4FixAqgaAAAAwAAAwAAFOYowTRlhx3r3g8eFgXaagsEnnwACnS1FVMX\n",
       "AAAAFQGeYXRF/wAAAwAAAwAAAwAAAwADAgAAABUBnmNqRf8AAAMAAAMAAAMAAAMAAwMAAAAoQZpo\n",
       "SahBbJlMCE///fEAAAMAAAMABzvjqYBizhBcWX/m+AAAAwAI+QAAADVBnoZFFSxvAAO10W+BYsQK\n",
       "oGgAAAMAAAMAABTmKME0ZYcd694PHhYF2moLBJ58AAp0tRVTFwAAABUBnqV0Rf8AAAMAAAMAAAMA\n",
       "AAMAAwMAAAAVAZ6nakX/AAADAAADAAADAAADAAMCAAAAJkGarEmoQWyZTAhP//3xAAADAAADAAc6\n",
       "mjsAupy5RpgIAAADABTQAAAANUGeykUVLG8AA7XRb4FixAqgaAAAAwAAAwAAFOYowTRlhx3r3g8e\n",
       "FgXaagsEnnwACnS1FVMXAAAAFQGe6XRF/wAAAwAAAwAAAwAAAwADAgAAABUBnutqRf8AAAMAAAMA\n",
       "AAMAAAMAAwIAAAApQZrwSahBbJlMCE///fEAAAMAAAMABzqVboAqMaE33NcH83wAAAMABH0AAAA1\n",
       "QZ8ORRUsbwADtdFvgWLECqBoAAADAAADAAAU5ijBNGWHHeveDx4WBdpqCwSefAAKdLUVUxcAAAAW\n",
       "AZ8tdEX/AAADAAADAJ7v60AAAAMCDwAAABUBny9qRf8AAAMAAAMAAAMAAAMAAwIAAAAuQZs0SahB\n",
       "bJlMCE///fEAAAMAAAMABzvkJkAZ5L2sup6m7kUPLRwrYAAAAwBHwAAAADVBn1JFFSxvAAO10W+B\n",
       "YsQKoGgAAAMAAAMAABTmKME0ZYcd694PHhYF2moLBJ58AAp0tRVTFwAAABUBn3F0Rf8AAAMAAAMA\n",
       "AAMAAAMAAwIAAAAVAZ9zakX/AAADAAADAAADAAADAAMCAAAAKUGbeEmoQWyZTAhP//3xAAADAAAD\n",
       "AAc6lcVACpAFUI18hBPgAAADACPhAAAANUGflkUVLG8AA7XRb4FixAqgaAAAAwAAAwAAFOYowTRl\n",
       "hx3r3g8eFgXaagsEnnwACnS1FVMWAAAAFQGftXRF/wAAAwAAAwAAAwAAAwADAwAAABUBn7dqRf8A\n",
       "AAMAAAMAAAMAAAMAAwMAAAAzQZu8SahBbJlMCE///fEAAAMAAAMABzqVp6AM5eQhGF0X4foA9Eje\n",
       "VCKWkA+AAAADAI+AAAAANUGf2kUVLG8AA7XRb4FixAqgaAAAAwAAAwAAFOYowTRlhx3r3g8eFgXa\n",
       "agsEnnwACnS1FVMXAAAAFgGf+XRF/wAAAwAAAwCe7+tAAAADAg4AAAAVAZ/7akX/AAADAAADAAAD\n",
       "AAADAAMDAAAAJ0Gb4EmoQWyZTAhP//3xAAADAAADAAc6lW6AHmNF/dOyYAAAAwAdMQAAADVBnh5F\n",
       "FSxvAAO10W+BYsQKoGgAAAMAAAMAABTmKME0ZYcd694PHhYF2moLBJ58AAp0tRVTFgAAABUBnj10\n",
       "Rf8AAAMAAAMAAAMAAAMAAwIAAAAVAZ4/akX/AAADAAADAAADAAADAAMDAAAAKkGaJEmoQWyZTAhP\n",
       "//3xAAADAAADAAc6lW6AHmzENQmhmQRAAIAAAAMBTQAAADVBnkJFFSxvAAO10W+BYsQKoGgAAAMA\n",
       "AAMAABTmKME0ZYcd694PHhYF2moLBJ58AAp0tRVTFwAAABUBnmF0Rf8AAAMAAAMAAAMAAAMAAwIA\n",
       "AAAVAZ5jakX/AAADAAADAAADAAADAAMDAAAALUGaaEmoQWyZTAhP//3xAAADAAADAAc6laegCdfv\n",
       "KNhxViMshNzgEAAAAwApoQAAADVBnoZFFSxvAAO10W+BYsQKoGgAAAMAAAMAABTmKME0ZYcd694P\n",
       "HhYF2moLBJ58AAp0tRVTFwAAABUBnqV0Rf8AAAMAAAMAAAMAAAMAAwMAAAAVAZ6nakX/AAADAAAD\n",
       "AAADAAADAAMCAAAAKEGarEmoQWyZTAhP//3xAAADAAADAAc746mATC539RqBZMAAAAMAOmAAAAA1\n",
       "QZ7KRRUsbwADtdFvgWLECqBoAAADAAADAAAU5ijBNGWHHeveDx4WBdpqCwSefAAKdLUVUxcAAAAV\n",
       "AZ7pdEX/AAADAAADAAADAAADAAMCAAAAFQGe62pF/wAAAwAAAwAAAwAAAwADAgAAAC5BmvBJqEFs\n",
       "mUwIT//98QAAAwAAAwAHO+QmQBOxdMRz0M8NJa4zAyAQAAADACmhAAAAN0GfDkUVLG8AA7XRb4Fi\n",
       "xAqgaAAAAwAAAwAAFOYowTRlhx3r3g8eFgXannbAx/XZMAEWyuOah4EAAAAVAZ8tdEX/AAADAAAD\n",
       "AAADAAADAAMDAAAAFQGfL2pF/wAAAwAAAwAAAwAAAwADAgAAACpBmzRJqEFsmUwIT//98QAAAwAA\n",
       "AwAHO+RhgAu3FShqB4elGtgAAAMAEfAAAAA1QZ9SRRUsbwADtdFvgWLECqBoAAADAAADAAAU5ijB\n",
       "NGWHHeveDx4WBdpqCwSefAAKdLUVUxcAAAAVAZ9xdEX/AAADAAADAAADAAADAAMCAAAAFQGfc2pF\n",
       "/wAAAwAAAwAAAwAAAwADAgAAACxBm3hJqEFsmUwIT//98QAAAwAAAwAHO+QmQA5R+87irAVmtqiq\n",
       "TAAAAwADpwAAADdBn5ZFFSxvAAO10W+BYsQKoGgAAAMAAAMAABTmKME0ZYcd694PHhYF2p52wMf1\n",
       "2TABFsrjmoeAAAAAFQGftXRF/wAAAwAAAwAAAwAAAwADAwAAABUBn7dqRf8AAAMAAAMAAAMAAAMA\n",
       "AwMAAAAsQZu8SahBbJlMCE///fEAAAMAAAMABzvkJkAOUfunANs5sE4wSYAAAAMAdMAAAAA1QZ/a\n",
       "RRUsbwADtdFvgWLECqBoAAADAAADAAAU5ijBNGWHHeveDx4WBdpqCwSefAAKdLUVUxcAAAAVAZ/5\n",
       "dEX/AAADAAADAAADAAADAAMCAAAAFQGf+2pF/wAAAwAAAwAAAwAAAwADAwAAACtBm+BJqEFsmUwI\n",
       "T//98QAAAwAAAwAHO+QmQA5RnkmpIbH5hjAIAAADABTRAAAAN0GeHkUVLG8AA7XRb4FixAqgaAAA\n",
       "AwAAAwAAFOYowTRlhx3r3g8eFgXannbAx/XZMAEWyuOah4AAAAAVAZ49dEX/AAADAAADAAADAAAD\n",
       "AAMCAAAAFQGeP2pF/wAAAwAAAwAAAwAAAwADAwAAADBBmiRJqEFsmUwIT//98QAAAwAAAwAHO+Qm\n",
       "QA5Xw9Hanr8pIcDPMvs3TrYAAAMABHwAAAA1QZ5CRRUsbwADtdFvgWLECqBoAAADAAADAAAU5ijB\n",
       "NGWHHeveDx4WBdpqCwSefAAKdLUVUxcAAAAVAZ5hdEX/AAADAAADAAADAAADAAMCAAAAFQGeY2pF\n",
       "/wAAAwAAAwAAAwAAAwADAwAAACBBmmhJqEFsmUwIT//98QAAAwAAAwAHP1hKTAAAAwADpwAAADVB\n",
       "noZFFSxvAAO10W+BYsQKoGgAAAMAAAMAABTmKME0ZYcd694PHhYF2moLBJ58AAp0tRVTFwAAABUB\n",
       "nqV0Rf8AAAMAAAMAAAMAAAMAAwMAAAAVAZ6nakX/AAADAAADAAADAAADAAMCAAAAKEGarEmoQWyZ\n",
       "TAhP//3xAAADAAADAAc/Wnj0APgeuwYE4AQAAAMACmgAAAA3QZ7KRRUsbwADtdFvgWLECqBoAAAD\n",
       "AAADAAAU5ijBNGWHHeveDx4WBdqedsDH9dkwARbK45qHgQAAABUBnul0Rf8AAAMAAAMAAAMAAAMA\n",
       "AwIAAAAVAZ7rakX/AAADAAADAAADAAADAAMCAAAAJ0Ga8EmoQWyZTAhP//3xAAADAAADAAdBHOhZ\n",
       "KgAoMyHYEAAAAwApoQAAADVBnw5FFSxvAAO10W+BYsQKoGgAAAMAAAMAABTmKME0ZYcd694PHhYF\n",
       "2moLBJ58AAp0tRVTFwAAABUBny10Rf8AAAMAAAMAAAMAAAMAAwMAAAAVAZ8vakX/AAADAAADAAAD\n",
       "AAADAAMCAAAALEGbNEmoQWyZTAhP//3xAAADAAADAAc/WY2EANr4BZHWbtidDUWwAAADACPgAAAA\n",
       "NUGfUkUVLG8AA7XRb4FixAqgaAAAAwAAAwAAFOYowTRlhx3r3g8eFgXaagsEnnwACnS1FVMXAAAA\n",
       "FQGfcXRF/wAAAwAAAwAAAwAAAwADAgAAABUBn3NqRf8AAAMAAAMAAAMAAAMAAwIAAAAhQZt4SahB\n",
       "bJlMCE///fEAAAMAAAMABz9aOkBAAAADAKaBAAAANUGflkUVLG8AA7XRb4FixAqgaAAAAwAAAwAA\n",
       "FOYowTRlhx3r3g8eFgXaagsEnnwACnS1FVMWAAAAFQGftXRF/wAAAwAAAwAAAwAAAwADAwAAABUB\n",
       "n7dqRf8AAAMAAAMAAAMAAAMAAwMAAAAoQZu8SahBbJlMCE///fEAAAMAAAMABz9ZhbgDXbrQlH4A\n",
       "QAAAAwCmgAAAADVBn9pFFSxvAAO10W+BYsQKoGgAAAMAAAMAABTmKME0ZYcd694PHhYF2moLBJ58\n",
       "AAp0tRVTFwAAABUBn/l0Rf8AAAMAAAMAAAMAAAMAAwIAAAAVAZ/7akX/AAADAAADAAADAAADAAMD\n",
       "AAAAK0Gb4EmoQWyZTAhP//3xAAADAAADAAc/WY75AHMRnTDUqYd90mAAAAMAHTEAAAA3QZ4eRRUs\n",
       "bwADtdFvgWLECqBoAAADAAADAAAU5ijBNGWHHeveDx4WBdqcVWBG9wQ4AFyceOSh4AAAABUBnj10\n",
       "Rf8AAAMAAAMAAAMAAAMAAwIAAAAXAZ4/akX/AAADAAADAJsrWtAAAAMAh4EAAAAqQZokSahBbJlM\n",
       "CE///fEAAAMAAAMABz9ZhbgDYheB4Dcb78GWAAADAAVcAAAAN0GeQkUVLG8AA7XRb4FixAqgaAAA\n",
       "AwAAAwAAFOYowTRlhx3r3g8eFgXanGM0Dmp1XAANvamkZW0AAAAXAZ5hdEX/AAADAAADAJkGTHgA\n",
       "AAMAC9gAAAAVAZ5jakX/AAADAAADAAADAAADAAMDAAAAKkGaaEmoQWyZTAhP//3xAAADAAADAAc/\n",
       "OF7gBWGD4HFjdodgEAAAAwApoQAAADVBnoZFFSxvAAO10W+BYsQKoGgAAAMAAAMAABTmKME0ZYcd\n",
       "694PHhYF2moLBJ58AAp0tRVTFwAAABUBnqV0Rf8AAAMAAAMAAAMAAAMAAwMAAAAVAZ6nakX/AAAD\n",
       "AAADAAADAAADAAMCAAAAMUGarEmoQWyZTAhP//3xAAADAAADABc6PXCL8r7plvL4EE6ZN2Li+TTd\n",
       "8pAAAAMADCgAAAA6QZ7KRRUsbwADtdFvgWLECqBoAAADAAADAAAU5ijBNGWHHeveDx4WDjuK0Krb\n",
       "TsFXONqAAXtyFKjMgQAAABUBnul0Rf8AAAMAAAMAAAMAAAMAAwIAAAAVAZ7rakX/AAADAAADAJ8P\n",
       "VoAAAAQcAAAAM0Ga8EmoQWyZTAhP//3xAAADAAADABc45EQRLj8Fldo9fbXUYXyWkX/rLhp5lwAA\n",
       "AwACFwAAADhBnw5FFSxvAAO10W+BYsQKoGgAAAMAAAMAABTmKME0ZYcd694PHhYF2pyycLAjeK04\n",
       "ABVy7WWmVQAAABcBny10Rf8AAAMAAAMB76YDQAAAAwCpgQAAABUBny9qRf8AAAMAAAMAAAMAAAMA\n",
       "AwIAAAAvQZs0SahBbJlMCE///fEAAAMAAAMAFzjmh4FR493k2coYpZCsr/ZWTlIAAAMAAYUAAAA3\n",
       "QZ9SRRUsbwADtdFvgWLECqBoAAADAAADAAAU5ijBNGWHHeveDx4WDjuKzmB81nAoAJ4U1nplQQAA\n",
       "ABUBn3F0Rf8AAAMAAAMAAAMAAAMAAwIAAAAVAZ9zakX/AAADAAADAAADAAADAAMCAAAAOEGbeEmo\n",
       "QWyZTAhP//3xAAADAAADABc45dYFCjyZixSnOJ8O0cEr2MfIAYk4YrxvSArgAAADAELBAAAANUGf\n",
       "lkUVLG8AA7XRb4FixAqgaAAAAwAAAwAAFOYowTRlhx3r3g8eFgXaagsEnnwACnS1FVMWAAAAFQGf\n",
       "tXRF/wAAAwAAAwAAAwAAAwADAwAAABUBn7dqRf8AAAMAAAMAAAMAAAMAAwMAAAA1QZu8SahBbJlM\n",
       "CE///fEAAAMAAAMAFzZYGBQopYnWD6l3TpMN1RQ0OcMx+LpnkpAAAAMADCgAAAA1QZ/aRRUsbwAD\n",
       "tdFvgWLECqBoAAADAAADAAAU5ijBNGWHHeveDx4WBdpqCwSefAAKdLUVUxcAAAAVAZ/5dEX/AAAD\n",
       "AAADAAADAAADAAMCAAAAFQGf+2pF/wAAAwAAAwAAAwAAAwADAwAAADxBm+BJqEFsmUwIT//98QAA\n",
       "AwAAAwAXSrdUHAkkm4z8GwsfMoroS5YYgAIo2xVmI6WaO0lc8fKAAAADAssAAAA5QZ4eRRUsbwAD\n",
       "tdFvgWLECqBoAAADAAADAAAU5ijBNGWHHeveDx4WDfGVqG6XdgeMfuOABVx2K5nNAAAAFgGePXRF\n",
       "/wAAAwAAAwCakitAAAADAh4AAAAXAZ4/akX/AAADAAADAeZuxKtgAAADAUkAAAAiQZokSahBbJlM\n",
       "CE///fEAAAMAAAMAFqhjwCo+1wAAAwADqgAAADVBnkJFFSxvAAO10W+BYsQKoGgAAAMAAAMAABTm\n",
       "KME0ZYcd694PHhYF2moLBJ58AAp0tRVTFwAAABUBnmF0Rf8AAAMAAAMAAAMAAAMAAwIAAAAVAZ5j\n",
       "akX/AAADAAADAAADAAADAAMDAAAAJEGaaEmoQWyZTAhP//3xAAADAAADABavc9FiXr+ca4AAAAMB\n",
       "1QAAADdBnoZFFSxvAAO10W+BYsQKoGgAAAMAAAMAABTmKME0ZYcd694PHhYN8l+SygbegCyABW0n\n",
       "DmofAAAAFQGepXRF/wAAAwAAAwAAAwAAAwADAwAAABUBnqdqRf8AAAMAAAMAAAMAAAMAAwIAAAAy\n",
       "QZqsSahBbJlMCE///fEAAAMAAAMAFq93IimAKG8zK7DuLmVUtu4E+7pKPS4AAAMAApIAAAA1QZ7K\n",
       "RRUsbwADtdFvgWLECqBoAAADAAADAAAU5ijBNGWHHeveDx4WBdpqCwSefAAKdLUVUxcAAAAVAZ7p\n",
       "dEX/AAADAAADAAADAAADAAMCAAAAFQGe62pF/wAAAwAAAwAAAwAAAwADAgAAACJBmvBJqEFsmUwI\n",
       "T//98QAAAwAAAwAWqGPDu7pAAAADADHhAAAANUGfDkUVLG8AA7XRb4FixAqgaAAAAwAAAwAAFOYo\n",
       "wTRlhx3r3g8eFgXaagsEnnwACnS1FVMXAAAAFQGfLXRF/wAAAwAAAwAAAwAAAwADAwAAABUBny9q\n",
       "Rf8AAAMAAAMAAAMAAAMAAwIAAAA0QZs0SahBbJlMCE///fEAAAMAAAMAFq3zHCYAozvLRNu4diEz\n",
       "SxjNy+tk1fbS4AAAAwApIAAAADVBn1JFFSxvAAO10W+BYsQKoGgAAAMAAAMAABTmKME0ZYcd694P\n",
       "HhYF2moLBJ58AAp0tRVTFwAAABUBn3F0Rf8AAAMAAAMAAAMAAAMAAwIAAAAVAZ9zakX/AAADAAAD\n",
       "AAADAAADAAMCAAAAKEGbeEmoQWyZTAhP//3xAAADAAADABaoZkABOmo710L3BK4AAAMAApMAAAA1\n",
       "QZ+WRRUsbwADtdFvgWLECqBoAAADAAADAAAU5ijBNGWHHeveDx4WBdpqCwSefAAKdLUVUxYAAAAV\n",
       "AZ+1dEX/AAADAAADAAADAAADAAMDAAAAFQGft2pF/wAAAwAAAwAAAwAAAwADAwAAABxBm7lJqEFs\n",
       "mUwIv/pYAAADAAADAAADAAADAAGrAAAOpWWIggAM//727L4FNf2f0JcRLMXaSnA+KqSAgHc0wAAA\n",
       "AwAAAwAAAwAqRzn05uPi9otAAAADAtoArwIxF/hdbEK4AIadFMr4tjzVMnhcdGWfPpy/OXteFmGW\n",
       "Gf6v0Jxn+XzmCgbPkFyTbSSUU03AALsjgaM0KvwwXMUFTDCMU2EMlxZkkEO6MFvCYkSEXrl3m8tj\n",
       "o+ZGLFkMueP7AFZ3dKx9eTIynmIjhPM6Y344LiUvkxMJmxlKYP4+iOtd1J/JbD+r67I26omOkvbp\n",
       "9ZQzZ2BnDi4k+hEWBC3gDZAmcnlFw8CVx8uIavSvfhgD2n7sQaJs/Z8JCbOgZuJQUIh/RzP1tE5I\n",
       "pK8FHyviT5h4hTQ/45DVt42GT4B1P+znUMEx/J67j7S1BdM4m9Y/bcGUk5llTXP7T0gXk+xyf+1p\n",
       "Rxn//UjkT2YsqpPRHwPk0IejP+AtRQuslx0gBUdwK7w5e62s8KUWqndfxGGLvr0h9ZucVGwnA1qs\n",
       "h9frClpDPsBgh0TFOfQwiQDWXyFem96yCBUGI5SpcAxBFX/pOSFVihtZ68NRSCDCn5BtOFJfuzC1\n",
       "OnFUqeZBSVKy6AkvUbFvPAsdbMts4uODISK1MfsLh9N34R9AyDq2r5bsG//FiIyAllQNbPv/lqRG\n",
       "YnjQDrajiNnxrTqLqcPoV8rnJ3VwylJtrCziClxvfREelfdM3L2RCeyYegni+K7afHMBYpfpnKD0\n",
       "HRtgzgdpbUghxta+KsHyNQTmZHcdFYKK+PlUufGyQhEOKGpRnaVg3iSYkkP7L8MGm8gx0Rx72kCp\n",
       "F2NTCQ+8r0PuiRgUdEDpOS57/33mE6L+rtwXOCc8eaquvohsXxQtWzAVwcH5S3RapI6fVruiQNL/\n",
       "4KY+19oO7ZZX9Ei5G6QZZNKe0OY7xzG2nnHvY71zIkBUHY9X+hSx95TUHHFhSXH3JBqbhpbv/eVa\n",
       "mU3t38Jkx9rAuyUEUi9ok7w5B1tT7xAcoZ18K/flDI2FWw6I3DUO7cjKBzJCm3CugupHwohrWDy0\n",
       "dlySHkU4HDi8dBmV+TEyiKdi07fal+gwlB0fqG82HnJrGZazwKKVpa9sx4p0IVRpKiIVnMjtA856\n",
       "zfIRKsueVL2gTiYL41v0feaOlcbxbAYjHrxBlTjDYHSDT09Jq/0V3SLeJI0KclpLaiQ5oXt1yA5O\n",
       "U+NBbbMHQOI1UYLz+EVg21Ic5MUXaS1tw7FxrWVxEUjqF/uq/2XZhvXeupBrqwKcvh6NXCpBXL6u\n",
       "HJ9YgT3pOvzT9EdjndzR3EUbxRS6xPTLdP3kEdCIG6lxohiKg4utL50l7yMAR4QfY/0BfHbPmVaR\n",
       "M5e1tAtr9O7K9UeYgbP8pYKMDprUv9MHG2P4r15rSrpsXZ5Hl/WoZZpQj+hGEi4+DlIfznYFi+91\n",
       "e7OptGn2ItOf9Q6nL1sqGbP5zq1qReEc39zxwCIJ5hG/hdqR05fEb0EsvCfb7iFyw3WavB4YlWVz\n",
       "H73Zc8ucJIZCvfMWjZ6LoA6E2AmdjPe2994T+9E821L0UgUlynGg3aSbxUibm/DXQqXowZ3bsd7g\n",
       "sI3hM6XxrphnH+q3VrgWU/ftv843mVBPwKw18OZvei/JqYzn9v0b+mUkUEcaZBzGuEhXbK7+zR7M\n",
       "1e/kvkcFuB/UTKc/BYLg9hfsHu+8uXGdEY/xpH2IUkzs2BDLtQWpsW1VwUUtDiLVIqgtRentGwjz\n",
       "RHMTK+ZIrpOkYD0xecJgoBV6NEd+H/TXYI8rWuMoRGxkT4OVbbB5kZkdz6jQ7cq27wDp2zEjKCoK\n",
       "WCbIbWjsJPQ32MNuQaSd5AmFfNyl44xiAMw1wufl8d4Gr4fY982MDL7znBziYDcgX8PMhF8OSq5t\n",
       "iFnbcgUM3GOL7wJrYrx/At70vIv8PgOfnmGT9ZkGL2U0U+xHbF7Pr85mboHkT/j89bYZwS35FxB0\n",
       "DSFZZKgS7WYk9c2NQ4B9DtqcVoJWBif1vkaS9HsrscAcnLgt2KYO1T2VuOs90Y5whU7AEA12GX9h\n",
       "WfuRqd4r/59M1Vigj4c2al2uX3JybYvJYaUlGH+Hl1JQldznRJCmNJfvulu4arrX/UF4BycxPLod\n",
       "7kEP4WNpZ5Ixue54sP+ItYJs5R40/TX4aboFLvZ2jlSrjPd/LvHN7pwGQuGTM2I+HJABblA0forG\n",
       "TK77xLBobR9iviFCujsvijkaMAPxT+iMG42j744SNB+DzUF6SEaZJOVQ5AQg1VZxtJOPq50wyWMI\n",
       "2TksDA0qBvhkrslISd19Yw7RGWHrRlbzNkbJsu8siYUVSlNBvQbkGL7KCIgY2W0je4oIii6mbmEm\n",
       "WQieuuLvHM8y7onBCd+sdoikcHcU2cSJn+8OqJZr5JSxOMQemZbShOw3fnKWlH4vZB7Xb/eS0reB\n",
       "8mDRwA8OTIl1ysipdh8Bgf/4LeTSwuRapeEUExg9PZ350XMP4JDSTTt/Y6gbVjrSRU3XTooiyX6Y\n",
       "DEqvVdVNF4hOee/M6RuOKoav2AVM8YOnJP9lSaeyZoqIPU8iD9qH/iFL0lpekcGNJXF31n4NsIVy\n",
       "TRRtgyeJDayyERicAw+I8e3NxYPpLzCMLJw+4vi5KnTaNy0pgzJjkzrJjIcLGs1Ce/9YUqQw/Eku\n",
       "RoxsMeTuBBJKo+AAAAMAZ1URPhaIfWIo7d1vlsHZ/K9RvhoVxylrZyXT+fKHtZGuHVafJdoQSqxA\n",
       "INVxA3/hSc06Kh6yMm4b8MOqDGQQq5zRAumHMdykzemWhGm5mGQAGDzcPd075GvQ9nEsiJrALtiq\n",
       "SKluBX2YYXW9/XDH8Cz/DI7RYPv6+aZcTQKPytPPW0PIRU2Sw9zIDs+Eihol4nckJeVVBFrWjK16\n",
       "HTQ7eTY6hoPPQm3IYv8TLgo3WHmmEeyb5iZjxuetTNwd497PkI/F19nsdiXs3UmOcNOxQQQbfcGr\n",
       "xEf/PlFO+4zRAPdgX6ye3n8BPRWwEk8vpGxO7zJljZ1vWLktaBLLsELp4mKXZe7PA5qAKMzM/4TL\n",
       "JjTUET5dOyMD5tX7J7Dz00AEcwSi0XPUdMQBWEHeplMTd+8zdThxADMBHfMQKeNJ1gUIrNeCfmt5\n",
       "As6GpAUGcfaEqumauSr9VXMqHYaB6/KItn5P3PfaO7T3D8+txCMOeYrZ5yG66jfHXH54KYPWndXd\n",
       "0uV1Gfu8kgKRqsNi/QKpVrOUN4uAyN7l6q/UsRObxpfJOgAZYLIYAF9MTUDPsMwCRlvMDulc4ITI\n",
       "fLGvg5lIZvaH3HZcUktuyGmI0ki0+AF7U0hQSIm20+Ig2/JGurypH3ZYpjtVyfpKFWcUMTuWz1Y5\n",
       "ZOpSxWmkI7SIb856Qv+DkEa99F1W7JgvNubIlu1YjkRqTsOEE20iSbMiL5SY3SykN6ueY3n2WHIc\n",
       "dz756mNYZx+9qVqq1Sevjm/oPO95mPmOWjc5Fna+eLevC7XyyKUHWQIOF0ERN6nutn6SSkv5JXk2\n",
       "vPiDJc04vThd5172PXbWk5xEMx0szxT+kVDwG7YwfhkNz6ZrS91rNnVDe0EJnE69ST0ZByIZTiQ0\n",
       "ReXw2T26ZPan0caROmHOiBpKoo/NM1Q/hDzF6/2n/BfNMyndIOEGBD5Qy1ohl4+SSPpA+3VAIZ2O\n",
       "NtsYr/IX7Rc7UoSO/OvrSSz8BIATQuFBQ/JDWXU5Ii0CFM69MYhObynxQ5OY1qOL18x//PP18ObU\n",
       "Ten6607Wh3kZkmopkG4TiPY8E8r2DNej9AMqk91Wo4hGW+gY+UZNF9HJw8+EzwOPuVAy8ToDXZCW\n",
       "qU9UkzXDV7yvkqd3HAK20WKqP8EL7pSv5WWA768PfQHO4FFNm/AFo3Mm+Y5xSBucRcEE60OU+x2O\n",
       "pAUFpBqC5O+ihhs7QR3uo1wfLWEEN9fJnTOnE1DOUmGD9OQMdPATdTJ9ANHm/avVIFMLwAHHczAA\n",
       "e+Q5BN/HUEA+mQSwqfBZmnSziRYg492GOZUnqT8KaavDJ5ZoA88K8rQzHhBZDiEOlCfggsQZ8RMD\n",
       "kWeSLBsPjo0XZtoSlnIvW9gNLbMBlPEE3a56KFoyHtZq/G70zws/EQZonBAA+IT4AKerrA+IUvdA\n",
       "ZRw+fiRVKVzSuprf3f2H22hXTd7pgdPAmK5Qq0SZd7T7HLOiG+5iffXnFlrHkhPyaalSPotzt0JL\n",
       "1VPumBObIWotuKe1I12fM0WBGejwZE2KMkc3VVIrbMMzTkKSANp1nz+oRwf4V8MEaVk4EPT1j3Sy\n",
       "EI6B62rCPY/grA7edT3JuL6liTZFWCM0wY7N3ESNHRSc7dDMSOYztRsYcAYRSpUGGg+7wYJWGHV/\n",
       "ZPa7/A/yKyCxdj14b7NVpPGEPGflfQxdgu+nWe62JdBJWFV692fnhwzXzsig1L0n6Gt2x+l4IF/g\n",
       "hptBCPMKvZHBZGEQZqS7DI24sdC4pcLia51QAAtG4IK2iW3Ls2FyjGpyUvGLjHM4aMoXUUUuFIyz\n",
       "Jx1mKT/ibt+yiGOt/ERIQEJ6ic+6NEGEFuVvinj8sdCHNtnGchpBi4U/F/6s4KI6lGA2aRazYBBd\n",
       "GULRIRoOkCApY3qJd05YapTV46bCJkq15s/eXREwptkhzluJgm/fDg/90vnR6c9GeyIejBXPikEJ\n",
       "DzhOETziBjAo1EzfjY5EfHaQP4787WIbd/jofm9J01+dTTDF2c3jjkZeYn1wQzwu0EvUNB/2qGGA\n",
       "kTmugyvwq0fn2YmlpxO4Trzd2vrrR6yJ672V5sgTQlOC8XbD2CgCLx+wfU7yGYwDvHDUJDXzpNb1\n",
       "XNxM/lQvUby+4+ajqJQXrdv/+1NwjeDkj+iLUHJ93QNcQNu9yDUyF/Tue/xhFxxCC1U2pfOcsDe1\n",
       "K9gOCVAsycb/w1RKBNc+kqmmRyquQhjCQsY5AJM9Fh+LrBWA6ADJg+PB7w0NWGrM7lbFoszs+kC8\n",
       "N2fZIa6/p783WFFMUBXplv0nB7PFfqaURPqsQDUYLpfCIPFMEIDgZ3AfitY74gnAOw3z8ihTq0pR\n",
       "ghsgE5AAAAMAAAS1AAAAXUGaJGxCf/3xAAADApHsRZGaM30QCMp1VE1k5fDAFJOo8fBvrl+8lDF9\n",
       "4TbIi/8GIRzoX23ie1ejrtYW08nsQdmOQ25xh22cPg2MUeG9EosQOUnky8dJ6lppJWsCTgAAACpB\n",
       "nkJ4jf8AACxF++sL1xHn4ojpPb3RWGzyBYUmwjCFouHIzIaaneKAFbEAAAAnAZ5hdEX/AAA3Lztg\n",
       "IFCwZlTJ+PsaGnNSczNbWZSiNnlJDYUEgx7rAAAAFwGeY2pF/wAAAwAAAwAARVc7YMTgAA7oAAAA\n",
       "MEGaaEmoQWiZTAhP//3xAAADAAADABaobAfIBIxaqPIru+THuzD/zRRUC4AAAAMB1QAAABtBnoZF\n",
       "ESxvAAADAAADAAADAAADAYgY7eRhWkkAAAAVAZ6ldEX/AAADAAADAAADAAADAAMCAAAAFQGep2pF\n",
       "/wAAAwAAAwAAAwAAAwADAwAAAClBmqxJqEFsmUwIT//98QAAAwAAAwAWrfMaugCfnjOS+Vo1wAAA\n",
       "AwBSQAAAABtBnspFFSxvAAADAAADAAADAAADAYgY7eRhWkkAAAAVAZ7pdEX/AAADAAADAAADAAAD\n",
       "AAMDAAAAFQGe62pF/wAAAwAAAwAAAwAAAwADAwAAAC1BmvBJqEFsmUwIT//98QAAAwAAAwAWtc7F\n",
       "ACdE+XchA5AZWiicWUgAAAMABj0AAAAbQZ8ORRUsbwAAAwAAAwAAAwAAAwGIGO3kYVpIAAAAFQGf\n",
       "LXRF/wAAAwAAAwAAAwAAAwADAgAAABUBny9qRf8AAAMAAAMAAAMAAAMAAwMAAAAzQZs0SahBbJlM\n",
       "CE///fEAAAMAAAMAFsAuzzPCAJ904aA+5Vg/G5OXJFxsxpG3AAADAAImAAAAG0GfUkUVLG8AAAMA\n",
       "AAMAAAMAAAMBiBjt5GFaSAAAABUBn3F0Rf8AAAMAAAMAAAMAAAMAAwMAAAAVAZ9zakX/AAADAAAD\n",
       "AAADAAADAAMDAAAAJEGbeEmoQWyZTAhP//3xAAADAAADABa0dtJiAUzjLgAAAwACkwAAABtBn5ZF\n",
       "FSxvAAADAAADAAADAAADAYgY7eRhWkgAAAAVAZ+1dEX/AAADAAADAAADAAADAAMCAAAAFQGft2pF\n",
       "/wAAAwAAAwAAAwAAAwADAwAAACZBm7xJqEFsmUwIT//98QAAAwAAAwAWtrtXwBlSZPDL4AAAAwAL\n",
       "uAAAABtBn9pFFSxvAAADAAADAAADAAADAYgY7eRhWkgAAAAVAZ/5dEX/AAADAAADAAADAAADAAMD\n",
       "AAAAFQGf+2pF/wAAAwAAAwAAAwAAAwADAgAAACRBm+BJqEFsmUwIT//98QAAAwAAAwAWs7YMUAWR\n",
       "9cwAAAMAAS8AAAAbQZ4eRRUsbwAAAwAAAwAAAwAAAwGIGO3kYVpJAAAAFQGePXRF/wAAAwAAAwAA\n",
       "AwAAAwADAgAAABUBnj9qRf8AAAMAAAMAAAMAAAMAAwMAAAAnQZokSahBbJlMCE///fEAAAMAAAMA\n",
       "Fraym8AF6oS2ZHb4AAADAALuAAAAG0GeQkUVLG8AAAMAAAMBfpIHQAAAeoBsMupbyQAAABUBnmF0\n",
       "Rf8AAAMAAAMAAAMAAAMAAwMAAAAWAZ5jakX/AAADAAADAdtu3AAAAwAB4wAAAC5BmmhJqEFsmUwI\n",
       "T//98QAAAwAAAwAWtrvOEAUAdKTQheH/5EI7kafAAAADABdwAAAAG0GehkUVLG8AAAMAAAMAAAMA\n",
       "AAMBiBjt5GFaSQAAABUBnqV0Rf8AAAMAAAMAAAMAAAMAAwIAAAAVAZ6nakX/AAADAAADAAADAAAD\n",
       "AAMDAAAAIkGarEmoQWyZTAhP//3xAAADAAADABa2uv3jFKuAAAADAdUAAAAbQZ7KRRUsbwAAAwAA\n",
       "AwAAAwAAAwGIGO3kYVpJAAAAFQGe6XRF/wAAAwAAAwAAAwAAAwADAwAAABUBnutqRf8AAAMAAAMA\n",
       "AAMAAAMAAwMAAAArQZrwSahBbJlMCE///fEAAAMAAAMAFrayqggBz8C2ckTYe1z/bAAAAwAC7wAA\n",
       "ABtBnw5FFSxvAAADAAADAAADAAADAYgY7eRhWkgAAAAVAZ8tdEX/AAADAAADAAADAAADAAMCAAAA\n",
       "FQGfL2pF/wAAAwAAAwAAAwAAAwADAwAAACNBmzRJqEFsmUwIT//98QAAAwAAAwAWtrr5NizmiAAA\n",
       "AwAIeAAAABxBn1JFFSxvAAADAAADAX3hVQAAAwFvVcaLcW8gAAAAFgGfcXRF/wAAAwAAAwHaLBgA\n",
       "AAMAAl8AAAAVAZ9zakX/AAADAAADAAADAAADAAMDAAAALUGbeEmoQWyZTAhP//3xAAADAAADABa2\n",
       "srFwAg43i0olJqMMmyuLYAAAAwAXcQAAABtBn5ZFFSxvAAADAAADAYe5g9AAAB3dk/C3FvIAAAAV\n",
       "AZ+1dEX/AAADAAADAAADAAADAAMCAAAAFwGft2pF/wAAAwAAAwHcEInAAAADALKBAAAALUGbvEmo\n",
       "QWyZTAhP//3xAAADAAADABa2znPIBqLz9YvNW1DRfCVysAAAAwALuAAAABxBn9pFFSxvAAADAAAD\n",
       "AYffIP/AAAAFL89cZpk+AAAAFgGf+XRF/wAAAwAAAwHbva0AAAMAAssAAAAVAZ/7akX/AAADAAAD\n",
       "AAADAAADAAMCAAAAJUGb4EmoQWyZTAhP//3xAAADAAADABYYKwcBm65yk3wAAAMAAYEAAAAdQZ4e\n",
       "RRUsbwAAAwAAAwF+9ozQ6eAAAE2HGrE5tpEAAAAVAZ49dEX/AAADAAADAAADAAADAAMCAAAAFQGe\n",
       "P2pF/wAAAwAAAwAAAwAAAwADAwAAACNBmiRJqEFsmUwIT//98QAAAwAAAwAWrR+9qhXrwAAAAwBT\n",
       "QAAAABtBnkJFFSxvAAADAAADAAADAAADAYgY7eRhWkkAAAAVAZ5hdEX/AAADAAADAAADAAADAAMD\n",
       "AAAAFQGeY2pF/wAAAwAAAwAAAwAAAwADAgAAAChBmmhJqEFsmUwIT//98QAAAwAAAwAWoczczgcA\n",
       "N5Crb9eAAAADAKaAAAAAG0GehkUVLG8AAAMAAAMAAAMAAAMBiBjt5GFaSQAAABUBnqV0Rf8AAAMA\n",
       "AAMAAAMAAAMAAwIAAAAVAZ6nakX/AAADAAADAAADAAADAAMDAAAALEGarEmoQWyZTAhP//3xAAAD\n",
       "AAADABYSk0QlYQBsgBpC4QlANRgEAAADAANuAAAAG0GeykUVLG8AAAMAAAMAAAMAAAMBiBjt5GFa\n",
       "SQAAABUBnul0Rf8AAAMAAAMAAAMAAAMAAwMAAAAVAZ7rakX/AAADAAADAAADAAADAAMDAAAAJ0Ga\n",
       "8EmoQWyZTAhP//3xAAADAAADABYlqKl0AbIen3R3wAAAAwAYEQAAABtBnw5FFSxvAAADAAADAAAD\n",
       "AAADAYgY7eRhWkgAAAAVAZ8tdEX/AAADAAADAAADAAADAAMCAAAAFQGfL2pF/wAAAwAAAwAAAwAA\n",
       "AwADAwAAAClBmzRJqEFsmUwIT//98QAAAwAAAwAWGC6T5AJN9DYdJ3q4AgAAAwABtwAAABtBn1JF\n",
       "FSxvAAADAAADAAADAAADAYgY7eRhWkgAAAAVAZ9xdEX/AAADAAADAAADAAADAAMDAAAAFQGfc2pF\n",
       "/wAAAwAAAwAAAwAAAwADAwAAAClBm3hJqEFsmUwIT//98QAAAwAAAwAWJaipdAE9fJuB8/YBAAAD\n",
       "AADbgQAAABtBn5ZFFSxvAAADAAADAHbv+HQAABi/x1D6lvIAAAAVAZ+1dEX/AAADAAADAAADAAAD\n",
       "AAMCAAAAFQGft2pF/wAAAwAAAwAAAwAAAwADAwAAAClBm7xJqEFsmUwIT//98QAAAwAAAwAWGC6c\n",
       "4AQWKAX9PaftgAAAAwBgQAAAABtBn9pFFSxvAAADAAADAHb+0OgAADF3iR31LeQAAAAVAZ/5dEX/\n",
       "AAADAAADAAADAAADAAMDAAAAFQGf+2pF/wAAAwAAAwAAAwAAAwADAgAAACFBm+BJqEFsmUwIT//9\n",
       "8QAAAwAAAwAWJqzXWwAAAwAAwIEAAAAbQZ4eRRUsbwAAAwAAAwF9uYPQAAAejZPwtxbzAAAAFQGe\n",
       "PXRF/wAAAwAAAwAAAwAAAwADAgAAABUBnj9qRf8AAAMAAAMAAAMAAAMAAwMAAAAoQZokSahBbJlM\n",
       "CE///fEAAAMAAAMAFiOy5gAF3UFIj8FMmAAAAwACbgAAABtBnkJFFSxvAAADAAADAAADAAADAYgY\n",
       "7eRhWkkAAAAVAZ5hdEX/AAADAAADAAADAAADAAMDAAAAFQGeY2pF/wAAAwAAAwAAAwAAAwADAgAA\n",
       "AClBmmhJqEFsmUwIT//98QAAAwAAAwAWJq0DYA1W3ABAbtGbAAADAADAgAAAABtBnoZFFSxvAAAD\n",
       "AAADAAADAAADAYgY7eRhWkkAAAAVAZ6ldEX/AAADAAADAAADAAADAAMCAAAAFQGep2pF/wAAAwAA\n",
       "AwAAAwAAAwADAwAAACpBmqxJqEFsmUwIT//98QAAAwAAAwAWpOXQQLwBxzHgFr2S/14AAAMAApoA\n",
       "AAAfQZ7KRRUsbwAAAwAAAwF9LgfaKt4AAAMB5fw6YrItgQAAABUBnul0Rf8AAAMAAAMAAAMAAAMA\n",
       "AwMAAAAXAZ7rakX/AAADAAADAdEQicAAAAMAtoEAAAArQZrwSahBbJlMCE///fEAAAMAAAMAFqYb\n",
       "0EVcAI9KkdHP6YsMsAAAAwANuQAAABtBnw5FFSxvAAADAAADAXT/IdAAAB9Px1D6lvIAAAAWAZ8t\n",
       "dEX/AAADAAADAc8sGAAAAwACbgAAABUBny9qRf8AAAMAAAMAAAMAAAMAAwMAAAA3QZs0SahBbJlM\n",
       "CE///fEAAAMAAAMAFiatQDwBPbhDqf8wY6vezrSMWTI/jhqQmlgYUAAAAwAR8AAAAB1Bn1JFFSxv\n",
       "AAADAAADAXQwcSPpgAABzupoU6LeQAAAABYBn3F0Rf8AAAMAAAMAlpIrQAAAAwIvAAAAFgGfc2pF\n",
       "/wAAAwAAAwHZqYOAAAADAWUAAAAvQZt4SahBbJlMCE///fEAAAMAAAMAFiatQXUAtYuq6KSwAH+0\n",
       "ESduwywAAAMAA4MAAAAbQZ+WRRUsbwAAAwAAAwF0x4dAAAB9QGwy6lvIAAAAFQGftXRF/wAAAwAA\n",
       "AwAAAwAAAwADAgAAABgBn7dqRf8AAAMAAAMB2nv9ToAAAAMAwIEAAAAhQZu8SahBbJlMCE///fEA\n",
       "AAMAAAMAFY3VzWYAAAMAAKCAAAAAHEGf2kUVLG8AAAMAAAMBdL0DgAAACXJxfg6lvIAAAAAVAZ/5\n",
       "dEX/AAADAAADAAADAAADAAMDAAAAFQGf+2pF/wAAAwAAAwAAAwAAAwADAgAAACdBm+BJqEFsmUwI\n",
       "T//98QAAAwAAAwAViAnDoA2QBZxIJbAAAAMADFkAAAAbQZ4eRRUsbwAAAwAAAwAAAwAAAwGIGO3k\n",
       "YVpJAAAAFQGePXRF/wAAAwAAAwAAAwAAAwADAgAAABUBnj9qRf8AAAMAAAMAAAMAAAMAAwMAAAAn\n",
       "QZokSahBbJlMCE///fEAAAMAAAMAFYgHKAByfQqWfP62AAADAAGLAAAAG0GeQkUVLG8AAAMAAAMA\n",
       "AAMAAAMBiBjt5GFaSQAAABUBnmF0Rf8AAAMAAAMAAAMAAAMAAwMAAAAVAZ5jakX/AAADAAADAAAD\n",
       "AAADAAMCAAAAIUGaaEmoQWyZTAhP//3xAAADAAADABWVkjxAgAAAAwBwQAAAABxBnoZFFSxvAAAD\n",
       "AAADAXS3pVQAAAXkvXqJaRuBAAAAFQGepXRF/wAAAwAAAwAAAwAAAwADAgAAABUBnqdqRf8AAAMA\n",
       "AAMAAAMAAAMAAwMAAAAoQZqsSahBbJlMCE///fEAAAMAAAMAFY3WM3QA5sMS+zhWwAAAAwAxYAAA\n",
       "ABtBnspFFSxvAAADAAADAXQHCqgAAAvCsfhbi3kAAAAVAZ7pdEX/AAADAAADAAADAAADAAMDAAAA\n",
       "FQGe62pF/wAAAwAAAwAAAwAAAwADAwAAACpBmvBJqEFsmUwIT//98QAAAwAAAwAVgc5jtJ/iAOUF\n",
       "mp5QZrYAAAMAAYsAAAAbQZ8ORRUsbwAAAwAAAwAAAwAAAwGIGO3kYVpIAAAAFQGfLXRF/wAAAwAA\n",
       "AwAAAwAAAwADAgAAABYBny9qRf8AAAMAAAMBzqmDgAAAAwFtAAAAJEGbNEmoQWyZTAhP//3xAAAD\n",
       "AAADABWN1f2AAiJmBAAAAwADggAAABxBn1JFFSxvAAADAAADAXS3pVQAAAXkvXqJaRuAAAAAFQGf\n",
       "cXRF/wAAAwAAAwAAAwAAAwADAwAAABUBn3NqRf8AAAMAAAMAAAMAAAMAAwMAAAAoQZt4SahBbJlM\n",
       "CE///fEAAAMAAAMAFYJSue5hLyPBJXG3SAAAAwAGjQAAABtBn5ZFFSxvAAADAAADAAADAAADAYgY\n",
       "7eRhWkgAAAAVAZ+1dEX/AAADAAADAAADAAADAAMCAAAAFQGft2pF/wAAAwAAAwAAAwAAAwADAwAA\n",
       "ACFBm7xJqEFsmUwIT//98QAAAwAAAwAVlqUrHwAAAwAAYsAAAAAbQZ/aRRUsbwAAAwAAAwF0Bwqo\n",
       "AAALwrH4W4t5AAAAFQGf+XRF/wAAAwAAAwAAAwAAAwADAwAAABUBn/tqRf8AAAMAAAMAAAMAAAMA\n",
       "AwIAAAApQZvgSahBbJlMCE///fEAAAMAAAMAFYHLTlVgBFSe5RiJrWwAAAMAAxcAAAAbQZ4eRRUs\n",
       "bwAAAwAAAwFrx4dAAACApxIy6lvJAAAAFQGePXRF/wAAAwAAAwAAAwAAAwADAgAAABUBnj9qRf8A\n",
       "AAMAAAMAAAMAAAMAAwMAAAAiQZokSahBbJlMCE///fEAAAMAAAMAFZalFfWMrAAAAwADFgAAABxB\n",
       "nkJFFSxvAAADAAADAXQG4vl4AAAHw1Q122uhAAAAFgGeYXRF/wAAAwAAAwHELBgAAAMAAoMAAAAV\n",
       "AZ5jakX/AAADAAADAAADAAADAAMCAAAAKkGaaEmoQWyZTAhP//3xAAADAAADABWTsQWACNkr2qQi\n",
       "AiR5WAAAAwAGLAAAABxBnoZFFSxvAAADAAADAXQsvZl4AAAHwuPaaGRbAAAAGAGepXRF/wAAAwAA\n",
       "AwHP8KTFgAAAAwCFgAAAABUBnqdqRf8AAAMAAAMAAAMAAAMAAwMAAAAhQZqsSahBbJlMCE///fEA\n",
       "AAMAAAMAFP20YgBAAAADADmgAAAAHEGeykUVLG8AAAMAAAMBbCL1x0AAAICVr1EtI3EAAAAVAZ7p\n",
       "dEX/AAADAAADAAADAAADAAMDAAAAFQGe62pF/wAAAwAAAwAAAwAAAwADAwAAACBBmvBJqEFsmUwI\n",
       "T//98QAAAwAAAwAU9+lABAAAAwADmwAAABxBnw5FFSxvAAADAAADAWu3pVQAAAYMEL4OpbyAAAAA\n",
       "FQGfLXRF/wAAAwAAAwAAAwAAAwADAgAAABUBny9qRf8AAAMAAAMAAAMAAAMAAwMAAAAhQZs0SahB\n",
       "bJlMCE///fEAAAMAAAMAFQVyWABAAAADADmgAAAAG0GfUkUVLG8AAAMAAAMBawcKqAAADBBJ+FuL\n",
       "eQAAABUBn3F0Rf8AAAMAAAMAAAMAAAMAAwMAAAAVAZ9zakX/AAADAAADAAADAAADAAMDAAAAJ0Gb\n",
       "eEmoQWyZTAhP//3xAAADAAADABUFHDqdADokbDSfAAADAABlQQAAABxBn5ZFFSxvAAADAAADAWsC\n",
       "1VQAAAYIJPwtxbyAAAAAFQGftXRF/wAAAwAAAwAAAwAAAwADAgAAABUBn7dqRf8AAAMAAAMAAAMA\n",
       "AAMAAwMAAAAhQZu8SahBbJlMCE///fEAAAMAAAMAFQaiPgCAAAADAHNAAAAAHEGf2kUVLG8AAAMA\n",
       "AAMBawLVVAAABggk/C3FvIAAAAAVAZ/5dEX/AAADAAADAAADAAADAAMDAAAAFQGf+2pF/wAAAwAA\n",
       "AwAAAwAAAwADAgAAAClBm+BJqEFsmUwIT//98QAAAwAAAwAU8dHG5rwArzC5bnwTAAADAABSQQAA\n",
       "ABxBnh5FFSxvAAADAAADAWsC1VQAAAYIJPwtxbyBAAAAFQGePXRF/wAAAwAAAwAAAwAAAwADAgAA\n",
       "ABUBnj9qRf8AAAMAAAMAAAMAAAMAAwMAAAAhQZokSahBbJlMCE///fEAAAMAAAMAFQOsquAgAAAD\n",
       "ABzQAAAAHEGeQkUVLG8AAAMAAAMBawLVVAAABggk/C3FvIEAAAAVAZ5hdEX/AAADAAADAAADAAAD\n",
       "AAMDAAAAFQGeY2pF/wAAAwAAAwAAAwAAAwADAgAAADJBmmhJqEFsmUwIT//98QAAAwAAAwAU9zHH\n",
       "+AaqR/H1bqREcALr1kJJFl4AQAAAAwA5oAAAAB5BnoZFFSxvAAADAAADAWsCx0K4AAADAsxSbr7G\n",
       "T4EAAAAVAZ6ldEX/AAADAAADAAADAAADAAMCAAAAFgGep2pF/wAAAwAAAwG6kVaAAAADAYEAAAAp\n",
       "QZqsSahBbJlMCE///fEAAAMAAAMAFGfD7FmclCCO/TWdpEAAAAMAH+AAAAAeQZ7KRRUsbwAAAwAA\n",
       "AwFrnXnpEgAAAwBuwUsZ2roRAAAAFQGe6XRF/wAAAwAAAwAAAwAAAwADAwAAABUBnutqRf8AAAMA\n",
       "AAMAAAMAAAMAAwMAAAAtQZrwSahBbJlMCE///fEAAAMAAAMAFGcx4JgBPZzyB6Gk1cNPQIBAAAAD\n",
       "ADrhAAAAHkGfDkUVLG8AAAMAAAMBbCnIRqQAAAMA3WXrjNMnwAAAABUBny10Rf8AAAMAAAMAAAMA\n",
       "AAMAAwIAAAAVAZ8vakX/AAADAAADAAADAAADAAMDAAAAIUGbNEmoQWyZTAhP//3xAAADAAADABR1\n",
       "EkeW2AAAAwAGfAAAAB5Bn1JFFSxvAAADAAADAWwpx1RuAAADALN564zTJ8AAAAAVAZ9xdEX/AAAD\n",
       "AAADAAADAAADAAMDAAAAFQGfc2pF/wAAAwAAAwAAAwAAAwADAwAAACtBm3hJqEFsmUwIT//98QAA\n",
       "AwAAAwAUbb/eFwAjaD39IU224cAQAAADAA65AAAAG0GflkUVLG8AAAMAAAMBXhWFcAAAHSdwUUek\n",
       "bgAAABcBn7V0Rf8AAAMAAAMBurAy0AAAAwAwIAAAABUBn7dqRf8AAAMAAAMAAAMAAAMAAwMAAAAu\n",
       "QZu8SahBbJlMCE///fEAAAMAAAMAFHjAe9zgBHTsE0IEfSM4TNc7YAAAAwAZ8AAAABxBn9pFFSxv\n",
       "AAADAAADAWFAR89wAAAdP/9KciRuAAAAFQGf+XRF/wAAAwAAAwAAAwAAAwADAwAAABcBn/tqRf8A\n",
       "AAMAAAMBuZ7YcAAAAwAwIAAAAEdBm+BJqEFsmUwIT//98QAAAwAAAwAU+IkqJT+SEALBNZU4G67j\n",
       "JCnIk5buoBATVwXLhC8Pbip+uedCA8Yc4RQvsAAAAwA24QAAACBBnh5FFSxvAAADAAADAV4BEJ8v\n",
       "SvUAAAMAQpPyZZBtpQAAABUBnj10Rf8AAAMAAAMAAAMAAAMAAwIAAAAVAZ4/akX/AAADAAADAAAD\n",
       "AAADAAMDAAAATUGaJEmoQWyZTAhP//3xAAADAAADABR2rV0wA2KrJthVOOoXqCLZZPWsv1yvB5X9\n",
       "p/jxoLVpNZwzDs3LnbTQsAA7cAIdsEoUAAADABlQAAAAH0GeQkUVLG8AAAMAAAMBYamCV5VYEHQA\n",
       "AAv4EyheC3kAAAAWAZ5hdEX/AAADAAADAbDKJwAAAwADFwAAABcBnmNqRf8AAAMAAAMBr5icwAAA\n",
       "AwAVMAAAACtBmmhJqEFsmUwIT//98QAAAwAAAwAT3cTuFe4D5g5T8U8LKKIuAAADAALuAAAAH0Ge\n",
       "hkUVLG8AAAMAAAMBWiCv70TgDgAABWg4wwZv0IEAAAAVAZ6ldEX/AAADAAADAAADAAADAAMCAAAA\n",
       "FQGep2pF/wAAAwAAAwAAAwAAAwADAwAAADpBmqxJqEFsmUwIT//98QAAAwAAAwAT1nLuA/hTHYmS\n",
       "VeV9C97HZsXU3eFiaeSxSs7vIe7gAAADAC7gAAAAHUGeykUVLG8AAAMAAAMAa70CGdegAADZm94f\n",
       "tlvJAAAAGAGe6XRF/wAAAwAAAwCGUyH2wAAAAwBrQQAAABUBnutqRf8AAAMAAAMAAAMAAAMAAwMA\n",
       "AAA0QZrwSahBbJlMCE///fEAAAMAAAMABkiCd8vIwAQF20AOSZa6wprxRoxsUrIP0wAAAwABDwAA\n",
       "AChBnw5FFSxvAAADAAADAGwoWOABI18EcpHE7HLlJKqgAAChljiqmYG4AAAAFQGfLXRF/wAAAwAA\n",
       "AwAAAwAAAwADAgAAABUBny9qRf8AAAMAAAMAAAMAAAMAAwMAAAB2QZs0SahBbJlMCE///fEAAAMA\n",
       "AAMABkxaYR0kAOV5dIH1sLaY86VhXnD0BpeTLuMglgTxiIWf73jiTDwOFi3eNp7ET93izHx8VcC6\n",
       "D9aREU43soJsJiISUgl9hA7y0jBeclMV4Rh2B4wJK/jpKFIUUZWDu83j7gAAAB1Bn1JFFSxvAAAD\n",
       "AAADAGuRYyqLwAAA1/TDzc5FsAAAABYBn3F0Rf8AAAMAAAMAgw9uAAADAANvAAAAFgGfc2pF/wAA\n",
       "AwAAAwCG+gYAAAMAAg8AAABGQZt4SahBbJlMCE///fEAAAMAAAMABk1WsOI7wBt0QMbF5GdTkyKW\n",
       "kXRP/RexxUj547N9tHQhLEmcuP+Od1ukwAAAAwBDwQAAAClBn5ZFFSxvAAADAAADAGv9wQAEyjdq\n",
       "s87D2zpja9TqgAAChKniljYG4AAAABUBn7V0Rf8AAAMAAAMAAAMAAAMAAwIAAAAVAZ+3akX/AAAD\n",
       "AAADAAADAAADAAMDAAAAJEGbuUmoQWyZTAi/+lgAAAMAAAMAS/CAgBAcsxKtdgAAAwABQQAAD/hl\n",
       "iIQAM//+9uy+BTX9n9CXESzF2kpwPiqkgIB3NMAAAAMAAAMAAAMAKkc59Obj4vaLQAAAAwLaAK8C\n",
       "MRf4XWxCuACGnRTK+LY81TJ4XHRlnz6cvzl7XhZhlhn+r9CcZ/l85goGz5Bck20klFNNwAC7I4Gj\n",
       "NCr8MFzFBUwwjFNhDJcWZJBDujBbwmJEhF65d5vLY6PmRixZDLnj+wBWd3SsfXkyMp5iI4TzOmN+\n",
       "OC4lL5MTCZsZSmD+PojrXdSfyWw/q+uyNuqJjpL26fWUM2dgZw4uJPoRFgQt4A2QJnJ5RcPAlcfL\n",
       "iGr0r34YA9p+7EGibP2fCQmzoGbiUFCIf0cz9bROSKSvBR8r4k+YeIU0P+OQ1beNhk+AdT/s51DB\n",
       "Mfyeu4+0tQXTOJvWP23BlJOZZU1z+09IF5Pscn/taUcZ//1I5E9mLKqT0R8D5NCHoz/gLUULrJcd\n",
       "IAVHcCu8OXutrPClFqp3X8Rhi769IfWbnFRsJwNarIfX6wpaQz7AYIdExTn0MIkA1l8hXpvesggV\n",
       "BiOUqXAMQRV/6TkhVYobWevDUUggwp+QbThSX7swtTpxVKnmQUlSsugJL1GxbzwLHWzLbOLjgyEi\n",
       "tTH7C4fTd+EfQMg6tq+W7Bv/xYiMgJZUDWz7/5akRmJ40A62o4jZ8a06i6nD6FfK5yd1cMpSbaws\n",
       "4gpcb30RHpX3TNy9kQnsmHoJ4viu2nxzAWKX6Zyg9B0bYM4HaW1IIcbWvirB8jUE5mR3HRWCivj5\n",
       "VLnxskIRDihqUZ2lYN4kmJJD+y/DBpvIMdEce9pAqRdjUwkPvK9D7okYFHRA6Tkue/995hOi/q7c\n",
       "FzgnPHmqrr6IbF8ULVswFcHB+Ut0WqSOn1a7okDS/+CmPtfaDu2WV/RIuRukGWTSntDmO8cxtp5x\n",
       "72O9cyJAVB2PV/oUsfeU1BxxYUlx9yQam4aW7/3lWplN7d/CZMfawLslBFIvaJO8OQdbU+8QHKGd\n",
       "fCv35QyNhVsOiNw1Du3IygcyQptwroLqR8KIa1g8tHZckh5FOBw4vHQZlfkxMoinYtO32pfoMJQd\n",
       "H6hvNh5yaxmWs8CilaWvbMeKdCFUaSoiFZzI7QPOes3yESrLnlS9oE4mC+Nb9H3mjpXG8WwGIx68\n",
       "QZU4w2B0g09PSav9Fd0i3iSNCnJaS2okOaF7dcgOTlPjQW2zB0DiNVGC8/hFYNtSHOTFF2ktbcOx\n",
       "ca1lcRFI6hf7qv9l2Yb13rqQa6sCnL4ejVwqQVy+rhyfWIE96Tr80/RHY53c0dxFG8UUusT0y3T9\n",
       "5BHQiBupcaIYioOLrS+dJe8jAEeEH2P9AXx2z5lWkTOXtbQLa/TuyvVHmIGz/KWCjA6a1L/TBxtj\n",
       "+K9ea0q6bF2eR5f1qGWaUI/oRhIuPg5SH852BYvvdXuzqbRp9iLTn/UOpy9bKhmz+c6takXhHN/c\n",
       "8cAiCeYRv4XakdOXxG9BLLwn2+4hcsN1mrweGJVlcx+92XPLnCSGQr3zFo2ei6AOhNgJnYz3tvfe\n",
       "E/vRPNtS9FIFJcpxoN2km8VIm5vw10Kl6MGd27He4LCN4TOl8a6YZx/qt1a4FlP37b/ON5lQT8Cs\n",
       "NfDmb3ovyamM5/b9G/plJFBHGmQcxrhIV2yu/s0ezNXv5L5HBbgf1EynPwWC4PYX7B7vvLlxnRGP\n",
       "8aR9iFJM7NgQy7UFqbFtVcFFLQ4i1SKoLUXp7RsI80RzEyvmSK6TpGA9MXnCYKAVejRHfh/012CP\n",
       "K1rjKERsZE+DlW2weZGZHc+o0O3Ktu8A6dsxIygqClgmyG1o7CT0N9jDbkGkneQJhXzcpeOMYgDM\n",
       "NcLn5fHeBq+H2PfNjAy+85wc4mA3IF/DzIRfDkqubYhZ23IFDNxji+8Ca2K8fwLe9LyL/D4Dn55h\n",
       "k/WZBi9lNFPsR2xez6/OZm6B5E/4/PW2GcEt+RcQdA0hWWSoEu1mJPXNjUOAfQ7anFaCVgYn9b5G\n",
       "kvR7K7HAHJy4LdimDtU9lbjrPdGOcIVOwBANdhl/YVn7kaneK/+fTNVYoI+HNmpdrl9ycm2LyWGl\n",
       "JRh/h5dSUJXc50SQpjSX77pbuGq61/1BeAcnMTy6He5BD+FjaWeSMbnueLD/iLWCbOUeNP01+Gm6\n",
       "BS72do5Uq4z3fy7xze6cBkLhkzNiPhyQAW5QNH6Kxkyu+8SwaG0fYr4hQro7L4o5GjAD8U/ojBuN\n",
       "o++OEjQfg81BekhGmSTlUOQEINVWcbSTj6udMMljCNk5LAwNKgb4ZK7JSEndfWMO0Rlh60ZW8zZG\n",
       "ybLvLImFFUpTQb0G5Bi+ygiIGNltI3uKCIoupm5hJlkInrri7xzPMu6JwQnfrHaIpHB3FNnEiZ/v\n",
       "DqiWa+SUsTjEHpmW0oTsN35ylpR+L2Qe12/3ktK3gfJg0cAPDkyJdcrIqXYfAYH/+C3k0sLkWqXh\n",
       "FBMYPT2d+dFzD+CQ0k07f2OoG1Y60kVN106KIsl+mAxKr1XVTReITnnvzOkbjiqGr9gFTPGDpyT/\n",
       "ZUmnsmaKiD1PIg/ah/4hS9JaXpHBjSVxd9Z+DbCFck0UbYMniQ2sshEYnAMPiPHtzcWD6S8wjCyc\n",
       "PuL4uSp02jctKYMyY5M6yYyHCxrNQnv/WFKkMPxJLkaMbDHk7gQSSqPgAAADAGdVET4WiH1iKO3d\n",
       "b5bB2fyvUb4aFccpa2cl0/nyh7WRrh1WnyXaEEqsQCDVcQN/4UnNOioesjJuG/DDqgxkEKuc0QLp\n",
       "hzHcpM3ploRpuZhkABg83D3dO+Rr0PZxLIiawC7YqkipbgV9mGF1vf1wx/As/wyO0WD7+vmmXE0C\n",
       "j8rTz1tDyEVNksPcyA7PhIoaJeJ3JCXlVQRa1oyteh00O3k2OoaDz0JtyGL/Ey4KN1h5phHsm+Ym\n",
       "Y8bnrUzcHePez5CPxdfZ7HYl7N1JjnDTsUEEG33Bq8RH/z5RTvuM0QD3YF+snt5/AT0VsBJPL6Rs\n",
       "Tu8yZY2db1i5LWgSy7BC6eJil2XuzwOagCjMzP+EyyY01BE+XTsjA+bV+yew89NABHMEotFz1HTE\n",
       "AVhB3qZTE3fvM3U4cQAzAR3zECnjSdYFCKzXgn5reQLOhqQFBnH2hKrpmrkq/VVzKh2GgevyiLZ+\n",
       "T9z32ju09w/PrcQjDnmK2echuuo3x1x+eCmD1p3V3dLldRn7vJICkarDYv0CqVazlDeLgMje5eqv\n",
       "1LETm8aXyToAGWCyGABfTE1Az7DMAkZbzA7pXOCEyHyxr4T9jS0J69bWJzA9DTEaRpxvFS06dfIS\n",
       "WiEIZjQ8o7i//r4vf6gEEYIaT/H83jka0bppwNRXCfjTSFCgOEP34mo/LJ5tPLSeDObTuykXZKFC\n",
       "a4j8qWP6R97D63TD77mpOHS//NOIhxDT4b26cTm+6SlMhA1rNoa9pmdOdq8mo6Mk36IrQprzRhNN\n",
       "TQgB+7mLlo+gB+luqF1OQIuT7+yOLPcffiGNLmaz9TZbW37ktKlPvkJ5Xp4AvsFdRrKEC6274SGs\n",
       "xGhal+H9MvXvHAkC0pDI7hil9BNAarz0RSv35btWvrppE49mnF6qlkKINr0kHShWAPV3hGwj1ldS\n",
       "k4p4PdLOabdzPkVRq0rz9q35X0LS7GKQR6K1/qtUjT+779ly7qKoXQeQRPf6vYOMUrTCm18rzG1h\n",
       "I2YqEF7+BOnE4PzKn/SykhmTYIeIRR8aa0PQIG/eR67a+hci4ZjpZnin9IYmAFMZWfhkNe/l+ORc\n",
       "IN+tERlyLl+EM3JPzK4+USIzzAdmCEDlkNz9ETkW13S7eBmSGO9NVkE4jECNx6NP/BfNNS7u0OVJ\n",
       "R/zKH0ThCxIUimLMVC2rY42Sc70Wm8GoVO3eV3bQHrBYnJUvDBBp41grHgEs5ELQ9i+O6c+h7r31\n",
       "qZ/2hKVRaAlgojIsGrzebBEY29q9qrFyoSk+zLRQuaAngxfQEmIi4o/iRu8mGmwoVubcrn4kV1wP\n",
       "AKy86YA7C6QKzYtozolcZRuN94kmrRhKs5+J44gdsFVZBsxXzeQx1Vy2YrRO5IAXJQ+q2WWHzl4X\n",
       "UlCg3P2SjeRXVmlfcyXPUcGU4Zvy/XmjwfIShOemj61RAZ1j+vnvggRG47T04x8gvs9Y+o8BX+PK\n",
       "X1SI6FElB1F3o+k64XLDiASJGZmYH6SOkJdOPs/9O0Su8CzgAAlSkRNOoxCg+xdJNdLUdqLn+B45\n",
       "18lLBEAAAAMAAAMAB6gLMP2816looGiBMgMoB1CHwmigAUEuEh//MJbDgVyXJF5NdjAXO37+mAif\n",
       "OPS+IFSQsAANrTc0wi4IKf872u8N4kxW0sVOUdVXNvUqrp8fq0l7isA2IkyzYzBX8gSEJykw0ZFQ\n",
       "GvHavMrlTV1ifevgLtcTxO5AAKXTFAAoYAmAwq3YBz8HgGerWgaiFUs8ZgWmLxh3H/d7/m/qLeCj\n",
       "xr3AGdsasdXJWkcSHEIdKE/BBYgYnlmlCSplCns+P4HDG16EpZyL15oEwJZgMp4gm7XOvUBGQ9rN\n",
       "X5bZVJsUJZ7Dik5AFEIUgA7O7AF3N1RMYjzRN+JFUpXNK6n7/cnV9vaRHT97pQp1SQgUco9uBXCU\n",
       "9lOklDfcxPvr0JF4TZLT8mmpUj6Lc7lk14qp90wJGdg1C24p7UjXZ9UHo0LDF0+W2CdnXuqqRW2Y\n",
       "Zmp08ea2nWfP6hHleGUidkwrJwIenrHulkIR0D1tbfJn3W60vOanuVsvqliTZFWCNT76qOhppGjo\n",
       "pOduxQZHMZ2CiHNYGEUqVBhoPu8GF263uKYXdmFAS8vwkFNdYAcxhR/b2wh4z8r6GLsF31Si1urx\n",
       "eHyDIoiAFTA1l4/OyKDUvl/QC+2P0vBAjnqdIgLE5hV7I4LIwiBRR3rgQQUx0LilwuJrnYAACaxu\n",
       "afO/4LEHrZgyjGpyUvFRDnM5SEiZ2AxuHGCXJxwyX+6cDjF32wgrzCxRyCM9ROD3GVgpM9rAywQU\n",
       "Y71t/mVIeBJHNY5fF/zzM1R1KMBh7hG8mn5tRy03tPhbEAzfIcoH2RTEv6lafFdVI6ozzZ+8uiJh\n",
       "TbJHnLc9kN++aX/6k+jaO56M9HyBWTKiFgXy2YmcJhggRjAo1EzfjY0iKqqgfx352sQ2bwEs/TUG\n",
       "FDJPFgMXZzeOdNN5ifXBDPC7JWJQ0H/aoYYCQwa6NHEz3lCRCoDYsNbXRsRVAIty8OJxHoHpRnsD\n",
       "Gku7/y2HUFAHIs5I+p3kMxgHeOGmFGvnSa3qubgwE8Veo0lnwJKOolBet2//7A3CMJIHzMZcVIzl\n",
       "0xQ4gbd7kGpkL+hfD/jCLjiEFqptRyc5Q1Dxk8rGEJnhlKfD97qwaX1DcdemP3CuQhjCQsY43npJ\n",
       "Fh+LrBWA2ICIA0Sv3/79WGrM7lbFoszsKkD3PWvXDuig9C1UFAGW1FYGEXMnB7PFfqaURPp6SvUY\n",
       "LpfCIPFMEHBBZ3AfitY74gNAPith8ihTq0pRghsgEvAAAAMAAAMDfgAAAFVBmiRsQn/98QAAAwKR\n",
       "7EWRmjN9EAjKdVRNZOXwwBSTqPHwb65fvJQxfeE2yIv/Be7JSOo1mXCtWDuKT5dgAlQL5vMFcNpo\n",
       "2hnn6zQbKWsBq4+pm2GpAAAALEGeQniN/wAALEX76wvXEefiiOk9vdFZadMv9q4Bgh5GQaY0cBfk\n",
       "SgpoAELAAAAAJwGeYXRF/wAANy87YCBQsGZUyfj7Giiud2Oqpn4rJp36UQ1rIwghlQAAABoBnmNq\n",
       "Rf8AAAMAAAMDc6rLrQs5Z5Ad4AAcsQAAAEVBmmhJqEFomUwIT//98QAAAwAAAwAGbUp8A1e3pgTo\n",
       "b/xSo45WCiLxy1IRwp2niAG1qKMD/qayzTbYdsMdgSkAAAMACJgAAAAoQZ6GRREsbwAAAwAAAwBu\n",
       "slI+YAH53WoQpaSsayi5AAADAt4JmuShBQAAABkBnqV0Rf8AAAMAAAMAWHgkFzfyAAADAA+4AAAA\n",
       "GAGep2pF/wAAAwAAAwCK+iJlcVuAAAAK+QAAACxBmqxJqEFsmUwIT//98QAAAwAAAwAGdE+OcuAE\n",
       "erHtT5aTgN8vAQAAAwAC9wAAACBBnspFFSxvAAADAAADAG5ECZbxSRY04AAAcnjXf0jJ8AAAABgB\n",
       "nul0Rf8AAAMAAAMAimYYDPAAAAMAGjAAAAAYAZ7rakX/AAADAAADAIpl6hLcAAADAAaNAAAALkGa\n",
       "8EmoQWyZTAhP//3xAAADAAADAAZ1VrHUjwAsAxJ/mMzFvkQKx7YAAAMABSQAAAAfQZ8ORRUsbwAA\n",
       "AwAAAwBuDpIAgfNP+gAALpWWvg0FvQAAABUBny10Rf8AAAMAAAMAAAMAAAMAAwIAAAAVAZ8vakX/\n",
       "AAADAAADAAADAAADAAMDAAAAPEGbNEmoQWyZTAhP//3xAAADAAADAAZrR/Zy42EwAdITqARwnTtP\n",
       "QdG8xcZuKidF10cL4jbJlgAAAwAGFQAAAB1Bn1JFFSxvAAADAAADAG31Lb4vQAABqgo99hi3kQAA\n",
       "ABUBn3F0Rf8AAAMAAAMAAAMAAAMAAwMAAAAVAZ9zakX/AAADAAADAAADAAADAAMCAAAAKUGbeEmo\n",
       "QWyZTAhP//3xAAADAAADAAZrZMD+I4AGcvPvV4tgAAADAFJAAAAAHUGflkUVLG8AAAMAAAMAbgFV\n",
       "fKOgAADUm3iC+LeRAAAAFQGftXRF/wAAAwAAAwAAAwAAAwADAgAAABUBn7dqRf8AAAMAAAMAAAMA\n",
       "AAMAAwIAAAA+QZu8SahBbJlMCE///fEAAAMAAAMABp/7g52EI+CwQd0e1wckafClWnIg+Puera9c\n",
       "rxISSUlSssUAAAMAELEAAAAbQZ/aRRUsbwAAAwAAAwAirmHQAAFTVcaLcW8hAAAAFwGf+XRF/wAA\n",
       "AwAAAwAtfpg0AAADAAK/AAAAGAGf+2pF/wAAAwAAAwCKfa/QiqAAAAMCigAAADlBm+BJqEFsmUwI\n",
       "T//98QAAAwAAAwAGa2TAjmtMAKAJYIhgmFWQm23Db5j6Y4tmLgIWEpcAAAMAB4QAAAAdQZ4eRRUs\n",
       "bwAAAwAAAwBt6DHNR0AAAaoHYbAYt5EAAAAVAZ49dEX/AAADAAADAAADAAADAAMCAAAAFQGeP2pF\n",
       "/wAAAwAAAwAAAwAAAwADAgAAACdBmiRJqEFsmUwIT//98QAAAwAAAwAGnFRAvgGqh56fEb4AAAMA\n",
       "AoMAAAAcQZ5CRRUsbwAAAwAAAwBxGBR9AAAGfCT8LcW8gAAAABUBnmF0Rf8AAAMAAAMAAAMAAAMA\n",
       "AwMAAAAVAZ5jakX/AAADAAADAAADAAADAAMDAAAAO0GaaEmoQWyZTAhP//3xAAADAAADAAaUrhK4\n",
       "AhCKfdBKvrp8jhnIksW+TTuase3KlCQXNZl2oNqgAAa0AAAAHEGehkUVLG8AAAMAAAMAcRgUfQAA\n",
       "Bnwk/C3FvIEAAAAVAZ6ldEX/AAADAAADAAADAAADAAMCAAAAFQGep2pF/wAAAwAAAwAAAwAAAwAD\n",
       "AwAAADNBmqxJqEFsmUwIT//98QAAAwAAAwAGlLI0IAXrst4BqnpuKZOism8dcvReCKAAAAMAd0EA\n",
       "AAAcQZ7KRRUsbwAAAwAAAwBxGBR9AAAGfCT8LcW8gAAAABUBnul0Rf8AAAMAAAMAAAMAAAMAAwIA\n",
       "AAAVAZ7rakX/AAADAAADAAADAAADAAMDAAAAN0Ga8EmoQWyZTAhP//3xAAADAAADAAaYhU3OAIOF\n",
       "VJDwsltZuaM2hiCb2IK0Tra9T5ZcgAAABdwAAAAeQZ8ORRUsbwAAAwAAAwBxGBQEdtquAAAP6Czr\n",
       "TD9DAAAAFQGfLXRF/wAAAwAAAwAAAwAAAwADAgAAABUBny9qRf8AAAMAAAMAAAMAAAMAAwMAAAAk\n",
       "QZs0SahBbJlMCE///fEAAAMAAAMABpgjCQnQ051wAAADAMuBAAAAHkGfUkUVLG8AAAMAAAMAcRnw\n",
       "TMsjKAAAfwD9UmH9CQAAABUBn3F0Rf8AAAMAAAMAAAMAAAMAAwMAAAAVAZ9zakX/AAADAAADAAAD\n",
       "AAADAAMCAAAAJUGbeEmoQWyZTAhP//3xAAADAAADAAaTM5d6Crar5kAAAAMAq4AAAAAeQZ+WRRUs\n",
       "bwAAAwAAAwBw2OkJxfgQAAANCFYfVSBbAAAAFQGftXRF/wAAAwAAAwAAAwAAAwADAgAAABUBn7dq\n",
       "Rf8AAAMAAAMAAAMAAAMAAwIAAAAtQZu8SahBbJlMCE///fEAAAMAAAMABpgj7WFGQfXwDJEz86fM\n",
       "l9LgAAADAIuBAAAAG0Gf2kUVLG8AAAMAAAMAJL7R6AAAoRaU5dS3kQAAABcBn/l0Rf8AAAMAAAMA\n",
       "jwNlcj2AAAARcQAAABYBn/tqRf8AAAMAAAMAjn2doAAAAwEnAAAAMEGb4EmoQWyZTAhP//3xAAAD\n",
       "AAADAAaYI/+GACPUahccAi0ONiPCOY8quAAAAwAi4AAAACBBnh5FFSxvAAADAAADAHEZ8roCnczJ\n",
       "d4AACXEhrApRbQAAABUBnj10Rf8AAAMAAAMAAAMAAAMAAwIAAAAWAZ4/akX/AAADAAADAC6Z0YAA\n",
       "AAMBiwAAAExBmiRJqEFsmUwIT//98QAAAwAAAwAGvLdaQ4+TryLaE8s6cMJY78rpqseOmZPTG9I8\n",
       "y5AnVtQCsOe7GNdku7anVX/XkZ8NyoAWmG9hAAAAHUGeQkUVLG8AAAMAAAMAdB4QKECgAAHw6I2w\n",
       "D+hAAAAAFgGeYXRF/wAAAwAAAwAue/rQAAADAccAAAAZAZ5jakX/AAADAAADAJMq+hk1uAAAAwBW\n",
       "wQAAADJBmmhJqEFsmUwIT//98QAAAwAAAwAGvizcUAFHvPPDVXk3ig7QniSt1AvCFAAAAwAOmAAA\n",
       "AB1BnoZFFSxvAAADAAADAHPZ8RcMQAAAZYBRveD9CQAAABcBnqV0Rf8AAAMAAAMALpuzDgAAAwA4\n",
       "4AAAABcBnqdqRf8AAAMAAAMALoAHYAAAAwBiwQAAACNBmqxJqEFsmUwIT//98QAAAwAAAwAGvixJ\n",
       "ea+gOAAAAwAh4QAAAB1BnspFFSxvAAADAAADAHQX4F7AQAAAZXzPfCD9CAAAABUBnul0Rf8AAAMA\n",
       "AAMAAAMAAAMAAwIAAAAZAZ7rakX/AAADAAADAJMn0KCqOAAAAwCmgQAAADtBmvBJqEFsmUwIT//9\n",
       "8QAAAwAAAwAGvpk7oEAbZt4bF4t/HTVLeDeA06BYnLljC6H/tMOxiidEQAAF3AAAAB1Bnw5FFSxv\n",
       "AAADAAADAHPZ8NEdMAABJZVJTEgWwQAAABUBny10Rf8AAAMAAAMAAAMAAAMAAwIAAAAVAZ8vakX/\n",
       "AAADAAADAAADAAADAAMDAAAAJ0GbNEmoQWyZTAhP//3xAAADAAADAAbAiD18KymgAZmQ8gAAAwAF\n",
       "NQAAABtBn1JFFSxvAAADAAADACSqaVUAAA6myfhbi3kAAAAVAZ9xdEX/AAADAAADAAADAAADAAMD\n",
       "AAAAFQGfc2pF/wAAAwAAAwAAAwAAAwADAgAAACtBm3hJqEFsmUwIT//98QAAAwAAAwAGwSvIuwAt\n",
       "XipUgtjWZ6RSAAADAAU0AAAAHUGflkUVLG8AAAMAAAMAc9nw0R0wAAEllUlMSBbBAAAAFQGftXRF\n",
       "/wAAAwAAAwAAAwAAAwADAgAAABUBn7dqRf8AAAMAAAMAAAMAAAMAAwIAAAAiQZu8SahBbJlMCE//\n",
       "/fEAAAMAAAMABry9nCLqLgAAAwAOWQAAABtBn9pFFSxvAAADAAADAAADAAADAYgY7eRhWkkAAAAX\n",
       "AZ/5dEX/AAADAAADAC6RrMAAAAMAxYEAAAAXAZ/7akX/AAADAAADAC6mRnMAAAMAAxYAAAAmQZvg\n",
       "SahBbJlMCE///fEAAAMAAAMABsAoHwOIPYAEy2SAAAADAU0AAAAbQZ4eRRUsbwAAAwAAAwAkqmlV\n",
       "AAAOpsn4W4t5AAAAFQGePXRF/wAAAwAAAwAAAwAAAwADAgAAABUBnj9qRf8AAAMAAAMAAAMAAAMA\n",
       "AwIAAAAzQZokSahBbJlMCE///fEAAAMAAAMABuaBwqGGwVtTrP2oJTA8WnCAMxcZDp8nwAAAAwNr\n",
       "AAAAHEGeQkUVLG8AAAMAAAMAdqV0P5AAAAqBSbr7GT4AAAAVAZ5hdEX/AAADAAADAAADAAADAAMD\n",
       "AAAAFQGeY2pF/wAAAwAAAwAAAwAAAwADAwAAACNBmmhJqEFsmUwIT//98QAAAwAAAwAGwCzN85XP\n",
       "yAAAAwAU0AAAABtBnoZFFSxvAAADAAADACSrwOAAABfgk/C3FvMAAAAVAZ6ldEX/AAADAAADAAAD\n",
       "AAADAAMCAAAAFQGep2pF/wAAAwAAAwAAAwAAAwADAwAAACNBmqxJqEFsmUwIT//98QAAAwAAAwAG\n",
       "vL2b6YAo4AAAAwCHgQAAABtBnspFFSxvAAADAAADACSrwOAAABfgk/C3FvIAAAAVAZ7pdEX/AAAD\n",
       "AAADAAADAAADAAMCAAAAFQGe62pF/wAAAwAAAwAAAwAAAwADAwAAADBBmvBJqEFsmUwIT//98QAA\n",
       "AwAAAwAG5T1AsCySLbN8+WdTcYsJIrcDILgAAAMALKAAAAAdQZ8ORRUsbwAAAwAAAwBz3geSu4AA\n",
       "A+GqopiQLYEAAAAVAZ8tdEX/AAADAAADAAADAAADAAMCAAAAFQGfL2pF/wAAAwAAAwAAAwAAAwAD\n",
       "AwAAADdBmzRJqEFsmUwIT//98QAAAwAAAwAG5L4rAKBk/h+CPABelN89P/0U/7pb0UTn3YbDGHoQ\n",
       "fSNTAAAAHUGfUkUVLG8AAAMAAAMAdsqdeIXaAAALGWhyX3B7AAAAFwGfcXRF/wAAAwAAAwCXD2Ua\n",
       "gAAAAwMrAAAAFQGfc2pF/wAAAwAAAwAAAwAAAwADAgAAADxBm3hJqEFsmUwIT//98QAAAwAAAwAG\n",
       "5jTu3Ai7AIDCwGW0kOdxkhe++yuVeWpy/7Fwc3TNSdpQAAADAScAAAAeQZ+WRRUsbwAAAwAAAwB2\n",
       "meWfCYbjAAAN9Zz9zQt5AAAAFwGftXRF/wAAAwAAAwAujjE4AAADAOOAAAAAFQGft2pF/wAAAwAA\n",
       "AwAAAwAAAwADAgAAACJBm7xJqEFsmUwIT//98QAAAwAAAwAG5MWI5ukkAAADAAopAAAAG0Gf2kUV\n",
       "LG8AAAMAAAMAAAMAAAMBiBjt5GFaSQAAABUBn/l0Rf8AAAMAAAMAAAMAAAMAAwMAAAAVAZ/7akX/\n",
       "AAADAAADAAADAAADAAMCAAAAKEGb4EmoQWyZTAhP//3xAAADAAADAAbmm8G0AiT3wBR1eXAAAAMA\n",
       "wYAAAAAbQZ4eRRUsbwAAAwAAAwAAAwAAAwGIGO3kYVpJAAAAFQGePXRF/wAAAwAAAwAAAwAAAwAD\n",
       "AgAAABUBnj9qRf8AAAMAAAMAAAMAAAMAAwIAAAAjQZokSahBbJlMCE///fEAAAMAAAMABuiIPXw5\n",
       "NHAAAAMAQcEAAAAcQZ5CRRUsbwAAAwAAAwB21+C9AAAGMBC+DqW8gAAAABUBnmF0Rf8AAAMAAAMA\n",
       "AAMAAAMAAwMAAAAVAZ5jakX/AAADAAADAAADAAADAAMDAAAAI0GaaEmoQWyZTAhP//3xAAADAAAD\n",
       "AAbkxYkM+Ti4AAADAGDAAAAAG0GehkUVLG8AAAMAAAMAAAMAAAMBiBjt5GFaSQAAABUBnqV0Rf8A\n",
       "AAMAAAMAAAMAAAMAAwIAAAAVAZ6nakX/AAADAAADAAADAAADAAMDAAAALkGarEmoQWyZTAhP//3x\n",
       "AAADAAADAAbqkW7FwBCHC5ZuIizp5CH+ByAAAAMAUUEAAAAdQZ7KRRUsbwAAAwAAAwB2ngeSu4AA\n",
       "A8uqopiQLYAAAAAVAZ7pdEX/AAADAAADAAADAAADAAMCAAAAFQGe62pF/wAAAwAAAwAAAwAAAwAD\n",
       "AwAAACpBmvBJqEFsmUwIT//98QAAAwAAAwAG5MZQYAovbDhtFL68701LgAAABgwAAAAeQZ8ORRUs\n",
       "bwAAAwAAAwB2RrBMlmmAAAjri7/+0C2BAAAAFQGfLXRF/wAAAwAAAwAAAwAAAwADAgAAABUBny9q\n",
       "Rf8AAAMAAAMAAAMAAAMAAwMAAAAoQZs0SahBbJlMCE///fEAAAMAAAMABugsze4lM2Ak7w4u24AA\n",
       "AAMDfwAAABxBn1JFFSxvAAADAAADAHb8Wo1AAAEiK16iWkbhAAAAFQGfcXRF/wAAAwAAAwAAAwAA\n",
       "AwADAwAAABUBn3NqRf8AAAMAAAMAAAMAAAMAAwIAAAAiQZt4SahBbJlMCE///fEAAAMAAAMABuTF\n",
       "iS900cAAAAMBBwAAABxBn5ZFFSxvAAADAAADAHb8Wo1AAAEiK16iWkbhAAAAFQGftXRF/wAAAwAA\n",
       "AwAAAwAAAwADAgAAABUBn7dqRf8AAAMAAAMAAAMAAAMAAwIAAAAuQZu8SahBbJlMCE///fEAAAMA\n",
       "AAMABuMzrElttEAeyS2WoT/1uqzwuAAAAwBgwQAAABtBn9pFFSxvAAADAAADAAADAAADAYgY7eRh\n",
       "WkkAAAAVAZ/5dEX/AAADAAADAAADAAADAAMDAAAAFQGf+2pF/wAAAwAAAwAAAwAAAwADAgAAACJB\n",
       "m+BJqEFsmUwIT//98QAAAwAAAwAG5M/wYDeVwAAAAwMGAAAAG0GeHkUVLG8AAAMAAAMAAAMAAAMB\n",
       "iBjt5GFaSQAAABUBnj10Rf8AAAMAAAMAAAMAAAMAAwIAAAAVAZ4/akX/AAADAAADAAADAAADAAMC\n",
       "AAAAIkGaJEmoQWyZTAhP//3xAAADAAADAAboMZYOc0uAAAADAg8AAAAcQZ5CRRUsbwAAAwAAAwB2\n",
       "hwgAAAMAc/ZPwtxbyAAAABUBnmF0Rf8AAAMAAAMAAAMAAAMAAwMAAAAVAZ5jakX/AAADAAADAAAD\n",
       "AAADAAMDAAAANEGaaEmoQWyZTAhP//3xAAADAAADAAboMsnwgBzpolq+VYPBau83jw2xCrggOlwA\n",
       "AAMAEHAAAAAbQZ6GRRUsbwAAAwAAAwAAAwAAAwGIGO3kYVpJAAAAFQGepXRF/wAAAwAAAwAAAwAA\n",
       "AwADAgAAABUBnqdqRf8AAAMAAAMAAAMAAAMAAwMAAAAnQZqsSahBbJlMCE///fEAAAMAAAMABugx\n",
       "oIIA3jI9jjlwAAADAMGBAAAAG0GeykUVLG8AAAMAAAMAAAMAAAMBiBjt5GFaSAAAABUBnul0Rf8A\n",
       "AAMAAAMAAAMAAAMAAwIAAAAWAZ7rakX/AAADAAADAJZ9naAAAAMBFwAAADFBmvBJqEFsmUwIT//9\n",
       "8QAAAwAAAwAG6DLJDABfXC2pOVvkRfL9FJ9rWcFwAAADAMGAAAAAHEGfDkUVLG8AAAMAAAMAJr6b\n",
       "0vAAAJcfM5E9k+EAAAAWAZ8tdEX/AAADAAADADEZROAAAAMDZgAAABcBny9qRf8AAAMAAAMAMSJw\n",
       "wAAAAwC7gQAAACxBmzRJqEFsmUwIT//98QAAAwAAAwAHE05Ed/AGWsw3lR0JyIjUpYAAAAMC7wAA\n",
       "ABtBn1JFFSxvAAADAAADAAADAAADAYgY7eRhWkkAAAAVAZ9xdEX/AAADAAADAAADAAADAAMDAAAA\n",
       "FQGfc2pF/wAAAwAAAwAAAwAAAwADAgAAAClBm3hJqEFsmUwIT//98QAAAwAAAwAHFx1YoAOQJgjW\n",
       "dXQ53AAAAwAP8AAAABtBn5ZFFSxvAAADAAADAAADAAADAYgY7eRhWkkAAAAVAZ+1dEX/AAADAAAD\n",
       "AAADAAADAAMCAAAAFQGft2pF/wAAAwAAAwAAAwAAAwADAgAAACdBm7xJqEFsmUwIT//98QAAAwAA\n",
       "AwAHF6yUYAQjF/QdwBAAAAMAKuEAAAAbQZ/aRRUsbwAAAwAAAwAAAwAAAwGIGO3kYVpJAAAAFQGf\n",
       "+XRF/wAAAwAAAwAAAwAAAwADAwAAABUBn/tqRf8AAAMAAAMAAAMAAAMAAwIAAAAoQZvgSahBbJlM\n",
       "CE///fEAAAMAAAMABwzwuJDYAisgofNdgIAAAAMBVwAAABxBnh5FFSxvAAADAAADAHlHCAAAAwBx\n",
       "Nk/C3FvJAAAAFQGePXRF/wAAAwAAAwAAAwAAAwADAgAAABUBnj9qRf8AAAMAAAMAAAMAAAMAAwIA\n",
       "AAA0QZokSahBbJlMCE///fEAAAMAAAMABxesm4QBQYOIqrqrwGaauWrUyZJFfQgg7QAAAwAJeQAA\n",
       "ABtBnkJFFSxvAAADAAADAAADAAADAYgY7eRhWkgAAAAVAZ5hdEX/AAADAAADAAADAAADAAMDAAAA\n",
       "FQGeY2pF/wAAAwAAAwAAAwAAAwADAwAAACBBmmhJqEFsmUwIT//98QAAAwAAAwAHF6xnnwAAAwAB\n",
       "JwAAABtBnoZFFSxvAAADAAADAAADAAADAYgY7eRhWkkAAAAVAZ6ldEX/AAADAAADAAADAAADAAMC\n",
       "AAAAFQGep2pF/wAAAwAAAwAAAwAAAwADAwAAACtBmqxJqEFsmUwIT//98QAAAwAAAwAHF6ybhADm\n",
       "t749liQXMvXwAAADABJxAAAAG0GeykUVLG8AAAMAAAMAAAMAAAMBiBjt5GFaSAAAABUBnul0Rf8A\n",
       "AAMAAAMAAAMAAAMAAwIAAAAVAZ7rakX/AAADAAADAAADAAADAAMDAAAAJEGa8EmoQWyZTAhP//3x\n",
       "AAADAAADAAcXrIpIA3l9fgAAAwACTgAAABtBnw5FFSxvAAADAAADAAADAAADAYgY7eRhWkkAAAAV\n",
       "AZ8tdEX/AAADAAADAAADAAADAAMCAAAAFQGfL2pF/wAAAwAAAwAAAwAAAwADAwAAACxBmzRJqEFs\n",
       "mUwIT//98QAAAwAAAwAHF6yfOAEFhl16L5y3uG/LYAAAAwBJwQAAABtBn1JFFSxvAAADAAADAAAD\n",
       "AAADAYgY7eRhWkkAAAAVAZ9xdEX/AAADAAADAAADAAADAAMDAAAAFQGfc2pF/wAAAwAAAwAAAwAA\n",
       "AwADAgAAACtBm3hJqEFsmUwIT//98QAAAwAAAwAHDQNyIfXACCxmK9iGuNMAAAMAAO6AAAAAG0Gf\n",
       "lkUVLG8AAAMAAAMAAAMAAAMBiBjt5GFaSQAAABUBn7V0Rf8AAAMAAAMAAAMAAAMAAwIAAAAVAZ+3\n",
       "akX/AAADAAADAAADAAADAAMCAAAAIUGbvEmoQWyZTAhP//3xAAADAAADAAcNB17pJgAAAwAB3QAA\n",
       "ABtBn9pFFSxvAAADAAADAAADAAADAYgY7eRhWkkAAAAVAZ/5dEX/AAADAAADAAADAAADAAMDAAAA\n",
       "FQGf+2pF/wAAAwAAAwAAAwAAAwADAgAAACFBm+BJqEFsmUwIT//98QAAAwAAAwAHDQd39gIAAAMA\n",
       "BVwAAAAbQZ4eRRUsbwAAAwAAAwAAAwAAAwGIGO3kYVpJAAAAFQGePXRF/wAAAwAAAwAAAwAAAwAD\n",
       "AgAAABUBnj9qRf8AAAMAAAMAAAMAAAMAAwIAAAAvQZokSahBbJlMCE///fEAAAMAAAMABw0HXmm4\n",
       "QA6RAID3ieSCh4g1aaYAAAMAAd0AAAAbQZ5CRRUsbwAAAwAAAwAAAwAAAwGIGO3kYVpIAAAAFQGe\n",
       "YXRF/wAAAwAAAwAAAwAAAwADAwAAABUBnmNqRf8AAAMAAAMAAAMAAAMAAwMAAAAhQZpoSahBbJlM\n",
       "CE///fEAAAMAAAMABw0HWwmfAAADAAEnAAAAG0GehkUVLG8AAAMAAAMAAAMAAAMBiBjt5GFaSQAA\n",
       "ABUBnqV0Rf8AAAMAAAMAAAMAAAMAAwIAAAAVAZ6nakX/AAADAAADAAADAAADAAMDAAAAKEGarEmo\n",
       "QWyZTAhP//3xAAADAAADAAcXsAHcAmp/pniUCYAAAAMAd0EAAAAbQZ7KRRUsbwAAAwAAAwAAAwAA\n",
       "AwGIGO3kYVpIAAAAFQGe6XRF/wAAAwAAAwAAAwAAAwADAgAAABUBnutqRf8AAAMAAAMAAAMAAAMA\n",
       "AwMAAAAtQZrwSahBbJlMCE///fEAAAMAAAMABxMDjOEAOkcI71F73oN8ESgEAAADAAq4AAAAG0Gf\n",
       "DkUVLG8AAAMAAAMAAAMAAAMBiBjt5GFaSQAAABUBny10Rf8AAAMAAAMAAAMAAAMAAwIAAAAVAZ8v\n",
       "akX/AAADAAADAAADAAADAAMDAAAAKEGbNEmoQWyZTAhP//3xAAADAAADAAcXHou6AHPrmGQH5pgA\n",
       "AAMAB3UAAAAbQZ9SRRUsbwAAAwAAAwAAAwAAAwGIGO3kYVpJAAAAFQGfcXRF/wAAAwAAAwAAAwAA\n",
       "AwADAwAAABUBn3NqRf8AAAMAAAMAAAMAAAMAAwIAAAAmQZt4SahBbJlMCE///fEAAAMAAAMABwz3\n",
       "Ik8hAGyZ0wAAAwAA7oAAAAAbQZ+WRRUsbwAAAwAAAwAAAwAAAwGIGO3kYVpJAAAAFQGftXRF/wAA\n",
       "AwAAAwAAAwAAAwADAgAAABUBn7dqRf8AAAMAAAMAAAMAAAMAAwIAAAAcQZu5SahBbJlMCL/6WAAA\n",
       "AwAAAwAAAwAAAwABqwAAENlliIIADP/+9uy+BTX9n9CXESzF2kpwPiqkgIB3NMAAAAMAAAMAAAMA\n",
       "Kkc59Obj4vaLQAAAAwLaAK8CMRf4XWxCuACGnRTK+LY81TJ4XHRlnz6cvzl7XhZhlhn+r9CcZ/l8\n",
       "5goGz5Bck20klFNNwAC7I4GjNCr8MFzFBUwwjFNhDJcWZJBDujBbwmJEhF65d5vLY6PmRixZDLnj\n",
       "+wBWd3SsfXkyMp5iI4TzOmN+OC4lL5MTCZsZSmD+PojrXdSfyWw/q+uyNuqJjpL26fWUM2dgZw4u\n",
       "JPoRFgQt4A2QJnJ5RcPAlcfLiGr0r34YA9p+7EGibP2fCQmzoGbiUFCIf0cz9bROSKSvBR8r4k+Y\n",
       "eIU0P+OQ1beNhk+AdT/s51DBMfyeu4+0tQXTOJvWP23BlJOZZU1z+09IF5Pscn/taUcZ//1I5E9m\n",
       "LKqT0R8D5NCHoz/gLUULrJcdIAVHcCu8OXutrPClFqp3X8Rhi769IfWbnFRsJwNarIfX6wpaQz7A\n",
       "YIdExTn0MIkA1l8hXpvesggVBiOUqXAMQRV/6TkhVYobWevDUUggwp+QbThSX7swtTpxVKnmQUlS\n",
       "sugJL1GxbzwLHWzLbOLjgyEitTH7C4fTd+EfQMg6tq+W7Bv/xYiMgJZUDWz7/5akRmJ40A62o4jZ\n",
       "8a06i6nD6FfK5yd1cMpSbaws4gpcb30RHpX3TNy9kQnsmHoJ4viu2nxzAWKX6Zyg9B0bYM4HaW1I\n",
       "IcbWvirB8jUE5mR3HRWCivj5VLnxskIRDihqUZ2lYN4kmJJD+y/DBpvIMdEce9pAqRdjUwkPvK9D\n",
       "7okYFHRA6Tkue/995hOi/q7cFzgnPHmqrr6IbF8ULVswFcHB+Ut0WqSOn1a7okDS/+CmPtfaDu2W\n",
       "V/RIuRukGWTSntDmO8cxtp5x72O9cyJAVB2PV/oUsfeU1BxxYUlx9yQam4aW7/3lWplN7d/CZMfa\n",
       "wLslBFIvaJO8OQdbU+8QHKGdfCv35QyNhVsOiNw1Du3IygcyQptwroLqR8KIa1g8tHZckh5FOBw4\n",
       "vHQZlfkxMoinYtO32pfoMJQdH6hvNh5yaxmWs8CilaWvbMeKdCFUaSoiFZzI7QPOes3yESrLnlS9\n",
       "oE4mC+Nb9H3mjpXG8WwGIx68QZU4w2B0g09PSav9Fd0i3iSNCnJaS2okOaF7dcgOTlPjQW2zB0Di\n",
       "NVGC8/hFYNtSHOTFF2ktbcOxca1lcRFI6hf7qv9l2Yb13rqQa6sCnL4ejVwqQVy+rhyfWIE96Tr8\n",
       "0/RHY53c0dxFG8UUusT0y3T95BHQiBupcaIYioOLrS+dJe8jAEeEH2P9AXx2z5lWkTOXtbQLa/Tu\n",
       "yvVHmIGz/KWCjA6a1L/TBxtj+K9ea0q6bF2eR5f1qGWaUI/oRhIuPg5SH852BYvvdXuzqbRp9iLT\n",
       "n/UOpy9bKhmz+c6takXhHN/c8cAiCeYRv4XakdOXxG9BLLwn2+4hcsN1mrweGJVlcx+92XPLnCSG\n",
       "Qr3zFo2ei6AOhNgJnYz3tvfeE/vRPNtS9FIFJcpxoN2km8VIm5vw10Kl6MGd27He4LCN4TOl8a6Y\n",
       "Zx/qt1a4FlP37b/ON5lQT8CsNfDmb3ovyamM5/b9G/plJFBHGmQcxrhIV2yu/s0ezNXv5L5HBbgf\n",
       "1EynPwWC4PYX7B7vvLlxnRGP8aR9iFJM7NgQy7UFqbFtVcFFLQ4i1SKoLUXp7RsI80RzEyvmSK6T\n",
       "pGA9MXnCYKAVejRHfh/012CPK1rjKERsZE+DlW2weZGZHc+o0O3Ktu8A6dsxIygqClgmyG1o7CT0\n",
       "N9jDbkGkneQJhXzcpeOMYgDMNcLn5fHeBq+H2PfNjAy+85wc4mA3IF/DzIRfDkqubYhZ23IFDNxj\n",
       "i+8Ca2K8fwLe9LyL/D4Dn55hk/WZBi9lNFPsR2xez6/OZm6B5E/4/PW2GcEt+RcQdA0hWWSoEu1m\n",
       "JPXNjUOAfQ7anFaCVgYn9b5GkvR7K7HAHJy4LdimDtU9lbjrPdGOcIVOwBANdhl/YVn7kaneK/+f\n",
       "TNVYoI+HNmpdrl9ycm2LyWGlJRh/h5dSUJXc50SQpjSX77pbuGq61/1BeAcnMTy6He5BD+FjaWeS\n",
       "MbnueLD/iLWCbOUeNP01+Gm6BS72do5Uq4z3fy7xze6cBkLhkzNiPhyQAW5QNH6Kxkyu+8SwaG0f\n",
       "Yr4hQro7L4o5GjAD8U/ojBuNo++OEjQfg81BekhGmSTlUOQEINVWcbSTj6udMMljCNk5LAwNKgb4\n",
       "ZK7JSEndfWMO0Rlh60ZW8zZGybLvLImFFUpTQb0G5Bi+ygiIGNltI3uKCIoupm5hJlkInrri7xzP\n",
       "Mu6JwQnfrHaIpHB3FNnEiZ/vDqiWa+SUsTjEHpmW0oTsN35ylpR+L2Qe12/3ktK3gfJg0cAPDkyJ\n",
       "dcrIqXYfAYH/+C3k0sLkWqXhFBMYPT2d+dFzD+CQ0k07f2OoG1Y60kVN106KIsl+mAxKr1XVTReI\n",
       "TnnvzOkbjiqGr9gFTPGDpyT/ZUmnsmaKiD1PIg/ah/4hS9JaXpHBjSVxd9Z+DbCFck0UbYMniQ2s\n",
       "shEYnAMPiPHtzcWD6S8wjCycPuL4uSp02jctKYMyY5M6yYyHCxrNQnv/WFKkMPxJLkaMbDHk7gQS\n",
       "SqPgAAADAGdVET4WiH1iKO3db5bB2fyvUb4aFccpa2cl0/nyh7WRrh1WnyXaEEqsQCDVcQN/4UnN\n",
       "OioesjJuG/DDqgxkEKuc0QLphzHcpM3ploRpuZhkABg83D3dO+Rr0PZxLIiawC7YqkipbgV9mGF1\n",
       "vf1wx/As/wyO0WD7+vmmXE0Cj8rTz1tDyEVNksPcyA7PhIoaJeJ3JCXlVQRa1oyteh00O3k2OoaD\n",
       "z0JtyGL/Ey4KN1h5phHsm+YmY8bnrUzcHePez5CPxdfZ7HYl7N1JjnDTsUEEG33Bq8RH/z5RTvuM\n",
       "0QD3YF+snt5/AT0VsBJPL6RsTu8yZY2db1i5LWgSy7BC6eJil2XuzwOagCjMzP+EyyY01BE+XTsj\n",
       "A+bV+yew89NABHMEotFz1HTEAVhB3qZTE3fvM3U4cQAzAR3zECnjSdYFCKzXgn5reQLOhqQFBnH2\n",
       "hKrpmrkq/VVzKh2GgevyiLZ+T9z32ju09w/PrcQjDnmK2echuuo3x1x+eCmD1p3V3dLldRn7vJIC\n",
       "karDYv0CqVazlDeLgMje5eqv1LETm8aXyToAGWCyGABfTE1Az7DMAkZbzA7pXOCEyHyxr4T9jS0J\n",
       "69bWJzA9DTEaRpxvFS06dfISWiEIZjQ8o7i//r4vf6gEEYIaT/H83jka0bppwNRXCfjTSFCgOEP3\n",
       "4mo/LJ5tPLSeDObTuykXZKFCa4j8qWP6R97D63TD77mpOHS//NOIhxDT4b26cTm+6SlMhA1rNoa9\n",
       "pmdOdq8mo6Mk36IrQprzRhNNTQgB+7mLlo+gB+luqF1OQIuT7+yOLPcffiGNLmaz9TZbW37ktKlP\n",
       "vkJ5Xp4AvsFdRrKEC6274SGsxGhal+H9MvXvHAkC0pDI7hil9BNAarz0RSv35btWvrppE49mnF6q\n",
       "lkKINr0kHShWAPV3hGwj1ldSk4p4PdLOabdzPkVRq0rz9q35X0LS7GKQR6K1/qtUjT+779ly7qKo\n",
       "XQeQRPf6vYOMUrTCm18rzG1hI2YqEF7+BOnE4PzKn/SykhmTYIeIRR8aa0PQIG/eR67a+hci4Zjp\n",
       "Znin9IYmAFMZWfhkNe/l+ORcIN+tERlyLl+EM3JPzK4+USIzzAdmCEDlkNz9ETkW13S7eBmSGO9N\n",
       "VkE4jECNx6NP/BfNNS7u0OVJR/zKH0ThCxIUimLMVC2rY42Sc70Wm8GoVO3eV3bQHrBYnJUvDBBp\n",
       "41grPN7Gdd3TBkrbrBmXFW8Xj8z4TLGuKpD+UAl3dUceq6jsvC4dz0Zp19V0ebXHe3e319FJ8rSu\n",
       "gSHwpzQtf48UpcQHvwIRrsLkr8r1Fr40Mk6zM6d8jkoVOqmEyd6aiR+pGMUPNiyJRy7GEueMANyl\n",
       "eiMaVOdsjovTviFG+/13JRLwZT9QiSEoP+dRMjbiitRjvHmjdi47uzpDP7oJ8NxQlWx4pBAK+5Uy\n",
       "qmUsc6HA47+fqXYpksAydzqcDtDrpgbo84CNWvXxIVS3oAxRwvbpOkYbFUhq8bOUSiI8L4rHOLoe\n",
       "/E9cbXMijIp5ncfVH8j4HLT0QpX4dh+mZo0hubCQOb8uUHD3FpjJ1uWPZjJuiYMBfFH3nRLb/Kwb\n",
       "kG4U9rlK8NlnSBGOQjGGK2pKqh7pwO9AVooCOCiRnJENZaOh3kNhlkpyPxSYw/TFGr0VZijTpNAA\n",
       "RtuB4K3ROCaKx2h7/Ks5SlX3sMY5rYUlGK+u71Gyl/r4XXyMI+ifSAXjOR7KmrUzbjVuvXmVGYb+\n",
       "x0yc5t7HDU4tTnaAJvmoQ52tRGRjAKqHt4TecwgaHF0bdBZkmv3LAPWsq6kqUAxk0sq1fuCKsuGc\n",
       "48tY5DjLbRarpbwICxpTHzNAFhEj9AA2ErAlEjArTnyVExJ72MG+lWVFf3rtqAO5OoOI86nbuthe\n",
       "vrSTqwinnftYcnGYGJWVHORplyILOuQkhMcgLrcUiS4/bLm5IuTRygD3CuX7quSm+D38EJjs4p1/\n",
       "/xHVthjoBTFjeTlIMI+YxCB26TdTJ9AYf/5+Au1pT+fEAAPlrewAgLjCAueFSBlT+UEv8NAMfHmp\n",
       "i5zMGuc581hpL4JV2WZ5mUz+AFVf5sdj4nxTh6Ea5kDeK+YQrBkJgcizyRX9jqidxUsxmELORezk\n",
       "zNOKGAyniCbtc4aMiMh7Wavrll0mxQlnsOKUAARZ8eADRS5QSp+dM5uq1T86KPbhgFopiH9hdN90\n",
       "/jp+909hgqSECjlHtwK9R+Rn5lReyUsQTaaW0MmyWn5NNSpH0W52w7cyqn3TAsNyhqFtxT2pGuz8\n",
       "Grk0LDF0+W2DDF3uqqRW2YZmrC0ma2nWfP6hG9aRXwya1fU/zj30X7ASEI6B62u1iZ91utLzmp7m\n",
       "EZZrsSbIqwRr6WeAemsxd/Fe7Y0LnI5jQkDuw4AwilSoMNB93gwP0GHV/ZPa7/BWQk1sionABzGF\n",
       "H96wvL1a5ARZgm2lClrufu474rCq9ew0DoHUlc//jR3s/8iNOl5DTY3XjHTYAsTmFXsjgsjCM8rJ\n",
       "Q6CFmAELg6KKfKjflAAIlG5wI8HwD5CKhAwlR4HIhzmb6jIV5r6XCkZj5W+7RE+n/A9q/pge/uli\n",
       "Yn90m4D2mQ6HZ7tAIUAFoJh24NDdrXXi3A8z1/9XB9I6lGAyo+8ToBBdGULRH66ZtdxkzMUD89Ii\n",
       "X9StPiuqkdQZ5s/eXREwptkkXlmfSjevTd/9F/eh0c9H5guRvmLorY97h5onCJRMumc6XSCVmypj\n",
       "eBKQP4787WI72xAhfpqDChknjIa12c3ly//CzEc3l/Uu3kvUNB/2qGGAkTmujh+M95QkQqA2LD8V\n",
       "0bEVQCLcvJRoZj7UXd7AxpLu/8tiIBQAbr+4Pqd5DMYB3jiNdrpB0MIViJGvP5UL1FDaqPmo6iUF\n",
       "63b//pzb5N/AfMxlxUjOYHhriBt3uQamQufHYX+MIuOIQWqm1L5zkoA2pXsBwSoFmTjgDpqJQJrn\n",
       "0lU0xSP1yEMYSFjHGYrEKievsqdYDYgIgDRmJYPv1YaszuVsWizOw6QLWlZ9khrr+nvzdXq0NQFi\n",
       "1C165Y+gN+ppRDyF95eJhLL4RB4pgfDpFQhaCLCwUXGwDqpE5IoU6tKUYIbIBOQAAAMAAAMBGwAA\n",
       "AGxBmiRsQn/98QAAAwKR7EWRmjN9EAjKdVRNZOXwwBSTqPHwb65fvJQxfeE2yIv/Be8bNGKWAFRF\n",
       "5Wob3uO71PV5Re08Vpf/9mXEbstevsG7d5ny6x9JswYNfccxk3hSUitUaFaGMFwwwXNg+YEAAAAr\n",
       "QZ5CeI3/AAAsRfvrC9cR5+KI6T290Vlp0y/8AATEWxMKmH2nTIfN/swB8wAAACgBnmF0Rf8AADcv\n",
       "O2AgULBmVMn4+xoorndjq7R2zl9MKfJRj6uBuMqAAAAAGAGeY2pF/wAAAwAAAwNzqstbDSYXYAAU\n",
       "kQAAADBBmmhJqEFomUwIT//98QAAAwAAAwAHDPawnxtwBx4YpfyY+w7VP7VpN+AAAAMAZUAAAAAd\n",
       "QZ6GRREsbwAAAwAAAwBFXPo7+9XAAAaj9hvYVFsAAAAWAZ6ldEX/AAADAAADAFh39aAAAAMB3QAA\n",
       "ABUBnqdqRf8AAAMAAAMAAAMAAAMAAwIAAAAsQZqsSahBbJlMCE///fEAAAMAAAMABw4Ya8AUAD3k\n",
       "nZh6ynJQRHsAAAMABH0AAAAbQZ7KRRUsbwAAAwAAAwAhyQRAAAAzl4kd9S3lAAAAFQGe6XRF/wAA\n",
       "AwAAAwAAAwAAAwADAgAAABUBnutqRf8AAAMAAAMAAAMAAAMAAwMAAAAzQZrwSahBbJlMCE///fEA\n",
       "AAMAAAMABwz2sJ8rCAJ6+T26/XwZaabS0b0T5B1gAAADAI+AAAAAG0GfDkUVLG8AAAMAAAMAIa5h\n",
       "0AABXFXGi3FvIQAAABcBny10Rf8AAAMAAAMAKy4xOAAAAwD0gQAAABUBny9qRf8AAAMAAAMAAAMA\n",
       "AAMAAwIAAAAiQZs0SahBbJlMCE///fEAAAMAAAMAB0OvMDsDRAAAAwANSAAAABtBn1JFFSxvAAAD\n",
       "AAADAHlmj0AAAYEIxotxbyEAAAAVAZ9xdEX/AAADAAADAAADAAADAAMCAAAAFQGfc2pF/wAAAwAA\n",
       "AwAAAwAAAwADAwAAAChBm3hJqEFsmUwIT//98QAAAwAAAwAHQ6yUYAQflDFo/+AgAAADAFNAAAAA\n",
       "G0GflkUVLG8AAAMAAAMAAAMAAAMBiBjt5GFaSQAAABUBn7V0Rf8AAAMAAAMAAAMAAAMAAwMAAAAV\n",
       "AZ+3akX/AAADAAADAAADAAADAAMDAAAAIkGbvEmoQWyZTAhP//3xAAADAAADAAdDryTo8rAAAAMA\n",
       "I+EAAAAbQZ/aRRUsbwAAAwAAAwAAAwAAAwGIGO3kYVpIAAAAFQGf+XRF/wAAAwAAAwAAAwAAAwAD\n",
       "AgAAABUBn/tqRf8AAAMAAAMAAAMAAAMAAwMAAAAuQZvgSahBbJlMCE///fEAAAMAAAMAB0OvyggB\n",
       "0Rx6lgF8CoqD7n18AIAAAAMBTQAAABtBnh5FFSxvAAADAAADAAADAAADAYgY7eRhWkgAAAAVAZ49\n",
       "dEX/AAADAAADAAADAAADAAMDAAAAFQGeP2pF/wAAAwAAAwAAAwAAAwADAwAAACBBmiRJqEFsmUwI\n",
       "T//98QAAAwAAAwAHQ69WPgAAAwACPwAAABtBnkJFFSxvAAADAAADAAADAAADAYgY7eRhWkgAAAAV\n",
       "AZ5hdEX/AAADAAADAAADAAADAAMCAAAAFQGeY2pF/wAAAwAAAwAAAwAAAwADAwAAACdBmmhJqEFs\n",
       "mUwIT//98QAAAwAAAwAHPyKRAC/wIZhFla2AAAADAR8AAAAbQZ6GRRUsbwAAAwAAAwAAAwAAAwGI\n",
       "GO3kYVpIAAAAFQGepXRF/wAAAwAAAwAAAwAAAwADAwAAABcBnqdqRf8AAAMAAAMAMmJwwAAAAwC2\n",
       "gAAAACxBmqxJqEFsmUwIT//98QAAAwAAAwAHO51cAL/Z7LP/eNiTlxJlTAAAAwADpwAAABtBnspF\n",
       "FSxvAAADAAADACff5DoAACUpx1D6lvMAAAAVAZ7pdEX/AAADAAADAAADAAADAAMCAAAAFgGe62pF\n",
       "/wAAAwAAAwAyUirQAAADAakAAAAtQZrwSahBbJlMCE///fEAAAMAAAMAB0OvyggCdw8N5w57yz/F\n",
       "6VgIAAADABTQAAAAG0GfDkUVLG8AAAMAAAMAJ+VRVAAANpeJHfUt5QAAABUBny10Rf8AAAMAAAMA\n",
       "AAMAAAMAAwMAAAAWAZ8vakX/AAADAAADADJSKtAAAAMBqQAAACVBmzRJqEFsmUwIT//98QAAAwAA\n",
       "AwAHOQN5GkAkXJtgAAADAEfAAAAAHEGfUkUVLG8AAAMAAAMAJ1LEyoAABtEuWtisDcEAAAAWAZ9x\n",
       "dEX/AAADAAADADIvQwAAAwAC2gAAABYBn3NqRf8AAAMAAAMAMlIq0AAAAwGpAAAALEGbeEmoQWyZ\n",
       "TAhP//3xAAADAAADAAdEznpnAC77051KT2vD/l4CAAADAAU0AAAAHEGflkUVLG8AAAMAAAMAfCaJ\n",
       "sNQAADoTnk5k20kAAAAWAZ+1dEX/AAADAAADADIvQwAAAwAC2wAAABYBn7dqRf8AAAMAAAMAMlIq\n",
       "0AAAAwGpAAAAK0GbvEmoQWyZTAhP//3xAAADAAADAAc7n1wAV7XUtnGjYdWitsAAAAMAj4EAAAAc\n",
       "QZ/aRRUsbwAAAwAAAwB8Jomw1AAAOhOeTmTbSAAAABUBn/l0Rf8AAAMAAAMAAAMAAAMAAwIAAAAX\n",
       "AZ/7akX/AAADAAADADJIbuAAAAMAkYEAAAAuQZvgSahBbJlMCE///fEAAAMAAAMABz8i9YANrUX4\n",
       "B/pnID2G+Vk2rYAAAAMBHwAAABxBnh5FFSxvAAADAAADACdSxMqAAAbRLlrYrA3AAAAAFQGePXRF\n",
       "/wAAAwAAAwAAAwAAAwADAwAAABUBnj9qRf8AAAMAAAMAAAMAAAMAAwMAAAAvQZokSahBbJlMCE//\n",
       "/fEAAAMAAAMABzudXAC2lYKcB1J8vn2aZyF+oEAAAAMApoEAAAAcQZ5CRRUsbwAAAwAAAwAnUsTK\n",
       "gAAG0S5a2KwNwAAAABYBnmF0Rf8AAAMAAAMAMi9DAAADAALaAAAAFgGeY2pF/wAAAwAAAwAyUirQ\n",
       "AAADAakAAAAqQZpoSahBbJlMCE///fEAAAMAAAMABzuYfAGwqIOkOFLp4NvgAAADACPgAAAAG0Ge\n",
       "hkUVLG8AAAMAAAMAJ+VRVAAANpeJHfUt5AAAABYBnqV0Rf8AAAMAAAMAMi9DAAADAALbAAAAFgGe\n",
       "p2pF/wAAAwAAAwAyUirQAAADAakAAAAuQZqsSahBbJlMCE///fEAAAMAAAMABzkDlTUkAcg7abKG\n",
       "LLtbdK8XwAAAAwBHwQAAABtBnspFFSxvAAADAAADACflUVQAADaXiR31LeUAAAAWAZ7pdEX/AAAD\n",
       "AAADADIvQwAAAwAC2gAAABYBnutqRf8AAAMAAAMAMlIq0AAAAwGpAAAALkGa8EmoQWyZTAhP//3x\n",
       "AAADAAADAAc/IwkQCCHT1f23M7WJxC/VKr4AAAMAAj4AAAAcQZ8ORRUsbwAAAwAAAwAnUsTKgAAG\n",
       "0S5a2KwNwQAAABYBny10Rf8AAAMAAAMAMi9DAAADAALbAAAAFgGfL2pF/wAAAwAAAwAyUirQAAAD\n",
       "AakAAAApQZs0SahBbJlMCE///fEAAAMAAAMABzkc8z0ACXtVxy0MjcAAAAMA+YAAAAAbQZ9SRRUs\n",
       "bwAAAwAAAwAn5VFUAAA2l4kd9S3lAAAAFgGfcXRF/wAAAwAAAwAyL0MAAAMAAtoAAAAWAZ9zakX/\n",
       "AAADAAADADJSKtAAAAMBqQAAADBBm3hJqEFsmUwIT//98QAAAwAAAwAHO51cAPkjysGj2XgzSLb6\n",
       "q6aY6wEAAAMAApoAAAAbQZ+WRRUsbwAAAwAAAwAn5VFUAAA2l4kd9S3lAAAAFQGftXRF/wAAAwAA\n",
       "AwAAAwAAAwADAwAAABUBn7dqRf8AAAMAAAMAAAMAAAMAAwMAAAAhQZu8SahBbJlMCE///fEAAAMA\n",
       "AAMABzkHd/YCAAADAAU1AAAAHEGf2kUVLG8AAAMAAAMAJ1LEyoAABtEuWtisDcAAAAAVAZ/5dEX/\n",
       "AAADAAADAAADAAADAAMCAAAAFQGf+2pF/wAAAwAAAwAAAwAAAwADAwAAACVBm+BJqEFsmUwIT//9\n",
       "8QAAAwAAAwAHOQZq1QB5l0fAAAADAEfAAAAAHEGeHkUVLG8AAAMAAAMAJ1LEyoAABtEuWtisDcAA\n",
       "AAAVAZ49dEX/AAADAAADAAADAAADAAMDAAAAFQGeP2pF/wAAAwAAAwAAAwAAAwADAwAAAChBmiRJ\n",
       "qEFsmUwIT//98QAAAwAAAwAHO626AHKwmdsc/gBAAAADAKaBAAAAHEGeQkUVLG8AAAMAAAMAJ1LE\n",
       "yoAABtEuWtisDcAAAAAWAZ5hdEX/AAADAAADAJ7v60AAAAMCDgAAABUBnmNqRf8AAAMAAAMAAAMA\n",
       "AAMAAwMAAAAoQZpoSahBbJlMCE///fEAAAMAAAMABzkGgX70AOHQaSBkwAAAAwA6YAAAABxBnoZF\n",
       "FSxvAAADAAADACdSxMqAAAbRLlrYrA3AAAAAFQGepXRF/wAAAwAAAwAAAwAAAwADAwAAABUBnqdq\n",
       "Rf8AAAMAAAMAAAMAAAMAAwIAAAAoQZqsSahBbJlMCE///fEAAAMAAAMABzkHeI4AKgqVGVN74AAA\n",
       "AwAj4QAAABxBnspFFSxvAAADAAADACdSxMqAAAbRLlrYrA3BAAAAFQGe6XRF/wAAAwAAAwAAAwAA\n",
       "AwADAgAAABUBnutqRf8AAAMAAAMAAAMAAAMAAwMAAAAoQZrwSahBbJlMCE///fEAAAMAAAMABzkG\n",
       "hfHAGV4x+psHXwAAAwABHwAAABxBnw5FFSxvAAADAAADACdSxMqAAAbRLlrYrA3BAAAAFQGfLXRF\n",
       "/wAAAwAAAwAAAwAAAwADAwAAABUBny9qRf8AAAMAAAMAAAMAAAMAAwIAAAAoQZs0SahBbJlMCE//\n",
       "/fEAAAMAAAMABzkGbjdADk8t+uoMmAAAAwAHTAAAABtBn1JFFSxvAAADAAADACflUVQAADaXiR31\n",
       "LeUAAAAVAZ9xdEX/AAADAAADAAADAAADAAMCAAAAFQGfc2pF/wAAAwAAAwAAAwAAAwADAwAAACFB\n",
       "m3hJqEFsmUwIT//98QAAAwAAAwAHOQZnWAgAAAMAFNAAAAAcQZ+WRRUsbwAAAwAAAwAnUsTKgAAG\n",
       "0S5a2KwNwQAAABUBn7V0Rf8AAAMAAAMAAAMAAAMAAwMAAAAVAZ+3akX/AAADAAADAAADAAADAAMD\n",
       "AAAAK0GbvEmoQWyZTAhP//3xAAADAAADAAc5BobThADh4WqL3G6/LLYAAAMABH0AAAAcQZ/aRRUs\n",
       "bwAAAwAAAwAnUsTKgAAG0S5a2KwNwAAAABUBn/l0Rf8AAAMAAAMAAAMAAAMAAwIAAAAVAZ/7akX/\n",
       "AAADAAADAAADAAADAAMDAAAAJEGb4EmoQWyZTAhP//3xAAADAAADAAc7rlaAKrGKAgAAAwAFNAAA\n",
       "ABxBnh5FFSxvAAADAAADACdSxMqAAAbRLlrYrA3AAAAAFQGePXRF/wAAAwAAAwAAAwAAAwADAwAA\n",
       "ABYBnj9qRf8AAAMAAAMAMlIq0AAAAwGpAAAAL0GaJEmoQWyZTAhP//3xAAADAAADAAdDkGsIAcFc\n",
       "G1wwt2LRiE/zBwrgAAADAHzBAAAAHEGeQkUVLG8AAAMAAAMAJ1LEyoAABtEuWtisDcAAAAAXAZ5h\n",
       "dEX/AAADAAADADGybx4AAAMACRgAAAAVAZ5jakX/AAADAAADAAADAAADAAMDAAAAKkGaaEmoQWyZ\n",
       "TAhP//3xAAADAAADAAc5HId+3AHCDBjFBohWwAAAAwCPgAAAABtBnoZFFSxvAAADAAADAAADAAAD\n",
       "AYgY7eRhWkgAAAAVAZ6ldEX/AAADAAADAAADAAADAAMDAAAAFQGep2pF/wAAAwAAAwAAAwAAAwAD\n",
       "AgAAACpBmqxJqEFsmUwIT//98QAAAwAAAwAHO68mADlcC8EcW2nHZMAAAAMAOmEAAAAbQZ7KRRUs\n",
       "bwAAAwAAAwAAAwAAAwGIGO3kYVpJAAAAFQGe6XRF/wAAAwAAAwAAAwAAAwADAgAAABUBnutqRf8A\n",
       "AAMAAAMAAAMAAAMAAwMAAAAnQZrwSahBbJlMCE///fEAAAMAAAMAB0OQW3AHDK94wE3wAAADABHw\n",
       "AAAAG0GfDkUVLG8AAAMAAAMAAAMAAAMBiBjt5GFaSQAAABUBny10Rf8AAAMAAAMAAAMAAAMAAwMA\n",
       "AAAVAZ8vakX/AAADAAADAAADAAADAAMCAAAAJUGbNEmoQWyZTAhP//3xAAADAAADAAc5CA0egC1f\n",
       "lAgAAAMAFNAAAAAbQZ9SRRUsbwAAAwAAAwAAAwAAAwGIGO3kYVpJAAAAFQGfcXRF/wAAAwAAAwAA\n",
       "AwAAAwADAgAAABUBn3NqRf8AAAMAAAMAAAMAAAMAAwMAAAAqQZt4SahBbJlMCE///fEAAAMAAAMA\n",
       "B0TAB4QA4c4yAdEOgXYCAAADAAU0AAAAG0GflkUVLG8AAAMAAAMAfCaPQAABd1XGi3FvIQAAABUB\n",
       "n7V0Rf8AAAMAAAMAAAMAAAMAAwMAAAAVAZ+3akX/AAADAAADAAADAAADAAMDAAAAJkGbvEmoQWyZ\n",
       "TAhP//3xAAADAAADAAc7rboAbrf6QnN8AAADAAR9AAAAG0Gf2kUVLG8AAAMAAAMAAAMAAAMBiBjt\n",
       "5GFaSAAAABUBn/l0Rf8AAAMAAAMAAAMAAAMAAwIAAAAVAZ/7akX/AAADAAADAAADAAADAAMDAAAA\n",
       "KEGb4EmoQWyZTAhP//3xAAADAAADAAc7rboAbyEzQkT5wAgAAAMAFNAAAAAbQZ4eRRUsbwAAAwAA\n",
       "AwAAAwAAAwGIGO3kYVpIAAAAFQGePXRF/wAAAwAAAwAAAwAAAwADAwAAABUBnj9qRf8AAAMAAAMA\n",
       "AAMAAAMAAwMAAAAmQZokSahBbJlMCE///fEAAAMAAAMABzuv14AbooaWEvgAAAMACPkAAAAbQZ5C\n",
       "RRUsbwAAAwAAAwAAAwAAAwGIGO3kYVpIAAAAFQGeYXRF/wAAAwAAAwAAAwAAAwADAgAAABUBnmNq\n",
       "Rf8AAAMAAAMAAAMAAAMAAwMAAAAeQZpoSahBbJlMCE///fEAAAMAAAMAAAMAAAMAACLgAAAAG0Ge\n",
       "hkUVLG8AAAMAAAMAAAMAAAMBiBjt5GFaSAAAABUBnqV0Rf8AAAMAAAMAAAMAAAMAAwMAAAAVAZ6n\n",
       "akX/AAADAAADAAADAAADAAMCAAAALUGarEmoQWyZTAhP//3xAAADAAADAAc7ryYAN4sSr4QzPNuR\n",
       "Kl698AAAAwAR8QAAABtBnspFFSxvAAADAAADAHwmj0AAAXdVxotxbyEAAAAVAZ7pdEX/AAADAAAD\n",
       "AAADAAADAAMCAAAAFQGe62pF/wAAAwAAAwAAAwAAAwADAwAAACdBmvBJqEFsmUwIT//98QAAAwAA\n",
       "AwAHO626AG8SvdMzm+AAAAMAI+AAAAAbQZ8ORRUsbwAAAwAAAwAAAwAAAwGIGO3kYVpJAAAAFQGf\n",
       "LXRF/wAAAwAAAwAAAwAAAwADAwAAABUBny9qRf8AAAMAAAMAAAMAAAMAAwIAAAArQZs0SahBbJlM\n",
       "CE///fEAAAMAAAMABzuvJgA2x3iY/H36aWRN8AAAAwAR8AAAABtBn1JFFSxvAAADAAADAAADAAAD\n",
       "AYgY7eRhWkkAAAAVAZ9xdEX/AAADAAADAAADAAADAAMCAAAAFQGfc2pF/wAAAwAAAwAAAwAAAwAD\n",
       "AwAAAB5Bm3hJqEFsmUwIT//98QAAAwAAAwAAAwAAAwAAIuAAAAAbQZ+WRRUsbwAAAwAAAwAAAwAA\n",
       "AwGIGO3kYVpJAAAAFQGftXRF/wAAAwAAAwAAAwAAAwADAwAAABUBn7dqRf8AAAMAAAMAAAMAAAMA\n",
       "AwMAAAAoQZu8SahBbJlMCE///fEAAAMAAAMABzutugBvQkM0MppzfAAAAwAEfQAAABtBn9pFFSxv\n",
       "AAADAAADAAADAAADAYgY7eRhWkgAAAAVAZ/5dEX/AAADAAADAAADAAADAAMCAAAAFQGf+2pF/wAA\n",
       "AwAAAwAAAwAAAwADAwAAAB5Bm+BJqEFsmUwIT//98QAAAwAAAwAAAwAAAwAAIuAAAAAbQZ4eRRUs\n",
       "bwAAAwAAAwAAAwAAAwGIGO3kYVpIAAAAFQGePXRF/wAAAwAAAwAAAwAAAwADAwAAABUBnj9qRf8A\n",
       "AAMAAAMAAAMAAAMAAwMAAAAuQZokSahBbJlMCE///fEAAAMAAAMABzviwYAOfLnP4fleONj5/sov\n",
       "gAAAAwCPgQAAABtBnkJFFSxvAAADAAADAAADAAADAYgY7eRhWkgAAAAVAZ5hdEX/AAADAAADAAAD\n",
       "AAADAAMCAAAAFQGeY2pF/wAAAwAAAwAAAwAAAwADAwAAACdBmmhJqEFsmUwIT//98QAAAwAAAwAH\n",
       "O+OpgDj2moAVi2AAAAMAR8AAAAAbQZ6GRRUsbwAAAwAAAwAAAwAAAwGIGO3kYVpIAAAAFQGepXRF\n",
       "/wAAAwAAAwAAAwAAAwADAwAAABUBnqdqRf8AAAMAAAMAAAMAAAMAAwIAAAApQZqsSahBbJlMCE//\n",
       "/fEAAAMAAAMABzviVQAvqAnwrnud7JgAAAMAB00AAAAbQZ7KRRUsbwAAAwAAAwAAAwAAAwGIGO3k\n",
       "YVpJAAAAFQGe6XRF/wAAAwAAAwAAAwAAAwADAgAAABUBnutqRf8AAAMAAAMAAAMAAAMAAwMAAAAe\n",
       "QZrwSahBbJlMCE///fEAAAMAAAMAAAMAAAMAACLgAAAAG0GfDkUVLG8AAAMAAAMAAAMAAAMBiBjt\n",
       "5GFaSQAAABUBny10Rf8AAAMAAAMAAAMAAAMAAwMAAAAVAZ8vakX/AAADAAADAAADAAADAAMCAAAA\n",
       "LEGbNEmoQWyZTAhP//3xAAADAAADAAc75CZADnyiwVliQS8WvAJgAAADAB0wAAAAG0GfUkUVLG8A\n",
       "AAMAAAMAAAMAAAMBiBjt5GFaSQAAABUBn3F0Rf8AAAMAAAMAAAMAAAMAAwIAAAAVAZ9zakX/AAAD\n",
       "AAADAAADAAADAAMDAAAAJUGbeEmoQWyZTAhP//3xAAADAAADAAc7i0ADSJZ24ZgAAAMAB0wAAAAb\n",
       "QZ+WRRUsbwAAAwAAAwAAAwAAAwGIGO3kYVpJAAAAFQGftXRF/wAAAwAAAwAAAwAAAwADAwAAABUB\n",
       "n7dqRf8AAAMAAAMAAAMAAAMAAwMAAAAoQZu8SahBbJlMCE///fEAAAMAAAMABzvkYYAL7BV97xiP\n",
       "gAAAAwCPgQAAABtBn9pFFSxvAAADAAADAHwmj0AAAXdVxotxbyAAAAAVAZ/5dEX/AAADAAADAAAD\n",
       "AAADAAMCAAAAFQGf+2pF/wAAAwAAAwAAAwAAAwADAwAAAB5Bm+BJqEFsmUwIT//98QAAAwAAAwAA\n",
       "AwAAAwAAIuAAAAAbQZ4eRRUsbwAAAwAAAwAAAwAAAwGIGO3kYVpIAAAAFQGePXRF/wAAAwAAAwAA\n",
       "AwAAAwADAwAAABUBnj9qRf8AAAMAAAMAAAMAAAMAAwMAAAArQZokSahBbJlMCE///fEAAAMAAAMA\n",
       "BzvkJkAOfDExwsACJ49WwAAAAwCPgQAAABtBnkJFFSxvAAADAAADAHwmj0AAAXdVxotxbyAAAAAV\n",
       "AZ5hdEX/AAADAAADAAADAAADAAMCAAAAFQGeY2pF/wAAAwAAAwAAAwAAAwADAwAAAB5BmmhJqEFs\n",
       "mUwIT//98QAAAwAAAwAAAwAAAwAAIuAAAAAbQZ6GRRUsbwAAAwAAAwAAAwAAAwGIGO3kYVpIAAAA\n",
       "FQGepXRF/wAAAwAAAwAAAwAAAwADAwAAABUBnqdqRf8AAAMAAAMAAAMAAAMAAwIAAAAeQZqsSahB\n",
       "bJlMCE///fEAAAMAAAMAAAMAAAMAACLhAAAAG0GeykUVLG8AAAMAAAMAAAMAAAMBiBjt5GFaSQAA\n",
       "ABUBnul0Rf8AAAMAAAMAAAMAAAMAAwIAAAAVAZ7rakX/AAADAAADAAADAAADAAMDAAAAKEGa8Emo\n",
       "QWyZTAhP//3xAAADAAADAAc746mAOUSHqusKAEAAAAMApoAAAAAbQZ8ORRUsbwAAAwAAAwAAAwAA\n",
       "AwGIGO3kYVpJAAAAFQGfLXRF/wAAAwAAAwAAAwAAAwADAwAAABUBny9qRf8AAAMAAAMAAAMAAAMA\n",
       "AwIAAAAlQZs0SahBbJlMCE///fEAAAMAAAMABzuLQAM+z6PiTAAAAwADpgAAABtBn1JFFSxvAAAD\n",
       "AAADAAADAAADAYgY7eRhWkkAAAAVAZ9xdEX/AAADAAADAAADAAADAAMCAAAAFQGfc2pF/wAAAwAA\n",
       "AwAAAwAAAwADAwAAACdBm3hJqEFsmUwIT//98QAAAwAAAwAHO+RhgAvnTlUnVDYAAAMABHwAAAAb\n",
       "QZ+WRRUsbwAAAwAAAwAAAwAAAwGIGO3kYVpJAAAAFQGftXRF/wAAAwAAAwAAAwAAAwADAwAAABUB\n",
       "n7dqRf8AAAMAAAMAAAMAAAMAAwMAAAAcQZu5SahBbJlMCL/6WAAAAwAAAwAAAwAAAwABqwAAEStl\n",
       "iIQAM//+9uy+BTX9n9CXESzF2kpwPiqkgIB3NMAAAAMAAAMAAAMAKkc59Obj4vaLQAAAAwLaAK8C\n",
       "MRf4XWxCuACGnRTK+LY81TJ4XHRlnz6cvzl7XhZhlhn+r9CcZ/l85goGz5Bck20klFNNwAC7I4Gj\n",
       "NCr8MFzFBUwwjFNhDJcWZJBDujBbwmJEhF65d5vLY6PmRixZDLnj+wBWd3SsfXkyMp5iI4TzOmN+\n",
       "OC4lL5MTCZsZSmD+PojrXdSfyWw/q+uyNuqJjpL26fWUM2dgZw4uJPoRFgQt4A2QJnJ5RcPAlcfL\n",
       "iGr0r34YA9p+7EGibP2fCQmzoGbiUFCIf0cz9bROSKSvBR8r4k+YeIU0P+OQ1beNhk+AdT/s51DB\n",
       "Mfyeu4+0tQXTOJvWP23BlJOZZU1z+09IF5Pscn/taUcZ//1I5E9mLKqT0R8D5NCHoz/gLUULrJcd\n",
       "IAVHcCu8OXutrPClFqp3X8Rhi769IfWbnFRsJwNarIfX6wpaQz7AYIdExTn0MIkA1l8hXpvesggV\n",
       "BiOUqXAMQRV/6TkhVYobWevDUUggwp+QbThSX7swtTpxVKnmQUlSsugJL1GxbzwLHWzLbOLjgyEi\n",
       "tTH7C4fTd+EfQMg6tq+W7Bv/xYiMgJZUDWz7/5akRmJ40A62o4jZ8a06i6nD6FfK5yd1cMpSbaws\n",
       "4gpcb30RHpX3TNy9kQnsmHoJ4viu2nxzAWKX6Zyg9B0bYM4HaW1IIcbWvirB8jUE5mR3HRWCivj5\n",
       "VLnxskIRDihqUZ2lYN4kmJJD+y/DBpvIMdEce9pAqRdjUwkPvK9D7okYFHRA6Tkue/995hOi/q7c\n",
       "FzgnPHmqrr6IbF8ULVswFcHB+Ut0WqSOn1a7okDS/+CmPtfaDu2WV/RIuRukGWTSntDmO8cxtp5x\n",
       "72O9cyJAVB2PV/oUsfeU1BxxYUlx9yQam4aW7/3lWplN7d/CZMfawLslBFIvaJO8OQdbU+8QHKGd\n",
       "fCv35QyNhVsOiNw1Du3IygcyQptwroLqR8KIa1g8tHZckh5FOBw4vHQZlfkxMoinYtO32pfoMJQd\n",
       "H6hvNh5yaxmWs8CilaWvbMeKdCFUaSoiFZzI7QPOes3yESrLnlS9oE4mC+Nb9H3mjpXG8WwGIx68\n",
       "QZU4w2B0g09PSav9Fd0i3iSNCnJaS2okOaF7dcgOTlPjQW2zB0DiNVGC8/hFYNtSHOTFF2ktbcOx\n",
       "ca1lcRFI6hf7qv9l2Yb13rqQa6sCnL4ejVwqQVy+rhyfWIE96Tr80/RHY53c0dxFG8UUusT0y3T9\n",
       "5BHQiBupcaIYioOLrS+dJe8jAEeEH2P9AXx2z5lWkTOXtbQLa/TuyvVHmIGz/KWCjA6a1L/TBxtj\n",
       "+K9ea0q6bF2eR5f1qGWaUI/oRhIuPg5SH852BYvvdXuzqbRp9iLTn/UOpy9bKhmz+c6takXhHN/c\n",
       "8cAiCeYRv4XakdOXxG9BLLwn2+4hcsN1mrweGJVlcx+92XPLnCSGQr3zFo2ei6AOhNgJnYz3tvfe\n",
       "E/vRPNtS9FIFJcpxoN2km8VIm5vw10Kl6MGd27He4LCN4TOl8a6YZx/qt1a4FlP37b/ON5lQT8Cs\n",
       "NfDmb3ovyamM5/b9G/plJFBHGmQcxrhIV2yu/s0ezNXv5L5HBbgf1EynPwWC4PYX7B7vvLlxnRGP\n",
       "8aR9iFJM7NgQy7UFqbFtVcFFLQ4i1SKoLUXp7RsI80RzEyvmSK6TpGA9MXnCYKAVejRHfh/012CP\n",
       "K1rjKERsZE+DlW2weZGZHc+o0O3Ktu8A6dsxIygqClgmyG1o7CT0N9jDbkGkneQJhXzcpeOMYgDM\n",
       "NcLn5fHeBq+H2PfNjAy+85wc4mA3IF/DzIRfDkqubYhZ23IFDNxji+8Ca2K8fwLe9LyL/D4Dn55h\n",
       "k/WZBi9lNFPsR2xez6/OZm6B5E/4/PW2GcEt+RcQdA0hWWSoEu1mJPXNjUOAfQ7anFaCVgYn9b5G\n",
       "kvR7K7HAHJy4LdimDtU9lbjrPdGOcIVOwBANdhl/YVn7kaneK/+fTNVYoI+HNmpdrl9ycm2LyWGl\n",
       "JRh/h5dSUJXc50SQpjSX77pbuGq61/1BeAcnMTy6He5BD+FjaWeSMbnueLD/iLWCbOUeNP01+Gm6\n",
       "BS72do5Uq4z3fy7xze6cBkLhkzNiPhyQAW5QNH6Kxkyu+8SwaG0fYr4hQro7L4o5GjAD8U/ojBuN\n",
       "o++OEjQfg81BekhGmSTlUOQEINVWcbSTj6udMMljCNk5LAwNKgb4ZK7JSEndfWMO0Rlh60ZW8zZG\n",
       "ybLvLImFFUpTQb0G5Bi+ygiIGNltI3uKCIoupm5hJlkInrri7xzPMu6JwQnfrHaIpHB3FNnEiZ/v\n",
       "DqiWa+SUsTjEHpmW0oTsN35ylpR+L2Qe12/3ktK3gfJg0cAPDkyJdcrIqXYfAYH/+C3k0sLkWqXh\n",
       "FBMYPT2d+dFzD+CQ0k07f2OoG1Y60kVN106KIsl+mAxKr1XVTReITnnvzOkbjiqGr9gFTPGDpyT/\n",
       "ZUmnsmaKiD1PIg/ah/4hS9JaXpHBjSVxd9Z+DbCFck0UbYMniQ2sshEYnAMPiPHtzcWD6S8wjCyc\n",
       "PuL4uSp02jctKYMyY5M6yYyHCxrNQnv/WFKkMPxJLkaMbDHk7gQSSqPgAAADAGdVET4WiH1iKO3d\n",
       "b5bB2fyvUb4aFccpa2cl0/nyh7WRrh1WnyXaEEqsQCDVcQN/4UnNOioesjJuG/DDqgxkEKuc0QLp\n",
       "hzHcpM3ploRpuZhkABg83D3dO+Rr0PZxLIiawC7YqkipbgV9mGF1vf1wx/As/wyO0WD7+vmmXE0C\n",
       "j8rTz1tDyEVNksPcyA7PhIoaJeJ3JCXlVQRa1oyteh00O3k2OoaDz0JtyGL/Ey4KN1h5phHsm+Ym\n",
       "Y8bnrUzcHePez5CPxdfZ7HYl7N1JjnDTsUEEG33Bq8RH/z5RTvuM0QD3YF+snt5/AT0VsBJPL6Rs\n",
       "Tu8yZY2db1i5LWgSy7BC6eJil2XuzwOagCjMzP+EyyY01BE+XTsjA+bV+yew89NABHMEotFz1HTE\n",
       "AVhB3qZTE3fvM3U4cQAzAR3zECnjSdYFCKzXgn5reQLOhqQFBnH2hKrpmrkq/VVzKh2GgevyiLZ+\n",
       "T9z32ju09w/PrcQjDnmK2echuuo3x1x+eCmD1p3V3dLldRn7vJICkarDYv0CqVazlDeLgMje5eqv\n",
       "1LETm8aXyToAGWCyGABfTE1Az7DMAkZbzA7pXOCEyHyxr4T9jS0J69bWJzA9DTEaRpxvFS06dfIS\n",
       "WiEIZjQ8o7i//r4vf6gEEYIaT/H83jka0bppwNRXCfjTSFCgOEP34mo/LJ5tPLSeDObTuykXZKFC\n",
       "a4j8qWP6R97D63TD77mpOHS//NOIhxDT4b26cTm+6SlMhA1rNoa9pmdOdq8mo6Mk36IrQprzRhNN\n",
       "TQgB+7mLlo+gB+luqF1OQIuT7+yOLPcffiGNLmaz9TZbW37ktKlPvkJ5Xp4AvsFdRrKEC6274SGs\n",
       "xGhal+H9MvXvHAkC0pDI7hil9BNAarz0RSv35btWvrppE49mnF6qlkKINr0kHShWAPV3hGwj1ldS\n",
       "k4p4PdLOabdzPkVRq0rz9q35X0LS7GKQR6K1/qtUjT+779ly7qKoXQeQRPf6vYOMUrTCm18rzG1h\n",
       "I2YqEF7+BOnE4PzKn/SykhmTYIeIRR8aa0PQIG/eR67a+hci4ZjpZnin9IYmAFMZWfhkNe/l+ORc\n",
       "IN+tERlyLl+EM3JPzK4+USIzzAdmCEDlkNz9ETkW13S7eBmSGO9NVkOpgXysOz/qQ+pMu3u/YjE0\n",
       "+jK35V4JmZzNoEKTltWKMaV130IetW9NUKtAuoqO8fhjjyiUe01nosXBwlTOUxvQlQ1l0zSG7V1f\n",
       "ZDv4ZIBn3ox8KLjN5OWPR0ddoM7BiT3HZKEOhiORfcFMwfb/Tkj+UF9DI2hu3L+icYV/2WTafE2u\n",
       "TZkP8vu6w5U6GU9ZozUfeSX9NZyZTvzLVLpVm8lgsU77sFySI+QHpT9mQflm+Aq/g8dNsldo5Wks\n",
       "qJ5//fY7SPaCHzRAygWfLyqpBE2qCHwBcZws1VOvGHSe+ie1T7/J/RkEIGYCkouDVp3QJC9qPXYf\n",
       "mQM17q4/5Jg11uazk69ZVwyNNSc0wIcQHwQRO+dOuks9Tw99ZiL39J95puxZwT5obwNqKZ1RsxFK\n",
       "KXZZPcq4kdTB8vn/7wpraJhJxyesYv2wjjJzrc7fzMchKmO81Rmm5AZTqf/RJ5kJZOT9oGV17dEk\n",
       "PGTTO2KkGNUA1hkBbEaMWRn5ZomszTMTh9kIT7fV4HToGcWzRCB4eGaHNVPMeoaoeDQiUGdWJJkq\n",
       "DzsTBJcWnn5yY+u4L5T4SRkQ3ezeErmKXaj5YjvRi/Qflupvz49UFykRo1wm+7fj/fYgUXsExBAR\n",
       "iABeL4BiH1EMhnPdLW9899cfC7rrL2h7uyGNltKt0Nq30frmYZhgFTPvtGap28KDlV2GZ897ASZ0\n",
       "HZ4BV+pLNysjz3M47eBgM/IjYqZK6vE0C4/oWJMPX4wKfmu/++By05lt46ng82OqlfXAb7irUIep\n",
       "reyY9JprU+yxgZFXEdzPXUBQAK/2aQWcKwrAAGc1gHPKgMuRadkiciLLYsqKkr4wdoCgD+YxIDQq\n",
       "4MFN4IEkGxYOML2HMSCbzadyjlF7zHCCt7Nw95WZyAutxWy5b+dPOjWF9p/pbADqZils45WA2SLV\n",
       "J7JaYNZKtGE7IGFgEnsAUtWBpVwVy2fQ3UyfQGY/+/4EfCwOCXQABCj/NACGOM0CzYYwGHQBQS3x\n",
       "fA8hWumUM3rBO1JLWGkvglXY7hEyCvaATouwx2PefGqM8/NG1g6g9ZrqxsWiRyn1CnKWynE0kOxI\n",
       "k82QaIZBMMoYDKeIJu1zhmpC3BUcgC+AE56sJZ7DilCAEufHAAyEvYDycryTCA6mnziRVKVzSuqL\n",
       "f7F0qeH+On73TKripIQKOUe3Ar7WPMLmp06GMG769TtgRZkhPyaalSPotztEAC1VPumBWXuDULbi\n",
       "ntSNdn51JDoWGLp8tsHiwLnxNIC2YZmrDvgA2nWfP6hG8zBXwystu5zjj30X7ASEI6B62w2CZ91u\n",
       "tLzmp7mKa9UsSbIqwRrzWeAemsxd/Fe7Y0MpI5jQjHuw4AwilSoMNB93gxoQGHV/ZPa7/BWOXvOz\n",
       "i1gBzGFH/ogvL1a5ARZgm2lClj6ZaisEzmHKvZcKIcM187IoNS+/e5jTpeQ02N2IzV6ALE5hV7I4\n",
       "LIwp3UyNAyPncCFwdFFPlRvygAFrSlsrmG8LmqnkNQgYSo8DkQ5zNuVN11FFLhSMsycadhSf8Tdv\n",
       "2UQx1v/EqOQRnqJwe4ymaL/u9AXgRvhG75tvrrlnfqk132f9yCWag1BEjhHveTT82o5ab4tMliAZ\n",
       "vkOUD9GgkapTV46bCJkWOw3cCczu92kyR50U+psPx7Sf/Rf3RI7no/KpyN8xdFbHvcPNE4RLDVeX\n",
       "BRqJm/G6o3H2HAyP8C+bVrfRdD83pOmvzqb9ySdWqMj6t5ifXBDPC7c49Q0H/aoYYCROa6FGyz3l\n",
       "CRCoDYsP4wnXm7tfXWj5j3132ngD2BjSXd/5bEQCf/jWB3Z+HYbEl8VHEa5VWioYQrESNefyoXqN\n",
       "FysCSjqJQXrdv/enNvk8EB8zGXFSM5f+GuIG3e5BqZC579ljsfcba8znHLihzOULL8ZPKxhCZ4ZS\n",
       "nwl1HscrL09VTTEZtXIQxhIWMcUesQqJ6+yp1gNiAiANGXGM+/VhqzO5WxaLM7DpAwzdn2SGuv6e\n",
       "/N1erQ1AWI0PrJwezxX6mlEPJtJBqMF0vhEHimCAQIM7gPxWsd8RL08GYIXkoprSUowQ2oCNgAAA\n",
       "AwAAG/AAAABVQZokbEJ//fEAAAMCkexFkZozfRAIynVUTWTl8MAUk6jx8G+uX7yUMX3hNsiL+M7e\n",
       "2q7zA6EBRJ/fdThY2C3WugkbHnPE5OzIc+tEbrf8bOyRQeAu4AAAAC1BnkJ4jf8AACxF++sL1xHn\n",
       "4ojpPb3RW0px87IarggB3yJJ76OaViqSZDnUAYEAAAAnAZ5hdEX/AAA3LztgIFCwZlTJ+PsaKK53\n",
       "Y43TETkE5BHiqgGR0Qf4AAAAGAGeY2pF/wAAAwAAAwNzqstbDSYXYAAUkAAAACRBmmhJqEFomUwI\n",
       "T//98QAAAwAAAwAD++m7S8qAHZgAAAMAesEAAAAfQZ6GRREsbwAAAwAAAwGcKzQ77nffQXAAAYoC\n",
       "2ik9BQAAABgBnqV0Rf8AAAMAAAMAWHglGG7QAAADAS8AAAAVAZ6nakX/AAADAAADAAADAAADAAMC\n",
       "AAAAJ0GarEmoQWyZTAhP//3xAAADAAADAAc746mAOT4yfw3QAgAAAwAFNAAAAB1BnspFFSxvAAAD\n",
       "AAADAZwrLGckUgAAKNX96MAt4QAAABUBnul0Rf8AAAMAAAMAAAMAAAMAAwIAAAAVAZ7rakX/AAAD\n",
       "AAADAAADAAADAAMCAAAAHkGa8EmoQWyZTAhP//3xAAADAAADAAADAAADAAAi4QAAAB1Bnw5FFSxv\n",
       "AAADAAADAZwrLGckUgAAKNX96MAt4AAAABUBny10Rf8AAAMAAAMAAAMAAAMAAwMAAAAVAZ8vakX/\n",
       "AAADAAADAAADAAADAAMDAAAAJ0GbNEmoQWyZTAhP//3xAAADAAADAAc746mAK00rhqdZbAAAAwAI\n",
       "+AAAAB1Bn1JFFSxvAAADAAADAZwrLGckUgAAKNX96MAt4QAAABUBn3F0Rf8AAAMAAAMAAAMAAAMA\n",
       "AwIAAAAVAZ9zakX/AAADAAADAAADAAADAAMDAAAAHkGbeEmoQWyZTAhP//3xAAADAAADAAADAAAD\n",
       "AAAi4QAAAB1Bn5ZFFSxvAAADAAADAZwrLGckUgAAKNX96MAt4AAAABUBn7V0Rf8AAAMAAAMAAAMA\n",
       "AAMAAwIAAAAVAZ+3akX/AAADAAADAAADAAADAAMDAAAAK0GbvEmoQWyZTAhP//3xAAADAAADAAc7\n",
       "5CZACwOTwkXQghURTWwAAAMACPgAAAAfQZ/aRRUsbwAAAwAAAwGcK0B86hB1vAAAXaVSknOywQAA\n",
       "ABUBn/l0Rf8AAAMAAAMAAAMAAAMAAwIAAAAVAZ/7akX/AAADAAADAAADAAADAAMDAAAAHkGb4Emo\n",
       "QWyZTAhP//3xAAADAAADAAADAAADAAAi4QAAAB1Bnh5FFSxvAAADAAADAZwrLGckUgAAKNX96MAt\n",
       "4QAAABUBnj10Rf8AAAMAAAMAAAMAAAMAAwMAAAAVAZ4/akX/AAADAAADAAADAAADAAMCAAAAKUGa\n",
       "JEmoQWyZTAhP//3xAAADAAADAAc75GGACOz8udbLtTtgAAADAEfAAAAAHUGeQkUVLG8AAAMAAAMB\n",
       "nCssZyRSAAAo1f3owC3hAAAAFQGeYXRF/wAAAwAAAwAAAwAAAwADAgAAABUBnmNqRf8AAAMAAAMA\n",
       "AAMAAAMAAwIAAAAeQZpoSahBbJlMCE///fEAAAMAAAMAAAMAAAMAACLhAAAAHUGehkUVLG8AAAMA\n",
       "AAMBnCssZyRSAAAo1f3owC3hAAAAFQGepXRF/wAAAwAAAwAAAwAAAwADAwAAABUBnqdqRf8AAAMA\n",
       "AAMAAAMAAAMAAwIAAAAnQZqsSahBbJlMCE///fEAAAMAAAMABzvj7AAK6brvw1NmAAADAAHTAAAA\n",
       "HUGeykUVLG8AAAMAAAMBnCssZyRSAAAo1f3owC3hAAAAFQGe6XRF/wAAAwAAAwAAAwAAAwADAgAA\n",
       "ABUBnutqRf8AAAMAAAMAAAMAAAMAAwIAAAAeQZrwSahBbJlMCE///fEAAAMAAAMAAAMAAAMAACLh\n",
       "AAAAHUGfDkUVLG8AAAMAAAMBnCssZyRSAAAo1f3owC3gAAAAFQGfLXRF/wAAAwAAAwAAAwAAAwAD\n",
       "AwAAABUBny9qRf8AAAMAAAMAAAMAAAMAAwMAAAAsQZs0SahBbJlMCE///fEAAAMAAAMABzvkYYAI\n",
       "7OWRYGZVzRIHUNgAAAMAEfAAAAAfQZ9SRRUsbwAAAwAAAwGcK0B86hB1vAAAXaVSknOywQAAABUB\n",
       "n3F0Rf8AAAMAAAMAAAMAAAMAAwIAAAAVAZ9zakX/AAADAAADAAADAAADAAMDAAAAHkGbeEmoQWyZ\n",
       "TAhP//3xAAADAAADAAADAAADAAAi4QAAAB1Bn5ZFFSxvAAADAAADAZwrLGckUgAAKNX96MAt4AAA\n",
       "ABUBn7V0Rf8AAAMAAAMAAAMAAAMAAwIAAAAVAZ+3akX/AAADAAADAAADAAADAAMDAAAALkGbvEmo\n",
       "QWyZTAhP//3xAAADAAADAAc75CZACu/sJLQK99a6HNc6xgIAAAMABTQAAAAfQZ/aRRUsbwAAAwAA\n",
       "AwGcK0B86hB1vAAAXaVSknOywQAAABUBn/l0Rf8AAAMAAAMAAAMAAAMAAwIAAAAVAZ/7akX/AAAD\n",
       "AAADAAADAAADAAMDAAAAJUGb4EmoQWyZTAhP//3xAAADAAADAAc74+wACqT+OmAAAAMAHTEAAAAd\n",
       "QZ4eRRUsbwAAAwAAAwGcKyxnJFIAACjV/ejALeEAAAAVAZ49dEX/AAADAAADAAADAAADAAMDAAAA\n",
       "FQGeP2pF/wAAAwAAAwAAAwAAAwADAgAAACdBmiRJqEFsmUwIT//98QAAAwAAAwAHO+OpgCt9tpJ8\n",
       "vQEAAAMAApoAAAAdQZ5CRRUsbwAAAwAAAwGcKyxnJFIAACjV/ejALeEAAAAVAZ5hdEX/AAADAAAD\n",
       "AAADAAADAAMCAAAAFQGeY2pF/wAAAwAAAwAAAwAAAwADAgAAAB5BmmhJqEFsmUwIT//98QAAAwAA\n",
       "AwAAAwAAAwAAIuEAAAAdQZ6GRRUsbwAAAwAAAwGcKyxnJFIAACjV/ejALeEAAAAVAZ6ldEX/AAAD\n",
       "AAADAAADAAADAAMDAAAAFQGep2pF/wAAAwAAAwAAAwAAAwADAgAAACdBmqxJqEFsmUwIT//98QAA\n",
       "AwAAAwAHO+OpgCt9i+c/sACAAAADAU0AAAAfQZ7KRRUsbwAAAwAAAwGcK0B86hB1vAAAXaVSknOy\n",
       "wQAAABUBnul0Rf8AAAMAAAMAAAMAAAMAAwIAAAAVAZ7rakX/AAADAAADAAADAAADAAMCAAAALEGa\n",
       "8EmoQWyZTAhP//3xAAADAAADAAc75CZACw1oA/vZUaWMcy62AAADAAR9AAAAHUGfDkUVLG8AAAMA\n",
       "AAMBnCssZyRSAAAo1f3owC3gAAAAFQGfLXRF/wAAAwAAAwAAAwAAAwADAwAAABUBny9qRf8AAAMA\n",
       "AAMAAAMAAAMAAwMAAAAsQZs0SahBbJlMCE///fEAAAMAAAMABzvkJkALDhyF/spoTKcGwCAAAAMA\n",
       "U0AAAAAdQZ9SRRUsbwAAAwAAAwGcKyxnJFIAACjV/ejALeEAAAAVAZ9xdEX/AAADAAADAAADAAAD\n",
       "AAMCAAAAFQGfc2pF/wAAAwAAAwAAAwAAAwADAwAAAClBm3hJqEFsmUwIT//98QAAAwAAAwAHO+Op\n",
       "gCrZTAHXqqENbAAAAwAI+QAAAB1Bn5ZFFSxvAAADAAADAZwrLGckUgAAKNX96MAt4AAAABUBn7V0\n",
       "Rf8AAAMAAAMAAAMAAAMAAwIAAAAVAZ+3akX/AAADAAADAAADAAADAAMDAAAAHkGbvEmoQWyZTAhP\n",
       "//3xAAADAAADAAADAAADAAAi4AAAAB1Bn9pFFSxvAAADAAADAZwrLGckUgAAKNX96MAt4QAAABUB\n",
       "n/l0Rf8AAAMAAAMAAAMAAAMAAwIAAAAVAZ/7akX/AAADAAADAAADAAADAAMDAAAAL0Gb4EmoQWyZ\n",
       "TAhP//3xAAADAAADAAc75CZACtwqgIW0E8abZrQBclSYAAADAAdNAAAAH0GeHkUVLG8AAAMAAAMB\n",
       "nCtAfOoQdbwAAF2lUpJzssEAAAAVAZ49dEX/AAADAAADAAADAAADAAMDAAAAFQGeP2pF/wAAAwAA\n",
       "AwAAAwAAAwADAgAAAClBmiRJqEFsmUwIT//98QAAAwAAAwAHO+OpgCoWjk1SYGiqAgAAAwAFNAAA\n",
       "AB1BnkJFFSxvAAADAAADAZwrLGckUgAAKNX96MAt4QAAABUBnmF0Rf8AAAMAAAMAAAMAAAMAAwIA\n",
       "AAAVAZ5jakX/AAADAAADAAADAAADAAMCAAAAK0GaaEmoQWyZTAhP//3xAAADAAADAAc75GGACNLS\n",
       "QHBGKPK5uBAAAAMAKaEAAAAdQZ6GRRUsbwAAAwAAAwGcKyxnJFIAACjV/ejALeEAAAAVAZ6ldEX/\n",
       "AAADAAADAAADAAADAAMDAAAAFQGep2pF/wAAAwAAAwAAAwAAAwADAgAAACtBmqxJqEFsmUwIT//9\n",
       "8QAAAwAAAwAHO+QmQAq1ERi8noulUoBAAAADAKaAAAAAH0GeykUVLG8AAAMAAAMBnCtAfOoQdbwA\n",
       "AF2lUpJzssEAAAAVAZ7pdEX/AAADAAADAAADAAADAAMCAAAAFQGe62pF/wAAAwAAAwAAAwAAAwAD\n",
       "AgAAACpBmvBJqEFsmUwIT//98QAAAwAAAwAHO+OpgCrZu9ZcR3/IV8AAAAMAR8EAAAAdQZ8ORRUs\n",
       "bwAAAwAAAwGcKyxnJFIAACjV/ejALeAAAAAVAZ8tdEX/AAADAAADAAADAAADAAMDAAAAFQGfL2pF\n",
       "/wAAAwAAAwAAAwAAAwADAwAAAClBmzRJqEFsmUwIT//98QAAAwAAAwAHO+RhgAjUb7zGlJBQIAAA\n",
       "AwBTQAAAAB1Bn1JFFSxvAAADAAADAZwrLGckUgAAKNX96MAt4QAAABUBn3F0Rf8AAAMAAAMAAAMA\n",
       "AAMAAwIAAAAVAZ9zakX/AAADAAADAAADAAADAAMDAAAAKUGbeEmoQWyZTAhP//3xAAADAAADAAc7\n",
       "5CZACuFslz2onJJMAAADAAOnAAAAHUGflkUVLG8AAAMAAAMBnCssZyRSAAAo1f3owC3gAAAAFQGf\n",
       "tXRF/wAAAwAAAwAAAwAAAwADAgAAABUBn7dqRf8AAAMAAAMAAAMAAAMAAwMAAAAmQZu8SahBbJlM\n",
       "CE///fEAAAMAAAMABz84N8AKijnfvACAAAADAU0AAAAdQZ/aRRUsbwAAAwAAAwGcKyxnJFIAACjV\n",
       "/ejALeEAAAAVAZ/5dEX/AAADAAADAAADAAADAAMCAAAAFQGf+2pF/wAAAwAAAwAAAwAAAwADAwAA\n",
       "ACpBm+BJqEFsmUwIT//98QAAAwAAAwAHOQYPhmgBQySA/YnlABAAAAMAKaEAAAAdQZ4eRRUsbwAA\n",
       "AwAAAwGcKyxnJFIAACjV/ejALeEAAAAVAZ49dEX/AAADAAADAAADAAADAAMDAAAAFQGeP2pF/wAA\n",
       "AwAAAwAAAwAAAwADAgAAACZBmiRJqEFsmUwIT//98QAAAwAAAwAHO79uAKZKExcAIAAAAwBTQAAA\n",
       "AB1BnkJFFSxvAAADAAADAZwrLGckUgAAKNX96MAt4QAAABUBnmF0Rf8AAAMAAAMAAAMAAAMAAwIA\n",
       "AAAVAZ5jakX/AAADAAADAAADAAADAAMCAAAAIUGaaEmoQWyZTAhP//3xAAADAAADAAc5A53YCAAA\n",
       "AwAU0QAAAB1BnoZFFSxvAAADAAADAZwrLGckUgAAKNX96MAt4QAAABUBnqV0Rf8AAAMAAAMAAAMA\n",
       "AAMAAwMAAAAVAZ6nakX/AAADAAADAAADAAADAAMCAAAALkGarEmoQWyZTAhP//3xAAADAAADAAc7\n",
       "wWEAKkRxtVi/XW8HP5h50lsAAAMAAj4AAAAdQZ7KRRUsbwAAAwAAAwGcKyxnJFIAACjV/ejALeEA\n",
       "AAAVAZ7pdEX/AAADAAADAAADAAADAAMCAAAAFQGe62pF/wAAAwAAAwAAAwAAAwADAgAAACZBmvBJ\n",
       "qEFsmUwIT//98QAAAwAAAwAHO79uAJ5RhB0wAgAAAwAFNQAAAB1Bnw5FFSxvAAADAAADAZwrLGck\n",
       "UgAAKNX96MAt4AAAABUBny10Rf8AAAMAAAMAAAMAAAMAAwMAAAAVAZ8vakX/AAADAAADAAADAAAD\n",
       "AAMDAAAAKUGbNEmoQWyZTAhP//3xAAADAAADAAc5A6btwBRCL5ESUgZMAAADAAOmAAAAHUGfUkUV\n",
       "LG8AAAMAAAMBnCssZyRSAAAo1f3owC3hAAAAFQGfcXRF/wAAAwAAAwAAAwAAAwADAgAAABUBn3Nq\n",
       "Rf8AAAMAAAMAAAMAAAMAAwMAAAAoQZt4SahBbJlMCE///fEAAAMAAAMABzkDpu3AFEG9JLnN8AAA\n",
       "AwAR8QAAAB1Bn5ZFFSxvAAADAAADAZwrLGckUgAAKNX96MAt4AAAABUBn7V0Rf8AAAMAAAMAAAMA\n",
       "AAMAAwIAAAAVAZ+3akX/AAADAAADAAADAAADAAMDAAAAIUGbvEmoQWyZTAhP//3xAAADAAADAAc5\n",
       "A53YCAAAAwAU0AAAAB1Bn9pFFSxvAAADAAADAZwrLGckUgAAKNX96MAt4QAAABUBn/l0Rf8AAAMA\n",
       "AAMAAAMAAAMAAwIAAAAVAZ/7akX/AAADAAADAAADAAADAAMDAAAALUGb4EmoQWyZTAhP//3xAAAD\n",
       "AAADAAc5A6csIAUo6rh/okoLKkjJgAAAAwB0wQAAAB1Bnh5FFSxvAAADAAADAZwrLGckUgAAKNX9\n",
       "6MAt4QAAABUBnj10Rf8AAAMAAAMAAAMAAAMAAwMAAAAVAZ4/akX/AAADAAADAAADAAADAAMCAAAA\n",
       "KUGaJEmoQWyZTAhP//3xAAADAAADAAc5A6cPAAWJz13q82QEAAADAApoAAAAHUGeQkUVLG8AAAMA\n",
       "AAMBnCssZyRSAAAo1f3owC3hAAAAFQGeYXRF/wAAAwAAAwAAAwAAAwADAgAAABUBnmNqRf8AAAMA\n",
       "AAMAAAMAAAMAAwIAAAAhQZpoSahBbJlMCE///fEAAAMAAAMABzkDndgIAAADABTRAAAAHUGehkUV\n",
       "LG8AAAMAAAMBnCssZyRSAAAo1f3owC3hAAAAFQGepXRF/wAAAwAAAwAAAwAAAwADAwAAABUBnqdq\n",
       "Rf8AAAMAAAMAAAMAAAMAAwIAAAApQZqsSahBbJlMCE///fEAAAMAAAMABzu/bgCrZofwvh71kwAA\n",
       "AwAA6YAAAAAfQZ7KRRUsbwAAAwAAAwGcK0B86hB1vAAAXaVSknOywQAAABUBnul0Rf8AAAMAAAMA\n",
       "AAMAAAMAAwIAAAAVAZ7rakX/AAADAAADAAADAAADAAMCAAAAK0Ga8EmoQWyZTAhP//3xAAADAAAD\n",
       "AAc7wWEAK4oifzxAqUFbxLYAAAMABH0AAAAdQZ8ORRUsbwAAAwAAAwGcKyxnJFIAACjV/ejALeAA\n",
       "AAAVAZ8tdEX/AAADAAADAAADAAADAAMDAAAAFQGfL2pF/wAAAwAAAwAAAwAAAwADAwAAACdBmzRJ\n",
       "qEFsmUwIT//98QAAAwAAAwAHO79uAKrEdyabCN8AAAMAAR8AAAAdQZ9SRRUsbwAAAwAAAwGcKyxn\n",
       "JFIAACjV/ejALeEAAAAVAZ9xdEX/AAADAAADAAADAAADAAMCAAAAFQGfc2pF/wAAAwAAAwAAAwAA\n",
       "AwADAwAAACdBm3hJqEFsmUwIT//98QAAAwAAAwAHO8JOACMZGY7TFvgAAAMACPkAAAAdQZ+WRRUs\n",
       "bwAAAwAAAwGcKyxnJFIAACjV/ejALeAAAAAVAZ+1dEX/AAADAAADAAADAAADAAMCAAAAFQGft2pF\n",
       "/wAAAwAAAwAAAwAAAwADAwAAAClBm7xJqEFsmUwIT//98QAAAwAAAwAHO8JOACNJtzgvQV6kwAAA\n",
       "AwA6YAAAAB1Bn9pFFSxvAAADAAADAZwrLGckUgAAKNX96MAt4QAAABUBn/l0Rf8AAAMAAAMAAAMA\n",
       "AAMAAwIAAAAVAZ/7akX/AAADAAADAAADAAADAAMDAAAAKEGb4EmoQWyZTAhP//3xAAADAAADAAc7\n",
       "wWEAK4b5hYqpFyYAAAMAAdMAAAAdQZ4eRRUsbwAAAwAAAwGcKyxnJFIAACjV/ejALeEAAAAVAZ49\n",
       "dEX/AAADAAADAAADAAADAAMDAAAAFQGeP2pF/wAAAwAAAwAAAwAAAwADAgAAACpBmiRJqEFsmUwI\n",
       "T//98QAAAwAAAwAHOQOnScAEJaOFbZuSf5sAAAMAAj4AAAAdQZ5CRRUsbwAAAwAAAwGcKyxnJFIA\n",
       "ACjV/ejALeEAAAAVAZ5hdEX/AAADAAADAAADAAADAAMCAAAAFQGeY2pF/wAAAwAAAwAAAwAAAwAD\n",
       "AgAAACBBmmhJqEFsmUwIT//98QAAAwAAAwAHDmaAIAAAAwBVwQAAAB1BnoZFFSxvAAADAAADAZwr\n",
       "LGckUgAAKNX96MAt4QAAABUBnqV0Rf8AAAMAAAMAAAMAAAMAAwMAAAAVAZ6nakX/AAADAAADAAAD\n",
       "AAADAAMCAAAAKkGarEmoQWyZTAhP//3xAAADAAADAAcZxJqCmARpw5KDr/aWwAAAAwCTgAAAAB1B\n",
       "nspFFSxvAAADAAADAZwrLGckUgAAKNX96MAt4QAAABUBnul0Rf8AAAMAAAMAAAMAAAMAAwIAAAAV\n",
       "AZ7rakX/AAADAAADAAADAAADAAMCAAAAIkGa8EmoQWyZTAhP//3xAAADAAADAAcM9nDzdsAAAAMA\n",
       "k4EAAAAdQZ8ORRUsbwAAAwAAAwGcKyxnJFIAACjV/ejALeAAAAAVAZ8tdEX/AAADAAADAAADAAAD\n",
       "AAMDAAAAFQGfL2pF/wAAAwAAAwAAAwAAAwADAwAAACtBmzRJqEFsmUwIT//98QAAAwAAAwAHDQEs\n",
       "oeyANjWlbFHPVt8mAAADAAHdAAAAHUGfUkUVLG8AAAMAAAMBnCssZyRSAAAo1f3owC3hAAAAFQGf\n",
       "cXRF/wAAAwAAAwAAAwAAAwADAgAAABUBn3NqRf8AAAMAAAMAAAMAAAMAAwMAAAAgQZt4SahBbJlM\n",
       "CE///fEAAAMAAAMABxciNAQAAAMACrkAAAAdQZ+WRRUsbwAAAwAAAwGcKyxnJFIAACjV/ejALeAA\n",
       "AAAVAZ+1dEX/AAADAAADAAADAAADAAMCAAAAFQGft2pF/wAAAwAAAwAAAwAAAwADAwAAACtBm7xJ\n",
       "qEFsmUwIT//98QAAAwAAAwAHFygqmARwDarVEXXw3qyYAAADAAd0AAAAHUGf2kUVLG8AAAMAAAMB\n",
       "nCssZyRSAAAo1f3owC3hAAAAFQGf+XRF/wAAAwAAAwAAAwAAAwADAgAAABUBn/tqRf8AAAMAAAMA\n",
       "AAMAAAMAAwMAAAAhQZvgSahBbJlMCE///fEAAAMAAAMABw0AosQmAAADAAHdAAAAHUGeHkUVLG8A\n",
       "AAMAAAMBnCssZyRSAAAo1f3owC3hAAAAFQGePXRF/wAAAwAAAwAAAwAAAwADAwAAABUBnj9qRf8A\n",
       "AAMAAAMAAAMAAAMAAwIAAAAqQZokSahBbJlMCE///fEAAAMAAAMABwz3YnUwBpHDQCUwhI3wAAAD\n",
       "ABJwAAAAH0GeQkUVLG8AAAMAAAMBnCs/3OpV5bwAAF2lUpJzssEAAAAVAZ5hdEX/AAADAAADAAAD\n",
       "AAADAAMCAAAAFQGeY2pF/wAAAwAAAwAAAwAAAwADAgAAACBBmmhJqEFsmUwIT//98QAAAwAAAwAH\n",
       "FyI0BAAAAwAKuQAAAB1BnoZFFSxvAAADAAADAZwrLGckUgAAKNX96MAt4QAAABUBnqV0Rf8AAAMA\n",
       "AAMAAAMAAAMAAwMAAAAVAZ6nakX/AAADAAADAAADAAADAAMCAAAAKUGarEmoQWyZTAhP//3xAAAD\n",
       "AAADAAcP46mAOJa2gSCH/ZMAAAMAAO6AAAAAHUGeykUVLG8AAAMAAAMBnCssZyRSAAAo1f3owC3h\n",
       "AAAAFQGe6XRF/wAAAwAAAwAAAwAAAwADAgAAABUBnutqRf8AAAMAAAMAAAMAAAMAAwIAAAAqQZrw\n",
       "SahBbJlMCE///fEAAAMAAAMABw/kJkAOSHYtBxi+9vWwAAADACThAAAAHUGfDkUVLG8AAAMAAAMB\n",
       "nCssZyRSAAAo1f3owC3gAAAAFQGfLXRF/wAAAwAAAwAAAwAAAwADAwAAABUBny9qRf8AAAMAAAMA\n",
       "AAMAAAMAAwMAAAAsQZs0SahBbJlMCE///fEAAAMAAAMABw0Ao7Y2AGzKsMHEF0i2lsAAAAMAk4AA\n",
       "AAAdQZ9SRRUsbwAAAwAAAwGcKyxnJFIAACjV/ejALeEAAAAVAZ9xdEX/AAADAAADAAADAAADAAMC\n",
       "AAAAFQGfc2pF/wAAAwAAAwAAAwAAAwADAwAAACBBm3hJqEFsmUwIT//98QAAAwAAAwAHFyI0BAAA\n",
       "AwAKuQAAAB1Bn5ZFFSxvAAADAAADAZwrLGckUgAAKNX96MAt4AAAABUBn7V0Rf8AAAMAAAMAAAMA\n",
       "AAMAAwIAAAAVAZ+3akX/AAADAAADAAADAAADAAMDAAAAHEGbuUmoQWyZTAi/+lgAAAMAAAMAAAMA\n",
       "AAMAAasAABEwZYiCAAz//vbsvgU1/Z/QlxEsxdpKcD4qpICAdzTAAAADAAADAAADACpHOfTm4+L2\n",
       "i0AAAAMC2gCvAjEX+F1sQrgAhp0Uyvi2PNUyeFx0ZZ8+nL85e14WYZYZ/q/QnGf5fOYKBs+QXJNt\n",
       "JJRTTcAAuyOBozQq/DBcxQVMMIxTYQyXFmSQQ7owW8JiRIReuXeby2Oj5kYsWQy54/sAVnd0rH15\n",
       "MjKeYiOE8zpjfjguJS+TEwmbGUpg/j6I613Un8lsP6vrsjbqiY6S9un1lDNnYGcOLiT6ERYELeAN\n",
       "kCZyeUXDwJXHy4hq9K9+GAPafuxBomz9nwkJs6Bm4lBQiH9HM/W0TkikrwUfK+JPmHiFND/jkNW3\n",
       "jYZPgHU/7OdQwTH8nruPtLUF0zib1j9twZSTmWVNc/tPSBeT7HJ/7WlHGf/9SORPZiyqk9EfA+TQ\n",
       "h6M/4C1FC6yXHSAFR3ArvDl7razwpRaqd1/EYYu+vSH1m5xUbCcDWqyH1+sKWkM+wGCHRMU59DCJ\n",
       "ANZfIV6b3rIIFQYjlKlwDEEVf+k5IVWKG1nrw1FIIMKfkG04Ul+7MLU6cVSp5kFJUrLoCS9RsW88\n",
       "Cx1sy2zi44MhIrUx+wuH03fhH0DIOravluwb/8WIjICWVA1s+/+WpEZieNAOtqOI2fGtOoupw+hX\n",
       "yucndXDKUm2sLOIKXG99ER6V90zcvZEJ7Jh6CeL4rtp8cwFil+mcoPQdG2DOB2ltSCHG1r4qwfI1\n",
       "BOZkdx0Vgor4+VS58bJCEQ4oalGdpWDeJJiSQ/svwwabyDHRHHvaQKkXY1MJD7yvQ+6JGBR0QOk5\n",
       "Lnv/feYTov6u3Bc4Jzx5qq6+iGxfFC1bMBXBwflLdFqkjp9Wu6JA0v/gpj7X2g7tllf0SLkbpBlk\n",
       "0p7Q5jvHMbaece9jvXMiQFQdj1f6FLH3lNQccWFJcfckGpuGlu/95VqZTe3fwmTH2sC7JQRSL2iT\n",
       "vDkHW1PvEByhnXwr9+UMjYVbDojcNQ7tyMoHMkKbcK6C6kfCiGtYPLR2XJIeRTgcOLx0GZX5MTKI\n",
       "p2LTt9qX6DCUHR+obzYecmsZlrPAopWlr2zHinQhVGkqIhWcyO0DznrN8hEqy55UvaBOJgvjW/R9\n",
       "5o6VxvFsBiMevEGVOMNgdINPT0mr/RXdIt4kjQpyWktqJDmhe3XIDk5T40FtswdA4jVRgvP4RWDb\n",
       "UhzkxRdpLW3DsXGtZXERSOoX+6r/ZdmG9d66kGurApy+Ho1cKkFcvq4cn1iBPek6/NP0R2Od3NHc\n",
       "RRvFFLrE9Mt0/eQR0IgbqXGiGIqDi60vnSXvIwBHhB9j/QF8ds+ZVpEzl7W0C2v07sr1R5iBs/yl\n",
       "gowOmtS/0wcbY/ivXmtKumxdnkeX9ahlmlCP6EYSLj4OUh/OdgWL73V7s6m0afYi05/1DqcvWyoZ\n",
       "s/nOrWpF4Rzf3PHAIgnmEb+F2pHTl8RvQSy8J9vuIXLDdZq8HhiVZXMfvdlzy5wkhkK98xaNnoug\n",
       "DoTYCZ2M97b33hP70TzbUvRSBSXKcaDdpJvFSJub8NdCpejBndux3uCwjeEzpfGumGcf6rdWuBZT\n",
       "9+2/zjeZUE/ArDXw5m96L8mpjOf2/Rv6ZSRQRxpkHMa4SFdsrv7NHszV7+S+RwW4H9RMpz8FguD2\n",
       "F+we77y5cZ0Rj/GkfYhSTOzYEMu1BamxbVXBRS0OItUiqC1F6e0bCPNEcxMr5kiuk6RgPTF5wmCg\n",
       "FXo0R34f9Ndgjyta4yhEbGRPg5VtsHmRmR3PqNDtyrbvAOnbMSMoKgpYJshtaOwk9DfYw25BpJ3k\n",
       "CYV83KXjjGIAzDXC5+Xx3gavh9j3zYwMvvOcHOJgNyBfw8yEXw5Krm2IWdtyBQzcY4vvAmtivH8C\n",
       "3vS8i/w+A5+eYZP1mQYvZTRT7EdsXs+vzmZugeRP+Pz1thnBLfkXEHQNIVlkqBLtZiT1zY1DgH0O\n",
       "2pxWglYGJ/W+RpL0eyuxwBycuC3Ypg7VPZW46z3RjnCFTsAQDXYZf2FZ+5Gp3iv/n0zVWKCPhzZq\n",
       "Xa5fcnJti8lhpSUYf4eXUlCV3OdEkKY0l++6W7hqutf9QXgHJzE8uh3uQQ/hY2lnkjG57niw/4i1\n",
       "gmzlHjT9NfhpugUu9naOVKuM938u8c3unAZC4ZMzYj4ckAFuUDR+isZMrvvEsGhtH2K+IUK6Oy+K\n",
       "ORowA/FP6IwbjaPvjhI0H4PNQXpIRpkk5VDkBCDVVnG0k4+rnTDJYwjZOSwMDSoG+GSuyUhJ3X1j\n",
       "DtEZYetGVvM2Rsmy7yyJhRVKU0G9BuQYvsoIiBjZbSN7igiKLqZuYSZZCJ664u8czzLuicEJ36x2\n",
       "iKRwdxTZxImf7w6olmvklLE4xB6ZltKE7Dd+cpaUfi9kHtdv95LSt4HyYNHADw5MiXXKyKl2HwGB\n",
       "//gt5NLC5Fql4RQTGD09nfnRcw/gkNJNO39jqBtWOtJFTddOiiLJfpgMSq9V1U0XiE5578zpG44q\n",
       "hq/YBUzxg6ck/2VJp7Jmiog9TyIP2of+IUvSWl6RwY0lcXfWfg2whXJNFG2DJ4kNrLIRGJwDD4jx\n",
       "7c3Fg+kvMIwsnD7i+LkqdNo3LSmDMmOTOsmMhwsazUJ7/1hSpDD8SS5GjGwx5O4EEkqj4AAAAwBn\n",
       "VRE+Foh9Yijt3W+Wwdn8r1G+GhXHKWtnJdP58oe1ka4dVp8l2hBKrEAg1XEDf+FJzToqHrIybhvw\n",
       "w6oMZBCrnNEC6Ycx3KTN6ZaEabmYZAAYPNw93Tvka9D2cSyImsAu2KpIqW4FfZhhdb39cMfwLP8M\n",
       "jtFg+/r5plxNAo/K089bQ8hFTZLD3MgOz4SKGiXidyQl5VUEWtaMrXodNDt5NjqGg89Cbchi/xMu\n",
       "CjdYeaYR7JvmJmPG561M3B3j3s+Qj8XX2ex2JezdSY5w07FBBBt9wavER/8+UU77jNEA92BfrJ7e\n",
       "fwE9FbASTy+kbE7vMmWNnW9YuS1oEsuwQuniYpdl7s8DmoAozMz/hMsmNNQRPl07IwPm1fsnsPPT\n",
       "QARzBKLRc9R0xAFYQd6mUxN37zN1OHEAMwEd8xAp40nWBQis14J+a3kCzoakBQZx9oSq6Zq5Kv1V\n",
       "cyodhoHr8oi2fk/c99o7tPcPz63EIw55itnnIbrqN8dcfngpg9ad1d3S5XUZ+7ySApGqw2L9AqlW\n",
       "s5Q3i4DI3uXqr9SxE5vGl8k6ABlgshgAX0xNQM+wzAJGW8wO6VzghMh8sa+E/Y0tCevW1icwPQ0x\n",
       "Gkacbwetzd1CxYtSpH55R3F//Xxe/1AIIwQ0n+P5vHI1o3TTgaiuE/GdmcPp40TxuKli0IClQboq\n",
       "stRad2Ui7JQoTXEflSx/SPvMEaf+ilRnl50/Q93sPgzKVarAvU2IKW8c+twDJBG1vBN0WtuovJqO\n",
       "jJN+iK0Ka80T1yAbr5OsxctH0AP0t1QupyBFyff2RxZ7kNEOysmvX2B4Ag86Ca4dd98hPK9PAF9g\n",
       "rqNZQgXW2dsGx5kzg3hf9cahmcCQLSkMjuGKX0E0BqvPRFK/flu1a+umkTj2acXqqWQog2vSQdKF\n",
       "YA9XeEbCPWV1KTing90s5pt3M+RVGrSvP2rflfQtLsYpBHorX+q1SNP7vv2XLuoqhdB5BE9/q9g4\n",
       "xStMKbXyvMbWEjZioQXv4E6cTg/Mqf9LKSGZNgh4hFHxprQ9Agb95Hrtr6FyLhmOlmeKf0hiYAUx\n",
       "lZ+GQ17+X45Fwg360RGXIuX4Qzck/Mrj5RIjLMBmn/OWdjSUn/cUEaP5q146nupSAp1cjcczWwL9\n",
       "4QOImXb3fsPaL84QWLi0CcM8m9IFCYNVHR554yua/5NcdEdjYQRM2LQVwd24+aqu5MDVZ7izg4Iw\n",
       "iS38wIUc80xJ0vg51iJ5O7INPHd0tGoJmLhoDKW75iiCbmhDD6BoJ+zO5H62IJnVnq4WrVsX1Vtd\n",
       "5gGX6yCeJnGDl6Q9yJAfORsGgc5AzYnS4HbIv5TQVTUYIdwvH5X1L3gDKsM0TA/nkvXIa2lk1SrJ\n",
       "REXFfPtmCCGsjkN5SWbRF0acxJhMLlZoqOxOaimA/9ReJhxYesPkxPVzVYljEVehdH7kqONLEWmp\n",
       "GRad3Jn1mXfaaDJPB6Vlte7FUqL9ZsBP1tQF7l0CAxD2ywI7UCyRybQjNthJUywNpUvRqQVlihag\n",
       "oLR8wKQIuM5GYxGief0+eG5+P2clo1xl8D50odXVA2pwupefmQgiiPtt1Q0o6LQKCJJYnCqn6GBN\n",
       "Ff92LVPUSFMYIdzJfUrXfi1BK/uhq7R9u2VU37ZwZxjwVtTp/sNuUN4Evuazlr9rTQL1K3pDkioL\n",
       "8zLElAK5fEY8/iFEBwIm4j8sMPOZ5M4XlO7Gw0CYoN8LeevIRjKRXUuLoblOwUSGqa9oI40F7gNh\n",
       "Jynr+R+SPhLK5GpHF8D1AAEE1Awuz6NAWbGFALf+nOCqvvYYxzWwu7X+sr1bBZLYry7VFqNDqlzR\n",
       "VxnBkzW44N/R+pv8nMge5bT/LfH+7gDVhlsd0ATQEf1H+x17XcIV15Yqon0eoYKhlMmQahwyhoW8\n",
       "dXJn/YQl/JwNCRtJEcKMz+4+afWcB4sUn5GwMvr+Bxj7fz/DxsLYtgAHmzwGK9QIJhgK5YYt23Ca\n",
       "u2A5uvy5kQDRXExlf+mUHJlWG/3hq27J80nv2sOTkcoAlCjnI0y5oWo3UBBmOQF1uKsWVftlzo1h\n",
       "faf6WwBE1t4+pVWlI4Ue4nffRiF2Y5YjgSti0T2AKWrA2+VUBbPobqZPoDP//j4C7WlQk/IAAU6l\n",
       "KX0AGw1goJnA8QSmKyAzyc6C8CGqdU6NcE7UktYaS+CVdkGeTlM+YBS0Xb9E7dkDKr8/NG1g6g9Z\n",
       "rwa+LRI5T6hTlGb3DRdm2hKWci9iwgSuaGAyniCbtc4RTIW4KjkAXTcJNihLPYcUosAfCQWAETSg\n",
       "gblQCfdk6SMT8SKpSuaV1SD/JOq32yn7fe6R+sVLsVyhVokzNVaTtC6dOhjBu+vU+s8TZLT8mmpU\n",
       "j6Lc7abB0T55j5/Hcg1C24p7UjXZ+WEACM9HgyJsXHLoBG1IrbMMzWSdJK+FqvCv/Bl2GrifKwVk\n",
       "4EPT1j3SyEI6B62wUiZ91utLzmp7mZP0yb7UN8tjZsc8A9NZi7+K92xsimE5nRw3dhwBhFKlQYaD\n",
       "7vBjO/W9xTC7swoC2iJsBFROADmMKP/OpeXq1yAizBNtKFLnGt9x3xWFV69lwohwzXzsig1L8D8i\n",
       "c7Y/S8ECQ9QSIAsTmFXsjgsjCmMrNE4EGyQIXB0UU+VG/KAAXR9zUHsYGDJ0coxqclLx4Fs45Ko/\n",
       "KdgMbhxgq8rf2eifT/ge1f0wPf3QRMT+6TcB7TIdO0DzSJ0Kfm0Q3zEcP1rrxbgeZ7v+4WFdQagi\n",
       "PQcJJ0AgujKFolF9NWu4yZmKB+gdIe0fV46bCJkWKw3cCczu92k0BZv0Amro0hu/+i/v3EIyj8wH\n",
       "I3zF0Vse9w8EThEql+iKEzpBKzZUx+QlIH8d+drFSokx0Pzek6a/OprDzd1aofFT4mJ9cEM8LtuM\n",
       "lDQf9qhhgJDZrlYWrx+j8+zE0tORyCdebu19daO6L/MezHNsCaEpwXi7YggT/8yvu7Pw7DYkvio4\n",
       "jmq6QdDCFYiRkh+VC9RoxlgSUdRKC9bt//05t8m9Ukf0Rag5Pu7BviBt3uQamQufHA3+MIuOIQWq\n",
       "m1HJzlC0/GTysYQmeGUp8HWR7HKy9PVU0xRv1yEMYSFjHGILEKievsqdYDYgHKCY0pavv1YaszuV\n",
       "sWizOtKQNvgnLGu6KD0LVQTAZbUVfJT0a5Y+gN+ppRDys4KajBdL4RB4pgiDoFQhaCLCwUXAQDdt\n",
       "FHIoU6tKUYIbUBGwAAADAAADA38AAABYQZokbEJ//fEAAAMCkexFkZozfRAIynVUTWTl8MAUk6jx\n",
       "8G+uX7yUMX3hNsiL+VXinluteTqWDiCPbqfOM/qgB6GQG4HcUckvhRIHjYe1YOMK4BE7UIhxwAAA\n",
       "AC5BnkJ4jf8AACxF++sL1xHn4ojpPb3RW0pyiU/fwyOAApZGb088ZEFaPWQ4gAH/AAAAJwGeYXRF\n",
       "/wAANy87YCBQsGZUyfj7Giiud2OreG9AxGCncBLCLsrEvQAAABgBnmNqRf8AAAMAAAMDc6rLWw0m\n",
       "F2AAFJEAAAAlQZpoSahBaJlMCE///fEAAAMAAAMABw1l1daP+AZEQAAAAwBiwQAAAB5BnoZFESxv\n",
       "AAADAAADAZwrP90GksfAAALJOpxpXZYAAAAWAZ6ldEX/AAADAAADAFh39aAAAAMB3QAAABUBnqdq\n",
       "Rf8AAAMAAAMAAAMAAAMAAwMAAAApQZqsSahBbJlMCE///fEAAAMAAAMABxGNXcAaOTeY3bSOAEAA\n",
       "AAMAq4AAAAAbQZ7KRRUsbwAAAwAAAwGcKyVAAABVFA50tlvIAAAAFQGe6XRF/wAAAwAAAwAAAwAA\n",
       "AwADAwAAABUBnutqRf8AAAMAAAMAAAMAAAMAAwMAAAAiQZrwSahBbJlMCE///fEAAAMAAAMABwzx\n",
       "oPt2wAAAAwCTgQAAABtBnw5FFSxvAAADAAADAZwrJUAAAFUUDnS2W8gAAAAVAZ8tdEX/AAADAAAD\n",
       "AAADAAADAAMCAAAAFQGfL2pF/wAAAwAAAwAAAwAAAwADAwAAACFBmzRJqEFsmUwIT//98QAAAwAA\n",
       "AwAHDQYYNgIAAAMABVwAAAAbQZ9SRRUsbwAAAwAAAwGcKyVAAABVFA50tlvIAAAAFQGfcXRF/wAA\n",
       "AwAAAwAAAwAAAwADAwAAABUBn3NqRf8AAAMAAAMAAAMAAAMAAwIAAAAhQZt4SahBbJlMCE///fEA\n",
       "AAMAAAMABw0FmDkmAAADAAHdAAAAG0GflkUVLG8AAAMAAAMBnCslQAAAVRQOdLZbyQAAABUBn7V0\n",
       "Rf8AAAMAAAMAAAMAAAMAAwIAAAAVAZ+3akX/AAADAAADAAADAAADAAMDAAAAKUGbvEmoQWyZTAhP\n",
       "//3xAAADAAADAAcNZb5lDQBLozGW5cAIAAADABVwAAAAG0Gf2kUVLG8AAAMAAAMBnCslQAAAVRQO\n",
       "dLZbyQAAABUBn/l0Rf8AAAMAAAMAAAMAAAMAAwMAAAAVAZ/7akX/AAADAAADAAADAAADAAMCAAAA\n",
       "IEGb4EmoQWyZTAhP//3xAAADAAADAAcTMmrYAAADABJwAAAAG0GeHkUVLG8AAAMAAAMBnCslQAAA\n",
       "VRQOdLZbyQAAABUBnj10Rf8AAAMAAAMAAAMAAAMAAwIAAAAVAZ4/akX/AAADAAADAAADAAADAAMD\n",
       "AAAALEGaJEmoQWyZTAhP//3xAAADAAADABaqKfAJrk1fjM+xUFy0UWm3AAADAAImAAAAG0GeQkUV\n",
       "LG8AAAMAAAMBnCslQAAAVRQOdLZbyQAAABUBnmF0Rf8AAAMAAAMAAAMAAAMAAwMAAAAVAZ5jakX/\n",
       "AAADAAADAAADAAADAAMDAAAAJUGaaEmoQWyZTAhP//3xAAADAAADAAcPwHgATWvVpQIAAAMABV0A\n",
       "AAAbQZ6GRRUsbwAAAwAAAwGcKyVAAABVFA50tlvIAAAAFQGepXRF/wAAAwAAAwAAAwAAAwADAgAA\n",
       "ABUBnqdqRf8AAAMAAAMAAAMAAAMAAwMAAAAwQZqsSahBbJlMCE///fEAAAMAAAMAFrbOhcALQ5ge\n",
       "0yKrfZn0FpilewXAAAADAOqAAAAAG0GeykUVLG8AAAMAAAMBnCslQAAAVRQOdLZbyAAAABUBnul0\n",
       "Rf8AAAMAAAMAAAMAAAMAAwMAAAAVAZ7rakX/AAADAAADAAADAAADAAMDAAAAJ0Ga8EmoQWyZTAhP\n",
       "//3xAAADAAADABYwMj7eAA6RCdrAgAAAAwBtwQAAAB5Bnw5FFSxvAAADAAADAZwsi951AAADAXO6\n",
       "gRAAt4AAAAAVAZ8tdEX/AAADAAADAAADAAADAAMCAAAAFQGfL2pF/wAAAwAAAwAAAwAAAwADAwAA\n",
       "AChBmzRJqEFsmUwIT//98QAAAwAAAwAWMDsJdwBycyDP8kgIAAADAAbcAAAAG0GfUkUVLG8AAAMA\n",
       "AAMBnCslQAAAVRQOdLZbyAAAABUBn3F0Rf8AAAMAAAMAAAMAAAMAAwMAAAAVAZ9zakX/AAADAAAD\n",
       "AAADAAADAAMCAAAAIEGbeEmoQWyZTAhP//3xAAADAAADABYYY8WwAAADAAwJAAAAG0GflkUVLG8A\n",
       "AAMAAAMBnCslQAAAVRQOdLZbyQAAABUBn7V0Rf8AAAMAAAMAAAMAAAMAAwIAAAAVAZ+3akX/AAAD\n",
       "AAADAAADAAADAAMDAAAAKEGbvEmoQWyZTAhP//3xAAADAAADABYpKfLoAdAAXhak6YAAAAMAJuAA\n",
       "AAAdQZ/aRRUsbwAAAwAAAwGcLIlAgIAAALojNwT/D8EAAAAVAZ/5dEX/AAADAAADAAADAAADAAMD\n",
       "AAAAFQGf+2pF/wAAAwAAAwAAAwAAAwADAgAAACdBm+BJqEFsmUwIT//98QAAAwAAAwAWEpND7PAG\n",
       "WVmP9vgAAAMAAwIAAAAbQZ4eRRUsbwAAAwAAAwGcKyVAAABVFA50tlvJAAAAFQGePXRF/wAAAwAA\n",
       "AwAAAwAAAwADAgAAABUBnj9qRf8AAAMAAAMAAAMAAAMAAwMAAAApQZokSahBbJlMCE///fEAAAMA\n",
       "AAMAFhZy7gCsuSd69mQ0PLYAAAMAAYEAAAAdQZ5CRRUsbwAAAwAAAwGcLIlAgIAAALojNwT/D8EA\n",
       "AAAVAZ5hdEX/AAADAAADAAADAAADAAMDAAAAFQGeY2pF/wAAAwAAAwAAAwAAAwADAwAAACBBmmhJ\n",
       "qEFsmUwIT//98QAAAwAAAwAWM5wlbAAAAwADAwAAABtBnoZFFSxvAAADAAADAZwrJUAAAFUUDnS2\n",
       "W8gAAAAVAZ6ldEX/AAADAAADAAADAAADAAMCAAAAFQGep2pF/wAAAwAAAwAAAwAAAwADAwAAACpB\n",
       "mqxJqEFsmUwIT//98QAAAwAAAwAWJcwFO4ArRJFpBlFQWwAAAwAAwIAAAAAdQZ7KRRUsbwAAAwAA\n",
       "AwGcLIlAgIAAALojNwT/D8AAAAAVAZ7pdEX/AAADAAADAAADAAADAAMDAAAAFQGe62pF/wAAAwAA\n",
       "AwAAAwAAAwADAwAAAChBmvBJqEFsmUwIT//98QAAAwAAAwAWJhtCcAF+e2IyltEwAAADAATdAAAA\n",
       "G0GfDkUVLG8AAAMAAAMBnCslQAAAVRQOdLZbyAAAABUBny10Rf8AAAMAAAMAAAMAAAMAAwIAAAAV\n",
       "AZ8vakX/AAADAAADAAADAAADAAMDAAAAIUGbNEmoQWyZTAhP//3xAAADAAADABYqtzHgQAAAAwA2\n",
       "4AAAABtBn1JFFSxvAAADAAADAZwrJUAAAFUUDnS2W8gAAAAVAZ9xdEX/AAADAAADAAADAAADAAMD\n",
       "AAAAFQGfc2pF/wAAAwAAAwAAAwAAAwADAgAAACBBm3hJqEFsmUwIT//98QAAAwAAAwAWI7zStgAA\n",
       "AwABgQAAABtBn5ZFFSxvAAADAAADAZwrJUAAAFUUDnS2W8kAAAAVAZ+1dEX/AAADAAADAAADAAAD\n",
       "AAMCAAAAFQGft2pF/wAAAwAAAwAAAwAAAwADAwAAAChBm7xJqEFsmUwIT//98QAAAwAAAwAWFlre\n",
       "AHPfJem8+ZX4AAADAAMCAAAAG0Gf2kUVLG8AAAMAAAMBnCslQAAAVRQOdLZbyQAAABUBn/l0Rf8A\n",
       "AAMAAAMAAAMAAAMAAwMAAAAVAZ/7akX/AAADAAADAAADAAADAAMCAAAAJUGb4EmoQWyZTAhP//3x\n",
       "AAADAAADABYjmQ+AA22DEwAAAwAATcAAAAAbQZ4eRRUsbwAAAwAAAwGcKyVAAABVFA50tlvJAAAA\n",
       "FQGePXRF/wAAAwAAAwAAAwAAAwADAgAAABUBnj9qRf8AAAMAAAMAAAMAAAMAAwMAAAAmQZokSahB\n",
       "bJlMCE///fEAAAMAAAMAFhZR0AL3n1lVzAQAAAMAA24AAAAbQZ5CRRUsbwAAAwAAAwGcKyVAAABV\n",
       "FA50tlvJAAAAFQGeYXRF/wAAAwAAAwAAAwAAAwADAwAAABUBnmNqRf8AAAMAAAMAAAMAAAMAAwMA\n",
       "AAAeQZpoSahBbJlMCE///fEAAAMAAAMAAAMAAAMAACLhAAAAG0GehkUVLG8AAAMAAAMBnCslQAAA\n",
       "VRQOdLZbyAAAABUBnqV0Rf8AAAMAAAMAAAMAAAMAAwIAAAAVAZ6nakX/AAADAAADAAADAAADAAMD\n",
       "AAAAKkGarEmoQWyZTAhP//3xAAADAAADABYaPXAEI7IXeQjR3sJCYAAAAwAJuAAAABtBnspFFSxv\n",
       "AAADAAADAZwrJUAAAFUUDnS2W8gAAAAVAZ7pdEX/AAADAAADAAADAAADAAMDAAAAFQGe62pF/wAA\n",
       "AwAAAwAAAwAAAwADAwAAACFBmvBJqEFsmUwIT//98QAAAwAAAwAVoDL/ICAAAAMAHBEAAAAbQZ8O\n",
       "RRUsbwAAAwAAAwGcKyVAAABVFA50tlvIAAAAFQGfLXRF/wAAAwAAAwAAAwAAAwADAgAAABUBny9q\n",
       "Rf8AAAMAAAMAAAMAAAMAAwMAAAAgQZs0SahBbJlMCE///fEAAAMAAAMAFYjZa2AAAAMAGLAAAAAb\n",
       "QZ9SRRUsbwAAAwAAAwGcKyVAAABVFA50tlvIAAAAFQGfcXRF/wAAAwAAAwAAAwAAAwADAwAAABUB\n",
       "n3NqRf8AAAMAAAMAAAMAAAMAAwIAAAAeQZt4SahBbJlMCE///fEAAAMAAAMAAAMAAAMAACLhAAAA\n",
       "G0GflkUVLG8AAAMAAAMBnCslQAAAVRQOdLZbyQAAABUBn7V0Rf8AAAMAAAMAAAMAAAMAAwIAAAAV\n",
       "AZ+3akX/AAADAAADAAADAAADAAMDAAAAJkGbvEmoQWyZTAhP//3xAAADAAADABWI64YAHFqYcdb4\n",
       "AAADAAMWAAAAHUGf2kUVLG8AAAMAAAMBnCxvZ3IAAAMBzuFn7fw/AAAAFQGf+XRF/wAAAwAAAwAA\n",
       "AwAAAwADAwAAABUBn/tqRf8AAAMAAAMAAAMAAAMAAwIAAAAmQZvgSahBbJlMCE///fEAAAMAAAMA\n",
       "FYp+6AEZC3AEKmAAAAMACggAAAAdQZ4eRRUsbwAAAwAAAwGcLG9ncgAAAwHO4Wft/D8AAAAVAZ49\n",
       "dEX/AAADAAADAAADAAADAAMCAAAAFQGeP2pF/wAAAwAAAwAAAwAAAwADAwAAACVBmiRJqEFsmUwI\n",
       "T//98QAAAwAAAwAViOu+AAhbBiYAAAMAAKCAAAAAG0GeQkUVLG8AAAMAAAMBnCslQAAAVRQOdLZb\n",
       "yQAAABUBnmF0Rf8AAAMAAAMAAAMAAAMAAwMAAAAVAZ5jakX/AAADAAADAAADAAADAAMDAAAAJ0Ga\n",
       "aEmoQWyZTAhP//3xAAADAAADABWnR2R6AEZFXG8WwAAAAwAxYQAAABtBnoZFFSxvAAADAAADAZwr\n",
       "JUAAAFUUDnS2W8gAAAAVAZ6ldEX/AAADAAADAAADAAADAAMCAAAAFQGep2pF/wAAAwAAAwAAAwAA\n",
       "AwADAwAAAChBmqxJqEFsmUwIT//98QAAAwAAAwAVhlHQAcXgyr26QG+AAAADADFgAAAAHUGeykUV\n",
       "LG8AAAMAAAMBnCxutk+QAAAOfpFnb+H4AAAAFgGe6XRF/wAAAwAAAwHPLBgAAAMAAm8AAAAVAZ7r\n",
       "akX/AAADAAADAAADAAADAAMDAAAAJUGa8EmoQWyZTAhP//3xAAADAAADABWBy1GdgAIRiPgAAAMA\n",
       "AxcAAAAbQZ8ORRUsbwAAAwAAAwGcKyVAAABVFA50tlvIAAAAFQGfLXRF/wAAAwAAAwAAAwAAAwAD\n",
       "AgAAABUBny9qRf8AAAMAAAMAAAMAAAMAAwMAAAAnQZs0SahBbJlMCE///fEAAAMAAAMAFZalR2AF\n",
       "OnkS10CAAAADAHBAAAAAHUGfUkUVLG8AAAMAAAMBnCxutk+QAAAOfpFnb+H4AAAAFQGfcXRF/wAA\n",
       "AwAAAwAAAwAAAwADAwAAABUBn3NqRf8AAAMAAAMAAAMAAAMAAwIAAAAhQZt4SahBbJlMCE///fEA\n",
       "AAMAAAMAFZOw9WBAAAADADghAAAAG0GflkUVLG8AAAMAAAMBnCslQAAAVRQOdLZbyQAAABUBn7V0\n",
       "Rf8AAAMAAAMAAAMAAAMAAwIAAAAVAZ+3akX/AAADAAADAAADAAADAAMDAAAAJUGbvEmoQWyZTAhP\n",
       "//3xAAADAAADABWTreXkAb79EwAAAwAAUEAAAAAbQZ/aRRUsbwAAAwAAAwGcKyVAAABVFA50tlvJ\n",
       "AAAAFQGf+XRF/wAAAwAAAwAAAwAAAwADAwAAABUBn/tqRf8AAAMAAAMAAAMAAAMAAwIAAAAqQZvg\n",
       "SahBbJlMCE///fEAAAMAAAMAFZbOSwAHMGKNEBAGEmVgAAADABiwAAAAG0GeHkUVLG8AAAMAAAMB\n",
       "nCslQAAAVRQOdLZbyQAAABUBnj10Rf8AAAMAAAMAAAMAAAMAAwIAAAAVAZ4/akX/AAADAAADAAAD\n",
       "AAADAAMDAAAAJ0GaJEmoQWyZTAhP//3xAAADAAADABT6fugBF/Pe8Wl8mAAAAwACkgAAABtBnkJF\n",
       "FSxvAAADAAADAZwrJUAAAFUUDnS2W8kAAAAVAZ5hdEX/AAADAAADAAADAAADAAMDAAAAFQGeY2pF\n",
       "/wAAAwAAAwAAAwAAAwADAwAAACFBmmhJqEFsmUwIT//98QAAAwAAAwAVEDL/ICAAAAMAHNEAAAAb\n",
       "QZ6GRRUsbwAAAwAAAwGcKyVAAABVFA50tlvIAAAAFQGepXRF/wAAAwAAAwAAAwAAAwADAgAAABUB\n",
       "nqdqRf8AAAMAAAMAAAMAAAMAAwMAAAAeQZqsSahBbJlMCE///fEAAAMAAAMAAAMAAAMAACLgAAAA\n",
       "G0GeykUVLG8AAAMAAAMBnCslQAAAVRQOdLZbyAAAABUBnul0Rf8AAAMAAAMAAAMAAAMAAwMAAAAV\n",
       "AZ7rakX/AAADAAADAAADAAADAAMDAAAAJkGa8EmoQWyZTAhP//3xAAADAAADABT6fugA42Kccot8\n",
       "AAADAAGVAAAAHUGfDkUVLG8AAAMAAAMBnCxUmHmAAAFAuoEQALeAAAAAFQGfLXRF/wAAAwAAAwAA\n",
       "AwAAAwADAgAAABUBny9qRf8AAAMAAAMAAAMAAAMAAwMAAAAeQZs0SahBbJlMCEf//eEAAAMAAAMA\n",
       "AAMAAAMAADegAAAAG0GfUkUVLG8AAAMAAAMBnCslQAAAVRQOdLZbyAAAABUBn3F0Rf8AAAMAAAMA\n",
       "AAMAAAMAAwMAAAAVAZ9zakX/AAADAAADAAADAAADAAMCAAAAHkGbeEmoQWyZTAhH//3hAAADAAAD\n",
       "AAADAAADAAA3oQAAABtBn5ZFFSxvAAADAAADAZwrJUAAAFUUDnS2W8kAAAAVAZ+1dEX/AAADAAAD\n",
       "AAADAAADAAMCAAAAFQGft2pF/wAAAwAAAwAAAwAAAwADAwAAABxBm7xJqEFsmUwIv/pYAAADAAAD\n",
       "AAADAAADAAGrAAAAG0Gf2kUVLG8AAAMAAAMBnCslQAAAVRQOdLZbyQAAABUBn/l0Rf8AAAMAAAMA\n",
       "AAMAAAMAAwMAAAAVAZ/7akX/AAADAAADAAADAAADAAMCAABGjm1vb3YAAABsbXZoZAAAAAAAAAAA\n",
       "AAAAAAAAA+gAADg2AAEAAAEAAAAAAAAAAAAAAAABAAAAAAAAAAAAAAAAAAAAAQAAAAAAAAAAAAAA\n",
       "AAAAQAAAAAAAAAAAAAAAAAAAAAAAAAAAAAAAAAAAAAAAAAIAAEW4dHJhawAAAFx0a2hkAAAAAwAA\n",
       "AAAAAAAAAAAAAQAAAAAAADg2AAAAAAAAAAAAAAAAAAAAAAABAAAAAAAAAAAAAAAAAAAAAQAAAAAA\n",
       "AAAAAAAAAAAAQAAAAALQAAAC0AAAAAAAJGVkdHMAAAAcZWxzdAAAAAAAAAABAAA4NgAAAQAAAQAA\n",
       "AABFMG1kaWEAAAAgbWRoZAAAAAAAAAAAAAAAAAAAMgAAAs+AVcQAAAAAAC1oZGxyAAAAAAAAAAB2\n",
       "aWRlAAAAAAAAAAAAAAAAVmlkZW9IYW5kbGVyAAAARNttaW5mAAAAFHZtaGQAAAABAAAAAAAAAAAA\n",
       "AAAkZGluZgAAABxkcmVmAAAAAAAAAAEAAAAMdXJsIAAAAAEAAESbc3RibAAAALNzdHNkAAAAAAAA\n",
       "AAEAAACjYXZjMQAAAAAAAAABAAAAAAAAAAAAAAAAAAAAAALQAtAASAAAAEgAAAAAAAAAAQAAAAAA\n",
       "AAAAAAAAAAAAAAAAAAAAAAAAAAAAAAAAAAAAABj//wAAADFhdmNDAWQAIP/hABhnZAAgrNlAtBbo\n",
       "QAAAAwBAAAAyA8YMZYABAAZo6+PLIsAAAAAcdXVpZGtoQPJfJE/FujmlG88DI/MAAAAAAAAAGHN0\n",
       "dHMAAAAAAAAAAQAABZ8AAACAAAAAKHN0c3MAAAAAAAAABgAAAAEAAAD7AAAB9QAAAu8AAAPpAAAE\n",
       "4wAALOBjdHRzAAAAAAAABZoAAAABAAABAAAAAAEAAAKAAAAAAQAAAQAAAAABAAAAAAAAAAEAAACA\n",
       "AAAAAQAAAoAAAAABAAABAAAAAAEAAAAAAAAAAQAAAIAAAAABAAACgAAAAAEAAAEAAAAAAQAAAAAA\n",
       "AAABAAAAgAAAAAEAAAKAAAAAAQAAAQAAAAABAAAAAAAAAAEAAACAAAAAAQAAAoAAAAABAAABAAAA\n",
       "AAEAAAAAAAAAAQAAAIAAAAABAAACgAAAAAEAAAEAAAAAAQAAAAAAAAABAAAAgAAAAAEAAAKAAAAA\n",
       "AQAAAQAAAAABAAAAAAAAAAEAAACAAAAAAQAAAoAAAAABAAABAAAAAAEAAAAAAAAAAQAAAIAAAAAB\n",
       "AAACgAAAAAEAAAEAAAAAAQAAAAAAAAABAAAAgAAAAAEAAAKAAAAAAQAAAQAAAAABAAAAAAAAAAEA\n",
       "AACAAAAAAQAAAoAAAAABAAABAAAAAAEAAAAAAAAAAQAAAIAAAAABAAACgAAAAAEAAAEAAAAAAQAA\n",
       "AAAAAAABAAAAgAAAAAEAAAKAAAAAAQAAAQAAAAABAAAAAAAAAAEAAACAAAAAAQAAAoAAAAABAAAB\n",
       "AAAAAAEAAAAAAAAAAQAAAIAAAAABAAACgAAAAAEAAAEAAAAAAQAAAAAAAAABAAAAgAAAAAEAAAKA\n",
       "AAAAAQAAAQAAAAABAAAAAAAAAAEAAACAAAAAAQAAAoAAAAABAAABAAAAAAEAAAAAAAAAAQAAAIAA\n",
       "AAABAAACgAAAAAEAAAEAAAAAAQAAAAAAAAABAAAAgAAAAAEAAAKAAAAAAQAAAQAAAAABAAAAAAAA\n",
       "AAEAAACAAAAAAQAAAoAAAAABAAABAAAAAAEAAAAAAAAAAQAAAIAAAAABAAACgAAAAAEAAAEAAAAA\n",
       "AQAAAAAAAAABAAAAgAAAAAEAAAKAAAAAAQAAAQAAAAABAAAAAAAAAAEAAACAAAAAAQAAAoAAAAAB\n",
       "AAABAAAAAAEAAAAAAAAAAQAAAIAAAAABAAACgAAAAAEAAAEAAAAAAQAAAAAAAAABAAAAgAAAAAEA\n",
       "AAKAAAAAAQAAAQAAAAABAAAAAAAAAAEAAACAAAAAAQAAAoAAAAABAAABAAAAAAEAAAAAAAAAAQAA\n",
       "AIAAAAABAAACgAAAAAEAAAEAAAAAAQAAAAAAAAABAAAAgAAAAAEAAAKAAAAAAQAAAQAAAAABAAAA\n",
       "AAAAAAEAAACAAAAAAQAAAoAAAAABAAABAAAAAAEAAAAAAAAAAQAAAIAAAAABAAACgAAAAAEAAAEA\n",
       "AAAAAQAAAAAAAAABAAAAgAAAAAEAAAKAAAAAAQAAAQAAAAABAAAAAAAAAAEAAACAAAAAAQAAAoAA\n",
       "AAABAAABAAAAAAEAAAAAAAAAAQAAAIAAAAABAAACgAAAAAEAAAEAAAAAAQAAAAAAAAABAAAAgAAA\n",
       "AAEAAAKAAAAAAQAAAQAAAAABAAAAAAAAAAEAAACAAAAAAQAAAoAAAAABAAABAAAAAAEAAAAAAAAA\n",
       "AQAAAIAAAAABAAACgAAAAAEAAAEAAAAAAQAAAAAAAAABAAAAgAAAAAEAAAKAAAAAAQAAAQAAAAAB\n",
       "AAAAAAAAAAEAAACAAAAAAQAAAoAAAAABAAABAAAAAAEAAAAAAAAAAQAAAIAAAAABAAACgAAAAAEA\n",
       "AAEAAAAAAQAAAAAAAAABAAAAgAAAAAEAAAKAAAAAAQAAAQAAAAABAAAAAAAAAAEAAACAAAAAAQAA\n",
       "AoAAAAABAAABAAAAAAEAAAAAAAAAAQAAAIAAAAABAAACgAAAAAEAAAEAAAAAAQAAAAAAAAABAAAA\n",
       "gAAAAAEAAAKAAAAAAQAAAQAAAAABAAAAAAAAAAEAAACAAAAAAQAAAoAAAAABAAABAAAAAAEAAAAA\n",
       "AAAAAQAAAIAAAAABAAACgAAAAAEAAAEAAAAAAQAAAAAAAAABAAAAgAAAAAEAAAKAAAAAAQAAAQAA\n",
       "AAABAAAAAAAAAAEAAACAAAAAAQAAAoAAAAABAAABAAAAAAEAAAAAAAAAAQAAAIAAAAABAAACgAAA\n",
       "AAEAAAEAAAAAAQAAAAAAAAABAAAAgAAAAAEAAAKAAAAAAQAAAQAAAAABAAAAAAAAAAEAAACAAAAA\n",
       "AQAAAoAAAAABAAABAAAAAAEAAAAAAAAAAQAAAIAAAAABAAACgAAAAAEAAAEAAAAAAQAAAAAAAAAB\n",
       "AAAAgAAAAAEAAAKAAAAAAQAAAQAAAAABAAAAAAAAAAEAAACAAAAAAQAAAoAAAAABAAABAAAAAAEA\n",
       "AAAAAAAAAQAAAIAAAAABAAACgAAAAAEAAAEAAAAAAQAAAAAAAAABAAAAgAAAAAEAAAKAAAAAAQAA\n",
       "AQAAAAABAAAAAAAAAAEAAACAAAAAAQAAAoAAAAABAAABAAAAAAEAAAAAAAAAAQAAAIAAAAABAAAC\n",
       "gAAAAAEAAAEAAAAAAQAAAAAAAAABAAAAgAAAAAEAAAKAAAAAAQAAAQAAAAABAAAAAAAAAAEAAACA\n",
       "AAAAAQAAAoAAAAABAAABAAAAAAEAAAAAAAAAAQAAAIAAAAABAAACgAAAAAEAAAEAAAAAAQAAAAAA\n",
       "AAABAAAAgAAAAAEAAAKAAAAAAQAAAQAAAAABAAAAAAAAAAEAAACAAAAAAQAAAoAAAAABAAABAAAA\n",
       "AAEAAAAAAAAAAQAAAIAAAAACAAABAAAAAAEAAAKAAAAAAQAAAQAAAAABAAAAAAAAAAEAAACAAAAA\n",
       "AQAAAoAAAAABAAABAAAAAAEAAAAAAAAAAQAAAIAAAAABAAACgAAAAAEAAAEAAAAAAQAAAAAAAAAB\n",
       "AAAAgAAAAAEAAAKAAAAAAQAAAQAAAAABAAAAAAAAAAEAAACAAAAAAQAAAoAAAAABAAABAAAAAAEA\n",
       "AAAAAAAAAQAAAIAAAAABAAACgAAAAAEAAAEAAAAAAQAAAAAAAAABAAAAgAAAAAEAAAKAAAAAAQAA\n",
       "AQAAAAABAAAAAAAAAAEAAACAAAAAAQAAAoAAAAABAAABAAAAAAEAAAAAAAAAAQAAAIAAAAABAAAC\n",
       "gAAAAAEAAAEAAAAAAQAAAAAAAAABAAAAgAAAAAEAAAKAAAAAAQAAAQAAAAABAAAAAAAAAAEAAACA\n",
       "AAAAAQAAAoAAAAABAAABAAAAAAEAAAAAAAAAAQAAAIAAAAABAAACgAAAAAEAAAEAAAAAAQAAAAAA\n",
       "AAABAAAAgAAAAAEAAAKAAAAAAQAAAQAAAAABAAAAAAAAAAEAAACAAAAAAQAAAoAAAAABAAABAAAA\n",
       "AAEAAAAAAAAAAQAAAIAAAAABAAACgAAAAAEAAAEAAAAAAQAAAAAAAAABAAAAgAAAAAEAAAKAAAAA\n",
       "AQAAAQAAAAABAAAAAAAAAAEAAACAAAAAAQAAAoAAAAABAAABAAAAAAEAAAAAAAAAAQAAAIAAAAAB\n",
       "AAACgAAAAAEAAAEAAAAAAQAAAAAAAAABAAAAgAAAAAEAAAKAAAAAAQAAAQAAAAABAAAAAAAAAAEA\n",
       "AACAAAAAAQAAAoAAAAABAAABAAAAAAEAAAAAAAAAAQAAAIAAAAABAAACgAAAAAEAAAEAAAAAAQAA\n",
       "AAAAAAABAAAAgAAAAAEAAAKAAAAAAQAAAQAAAAABAAAAAAAAAAEAAACAAAAAAQAAAoAAAAABAAAB\n",
       "AAAAAAEAAAAAAAAAAQAAAIAAAAABAAACgAAAAAEAAAEAAAAAAQAAAAAAAAABAAAAgAAAAAEAAAKA\n",
       "AAAAAQAAAQAAAAABAAAAAAAAAAEAAACAAAAAAQAAAoAAAAABAAABAAAAAAEAAAAAAAAAAQAAAIAA\n",
       "AAABAAACgAAAAAEAAAEAAAAAAQAAAAAAAAABAAAAgAAAAAEAAAKAAAAAAQAAAQAAAAABAAAAAAAA\n",
       "AAEAAACAAAAAAQAAAoAAAAABAAABAAAAAAEAAAAAAAAAAQAAAIAAAAABAAACgAAAAAEAAAEAAAAA\n",
       "AQAAAAAAAAABAAAAgAAAAAEAAAKAAAAAAQAAAQAAAAABAAAAAAAAAAEAAACAAAAAAQAAAoAAAAAB\n",
       "AAABAAAAAAEAAAAAAAAAAQAAAIAAAAABAAACgAAAAAEAAAEAAAAAAQAAAAAAAAABAAAAgAAAAAEA\n",
       "AAKAAAAAAQAAAQAAAAABAAAAAAAAAAEAAACAAAAAAQAAAoAAAAABAAABAAAAAAEAAAAAAAAAAQAA\n",
       "AIAAAAABAAACgAAAAAEAAAEAAAAAAQAAAAAAAAABAAAAgAAAAAEAAAKAAAAAAQAAAQAAAAABAAAA\n",
       "AAAAAAEAAACAAAAAAQAAAoAAAAABAAABAAAAAAEAAAAAAAAAAQAAAIAAAAABAAACgAAAAAEAAAEA\n",
       "AAAAAQAAAAAAAAABAAAAgAAAAAEAAAKAAAAAAQAAAQAAAAABAAAAAAAAAAEAAACAAAAAAQAAAoAA\n",
       "AAABAAABAAAAAAEAAAAAAAAAAQAAAIAAAAABAAACgAAAAAEAAAEAAAAAAQAAAAAAAAABAAAAgAAA\n",
       "AAEAAAKAAAAAAQAAAQAAAAABAAAAAAAAAAEAAACAAAAAAQAAAoAAAAABAAABAAAAAAEAAAAAAAAA\n",
       "AQAAAIAAAAABAAACgAAAAAEAAAEAAAAAAQAAAAAAAAABAAAAgAAAAAEAAAKAAAAAAQAAAQAAAAAB\n",
       "AAAAAAAAAAEAAACAAAAAAQAAAoAAAAABAAABAAAAAAEAAAAAAAAAAQAAAIAAAAABAAACgAAAAAEA\n",
       "AAEAAAAAAQAAAAAAAAABAAAAgAAAAAEAAAKAAAAAAQAAAQAAAAABAAAAAAAAAAEAAACAAAAAAQAA\n",
       "AoAAAAABAAABAAAAAAEAAAAAAAAAAQAAAIAAAAABAAACgAAAAAEAAAEAAAAAAQAAAAAAAAABAAAA\n",
       "gAAAAAEAAAKAAAAAAQAAAQAAAAABAAAAAAAAAAEAAACAAAAAAQAAAoAAAAABAAABAAAAAAEAAAAA\n",
       "AAAAAQAAAIAAAAABAAACgAAAAAEAAAEAAAAAAQAAAAAAAAABAAAAgAAAAAEAAAKAAAAAAQAAAQAA\n",
       "AAABAAAAAAAAAAEAAACAAAAAAQAAAoAAAAABAAABAAAAAAEAAAAAAAAAAQAAAIAAAAABAAACgAAA\n",
       "AAEAAAEAAAAAAQAAAAAAAAABAAAAgAAAAAEAAAKAAAAAAQAAAQAAAAABAAAAAAAAAAEAAACAAAAA\n",
       "AQAAAoAAAAABAAABAAAAAAEAAAAAAAAAAQAAAIAAAAABAAACgAAAAAEAAAEAAAAAAQAAAAAAAAAB\n",
       "AAAAgAAAAAEAAAKAAAAAAQAAAQAAAAABAAAAAAAAAAEAAACAAAAAAQAAAoAAAAABAAABAAAAAAEA\n",
       "AAAAAAAAAQAAAIAAAAACAAABAAAAAAEAAAKAAAAAAQAAAQAAAAABAAAAAAAAAAEAAACAAAAAAQAA\n",
       "AoAAAAABAAABAAAAAAEAAAAAAAAAAQAAAIAAAAABAAACgAAAAAEAAAEAAAAAAQAAAAAAAAABAAAA\n",
       "gAAAAAEAAAKAAAAAAQAAAQAAAAABAAAAAAAAAAEAAACAAAAAAQAAAoAAAAABAAABAAAAAAEAAAAA\n",
       "AAAAAQAAAIAAAAABAAACgAAAAAEAAAEAAAAAAQAAAAAAAAABAAAAgAAAAAEAAAKAAAAAAQAAAQAA\n",
       "AAABAAAAAAAAAAEAAACAAAAAAQAAAoAAAAABAAABAAAAAAEAAAAAAAAAAQAAAIAAAAABAAACgAAA\n",
       "AAEAAAEAAAAAAQAAAAAAAAABAAAAgAAAAAEAAAKAAAAAAQAAAQAAAAABAAAAAAAAAAEAAACAAAAA\n",
       "AQAAAoAAAAABAAABAAAAAAEAAAAAAAAAAQAAAIAAAAABAAACgAAAAAEAAAEAAAAAAQAAAAAAAAAB\n",
       "AAAAgAAAAAEAAAKAAAAAAQAAAQAAAAABAAAAAAAAAAEAAACAAAAAAQAAAoAAAAABAAABAAAAAAEA\n",
       "AAAAAAAAAQAAAIAAAAABAAACgAAAAAEAAAEAAAAAAQAAAAAAAAABAAAAgAAAAAEAAAKAAAAAAQAA\n",
       "AQAAAAABAAAAAAAAAAEAAACAAAAAAQAAAoAAAAABAAABAAAAAAEAAAAAAAAAAQAAAIAAAAABAAAC\n",
       "gAAAAAEAAAEAAAAAAQAAAAAAAAABAAAAgAAAAAEAAAKAAAAAAQAAAQAAAAABAAAAAAAAAAEAAACA\n",
       "AAAAAQAAAoAAAAABAAABAAAAAAEAAAAAAAAAAQAAAIAAAAABAAACgAAAAAEAAAEAAAAAAQAAAAAA\n",
       "AAABAAAAgAAAAAEAAAKAAAAAAQAAAQAAAAABAAAAAAAAAAEAAACAAAAAAQAAAoAAAAABAAABAAAA\n",
       "AAEAAAAAAAAAAQAAAIAAAAABAAACgAAAAAEAAAEAAAAAAQAAAAAAAAABAAAAgAAAAAEAAAKAAAAA\n",
       "AQAAAQAAAAABAAAAAAAAAAEAAACAAAAAAQAAAoAAAAABAAABAAAAAAEAAAAAAAAAAQAAAIAAAAAB\n",
       "AAACgAAAAAEAAAEAAAAAAQAAAAAAAAABAAAAgAAAAAEAAAKAAAAAAQAAAQAAAAABAAAAAAAAAAEA\n",
       "AACAAAAAAQAAAoAAAAABAAABAAAAAAEAAAAAAAAAAQAAAIAAAAABAAACgAAAAAEAAAEAAAAAAQAA\n",
       "AAAAAAABAAAAgAAAAAEAAAKAAAAAAQAAAQAAAAABAAAAAAAAAAEAAACAAAAAAQAAAoAAAAABAAAB\n",
       "AAAAAAEAAAAAAAAAAQAAAIAAAAABAAACgAAAAAEAAAEAAAAAAQAAAAAAAAABAAAAgAAAAAEAAAKA\n",
       "AAAAAQAAAQAAAAABAAAAAAAAAAEAAACAAAAAAQAAAoAAAAABAAABAAAAAAEAAAAAAAAAAQAAAIAA\n",
       "AAABAAACgAAAAAEAAAEAAAAAAQAAAAAAAAABAAAAgAAAAAEAAAKAAAAAAQAAAQAAAAABAAAAAAAA\n",
       "AAEAAACAAAAAAQAAAoAAAAABAAABAAAAAAEAAAAAAAAAAQAAAIAAAAABAAACgAAAAAEAAAEAAAAA\n",
       "AQAAAAAAAAABAAAAgAAAAAEAAAKAAAAAAQAAAQAAAAABAAAAAAAAAAEAAACAAAAAAQAAAoAAAAAB\n",
       "AAABAAAAAAEAAAAAAAAAAQAAAIAAAAABAAACgAAAAAEAAAEAAAAAAQAAAAAAAAABAAAAgAAAAAEA\n",
       "AAKAAAAAAQAAAQAAAAABAAAAAAAAAAEAAACAAAAAAQAAAoAAAAABAAABAAAAAAEAAAAAAAAAAQAA\n",
       "AIAAAAABAAACgAAAAAEAAAEAAAAAAQAAAAAAAAABAAAAgAAAAAEAAAKAAAAAAQAAAQAAAAABAAAA\n",
       "AAAAAAEAAACAAAAAAQAAAoAAAAABAAABAAAAAAEAAAAAAAAAAQAAAIAAAAABAAACgAAAAAEAAAEA\n",
       "AAAAAQAAAAAAAAABAAAAgAAAAAEAAAKAAAAAAQAAAQAAAAABAAAAAAAAAAEAAACAAAAAAQAAAoAA\n",
       "AAABAAABAAAAAAEAAAAAAAAAAQAAAIAAAAABAAACgAAAAAEAAAEAAAAAAQAAAAAAAAABAAAAgAAA\n",
       "AAEAAAKAAAAAAQAAAQAAAAABAAAAAAAAAAEAAACAAAAAAQAAAoAAAAABAAABAAAAAAEAAAAAAAAA\n",
       "AQAAAIAAAAABAAACgAAAAAEAAAEAAAAAAQAAAAAAAAABAAAAgAAAAAEAAAKAAAAAAQAAAQAAAAAB\n",
       "AAAAAAAAAAEAAACAAAAAAQAAAoAAAAABAAABAAAAAAEAAAAAAAAAAQAAAIAAAAABAAACgAAAAAEA\n",
       "AAEAAAAAAQAAAAAAAAABAAAAgAAAAAEAAAKAAAAAAQAAAQAAAAABAAAAAAAAAAEAAACAAAAAAQAA\n",
       "AoAAAAABAAABAAAAAAEAAAAAAAAAAQAAAIAAAAABAAACgAAAAAEAAAEAAAAAAQAAAAAAAAABAAAA\n",
       "gAAAAAEAAAKAAAAAAQAAAQAAAAABAAAAAAAAAAEAAACAAAAAAQAAAoAAAAABAAABAAAAAAEAAAAA\n",
       "AAAAAQAAAIAAAAACAAABAAAAAAEAAAKAAAAAAQAAAQAAAAABAAAAAAAAAAEAAACAAAAAAQAAAoAA\n",
       "AAABAAABAAAAAAEAAAAAAAAAAQAAAIAAAAABAAACgAAAAAEAAAEAAAAAAQAAAAAAAAABAAAAgAAA\n",
       "AAEAAAKAAAAAAQAAAQAAAAABAAAAAAAAAAEAAACAAAAAAQAAAoAAAAABAAABAAAAAAEAAAAAAAAA\n",
       "AQAAAIAAAAABAAACgAAAAAEAAAEAAAAAAQAAAAAAAAABAAAAgAAAAAEAAAKAAAAAAQAAAQAAAAAB\n",
       "AAAAAAAAAAEAAACAAAAAAQAAAoAAAAABAAABAAAAAAEAAAAAAAAAAQAAAIAAAAABAAACgAAAAAEA\n",
       "AAEAAAAAAQAAAAAAAAABAAAAgAAAAAEAAAKAAAAAAQAAAQAAAAABAAAAAAAAAAEAAACAAAAAAQAA\n",
       "AoAAAAABAAABAAAAAAEAAAAAAAAAAQAAAIAAAAABAAACgAAAAAEAAAEAAAAAAQAAAAAAAAABAAAA\n",
       "gAAAAAEAAAKAAAAAAQAAAQAAAAABAAAAAAAAAAEAAACAAAAAAQAAAoAAAAABAAABAAAAAAEAAAAA\n",
       "AAAAAQAAAIAAAAABAAACgAAAAAEAAAEAAAAAAQAAAAAAAAABAAAAgAAAAAEAAAKAAAAAAQAAAQAA\n",
       "AAABAAAAAAAAAAEAAACAAAAAAQAAAoAAAAABAAABAAAAAAEAAAAAAAAAAQAAAIAAAAABAAACgAAA\n",
       "AAEAAAEAAAAAAQAAAAAAAAABAAAAgAAAAAEAAAKAAAAAAQAAAQAAAAABAAAAAAAAAAEAAACAAAAA\n",
       "AQAAAoAAAAABAAABAAAAAAEAAAAAAAAAAQAAAIAAAAABAAACgAAAAAEAAAEAAAAAAQAAAAAAAAAB\n",
       "AAAAgAAAAAEAAAKAAAAAAQAAAQAAAAABAAAAAAAAAAEAAACAAAAAAQAAAoAAAAABAAABAAAAAAEA\n",
       "AAAAAAAAAQAAAIAAAAABAAACgAAAAAEAAAEAAAAAAQAAAAAAAAABAAAAgAAAAAEAAAKAAAAAAQAA\n",
       "AQAAAAABAAAAAAAAAAEAAACAAAAAAQAAAoAAAAABAAABAAAAAAEAAAAAAAAAAQAAAIAAAAABAAAC\n",
       "gAAAAAEAAAEAAAAAAQAAAAAAAAABAAAAgAAAAAEAAAKAAAAAAQAAAQAAAAABAAAAAAAAAAEAAACA\n",
       "AAAAAQAAAoAAAAABAAABAAAAAAEAAAAAAAAAAQAAAIAAAAABAAACgAAAAAEAAAEAAAAAAQAAAAAA\n",
       "AAABAAAAgAAAAAEAAAKAAAAAAQAAAQAAAAABAAAAAAAAAAEAAACAAAAAAQAAAoAAAAABAAABAAAA\n",
       "AAEAAAAAAAAAAQAAAIAAAAABAAACgAAAAAEAAAEAAAAAAQAAAAAAAAABAAAAgAAAAAEAAAKAAAAA\n",
       "AQAAAQAAAAABAAAAAAAAAAEAAACAAAAAAQAAAoAAAAABAAABAAAAAAEAAAAAAAAAAQAAAIAAAAAB\n",
       "AAACgAAAAAEAAAEAAAAAAQAAAAAAAAABAAAAgAAAAAEAAAKAAAAAAQAAAQAAAAABAAAAAAAAAAEA\n",
       "AACAAAAAAQAAAoAAAAABAAABAAAAAAEAAAAAAAAAAQAAAIAAAAABAAACgAAAAAEAAAEAAAAAAQAA\n",
       "AAAAAAABAAAAgAAAAAEAAAKAAAAAAQAAAQAAAAABAAAAAAAAAAEAAACAAAAAAQAAAoAAAAABAAAB\n",
       "AAAAAAEAAAAAAAAAAQAAAIAAAAABAAACgAAAAAEAAAEAAAAAAQAAAAAAAAABAAAAgAAAAAEAAAKA\n",
       "AAAAAQAAAQAAAAABAAAAAAAAAAEAAACAAAAAAQAAAoAAAAABAAABAAAAAAEAAAAAAAAAAQAAAIAA\n",
       "AAABAAACgAAAAAEAAAEAAAAAAQAAAAAAAAABAAAAgAAAAAEAAAKAAAAAAQAAAQAAAAABAAAAAAAA\n",
       "AAEAAACAAAAAAQAAAoAAAAABAAABAAAAAAEAAAAAAAAAAQAAAIAAAAABAAACgAAAAAEAAAEAAAAA\n",
       "AQAAAAAAAAABAAAAgAAAAAEAAAKAAAAAAQAAAQAAAAABAAAAAAAAAAEAAACAAAAAAQAAAoAAAAAB\n",
       "AAABAAAAAAEAAAAAAAAAAQAAAIAAAAABAAACgAAAAAEAAAEAAAAAAQAAAAAAAAABAAAAgAAAAAEA\n",
       "AAKAAAAAAQAAAQAAAAABAAAAAAAAAAEAAACAAAAAAQAAAoAAAAABAAABAAAAAAEAAAAAAAAAAQAA\n",
       "AIAAAAABAAACgAAAAAEAAAEAAAAAAQAAAAAAAAABAAAAgAAAAAEAAAKAAAAAAQAAAQAAAAABAAAA\n",
       "AAAAAAEAAACAAAAAAQAAAoAAAAABAAABAAAAAAEAAAAAAAAAAQAAAIAAAAABAAACgAAAAAEAAAEA\n",
       "AAAAAQAAAAAAAAABAAAAgAAAAAEAAAKAAAAAAQAAAQAAAAABAAAAAAAAAAEAAACAAAAAAQAAAoAA\n",
       "AAABAAABAAAAAAEAAAAAAAAAAQAAAIAAAAABAAACgAAAAAEAAAEAAAAAAQAAAAAAAAABAAAAgAAA\n",
       "AAEAAAKAAAAAAQAAAQAAAAABAAAAAAAAAAEAAACAAAAAAQAAAoAAAAABAAABAAAAAAEAAAAAAAAA\n",
       "AQAAAIAAAAACAAABAAAAAAEAAAKAAAAAAQAAAQAAAAABAAAAAAAAAAEAAACAAAAAAQAAAoAAAAAB\n",
       "AAABAAAAAAEAAAAAAAAAAQAAAIAAAAABAAACgAAAAAEAAAEAAAAAAQAAAAAAAAABAAAAgAAAAAEA\n",
       "AAKAAAAAAQAAAQAAAAABAAAAAAAAAAEAAACAAAAAAQAAAoAAAAABAAABAAAAAAEAAAAAAAAAAQAA\n",
       "AIAAAAABAAACgAAAAAEAAAEAAAAAAQAAAAAAAAABAAAAgAAAAAEAAAKAAAAAAQAAAQAAAAABAAAA\n",
       "AAAAAAEAAACAAAAAAQAAAoAAAAABAAABAAAAAAEAAAAAAAAAAQAAAIAAAAABAAACgAAAAAEAAAEA\n",
       "AAAAAQAAAAAAAAABAAAAgAAAAAEAAAKAAAAAAQAAAQAAAAABAAAAAAAAAAEAAACAAAAAAQAAAoAA\n",
       "AAABAAABAAAAAAEAAAAAAAAAAQAAAIAAAAABAAACgAAAAAEAAAEAAAAAAQAAAAAAAAABAAAAgAAA\n",
       "AAEAAAKAAAAAAQAAAQAAAAABAAAAAAAAAAEAAACAAAAAAQAAAoAAAAABAAABAAAAAAEAAAAAAAAA\n",
       "AQAAAIAAAAABAAACgAAAAAEAAAEAAAAAAQAAAAAAAAABAAAAgAAAAAEAAAKAAAAAAQAAAQAAAAAB\n",
       "AAAAAAAAAAEAAACAAAAAAQAAAoAAAAABAAABAAAAAAEAAAAAAAAAAQAAAIAAAAABAAACgAAAAAEA\n",
       "AAEAAAAAAQAAAAAAAAABAAAAgAAAAAEAAAKAAAAAAQAAAQAAAAABAAAAAAAAAAEAAACAAAAAAQAA\n",
       "AoAAAAABAAABAAAAAAEAAAAAAAAAAQAAAIAAAAABAAACgAAAAAEAAAEAAAAAAQAAAAAAAAABAAAA\n",
       "gAAAAAEAAAKAAAAAAQAAAQAAAAABAAAAAAAAAAEAAACAAAAAAQAAAoAAAAABAAABAAAAAAEAAAAA\n",
       "AAAAAQAAAIAAAAABAAACgAAAAAEAAAEAAAAAAQAAAAAAAAABAAAAgAAAAAEAAAKAAAAAAQAAAQAA\n",
       "AAABAAAAAAAAAAEAAACAAAAAAQAAAoAAAAABAAABAAAAAAEAAAAAAAAAAQAAAIAAAAABAAACgAAA\n",
       "AAEAAAEAAAAAAQAAAAAAAAABAAAAgAAAAAEAAAKAAAAAAQAAAQAAAAABAAAAAAAAAAEAAACAAAAA\n",
       "AQAAAoAAAAABAAABAAAAAAEAAAAAAAAAAQAAAIAAAAABAAACgAAAAAEAAAEAAAAAAQAAAAAAAAAB\n",
       "AAAAgAAAAAEAAAKAAAAAAQAAAQAAAAABAAAAAAAAAAEAAACAAAAAAQAAAoAAAAABAAABAAAAAAEA\n",
       "AAAAAAAAAQAAAIAAAAABAAACgAAAAAEAAAEAAAAAAQAAAAAAAAABAAAAgAAAAAEAAAKAAAAAAQAA\n",
       "AQAAAAABAAAAAAAAAAEAAACAAAAAAQAAAoAAAAABAAABAAAAAAEAAAAAAAAAAQAAAIAAAAABAAAC\n",
       "gAAAAAEAAAEAAAAAAQAAAAAAAAABAAAAgAAAAAEAAAKAAAAAAQAAAQAAAAABAAAAAAAAAAEAAACA\n",
       "AAAAAQAAAoAAAAABAAABAAAAAAEAAAAAAAAAAQAAAIAAAAABAAACgAAAAAEAAAEAAAAAAQAAAAAA\n",
       "AAABAAAAgAAAAAEAAAKAAAAAAQAAAQAAAAABAAAAAAAAAAEAAACAAAAAAQAAAoAAAAABAAABAAAA\n",
       "AAEAAAAAAAAAAQAAAIAAAAABAAACgAAAAAEAAAEAAAAAAQAAAAAAAAABAAAAgAAAAAEAAAKAAAAA\n",
       "AQAAAQAAAAABAAAAAAAAAAEAAACAAAAAAQAAAoAAAAABAAABAAAAAAEAAAAAAAAAAQAAAIAAAAAB\n",
       "AAACgAAAAAEAAAEAAAAAAQAAAAAAAAABAAAAgAAAAAEAAAKAAAAAAQAAAQAAAAABAAAAAAAAAAEA\n",
       "AACAAAAAAQAAAoAAAAABAAABAAAAAAEAAAAAAAAAAQAAAIAAAAABAAACgAAAAAEAAAEAAAAAAQAA\n",
       "AAAAAAABAAAAgAAAAAEAAAKAAAAAAQAAAQAAAAABAAAAAAAAAAEAAACAAAAAAQAAAoAAAAABAAAB\n",
       "AAAAAAEAAAAAAAAAAQAAAIAAAAABAAACgAAAAAEAAAEAAAAAAQAAAAAAAAABAAAAgAAAAAEAAAKA\n",
       "AAAAAQAAAQAAAAABAAAAAAAAAAEAAACAAAAAAQAAAoAAAAABAAABAAAAAAEAAAAAAAAAAQAAAIAA\n",
       "AAABAAACgAAAAAEAAAEAAAAAAQAAAAAAAAABAAAAgAAAAAEAAAKAAAAAAQAAAQAAAAABAAAAAAAA\n",
       "AAEAAACAAAAAAQAAAoAAAAABAAABAAAAAAEAAAAAAAAAAQAAAIAAAAABAAACgAAAAAEAAAEAAAAA\n",
       "AQAAAAAAAAABAAAAgAAAAAEAAAKAAAAAAQAAAQAAAAABAAAAAAAAAAEAAACAAAAAAQAAAoAAAAAB\n",
       "AAABAAAAAAEAAAAAAAAAAQAAAIAAAAABAAACgAAAAAEAAAEAAAAAAQAAAAAAAAABAAAAgAAAAAEA\n",
       "AAKAAAAAAQAAAQAAAAABAAAAAAAAAAEAAACAAAAAAQAAAoAAAAABAAABAAAAAAEAAAAAAAAAAQAA\n",
       "AIAAAAACAAABAAAAAAEAAAKAAAAAAQAAAQAAAAABAAAAAAAAAAEAAACAAAAAAQAAAoAAAAABAAAB\n",
       "AAAAAAEAAAAAAAAAAQAAAIAAAAABAAACgAAAAAEAAAEAAAAAAQAAAAAAAAABAAAAgAAAAAEAAAKA\n",
       "AAAAAQAAAQAAAAABAAAAAAAAAAEAAACAAAAAAQAAAoAAAAABAAABAAAAAAEAAAAAAAAAAQAAAIAA\n",
       "AAABAAACgAAAAAEAAAEAAAAAAQAAAAAAAAABAAAAgAAAAAEAAAKAAAAAAQAAAQAAAAABAAAAAAAA\n",
       "AAEAAACAAAAAAQAAAoAAAAABAAABAAAAAAEAAAAAAAAAAQAAAIAAAAABAAACgAAAAAEAAAEAAAAA\n",
       "AQAAAAAAAAABAAAAgAAAAAEAAAKAAAAAAQAAAQAAAAABAAAAAAAAAAEAAACAAAAAAQAAAoAAAAAB\n",
       "AAABAAAAAAEAAAAAAAAAAQAAAIAAAAABAAACgAAAAAEAAAEAAAAAAQAAAAAAAAABAAAAgAAAAAEA\n",
       "AAKAAAAAAQAAAQAAAAABAAAAAAAAAAEAAACAAAAAAQAAAoAAAAABAAABAAAAAAEAAAAAAAAAAQAA\n",
       "AIAAAAABAAACgAAAAAEAAAEAAAAAAQAAAAAAAAABAAAAgAAAAAEAAAKAAAAAAQAAAQAAAAABAAAA\n",
       "AAAAAAEAAACAAAAAAQAAAoAAAAABAAABAAAAAAEAAAAAAAAAAQAAAIAAAAABAAACgAAAAAEAAAEA\n",
       "AAAAAQAAAAAAAAABAAAAgAAAAAEAAAKAAAAAAQAAAQAAAAABAAAAAAAAAAEAAACAAAAAAQAAAoAA\n",
       "AAABAAABAAAAAAEAAAAAAAAAAQAAAIAAAAABAAACgAAAAAEAAAEAAAAAAQAAAAAAAAABAAAAgAAA\n",
       "AAEAAAKAAAAAAQAAAQAAAAABAAAAAAAAAAEAAACAAAAAAQAAAoAAAAABAAABAAAAAAEAAAAAAAAA\n",
       "AQAAAIAAAAABAAACgAAAAAEAAAEAAAAAAQAAAAAAAAABAAAAgAAAAAEAAAKAAAAAAQAAAQAAAAAB\n",
       "AAAAAAAAAAEAAACAAAAAAQAAAoAAAAABAAABAAAAAAEAAAAAAAAAAQAAAIAAAAABAAACgAAAAAEA\n",
       "AAEAAAAAAQAAAAAAAAABAAAAgAAAAAEAAAKAAAAAAQAAAQAAAAABAAAAAAAAAAEAAACAAAAAAQAA\n",
       "AoAAAAABAAABAAAAAAEAAAAAAAAAAQAAAIAAAAABAAACgAAAAAEAAAEAAAAAAQAAAAAAAAABAAAA\n",
       "gAAAAAEAAAKAAAAAAQAAAQAAAAABAAAAAAAAAAEAAACAAAAAAQAAAoAAAAABAAABAAAAAAEAAAAA\n",
       "AAAAAQAAAIAAAAABAAACgAAAAAEAAAEAAAAAAQAAAAAAAAABAAAAgAAAAAEAAAKAAAAAAQAAAQAA\n",
       "AAABAAAAAAAAAAEAAACAAAAAAQAAAoAAAAABAAABAAAAAAEAAAAAAAAAAQAAAIAAAAABAAACgAAA\n",
       "AAEAAAEAAAAAAQAAAAAAAAABAAAAgAAAAAEAAAKAAAAAAQAAAQAAAAABAAAAAAAAAAEAAACAAAAA\n",
       "AQAAAoAAAAABAAABAAAAAAEAAAAAAAAAAQAAAIAAAAABAAACgAAAAAEAAAEAAAAAAQAAAAAAAAAB\n",
       "AAAAgAAAAAEAAAKAAAAAAQAAAQAAAAABAAAAAAAAAAEAAACAAAAAAQAAAoAAAAABAAABAAAAAAEA\n",
       "AAAAAAAAAQAAAIAAAAABAAACgAAAAAEAAAEAAAAAAQAAAAAAAAABAAAAgAAAAAEAAAKAAAAAAQAA\n",
       "AQAAAAABAAAAAAAAAAEAAACAAAAAAQAAAoAAAAABAAABAAAAAAEAAAAAAAAAAQAAAIAAAAABAAAC\n",
       "gAAAAAEAAAEAAAAAAQAAAAAAAAABAAAAgAAAAAEAAAKAAAAAAQAAAQAAAAABAAAAAAAAAAEAAACA\n",
       "AAAAAQAAAoAAAAABAAABAAAAAAEAAAAAAAAAAQAAAIAAAAAcc3RzYwAAAAAAAAABAAAAAQAABZ8A\n",
       "AAABAAAWkHN0c3oAAAAAAAAAAAAABZ8AAA8yAAAAjAAAAFIAAAArAAAAHwAAADsAAAA9AAAAHwAA\n",
       "ABkAAAAiAAAAOwAAABoAAAAZAAAAMgAAADsAAAAaAAAAGQAAAC0AAAA5AAAAGQAAABkAAAAwAAAA\n",
       "OQAAABkAAAAZAAAALwAAADkAAAAZAAAAGQAAAC8AAAA5AAAAGQAAABkAAAAvAAAAOgAAABkAAAAZ\n",
       "AAAALAAAADkAAAAZAAAAGQAAADAAAAA5AAAAGQAAABkAAAArAAAAOQAAABkAAAAZAAAANgAAADwA\n",
       "AAAZAAAAGwAAAC4AAAA+AAAAGgAAABoAAAAwAAAAPQAAABoAAAAaAAAAMwAAAD0AAAAZAAAAGwAA\n",
       "ADIAAAA6AAAAGgAAABkAAAA1AAAAOwAAABkAAAAaAAAAMgAAADkAAAAbAAAAGQAAAC4AAAA5AAAA\n",
       "GQAAABkAAAAkAAAAOQAAABkAAAAZAAAALAAAADsAAAAZAAAAGQAAACQAAAA5AAAAGQAAABkAAAAw\n",
       "AAAAOQAAABkAAAAZAAAAMwAAADkAAAAZAAAAGQAAACwAAAA5AAAAGQAAABkAAAAqAAAAOQAAABkA\n",
       "AAAZAAAALQAAADkAAAAaAAAAGQAAADIAAAA5AAAAGQAAABkAAAAtAAAAOQAAABkAAAAZAAAANwAA\n",
       "ADkAAAAaAAAAGQAAACsAAAA5AAAAGQAAABkAAAAuAAAAOQAAABkAAAAZAAAAMQAAADkAAAAZAAAA\n",
       "GQAAACwAAAA5AAAAGQAAABkAAAAyAAAAOwAAABkAAAAZAAAALgAAADkAAAAZAAAAGQAAADAAAAA7\n",
       "AAAAGQAAABkAAAAwAAAAOQAAABkAAAAZAAAALwAAADsAAAAZAAAAGQAAADQAAAA5AAAAGQAAABkA\n",
       "AAAkAAAAOQAAABkAAAAZAAAALAAAADsAAAAZAAAAGQAAACsAAAA5AAAAGQAAABkAAAAwAAAAOQAA\n",
       "ABkAAAAZAAAAJQAAADkAAAAZAAAAGQAAACwAAAA5AAAAGQAAABkAAAAvAAAAOwAAABkAAAAbAAAA\n",
       "LgAAADsAAAAbAAAAGQAAAC4AAAA5AAAAGQAAABkAAAA1AAAAPgAAABkAAAAZAAAANwAAADwAAAAb\n",
       "AAAAGQAAADMAAAA7AAAAGQAAABkAAAA8AAAAOQAAABkAAAAZAAAAOQAAADkAAAAZAAAAGQAAAEAA\n",
       "AAA9AAAAGgAAABsAAAAmAAAAOQAAABkAAAAZAAAAKAAAADsAAAAZAAAAGQAAADYAAAA5AAAAGQAA\n",
       "ABkAAAAmAAAAOQAAABkAAAAZAAAAOAAAADkAAAAZAAAAGQAAACwAAAA5AAAAGQAAABkAAAAgAAAO\n",
       "qQAAAGEAAAAuAAAAKwAAABsAAAA0AAAAHwAAABkAAAAZAAAALQAAAB8AAAAZAAAAGQAAADEAAAAf\n",
       "AAAAGQAAABkAAAA3AAAAHwAAABkAAAAZAAAAKAAAAB8AAAAZAAAAGQAAACoAAAAfAAAAGQAAABkA\n",
       "AAAoAAAAHwAAABkAAAAZAAAAKwAAAB8AAAAZAAAAGgAAADIAAAAfAAAAGQAAABkAAAAmAAAAHwAA\n",
       "ABkAAAAZAAAALwAAAB8AAAAZAAAAGQAAACcAAAAgAAAAGgAAABkAAAAxAAAAHwAAABkAAAAbAAAA\n",
       "MQAAACAAAAAaAAAAGQAAACkAAAAhAAAAGQAAABkAAAAnAAAAHwAAABkAAAAZAAAALAAAAB8AAAAZ\n",
       "AAAAGQAAADAAAAAfAAAAGQAAABkAAAArAAAAHwAAABkAAAAZAAAALQAAAB8AAAAZAAAAGQAAAC0A\n",
       "AAAfAAAAGQAAABkAAAAtAAAAHwAAABkAAAAZAAAAJQAAAB8AAAAZAAAAGQAAACwAAAAfAAAAGQAA\n",
       "ABkAAAAtAAAAHwAAABkAAAAZAAAALgAAACMAAAAZAAAAGwAAAC8AAAAfAAAAGgAAABkAAAA7AAAA\n",
       "IQAAABoAAAAaAAAAMwAAAB8AAAAZAAAAHAAAACUAAAAgAAAAGQAAABkAAAArAAAAHwAAABkAAAAZ\n",
       "AAAAKwAAAB8AAAAZAAAAGQAAACUAAAAgAAAAGQAAABkAAAAsAAAAHwAAABkAAAAZAAAALgAAAB8A\n",
       "AAAZAAAAGgAAACgAAAAgAAAAGQAAABkAAAAsAAAAHwAAABkAAAAZAAAAJQAAAB8AAAAZAAAAGQAA\n",
       "AC0AAAAfAAAAGQAAABkAAAAmAAAAIAAAABoAAAAZAAAALgAAACAAAAAcAAAAGQAAACUAAAAgAAAA\n",
       "GQAAABkAAAAkAAAAIAAAABkAAAAZAAAAJQAAAB8AAAAZAAAAGQAAACsAAAAgAAAAGQAAABkAAAAl\n",
       "AAAAIAAAABkAAAAZAAAALQAAACAAAAAZAAAAGQAAACUAAAAgAAAAGQAAABkAAAA2AAAAIgAAABkA\n",
       "AAAaAAAALQAAACIAAAAZAAAAGQAAADEAAAAiAAAAGQAAABkAAAAlAAAAIgAAABkAAAAZAAAALwAA\n",
       "AB8AAAAbAAAAGQAAADIAAAAgAAAAGQAAABsAAABLAAAAJAAAABkAAAAZAAAAUQAAACMAAAAaAAAA\n",
       "GwAAAC8AAAAjAAAAGQAAABkAAAA+AAAAIQAAABwAAAAZAAAAOAAAACwAAAAZAAAAGQAAAHoAAAAh\n",
       "AAAAGgAAABoAAABKAAAALQAAABkAAAAZAAAAKAAAD/wAAABZAAAAMAAAACsAAAAeAAAASQAAACwA\n",
       "AAAdAAAAHAAAADAAAAAkAAAAHAAAABwAAAAyAAAAIwAAABkAAAAZAAAAQAAAACEAAAAZAAAAGQAA\n",
       "AC0AAAAhAAAAGQAAABkAAABCAAAAHwAAABsAAAAcAAAAPQAAACEAAAAZAAAAGQAAACsAAAAgAAAA\n",
       "GQAAABkAAAA/AAAAIAAAABkAAAAZAAAANwAAACAAAAAZAAAAGQAAADsAAAAiAAAAGQAAABkAAAAo\n",
       "AAAAIgAAABkAAAAZAAAAKQAAACIAAAAZAAAAGQAAADEAAAAfAAAAGwAAABoAAAA0AAAAJAAAABkA\n",
       "AAAaAAAAUAAAACEAAAAaAAAAHQAAADYAAAAhAAAAGwAAABsAAAAnAAAAIQAAABkAAAAdAAAAPwAA\n",
       "ACEAAAAZAAAAGQAAACsAAAAfAAAAGQAAABkAAAAvAAAAIQAAABkAAAAZAAAAJgAAAB8AAAAbAAAA\n",
       "GwAAACoAAAAfAAAAGQAAABkAAAA3AAAAIAAAABkAAAAZAAAAJwAAAB8AAAAZAAAAGQAAACcAAAAf\n",
       "AAAAGQAAABkAAAA0AAAAIQAAABkAAAAZAAAAOwAAACEAAAAbAAAAGQAAAEAAAAAiAAAAGwAAABkA\n",
       "AAAmAAAAHwAAABkAAAAZAAAALAAAAB8AAAAZAAAAGQAAACcAAAAgAAAAGQAAABkAAAAnAAAAHwAA\n",
       "ABkAAAAZAAAAMgAAACEAAAAZAAAAGQAAAC4AAAAiAAAAGQAAABkAAAAsAAAAIAAAABkAAAAZAAAA\n",
       "JgAAACAAAAAZAAAAGQAAADIAAAAfAAAAGQAAABkAAAAmAAAAHwAAABkAAAAZAAAAJgAAACAAAAAZ\n",
       "AAAAGQAAADgAAAAfAAAAGQAAABkAAAArAAAAHwAAABkAAAAaAAAANQAAACAAAAAaAAAAGwAAADAA\n",
       "AAAfAAAAGQAAABkAAAAtAAAAHwAAABkAAAAZAAAAKwAAAB8AAAAZAAAAGQAAACwAAAAgAAAAGQAA\n",
       "ABkAAAA4AAAAHwAAABkAAAAZAAAAJAAAAB8AAAAZAAAAGQAAAC8AAAAfAAAAGQAAABkAAAAoAAAA\n",
       "HwAAABkAAAAZAAAAMAAAAB8AAAAZAAAAGQAAAC8AAAAfAAAAGQAAABkAAAAlAAAAHwAAABkAAAAZ\n",
       "AAAAJQAAAB8AAAAZAAAAGQAAADMAAAAfAAAAGQAAABkAAAAlAAAAHwAAABkAAAAZAAAALAAAAB8A\n",
       "AAAZAAAAGQAAADEAAAAfAAAAGQAAABkAAAAsAAAAHwAAABkAAAAZAAAAKgAAAB8AAAAZAAAAGQAA\n",
       "ACAAABDdAAAAcAAAAC8AAAAsAAAAHAAAADQAAAAhAAAAGgAAABkAAAAwAAAAHwAAABkAAAAZAAAA\n",
       "NwAAAB8AAAAbAAAAGQAAACYAAAAfAAAAGQAAABkAAAAsAAAAHwAAABkAAAAZAAAAJgAAAB8AAAAZ\n",
       "AAAAGQAAADIAAAAfAAAAGQAAABkAAAAkAAAAHwAAABkAAAAZAAAAKwAAAB8AAAAZAAAAGwAAADAA\n",
       "AAAfAAAAGQAAABoAAAAxAAAAHwAAABkAAAAaAAAAKQAAACAAAAAaAAAAGgAAADAAAAAgAAAAGgAA\n",
       "ABoAAAAvAAAAIAAAABkAAAAbAAAAMgAAACAAAAAZAAAAGQAAADMAAAAgAAAAGgAAABoAAAAuAAAA\n",
       "HwAAABoAAAAaAAAAMgAAAB8AAAAaAAAAGgAAADIAAAAgAAAAGgAAABoAAAAtAAAAHwAAABoAAAAa\n",
       "AAAANAAAAB8AAAAZAAAAGQAAACUAAAAgAAAAGQAAABkAAAApAAAAIAAAABkAAAAZAAAALAAAACAA\n",
       "AAAaAAAAGQAAACwAAAAgAAAAGQAAABkAAAAsAAAAIAAAABkAAAAZAAAALAAAACAAAAAZAAAAGQAA\n",
       "ACwAAAAfAAAAGQAAABkAAAAlAAAAIAAAABkAAAAZAAAALwAAACAAAAAZAAAAGQAAACgAAAAgAAAA\n",
       "GQAAABoAAAAzAAAAIAAAABsAAAAZAAAALgAAAB8AAAAZAAAAGQAAAC4AAAAfAAAAGQAAABkAAAAr\n",
       "AAAAHwAAABkAAAAZAAAAKQAAAB8AAAAZAAAAGQAAAC4AAAAfAAAAGQAAABkAAAAqAAAAHwAAABkA\n",
       "AAAZAAAALAAAAB8AAAAZAAAAGQAAACoAAAAfAAAAGQAAABkAAAAiAAAAHwAAABkAAAAZAAAAMQAA\n",
       "AB8AAAAZAAAAGQAAACsAAAAfAAAAGQAAABkAAAAvAAAAHwAAABkAAAAZAAAAIgAAAB8AAAAZAAAA\n",
       "GQAAACwAAAAfAAAAGQAAABkAAAAiAAAAHwAAABkAAAAZAAAAMgAAAB8AAAAZAAAAGQAAACsAAAAf\n",
       "AAAAGQAAABkAAAAtAAAAHwAAABkAAAAZAAAAIgAAAB8AAAAZAAAAGQAAADAAAAAfAAAAGQAAABkA\n",
       "AAApAAAAHwAAABkAAAAZAAAALAAAAB8AAAAZAAAAGQAAACIAAAAfAAAAGQAAABkAAAAvAAAAHwAA\n",
       "ABkAAAAZAAAAIgAAAB8AAAAZAAAAGQAAACIAAAAfAAAAGQAAABkAAAAsAAAAHwAAABkAAAAZAAAA\n",
       "KQAAAB8AAAAZAAAAGQAAACsAAAAfAAAAGQAAABkAAAAgAAARLwAAAFkAAAAxAAAAKwAAABwAAAAo\n",
       "AAAAIwAAABwAAAAZAAAAKwAAACEAAAAZAAAAGQAAACIAAAAhAAAAGQAAABkAAAArAAAAIQAAABkA\n",
       "AAAZAAAAIgAAACEAAAAZAAAAGQAAAC8AAAAjAAAAGQAAABkAAAAiAAAAIQAAABkAAAAZAAAALQAA\n",
       "ACEAAAAZAAAAGQAAACIAAAAhAAAAGQAAABkAAAArAAAAIQAAABkAAAAZAAAAIgAAACEAAAAZAAAA\n",
       "GQAAADAAAAAjAAAAGQAAABkAAAAiAAAAIQAAABkAAAAZAAAAMgAAACMAAAAZAAAAGQAAACkAAAAh\n",
       "AAAAGQAAABkAAAArAAAAIQAAABkAAAAZAAAAIgAAACEAAAAZAAAAGQAAACsAAAAjAAAAGQAAABkA\n",
       "AAAwAAAAIQAAABkAAAAZAAAAMAAAACEAAAAZAAAAGQAAAC0AAAAhAAAAGQAAABkAAAAiAAAAIQAA\n",
       "ABkAAAAZAAAAMwAAACMAAAAZAAAAGQAAAC0AAAAhAAAAGQAAABkAAAAvAAAAIQAAABkAAAAZAAAA\n",
       "LwAAACMAAAAZAAAAGQAAAC4AAAAhAAAAGQAAABkAAAAtAAAAIQAAABkAAAAZAAAALQAAACEAAAAZ\n",
       "AAAAGQAAACoAAAAhAAAAGQAAABkAAAAuAAAAIQAAABkAAAAZAAAAKgAAACEAAAAZAAAAGQAAACUA\n",
       "AAAhAAAAGQAAABkAAAAyAAAAIQAAABkAAAAZAAAAKgAAACEAAAAZAAAAGQAAAC0AAAAhAAAAGQAA\n",
       "ABkAAAAsAAAAIQAAABkAAAAZAAAAJQAAACEAAAAZAAAAGQAAADEAAAAhAAAAGQAAABkAAAAtAAAA\n",
       "IQAAABkAAAAZAAAAJQAAACEAAAAZAAAAGQAAAC0AAAAjAAAAGQAAABkAAAAvAAAAIQAAABkAAAAZ\n",
       "AAAAKwAAACEAAAAZAAAAGQAAACsAAAAhAAAAGQAAABkAAAAtAAAAIQAAABkAAAAZAAAALAAAACEA\n",
       "AAAZAAAAGQAAAC4AAAAhAAAAGQAAABkAAAAkAAAAIQAAABkAAAAZAAAALgAAACEAAAAZAAAAGQAA\n",
       "ACYAAAAhAAAAGQAAABkAAAAvAAAAIQAAABkAAAAZAAAAJAAAACEAAAAZAAAAGQAAAC8AAAAhAAAA\n",
       "GQAAABkAAAAlAAAAIQAAABkAAAAZAAAALgAAACMAAAAZAAAAGQAAACQAAAAhAAAAGQAAABkAAAAt\n",
       "AAAAIQAAABkAAAAZAAAALgAAACEAAAAZAAAAGQAAADAAAAAhAAAAGQAAABkAAAAkAAAAIQAAABkA\n",
       "AAAZAAAAIAAAETQAAABcAAAAMgAAACsAAAAcAAAAKQAAACIAAAAaAAAAGQAAAC0AAAAfAAAAGQAA\n",
       "ABkAAAAmAAAAHwAAABkAAAAZAAAAJQAAAB8AAAAZAAAAGQAAACUAAAAfAAAAGQAAABkAAAAtAAAA\n",
       "HwAAABkAAAAZAAAAJAAAAB8AAAAZAAAAGQAAADAAAAAfAAAAGQAAABkAAAApAAAAHwAAABkAAAAZ\n",
       "AAAANAAAAB8AAAAZAAAAGQAAACsAAAAiAAAAGQAAABkAAAAsAAAAHwAAABkAAAAZAAAAJAAAAB8A\n",
       "AAAZAAAAGQAAACwAAAAhAAAAGQAAABkAAAArAAAAHwAAABkAAAAZAAAALQAAACEAAAAZAAAAGQAA\n",
       "ACQAAAAfAAAAGQAAABkAAAAuAAAAIQAAABkAAAAZAAAALAAAAB8AAAAZAAAAGQAAACUAAAAfAAAA\n",
       "GQAAABkAAAAkAAAAHwAAABkAAAAZAAAALAAAAB8AAAAZAAAAGQAAACkAAAAfAAAAGQAAABkAAAAq\n",
       "AAAAHwAAABkAAAAZAAAAIgAAAB8AAAAZAAAAGQAAAC4AAAAfAAAAGQAAABkAAAAlAAAAHwAAABkA\n",
       "AAAZAAAAJAAAAB8AAAAZAAAAGQAAACIAAAAfAAAAGQAAABkAAAAqAAAAIQAAABkAAAAZAAAAKgAA\n",
       "ACEAAAAZAAAAGQAAACkAAAAfAAAAGQAAABkAAAArAAAAHwAAABkAAAAZAAAALAAAACEAAAAaAAAA\n",
       "GQAAACkAAAAfAAAAGQAAABkAAAArAAAAIQAAABkAAAAZAAAAJQAAAB8AAAAZAAAAGQAAACkAAAAf\n",
       "AAAAGQAAABkAAAAuAAAAHwAAABkAAAAZAAAAKwAAAB8AAAAZAAAAGQAAACUAAAAfAAAAGQAAABkA\n",
       "AAAiAAAAHwAAABkAAAAZAAAAKgAAACEAAAAZAAAAGQAAACIAAAAfAAAAGQAAABkAAAAiAAAAHwAA\n",
       "ABkAAAAZAAAAIAAAAB8AAAAZAAAAGQAAABRzdGNvAAAAAAAAAAEAAAAsAAAAYnVkdGEAAABabWV0\n",
       "YQAAAAAAAAAhaGRscgAAAAAAAAAAbWRpcmFwcGwAAAAAAAAAAAAAAAAtaWxzdAAAACWpdG9vAAAA\n",
       "HWRhdGEAAAABAAAAAExhdmY1Ny41Ni4xMDE=\n",
       "\">\n",
       "  Your browser does not support the video tag.\n",
       "</video>"
      ],
      "text/plain": [
       "<IPython.core.display.HTML object>"
      ]
     },
     "execution_count": 49,
     "metadata": {},
     "output_type": "execute_result"
    }
   ],
   "source": [
    "HTML(anim_ast.to_html5_video())"
   ]
  },
  {
   "cell_type": "markdown",
   "metadata": {},
   "source": [
    "Remarque: L'astéroïde ne revient pas à sa position initiale. Ceci est dû au même problème que celui énoncé précédemment: le potentiel varie trop à l'origine et les $dt$ de l'ordre de l'unité ne suffisent pas pour reproduire la trajectoire théorique. "
   ]
  },
  {
   "cell_type": "markdown",
   "metadata": {},
   "source": [
    "## Investigations supplémentaires"
   ]
  },
  {
   "cell_type": "markdown",
   "metadata": {},
   "source": [
    "### Etude du passage de l'astéroïde près de la Terre"
   ]
  },
  {
   "cell_type": "markdown",
   "metadata": {},
   "source": [
    "Le passage de l'astéroïde près de la Terre est assez délicat et peu être drastiquement différent pour peu que le pas de temps $dt$ ne soit pas assez grand. Pour des $dt$ un peu plus grand, nous observons que l'astéroïde quitte brusquement l'influence gravitationnelle de la Terre alors qu'il est beaucoup plus près de celle-ci que l'est la Lune et que la norme de sa vitesse est icomparable à celle de la Lune. Nous voyons dans la section suivante que l'astéroïde passe très près de la Terre et qu'en réalité, nous devrions avoir un impact entre l'astéroïde et la Terre. Nous suspectons que le passage près de $r=0$ fait que la valeur de l'attraction gravitationnelle, en $1/r$, \"explose\" au passage près de l'origine. Une incrémentation de temps plus tard, l'algorithme calcule une position pour l'astéroïde assez éloignée de l'origine et une vitesse trop grande de sorte que l'astéroïde ait assez d'énergie pour quitter l'influence de la Terre."
   ]
  },
  {
   "cell_type": "markdown",
   "metadata": {},
   "source": [
    "Calculons la trajectoire de l'astéroïde avec $dt=10$ secondes. Prendre un pas de temps plus grand accentuera le phénomène qui sera visible dès la première révolution."
   ]
  },
  {
   "cell_type": "code",
   "execution_count": 51,
   "metadata": {
    "collapsed": true
   },
   "outputs": [],
   "source": [
    "T = 3600*2\n",
    "dt = 10\n",
    "N = 1+int(T/dt)\n",
    "\n",
    "dataLT = numpy.empty((N,4)) \n",
    "dataAT = numpy.empty((N,4)) \n",
    "\n",
    "dataLT[0] = uLT_apogee\n",
    "dataAT[0] = uAT0"
   ]
  },
  {
   "cell_type": "code",
   "execution_count": 52,
   "metadata": {
    "collapsed": true
   },
   "outputs": [],
   "source": [
    "for t in range(1,N):\n",
    "    \n",
    "    temp = rk4_ast(f_ast,dataLT[t-1],dataAT[t-1],dt)\n",
    "    dataLT[t] = temp[0]\n",
    "    dataAT[t] = temp[1]"
   ]
  },
  {
   "cell_type": "code",
   "execution_count": 53,
   "metadata": {},
   "outputs": [
    {
     "data": {
      "image/png": "[encoded data removed]",
      "text/plain": [
       "<matplotlib.figure.Figure at 0x7f2bdd73b160>"
      ]
     },
     "metadata": {},
     "output_type": "display_data"
    }
   ],
   "source": [
    "pyplot.figure(figsize=(10,10))\n",
    "pyplot.grid(True)\n",
    "pyplot.xlabel('$x$')\n",
    "pyplot.ylabel('$y$')\n",
    "#pyplot.plot(dataLT[:,0],dataLT[:,1], 'b-', label='Lune')\n",
    "pyplot.plot(dataAT[:,0],dataAT[:,1], 'r-', label='Astéroïde')\n",
    "pyplot.title('Positions de la Lune et de l\\'astéroïde dans le repère de la Terre')\n",
    "pyplot.legend();\n",
    "pyplot.show();"
   ]
  },
  {
   "cell_type": "markdown",
   "metadata": {},
   "source": [
    "Nous commençons par chercher le point de passage le plus proche de la Terre. "
   ]
  },
  {
   "cell_type": "code",
   "execution_count": 54,
   "metadata": {},
   "outputs": [
    {
     "name": "stdout",
     "output_type": "stream",
     "text": [
      "Moment de passage au plus près de la Terre = 4920 secondes\n"
     ]
    }
   ],
   "source": [
    "indexClosest = 0\n",
    "\n",
    "distMin2 = numpy.min(dataAT[:,0]**2+dataAT[:,1]**2)\n",
    "\n",
    "for t in range(1,N):\n",
    "    \n",
    "    if (dataAT[t,0]**2+dataAT[t,1]**2)==distMin2:\n",
    "        \n",
    "        indexClosest = t\n",
    "        break\n",
    "        \n",
    "print('Moment de passage au plus près de la Terre =', indexClosest*dt, 'secondes')"
   ]
  },
  {
   "cell_type": "markdown",
   "metadata": {},
   "source": [
    "Nous voyons en affichant le vecteur $u_{AT}$ que les caractéristiques de l'astéroïde fluctuent beaucoup à l'approche de la Terre. Un effet de ces changements trop important est que l'astéroïde est éloigné rapidement de la Terre avec une énergie beaucoup trop grande. Il quitte donc l'influence terrestre."
   ]
  },
  {
   "cell_type": "code",
   "execution_count": 55,
   "metadata": {},
   "outputs": [
    {
     "name": "stdout",
     "output_type": "stream",
     "text": [
      "uAT avant = [ -99880.80906128  359691.51033905   36885.9161599   -27442.12818594]\n",
      "uAT à cet instant = [ 131830.02582367 -230625.96466297    3959.14439319  -78886.77929905]\n",
      "uAT après = [ 116812.84870338 -896857.73861875   -2401.96724569  -61857.64114649]\n"
     ]
    }
   ],
   "source": [
    "t = indexClosest\n",
    "\n",
    "print('uAT avant =', dataAT[t-1,:])\n",
    "print('uAT à cet instant =', dataAT[t,:])\n",
    "print('uAT après =', dataAT[t+1,:])"
   ]
  },
  {
   "cell_type": "code",
   "execution_count": 56,
   "metadata": {},
   "outputs": [
    {
     "name": "stdout",
     "output_type": "stream",
     "text": [
      "distance à la Terre avant =  0.0586030924967 rayons terrestres\n",
      "distance à la Terre à cet instant =  0.041702578334 rayons terrestres\n",
      "distance à la Terre après =  0.141983201944 rayons terrestres\n"
     ]
    }
   ],
   "source": [
    "print('distance à la Terre avant = ', numpy.sqrt(dataAT[t-1,0]**2+dataAT[t-1,1]**2)/radiusT, 'rayons terrestres')\n",
    "print('distance à la Terre à cet instant = ', numpy.sqrt(dataAT[t,0]**2+dataAT[t,1]**2)/radiusT, 'rayons terrestres')\n",
    "print('distance à la Terre après = ', numpy.sqrt(dataAT[t+1,0]**2+dataAT[t+1,1]**2)/radiusT, 'rayons terrestres')"
   ]
  },
  {
   "cell_type": "markdown",
   "metadata": {},
   "source": [
    "Nous voyons ici les fluctuations anormales de l'énergie causées par le passage près de la Terre"
   ]
  },
  {
   "cell_type": "code",
   "execution_count": 57,
   "metadata": {},
   "outputs": [
    {
     "name": "stdout",
     "output_type": "stream",
     "text": [
      "Energie totale initiale = -18685720.8783  Joules par kg\n",
      "Energie totale avant = 0.583141861632  fois l'energie totale initiale\n",
      "Energie totale à cet instant = -86.6426840893  fois l'energie totale initiale\n",
      "Energie totale après = -78.9568069774  fois l'energie totale initiale\n"
     ]
    }
   ],
   "source": [
    "Energy0 = 1/2*(uAT0[2]**2+uAT0[3]**2) - G*mT/numpy.sqrt(uAT0[0]**2+uAT0[1]**2)\\\n",
    "            - G*mL/numpy.sqrt((uAT0[0]-uLT_apogee[0])**2+(uAT0[1]-uLT_apogee[1])**2)\n",
    "EnergytBefore = 1/2*(dataAT[t-1,2]**2+dataAT[t-1,3]**2) - G*mT/numpy.sqrt(dataAT[t-1,0]**2+dataAT[t-1,1]**2)\\\n",
    "            - G*mL/numpy.sqrt((dataAT[t-1,0]-dataLT[t-1,0])**2+(dataAT[t-1,1]-dataLT[t-1,1])**2)\n",
    "Energyt = 1/2*(dataAT[t,2]**2+dataAT[t,3]**2) - G*mT/numpy.sqrt(dataAT[t,0]**2+dataAT[t,1]**2)\\\n",
    "            - G*mL/numpy.sqrt((dataAT[t,0]-dataLT[t,0])**2+(dataAT[t,1]-dataLT[t,1])**2)\n",
    "EnergytAfter = 1/2*(dataAT[t+1,2]**2+dataAT[t+1,3]**2) - G*mT/numpy.sqrt(dataAT[t+1,0]**2+dataAT[t+1,1]**2)\\\n",
    "            - G*mL/numpy.sqrt((dataAT[t+1,0]-dataLT[t+1,0])**2+(dataAT[t+1,1]-dataLT[t+1,1])**2)\n",
    "\n",
    "\n",
    "print('Energie totale initiale =', Energy0, ' Joules par kg')\n",
    "\n",
    "print('Energie totale avant =', EnergytBefore/Energy0, ' fois l\\'energie totale initiale')\n",
    "print('Energie totale à cet instant =', Energyt/Energy0, ' fois l\\'energie totale initiale')\n",
    "print('Energie totale après =', EnergytAfter/Energy0, ' fois l\\'energie totale initiale')"
   ]
  },
  {
   "cell_type": "markdown",
   "metadata": {},
   "source": [
    "Nous voyons dans cette section que près de l'origine, le potentiel en $1/r$ varie beaucoup trop pour que des pas de temps raisonablement petits ($dt > \\sim 1$) puisse reproduire la trajectoire avec précision. "
   ]
  },
  {
   "cell_type": "markdown",
   "metadata": {},
   "source": [
    "Remarque: Il serait intéressant de développer un algorithme qui détecte l'intensité de la dérivée du potentiel à adapte localement le pas de temps $dt$ afin de toujours avoir un $dt$ suffisament petit pour reproduire la trajectoire."
   ]
  },
  {
   "cell_type": "markdown",
   "metadata": {},
   "source": [
    "## Trajectoire pour un astéroïde plus rapide "
   ]
  },
  {
   "cell_type": "markdown",
   "metadata": {},
   "source": [
    "Le problème étant que la vitesse initiale de l'astéroïde est trop faible pour que celui-ci puisse maintenir une bonne distance avec l'origine, observons la trajectoire d'un astéroïde dont la vitesse initiale est plus grande."
   ]
  },
  {
   "cell_type": "code",
   "execution_count": 58,
   "metadata": {
    "collapsed": true
   },
   "outputs": [],
   "source": [
    "T = 3600*24*27.2*5\n",
    "dt = 10\n",
    "N = 1+int(T/dt)\n",
    "\n",
    "dataLT = numpy.empty((N,4)) \n",
    "dataAT = numpy.empty((N,4)) \n",
    "\n",
    "uAT0 = [Xcenter, Ycenter,4000,4000]\n",
    "\n",
    "dataLT[0] = uLT_apogee\n",
    "dataAT[0] = uAT0"
   ]
  },
  {
   "cell_type": "code",
   "execution_count": 59,
   "metadata": {
    "collapsed": true
   },
   "outputs": [],
   "source": [
    "for t in range(1,N):\n",
    "    \n",
    "    temp = rk4_ast(f_ast,dataLT[t-1],dataAT[t-1],dt)\n",
    "    dataLT[t] = temp[0]\n",
    "    dataAT[t] = temp[1]"
   ]
  },
  {
   "cell_type": "code",
   "execution_count": 60,
   "metadata": {},
   "outputs": [
    {
     "data": {
      "image/png": "[encoded data removed]",
      "text/plain": [
       "<matplotlib.figure.Figure at 0x7f2bdd73f978>"
      ]
     },
     "metadata": {},
     "output_type": "display_data"
    }
   ],
   "source": [
    "pyplot.figure(figsize=(10,10))\n",
    "pyplot.grid(True)\n",
    "pyplot.xlabel('$x$')\n",
    "pyplot.ylabel('$y$')\n",
    "pyplot.plot(dataLT[:,0],dataLT[:,1], 'b-', label='Lune')\n",
    "pyplot.plot(dataAT[:,0],dataAT[:,1], 'r-', label='Astéroïde')\n",
    "pyplot.title('Positions de la Lune et de l\\'astéroïde dans le repère de la Terre')\n",
    "pyplot.legend();\n",
    "pyplot.show();"
   ]
  },
  {
   "cell_type": "markdown",
   "metadata": {},
   "source": [
    "Nous voyons que la trajectoire, qui ne passe pas aussi près de l'origine, n'est pas soudainement déviée. Nous remarquons également que les traits rouges de la trajectoire de l'astéroïde semblent être assez épais. Nous suspectons que cela n'est pas dû à une imprécision numérique mais qu'il s'agisse d'un véritable effet physique causé par l'attraction de la Lune. Nous allons le montrer en analysant les points de passage de l'astéroïde sur l'axe des $x$."
   ]
  },
  {
   "cell_type": "markdown",
   "metadata": {},
   "source": [
    "Détectons le nombre de passages sur l'axe des $x$ en direction des $y$ positifs. Cela nous évitera de faire de l'allocation dynamique."
   ]
  },
  {
   "cell_type": "code",
   "execution_count": 61,
   "metadata": {
    "collapsed": true
   },
   "outputs": [],
   "source": [
    "number_crossings = 0\n",
    "\n",
    "for t in range(1,N):\n",
    "    \n",
    "    if dataAT[t,1]>=0 and dataAT[t-1,1]<0:\n",
    "        \n",
    "        number_crossings = number_crossings+1"
   ]
  },
  {
   "cell_type": "markdown",
   "metadata": {},
   "source": [
    "Calculons les points de passage"
   ]
  },
  {
   "cell_type": "code",
   "execution_count": 62,
   "metadata": {
    "collapsed": true
   },
   "outputs": [],
   "source": [
    "t_crossings = numpy.zeros((number_crossings))\n",
    "count = 0\n",
    "\n",
    "for t in range(1,N):\n",
    "    \n",
    "    if dataAT[t,1]>=0 and dataAT[t-1,1]<0:\n",
    "        \n",
    "        t_crossings[count] = t\n",
    "        count = count+1\n",
    "\n",
    "x_crossings = numpy.zeros((number_crossings))\n",
    "deltas_x = numpy.zeros((number_crossings-1))\n",
    "\n",
    "for i in range(len(t_crossings)):\n",
    "    \n",
    "    x_crossings[i] = dataAT[int(t_crossings[i]),0]\n",
    "    if i>0:\n",
    "        deltas_x[i-1] = x_crossings[i] - x_crossings[i-1]"
   ]
  },
  {
   "cell_type": "markdown",
   "metadata": {},
   "source": [
    "Affichons les coordonnées $x$ de passage en fonction du temps dans un graphique"
   ]
  },
  {
   "cell_type": "code",
   "execution_count": 63,
   "metadata": {},
   "outputs": [
    {
     "data": {
      "image/png": "[encoded data removed]",
      "text/plain": [
       "<matplotlib.figure.Figure at 0x7f2bf32390b8>"
      ]
     },
     "metadata": {},
     "output_type": "display_data"
    }
   ],
   "source": [
    "pyplot.figure(figsize=(10,6))\n",
    "pyplot.grid(True)\n",
    "pyplot.xlabel('$t$')\n",
    "pyplot.ylabel('$x$')\n",
    "pyplot.plot(t_crossings*dt,x_crossings, 'b-', marker='.')\n",
    "pyplot.title('Coordonnées de passages sur l\\'axe $x$ en fonction du temps')\n",
    "pyplot.show();"
   ]
  },
  {
   "cell_type": "markdown",
   "metadata": {},
   "source": [
    "Nous voyons que la Lune fait périodiquement dévier la trajectoire de l'astéroïde. L'oscillation est plus lisse pour de plus petits $dt$. De plus, en prenant des $dt$ plus fin (remplacer $dt = 10$), nous observons que la position moyenne de passage dérive. Nous avons réalisé le calcul sur deux ans et ce taux de dérive semble être fixe avec une valeur de $-0.020$ m/s. Nous ne savons pas encore à quoi cela peut être dû, cela pourrait être causé par des erreurs numériques mais le taux semble rester fixe quel que soit le $dt$ utilisé."
   ]
  },
  {
   "cell_type": "markdown",
   "metadata": {},
   "source": [
    "### Temps d'excécution total du notebook"
   ]
  },
  {
   "cell_type": "code",
   "execution_count": 64,
   "metadata": {},
   "outputs": [
    {
     "name": "stdout",
     "output_type": "stream",
     "text": [
      "Temps d'exécution total du notebook en secondes = 386.01792573928833\n",
      "Temps d'exécution total du notebook en minutes = 6.433632095654805\n"
     ]
    }
   ],
   "source": [
    "t1 = time.time()\n",
    "\n",
    "print('Temps d\\'exécution total du notebook en secondes =', t1-t0)\n",
    "print('Temps d\\'exécution total du notebook en minutes =', (t1-t0)/60)"
   ]
  }
 ],
 "metadata": {
  "kernelspec": {
   "display_name": "Python 3",
   "language": "python",
   "name": "python3"
  },
  "language_info": {
   "codemirror_mode": {
    "name": "ipython",
    "version": 3
   },
   "file_extension": ".py",
   "mimetype": "text/x-python",
   "name": "python",
   "nbconvert_exporter": "python",
   "pygments_lexer": "ipython3",
   "version": "3.6.2"
  }
 },
 "nbformat": 4,
 "nbformat_minor": 2
}
